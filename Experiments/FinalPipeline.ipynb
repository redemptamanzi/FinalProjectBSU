{
 "cells": [
  {
   "cell_type": "code",
   "execution_count": 178,
   "id": "b97a7903",
   "metadata": {},
   "outputs": [],
   "source": [
    "import re\n",
    "import sys\n",
    "import csv\n",
    "import nltk\n",
    "import string\n",
    "import pickle\n",
    "import random\n",
    "import warnings\n",
    "import numpy as np\n",
    "import pandas as pd\n",
    "import seaborn as sns\n",
    "import matplotlib.pyplot as plt"
   ]
  },
  {
   "cell_type": "code",
   "execution_count": 179,
   "id": "5dcdb7de",
   "metadata": {},
   "outputs": [],
   "source": [
    "from sklearn.svm import SVC\n",
    "from sklearn import set_config\n",
    "from nltk.corpus import stopwords\n",
    "from sklearn.metrics import f1_score\n",
    "from spellchecker import SpellChecker\n",
    "from sklearn.pipeline import Pipeline\n",
    "from nltk.stem import WordNetLemmatizer \n",
    "from sklearn.naive_bayes import GaussianNB\n",
    "from nltk.tokenize import SyllableTokenizer\n",
    "from sklearn.neural_network import MLPClassifier\n",
    "from sklearn.ensemble import RandomForestClassifier\n",
    "from sklearn.pipeline import Pipeline, FeatureUnion\n",
    "from sklearn.model_selection import train_test_split\n",
    "from sklearn.feature_extraction.text import TfidfVectorizer\n",
    "from sklearn.preprocessing import FunctionTransformer,StandardScaler\n",
    "from sklearn.metrics import confusion_matrix, classification_report, ConfusionMatrixDisplay, accuracy_score"
   ]
  },
  {
   "cell_type": "code",
   "execution_count": 180,
   "id": "26321161",
   "metadata": {},
   "outputs": [],
   "source": [
    "stopwords = list(stopwords.words('english'))\n",
    "rng = 52023"
   ]
  },
  {
   "cell_type": "code",
   "execution_count": 181,
   "id": "cfbcd51d",
   "metadata": {},
   "outputs": [],
   "source": [
    "set_config(transform_output='pandas', display='diagram')"
   ]
  },
  {
   "cell_type": "markdown",
   "id": "5f7d0a19",
   "metadata": {},
   "source": [
    "# Data - Search Queries"
   ]
  },
  {
   "cell_type": "code",
   "execution_count": 182,
   "id": "342cbf52",
   "metadata": {},
   "outputs": [
    {
     "data": {
      "text/html": [
       "<div>\n",
       "<style scoped>\n",
       "    .dataframe tbody tr th:only-of-type {\n",
       "        vertical-align: middle;\n",
       "    }\n",
       "\n",
       "    .dataframe tbody tr th {\n",
       "        vertical-align: top;\n",
       "    }\n",
       "\n",
       "    .dataframe thead th {\n",
       "        text-align: right;\n",
       "    }\n",
       "</style>\n",
       "<table border=\"1\" class=\"dataframe\">\n",
       "  <thead>\n",
       "    <tr style=\"text-align: right;\">\n",
       "      <th></th>\n",
       "      <th>query</th>\n",
       "      <th>class</th>\n",
       "    </tr>\n",
       "  </thead>\n",
       "  <tbody>\n",
       "    <tr>\n",
       "      <th>0</th>\n",
       "      <td>US civil war causes</td>\n",
       "      <td>0</td>\n",
       "    </tr>\n",
       "    <tr>\n",
       "      <th>1</th>\n",
       "      <td>scooter brands</td>\n",
       "      <td>0</td>\n",
       "    </tr>\n",
       "    <tr>\n",
       "      <th>2</th>\n",
       "      <td>scooter brands reliable</td>\n",
       "      <td>0</td>\n",
       "    </tr>\n",
       "    <tr>\n",
       "      <th>3</th>\n",
       "      <td>scooter</td>\n",
       "      <td>0</td>\n",
       "    </tr>\n",
       "    <tr>\n",
       "      <th>4</th>\n",
       "      <td>scooter cheap</td>\n",
       "      <td>0</td>\n",
       "    </tr>\n",
       "    <tr>\n",
       "      <th>...</th>\n",
       "      <td>...</td>\n",
       "      <td>...</td>\n",
       "    </tr>\n",
       "    <tr>\n",
       "      <th>4741</th>\n",
       "      <td>House of dreams</td>\n",
       "      <td>1</td>\n",
       "    </tr>\n",
       "    <tr>\n",
       "      <th>4742</th>\n",
       "      <td>When did Desmond doss get married</td>\n",
       "      <td>1</td>\n",
       "    </tr>\n",
       "    <tr>\n",
       "      <th>4743</th>\n",
       "      <td>H</td>\n",
       "      <td>1</td>\n",
       "    </tr>\n",
       "    <tr>\n",
       "      <th>4744</th>\n",
       "      <td>find fact about dog</td>\n",
       "      <td>1</td>\n",
       "    </tr>\n",
       "    <tr>\n",
       "      <th>4745</th>\n",
       "      <td>kid</td>\n",
       "      <td>1</td>\n",
       "    </tr>\n",
       "  </tbody>\n",
       "</table>\n",
       "<p>4746 rows × 2 columns</p>\n",
       "</div>"
      ],
      "text/plain": [
       "                                  query  class\n",
       "0                   US civil war causes      0\n",
       "1                        scooter brands      0\n",
       "2               scooter brands reliable      0\n",
       "3                               scooter      0\n",
       "4                         scooter cheap      0\n",
       "...                                 ...    ...\n",
       "4741                    House of dreams      1\n",
       "4742  When did Desmond doss get married      1\n",
       "4743                                  H      1\n",
       "4744                find fact about dog      1\n",
       "4745                                kid      1\n",
       "\n",
       "[4746 rows x 2 columns]"
      ]
     },
     "execution_count": 182,
     "metadata": {},
     "output_type": "execute_result"
    }
   ],
   "source": [
    "Queries = pd.read_pickle('../data/AllQueries4746.p')\n",
    "Queries"
   ]
  },
  {
   "cell_type": "markdown",
   "id": "ab2a39c1",
   "metadata": {},
   "source": [
    "# Query split 90/10"
   ]
  },
  {
   "cell_type": "code",
   "execution_count": 183,
   "id": "361ba0fa",
   "metadata": {},
   "outputs": [],
   "source": [
    "X, y = Queries.drop('class', axis=1), Queries['class']\n",
    "X_expSet, X_pipSet, y_expSet, y_pipSet = train_test_split(X, y, \n",
    "                                                    test_size=0.1, stratify=y,\n",
    "                                                   random_state=rng)"
   ]
  },
  {
   "cell_type": "markdown",
   "id": "6c729ff9",
   "metadata": {},
   "source": [
    "### 90% - Pipeline train set"
   ]
  },
  {
   "cell_type": "code",
   "execution_count": 184,
   "id": "678f9394",
   "metadata": {},
   "outputs": [
    {
     "data": {
      "text/plain": [
       "(4271, 2)"
      ]
     },
     "execution_count": 184,
     "metadata": {},
     "output_type": "execute_result"
    }
   ],
   "source": [
    "# Add the class column back to experiment set\n",
    "X_expSet['class'] = y_expSet\n",
    "expSet = X_expSet\n",
    "expSet.shape"
   ]
  },
  {
   "cell_type": "markdown",
   "id": "f0508fe0",
   "metadata": {},
   "source": [
    "### 10% - Pipeline test set"
   ]
  },
  {
   "cell_type": "code",
   "execution_count": 185,
   "id": "bf21e7a0",
   "metadata": {},
   "outputs": [
    {
     "data": {
      "text/plain": [
       "(475, 2)"
      ]
     },
     "execution_count": 185,
     "metadata": {},
     "output_type": "execute_result"
    }
   ],
   "source": [
    "# Add the class column back to pipeline test test\n",
    "X_pipSet['class'] = y_pipSet\n",
    "pipSet = X_pipSet\n",
    "pipSet.shape"
   ]
  },
  {
   "cell_type": "markdown",
   "id": "f88d25f7",
   "metadata": {},
   "source": [
    "# PART A"
   ]
  },
  {
   "cell_type": "code",
   "execution_count": 186,
   "id": "32fa9e16",
   "metadata": {},
   "outputs": [],
   "source": [
    "queries = expSet.copy()"
   ]
  },
  {
   "cell_type": "markdown",
   "id": "d01f04ea",
   "metadata": {},
   "source": [
    "## 1. Feature Extraction "
   ]
  },
  {
   "cell_type": "markdown",
   "id": "c9524492",
   "metadata": {},
   "source": [
    "### LingFeat"
   ]
  },
  {
   "cell_type": "markdown",
   "id": "b085eb0a",
   "metadata": {},
   "source": [
    "The following *lingFeatExtract* module takes long to run and may not run on mac OS. "
   ]
  },
  {
   "cell_type": "code",
   "execution_count": 188,
   "id": "42e3661f",
   "metadata": {},
   "outputs": [],
   "source": [
    "# import lingFeatExtract as lfe"
   ]
  },
  {
   "cell_type": "code",
   "execution_count": null,
   "id": "c7d22ff2",
   "metadata": {},
   "outputs": [],
   "source": [
    "# lingFeat_pip = Pipeline(steps=[\n",
    "#     ('LingFeat', FunctionTransformer(lfe.lingFeatExtract)),\n",
    "    \n",
    "# ])\n",
    "# lingFeat_pip"
   ]
  },
  {
   "cell_type": "markdown",
   "id": "7f025df7",
   "metadata": {},
   "source": [
    "The following *featExtract* module contain functions that extract the following features\n",
    "\n",
    "- Spelling\n",
    "- Punctuation and Casing\n",
    "- Concreteness "
   ]
  },
  {
   "cell_type": "code",
   "execution_count": 1,
   "id": "17715012",
   "metadata": {},
   "outputs": [],
   "source": [
    "import featExtract as fe "
   ]
  },
  {
   "cell_type": "markdown",
   "id": "43917a1a",
   "metadata": {},
   "source": [
    "### Spelling"
   ]
  },
  {
   "cell_type": "code",
   "execution_count": 189,
   "id": "f2df5347",
   "metadata": {},
   "outputs": [
    {
     "data": {
      "text/html": [
       "<style>#sk-container-id-8 {color: black;background-color: white;}#sk-container-id-8 pre{padding: 0;}#sk-container-id-8 div.sk-toggleable {background-color: white;}#sk-container-id-8 label.sk-toggleable__label {cursor: pointer;display: block;width: 100%;margin-bottom: 0;padding: 0.3em;box-sizing: border-box;text-align: center;}#sk-container-id-8 label.sk-toggleable__label-arrow:before {content: \"▸\";float: left;margin-right: 0.25em;color: #696969;}#sk-container-id-8 label.sk-toggleable__label-arrow:hover:before {color: black;}#sk-container-id-8 div.sk-estimator:hover label.sk-toggleable__label-arrow:before {color: black;}#sk-container-id-8 div.sk-toggleable__content {max-height: 0;max-width: 0;overflow: hidden;text-align: left;background-color: #f0f8ff;}#sk-container-id-8 div.sk-toggleable__content pre {margin: 0.2em;color: black;border-radius: 0.25em;background-color: #f0f8ff;}#sk-container-id-8 input.sk-toggleable__control:checked~div.sk-toggleable__content {max-height: 200px;max-width: 100%;overflow: auto;}#sk-container-id-8 input.sk-toggleable__control:checked~label.sk-toggleable__label-arrow:before {content: \"▾\";}#sk-container-id-8 div.sk-estimator input.sk-toggleable__control:checked~label.sk-toggleable__label {background-color: #d4ebff;}#sk-container-id-8 div.sk-label input.sk-toggleable__control:checked~label.sk-toggleable__label {background-color: #d4ebff;}#sk-container-id-8 input.sk-hidden--visually {border: 0;clip: rect(1px 1px 1px 1px);clip: rect(1px, 1px, 1px, 1px);height: 1px;margin: -1px;overflow: hidden;padding: 0;position: absolute;width: 1px;}#sk-container-id-8 div.sk-estimator {font-family: monospace;background-color: #f0f8ff;border: 1px dotted black;border-radius: 0.25em;box-sizing: border-box;margin-bottom: 0.5em;}#sk-container-id-8 div.sk-estimator:hover {background-color: #d4ebff;}#sk-container-id-8 div.sk-parallel-item::after {content: \"\";width: 100%;border-bottom: 1px solid gray;flex-grow: 1;}#sk-container-id-8 div.sk-label:hover label.sk-toggleable__label {background-color: #d4ebff;}#sk-container-id-8 div.sk-serial::before {content: \"\";position: absolute;border-left: 1px solid gray;box-sizing: border-box;top: 0;bottom: 0;left: 50%;z-index: 0;}#sk-container-id-8 div.sk-serial {display: flex;flex-direction: column;align-items: center;background-color: white;padding-right: 0.2em;padding-left: 0.2em;position: relative;}#sk-container-id-8 div.sk-item {position: relative;z-index: 1;}#sk-container-id-8 div.sk-parallel {display: flex;align-items: stretch;justify-content: center;background-color: white;position: relative;}#sk-container-id-8 div.sk-item::before, #sk-container-id-8 div.sk-parallel-item::before {content: \"\";position: absolute;border-left: 1px solid gray;box-sizing: border-box;top: 0;bottom: 0;left: 50%;z-index: -1;}#sk-container-id-8 div.sk-parallel-item {display: flex;flex-direction: column;z-index: 1;position: relative;background-color: white;}#sk-container-id-8 div.sk-parallel-item:first-child::after {align-self: flex-end;width: 50%;}#sk-container-id-8 div.sk-parallel-item:last-child::after {align-self: flex-start;width: 50%;}#sk-container-id-8 div.sk-parallel-item:only-child::after {width: 0;}#sk-container-id-8 div.sk-dashed-wrapped {border: 1px dashed gray;margin: 0 0.4em 0.5em 0.4em;box-sizing: border-box;padding-bottom: 0.4em;background-color: white;}#sk-container-id-8 div.sk-label label {font-family: monospace;font-weight: bold;display: inline-block;line-height: 1.2em;}#sk-container-id-8 div.sk-label-container {text-align: center;}#sk-container-id-8 div.sk-container {/* jupyter's `normalize.less` sets `[hidden] { display: none; }` but bootstrap.min.css set `[hidden] { display: none !important; }` so we also need the `!important` here to be able to override the default hidden behavior on the sphinx rendered scikit-learn.org. See: https://github.com/scikit-learn/scikit-learn/issues/21755 */display: inline-block !important;position: relative;}#sk-container-id-8 div.sk-text-repr-fallback {display: none;}</style><div id=\"sk-container-id-8\" class=\"sk-top-container\"><div class=\"sk-text-repr-fallback\"><pre>Pipeline(steps=[(&#x27;Spelling&#x27;,\n",
       "                 FunctionTransformer(func=&lt;function Spelling at 0x7fae40fa4ca0&gt;))])</pre><b>In a Jupyter environment, please rerun this cell to show the HTML representation or trust the notebook. <br />On GitHub, the HTML representation is unable to render, please try loading this page with nbviewer.org.</b></div><div class=\"sk-container\" hidden><div class=\"sk-item sk-dashed-wrapped\"><div class=\"sk-label-container\"><div class=\"sk-label sk-toggleable\"><input class=\"sk-toggleable__control sk-hidden--visually\" id=\"sk-estimator-id-20\" type=\"checkbox\" ><label for=\"sk-estimator-id-20\" class=\"sk-toggleable__label sk-toggleable__label-arrow\">Pipeline</label><div class=\"sk-toggleable__content\"><pre>Pipeline(steps=[(&#x27;Spelling&#x27;,\n",
       "                 FunctionTransformer(func=&lt;function Spelling at 0x7fae40fa4ca0&gt;))])</pre></div></div></div><div class=\"sk-serial\"><div class=\"sk-item\"><div class=\"sk-estimator sk-toggleable\"><input class=\"sk-toggleable__control sk-hidden--visually\" id=\"sk-estimator-id-21\" type=\"checkbox\" ><label for=\"sk-estimator-id-21\" class=\"sk-toggleable__label sk-toggleable__label-arrow\">FunctionTransformer</label><div class=\"sk-toggleable__content\"><pre>FunctionTransformer(func=&lt;function Spelling at 0x7fae40fa4ca0&gt;)</pre></div></div></div></div></div></div></div>"
      ],
      "text/plain": [
       "Pipeline(steps=[('Spelling',\n",
       "                 FunctionTransformer(func=<function Spelling at 0x7fae40fa4ca0>))])"
      ]
     },
     "execution_count": 189,
     "metadata": {},
     "output_type": "execute_result"
    }
   ],
   "source": [
    "Spelling_pip = Pipeline(steps=[\n",
    "    ('Spelling', FunctionTransformer(fe.Spelling)),\n",
    "    \n",
    "])\n",
    "Spelling_pip"
   ]
  },
  {
   "cell_type": "markdown",
   "id": "d4db9f32",
   "metadata": {},
   "source": [
    "### Punctuation and Casing"
   ]
  },
  {
   "cell_type": "code",
   "execution_count": 190,
   "id": "5a3d9069",
   "metadata": {},
   "outputs": [
    {
     "data": {
      "text/html": [
       "<style>#sk-container-id-9 {color: black;background-color: white;}#sk-container-id-9 pre{padding: 0;}#sk-container-id-9 div.sk-toggleable {background-color: white;}#sk-container-id-9 label.sk-toggleable__label {cursor: pointer;display: block;width: 100%;margin-bottom: 0;padding: 0.3em;box-sizing: border-box;text-align: center;}#sk-container-id-9 label.sk-toggleable__label-arrow:before {content: \"▸\";float: left;margin-right: 0.25em;color: #696969;}#sk-container-id-9 label.sk-toggleable__label-arrow:hover:before {color: black;}#sk-container-id-9 div.sk-estimator:hover label.sk-toggleable__label-arrow:before {color: black;}#sk-container-id-9 div.sk-toggleable__content {max-height: 0;max-width: 0;overflow: hidden;text-align: left;background-color: #f0f8ff;}#sk-container-id-9 div.sk-toggleable__content pre {margin: 0.2em;color: black;border-radius: 0.25em;background-color: #f0f8ff;}#sk-container-id-9 input.sk-toggleable__control:checked~div.sk-toggleable__content {max-height: 200px;max-width: 100%;overflow: auto;}#sk-container-id-9 input.sk-toggleable__control:checked~label.sk-toggleable__label-arrow:before {content: \"▾\";}#sk-container-id-9 div.sk-estimator input.sk-toggleable__control:checked~label.sk-toggleable__label {background-color: #d4ebff;}#sk-container-id-9 div.sk-label input.sk-toggleable__control:checked~label.sk-toggleable__label {background-color: #d4ebff;}#sk-container-id-9 input.sk-hidden--visually {border: 0;clip: rect(1px 1px 1px 1px);clip: rect(1px, 1px, 1px, 1px);height: 1px;margin: -1px;overflow: hidden;padding: 0;position: absolute;width: 1px;}#sk-container-id-9 div.sk-estimator {font-family: monospace;background-color: #f0f8ff;border: 1px dotted black;border-radius: 0.25em;box-sizing: border-box;margin-bottom: 0.5em;}#sk-container-id-9 div.sk-estimator:hover {background-color: #d4ebff;}#sk-container-id-9 div.sk-parallel-item::after {content: \"\";width: 100%;border-bottom: 1px solid gray;flex-grow: 1;}#sk-container-id-9 div.sk-label:hover label.sk-toggleable__label {background-color: #d4ebff;}#sk-container-id-9 div.sk-serial::before {content: \"\";position: absolute;border-left: 1px solid gray;box-sizing: border-box;top: 0;bottom: 0;left: 50%;z-index: 0;}#sk-container-id-9 div.sk-serial {display: flex;flex-direction: column;align-items: center;background-color: white;padding-right: 0.2em;padding-left: 0.2em;position: relative;}#sk-container-id-9 div.sk-item {position: relative;z-index: 1;}#sk-container-id-9 div.sk-parallel {display: flex;align-items: stretch;justify-content: center;background-color: white;position: relative;}#sk-container-id-9 div.sk-item::before, #sk-container-id-9 div.sk-parallel-item::before {content: \"\";position: absolute;border-left: 1px solid gray;box-sizing: border-box;top: 0;bottom: 0;left: 50%;z-index: -1;}#sk-container-id-9 div.sk-parallel-item {display: flex;flex-direction: column;z-index: 1;position: relative;background-color: white;}#sk-container-id-9 div.sk-parallel-item:first-child::after {align-self: flex-end;width: 50%;}#sk-container-id-9 div.sk-parallel-item:last-child::after {align-self: flex-start;width: 50%;}#sk-container-id-9 div.sk-parallel-item:only-child::after {width: 0;}#sk-container-id-9 div.sk-dashed-wrapped {border: 1px dashed gray;margin: 0 0.4em 0.5em 0.4em;box-sizing: border-box;padding-bottom: 0.4em;background-color: white;}#sk-container-id-9 div.sk-label label {font-family: monospace;font-weight: bold;display: inline-block;line-height: 1.2em;}#sk-container-id-9 div.sk-label-container {text-align: center;}#sk-container-id-9 div.sk-container {/* jupyter's `normalize.less` sets `[hidden] { display: none; }` but bootstrap.min.css set `[hidden] { display: none !important; }` so we also need the `!important` here to be able to override the default hidden behavior on the sphinx rendered scikit-learn.org. See: https://github.com/scikit-learn/scikit-learn/issues/21755 */display: inline-block !important;position: relative;}#sk-container-id-9 div.sk-text-repr-fallback {display: none;}</style><div id=\"sk-container-id-9\" class=\"sk-top-container\"><div class=\"sk-text-repr-fallback\"><pre>Pipeline(steps=[(&#x27;Punct_Casing&#x27;,\n",
       "                 FunctionTransformer(func=&lt;function Punct_Casing at 0x7fae4138d8b0&gt;))])</pre><b>In a Jupyter environment, please rerun this cell to show the HTML representation or trust the notebook. <br />On GitHub, the HTML representation is unable to render, please try loading this page with nbviewer.org.</b></div><div class=\"sk-container\" hidden><div class=\"sk-item sk-dashed-wrapped\"><div class=\"sk-label-container\"><div class=\"sk-label sk-toggleable\"><input class=\"sk-toggleable__control sk-hidden--visually\" id=\"sk-estimator-id-22\" type=\"checkbox\" ><label for=\"sk-estimator-id-22\" class=\"sk-toggleable__label sk-toggleable__label-arrow\">Pipeline</label><div class=\"sk-toggleable__content\"><pre>Pipeline(steps=[(&#x27;Punct_Casing&#x27;,\n",
       "                 FunctionTransformer(func=&lt;function Punct_Casing at 0x7fae4138d8b0&gt;))])</pre></div></div></div><div class=\"sk-serial\"><div class=\"sk-item\"><div class=\"sk-estimator sk-toggleable\"><input class=\"sk-toggleable__control sk-hidden--visually\" id=\"sk-estimator-id-23\" type=\"checkbox\" ><label for=\"sk-estimator-id-23\" class=\"sk-toggleable__label sk-toggleable__label-arrow\">FunctionTransformer</label><div class=\"sk-toggleable__content\"><pre>FunctionTransformer(func=&lt;function Punct_Casing at 0x7fae4138d8b0&gt;)</pre></div></div></div></div></div></div></div>"
      ],
      "text/plain": [
       "Pipeline(steps=[('Punct_Casing',\n",
       "                 FunctionTransformer(func=<function Punct_Casing at 0x7fae4138d8b0>))])"
      ]
     },
     "execution_count": 190,
     "metadata": {},
     "output_type": "execute_result"
    }
   ],
   "source": [
    "Punct_Casing_pip = Pipeline(steps=[\n",
    "    ('Punct_Casing', FunctionTransformer(fe.Punct_Casing)),\n",
    "    \n",
    "])\n",
    "Punct_Casing_pip"
   ]
  },
  {
   "cell_type": "markdown",
   "id": "24c9167e",
   "metadata": {},
   "source": [
    "### Concreteness"
   ]
  },
  {
   "cell_type": "code",
   "execution_count": 191,
   "id": "fc0a2b8b",
   "metadata": {},
   "outputs": [
    {
     "data": {
      "text/html": [
       "<style>#sk-container-id-10 {color: black;background-color: white;}#sk-container-id-10 pre{padding: 0;}#sk-container-id-10 div.sk-toggleable {background-color: white;}#sk-container-id-10 label.sk-toggleable__label {cursor: pointer;display: block;width: 100%;margin-bottom: 0;padding: 0.3em;box-sizing: border-box;text-align: center;}#sk-container-id-10 label.sk-toggleable__label-arrow:before {content: \"▸\";float: left;margin-right: 0.25em;color: #696969;}#sk-container-id-10 label.sk-toggleable__label-arrow:hover:before {color: black;}#sk-container-id-10 div.sk-estimator:hover label.sk-toggleable__label-arrow:before {color: black;}#sk-container-id-10 div.sk-toggleable__content {max-height: 0;max-width: 0;overflow: hidden;text-align: left;background-color: #f0f8ff;}#sk-container-id-10 div.sk-toggleable__content pre {margin: 0.2em;color: black;border-radius: 0.25em;background-color: #f0f8ff;}#sk-container-id-10 input.sk-toggleable__control:checked~div.sk-toggleable__content {max-height: 200px;max-width: 100%;overflow: auto;}#sk-container-id-10 input.sk-toggleable__control:checked~label.sk-toggleable__label-arrow:before {content: \"▾\";}#sk-container-id-10 div.sk-estimator input.sk-toggleable__control:checked~label.sk-toggleable__label {background-color: #d4ebff;}#sk-container-id-10 div.sk-label input.sk-toggleable__control:checked~label.sk-toggleable__label {background-color: #d4ebff;}#sk-container-id-10 input.sk-hidden--visually {border: 0;clip: rect(1px 1px 1px 1px);clip: rect(1px, 1px, 1px, 1px);height: 1px;margin: -1px;overflow: hidden;padding: 0;position: absolute;width: 1px;}#sk-container-id-10 div.sk-estimator {font-family: monospace;background-color: #f0f8ff;border: 1px dotted black;border-radius: 0.25em;box-sizing: border-box;margin-bottom: 0.5em;}#sk-container-id-10 div.sk-estimator:hover {background-color: #d4ebff;}#sk-container-id-10 div.sk-parallel-item::after {content: \"\";width: 100%;border-bottom: 1px solid gray;flex-grow: 1;}#sk-container-id-10 div.sk-label:hover label.sk-toggleable__label {background-color: #d4ebff;}#sk-container-id-10 div.sk-serial::before {content: \"\";position: absolute;border-left: 1px solid gray;box-sizing: border-box;top: 0;bottom: 0;left: 50%;z-index: 0;}#sk-container-id-10 div.sk-serial {display: flex;flex-direction: column;align-items: center;background-color: white;padding-right: 0.2em;padding-left: 0.2em;position: relative;}#sk-container-id-10 div.sk-item {position: relative;z-index: 1;}#sk-container-id-10 div.sk-parallel {display: flex;align-items: stretch;justify-content: center;background-color: white;position: relative;}#sk-container-id-10 div.sk-item::before, #sk-container-id-10 div.sk-parallel-item::before {content: \"\";position: absolute;border-left: 1px solid gray;box-sizing: border-box;top: 0;bottom: 0;left: 50%;z-index: -1;}#sk-container-id-10 div.sk-parallel-item {display: flex;flex-direction: column;z-index: 1;position: relative;background-color: white;}#sk-container-id-10 div.sk-parallel-item:first-child::after {align-self: flex-end;width: 50%;}#sk-container-id-10 div.sk-parallel-item:last-child::after {align-self: flex-start;width: 50%;}#sk-container-id-10 div.sk-parallel-item:only-child::after {width: 0;}#sk-container-id-10 div.sk-dashed-wrapped {border: 1px dashed gray;margin: 0 0.4em 0.5em 0.4em;box-sizing: border-box;padding-bottom: 0.4em;background-color: white;}#sk-container-id-10 div.sk-label label {font-family: monospace;font-weight: bold;display: inline-block;line-height: 1.2em;}#sk-container-id-10 div.sk-label-container {text-align: center;}#sk-container-id-10 div.sk-container {/* jupyter's `normalize.less` sets `[hidden] { display: none; }` but bootstrap.min.css set `[hidden] { display: none !important; }` so we also need the `!important` here to be able to override the default hidden behavior on the sphinx rendered scikit-learn.org. See: https://github.com/scikit-learn/scikit-learn/issues/21755 */display: inline-block !important;position: relative;}#sk-container-id-10 div.sk-text-repr-fallback {display: none;}</style><div id=\"sk-container-id-10\" class=\"sk-top-container\"><div class=\"sk-text-repr-fallback\"><pre>Pipeline(steps=[(&#x27;absConcFeat&#x27;,\n",
       "                 FunctionTransformer(func=&lt;function absConcFeat at 0x7fae4138d940&gt;))])</pre><b>In a Jupyter environment, please rerun this cell to show the HTML representation or trust the notebook. <br />On GitHub, the HTML representation is unable to render, please try loading this page with nbviewer.org.</b></div><div class=\"sk-container\" hidden><div class=\"sk-item sk-dashed-wrapped\"><div class=\"sk-label-container\"><div class=\"sk-label sk-toggleable\"><input class=\"sk-toggleable__control sk-hidden--visually\" id=\"sk-estimator-id-24\" type=\"checkbox\" ><label for=\"sk-estimator-id-24\" class=\"sk-toggleable__label sk-toggleable__label-arrow\">Pipeline</label><div class=\"sk-toggleable__content\"><pre>Pipeline(steps=[(&#x27;absConcFeat&#x27;,\n",
       "                 FunctionTransformer(func=&lt;function absConcFeat at 0x7fae4138d940&gt;))])</pre></div></div></div><div class=\"sk-serial\"><div class=\"sk-item\"><div class=\"sk-estimator sk-toggleable\"><input class=\"sk-toggleable__control sk-hidden--visually\" id=\"sk-estimator-id-25\" type=\"checkbox\" ><label for=\"sk-estimator-id-25\" class=\"sk-toggleable__label sk-toggleable__label-arrow\">FunctionTransformer</label><div class=\"sk-toggleable__content\"><pre>FunctionTransformer(func=&lt;function absConcFeat at 0x7fae4138d940&gt;)</pre></div></div></div></div></div></div></div>"
      ],
      "text/plain": [
       "Pipeline(steps=[('absConcFeat',\n",
       "                 FunctionTransformer(func=<function absConcFeat at 0x7fae4138d940>))])"
      ]
     },
     "execution_count": 191,
     "metadata": {},
     "output_type": "execute_result"
    }
   ],
   "source": [
    "absConcFeat_pip = Pipeline(steps=[\n",
    "    ('absConcFeat', FunctionTransformer(fe.absConcFeat)),\n",
    "    \n",
    "])\n",
    "absConcFeat_pip"
   ]
  },
  {
   "cell_type": "markdown",
   "id": "1f95d113",
   "metadata": {},
   "source": [
    "### Feature Extraction Pipeline\n",
    "\n",
    "We add all feature extraction functions together"
   ]
  },
  {
   "cell_type": "code",
   "execution_count": 292,
   "id": "11ef1515",
   "metadata": {},
   "outputs": [
    {
     "data": {
      "text/html": [
       "<style>#sk-container-id-14 {color: black;background-color: white;}#sk-container-id-14 pre{padding: 0;}#sk-container-id-14 div.sk-toggleable {background-color: white;}#sk-container-id-14 label.sk-toggleable__label {cursor: pointer;display: block;width: 100%;margin-bottom: 0;padding: 0.3em;box-sizing: border-box;text-align: center;}#sk-container-id-14 label.sk-toggleable__label-arrow:before {content: \"▸\";float: left;margin-right: 0.25em;color: #696969;}#sk-container-id-14 label.sk-toggleable__label-arrow:hover:before {color: black;}#sk-container-id-14 div.sk-estimator:hover label.sk-toggleable__label-arrow:before {color: black;}#sk-container-id-14 div.sk-toggleable__content {max-height: 0;max-width: 0;overflow: hidden;text-align: left;background-color: #f0f8ff;}#sk-container-id-14 div.sk-toggleable__content pre {margin: 0.2em;color: black;border-radius: 0.25em;background-color: #f0f8ff;}#sk-container-id-14 input.sk-toggleable__control:checked~div.sk-toggleable__content {max-height: 200px;max-width: 100%;overflow: auto;}#sk-container-id-14 input.sk-toggleable__control:checked~label.sk-toggleable__label-arrow:before {content: \"▾\";}#sk-container-id-14 div.sk-estimator input.sk-toggleable__control:checked~label.sk-toggleable__label {background-color: #d4ebff;}#sk-container-id-14 div.sk-label input.sk-toggleable__control:checked~label.sk-toggleable__label {background-color: #d4ebff;}#sk-container-id-14 input.sk-hidden--visually {border: 0;clip: rect(1px 1px 1px 1px);clip: rect(1px, 1px, 1px, 1px);height: 1px;margin: -1px;overflow: hidden;padding: 0;position: absolute;width: 1px;}#sk-container-id-14 div.sk-estimator {font-family: monospace;background-color: #f0f8ff;border: 1px dotted black;border-radius: 0.25em;box-sizing: border-box;margin-bottom: 0.5em;}#sk-container-id-14 div.sk-estimator:hover {background-color: #d4ebff;}#sk-container-id-14 div.sk-parallel-item::after {content: \"\";width: 100%;border-bottom: 1px solid gray;flex-grow: 1;}#sk-container-id-14 div.sk-label:hover label.sk-toggleable__label {background-color: #d4ebff;}#sk-container-id-14 div.sk-serial::before {content: \"\";position: absolute;border-left: 1px solid gray;box-sizing: border-box;top: 0;bottom: 0;left: 50%;z-index: 0;}#sk-container-id-14 div.sk-serial {display: flex;flex-direction: column;align-items: center;background-color: white;padding-right: 0.2em;padding-left: 0.2em;position: relative;}#sk-container-id-14 div.sk-item {position: relative;z-index: 1;}#sk-container-id-14 div.sk-parallel {display: flex;align-items: stretch;justify-content: center;background-color: white;position: relative;}#sk-container-id-14 div.sk-item::before, #sk-container-id-14 div.sk-parallel-item::before {content: \"\";position: absolute;border-left: 1px solid gray;box-sizing: border-box;top: 0;bottom: 0;left: 50%;z-index: -1;}#sk-container-id-14 div.sk-parallel-item {display: flex;flex-direction: column;z-index: 1;position: relative;background-color: white;}#sk-container-id-14 div.sk-parallel-item:first-child::after {align-self: flex-end;width: 50%;}#sk-container-id-14 div.sk-parallel-item:last-child::after {align-self: flex-start;width: 50%;}#sk-container-id-14 div.sk-parallel-item:only-child::after {width: 0;}#sk-container-id-14 div.sk-dashed-wrapped {border: 1px dashed gray;margin: 0 0.4em 0.5em 0.4em;box-sizing: border-box;padding-bottom: 0.4em;background-color: white;}#sk-container-id-14 div.sk-label label {font-family: monospace;font-weight: bold;display: inline-block;line-height: 1.2em;}#sk-container-id-14 div.sk-label-container {text-align: center;}#sk-container-id-14 div.sk-container {/* jupyter's `normalize.less` sets `[hidden] { display: none; }` but bootstrap.min.css set `[hidden] { display: none !important; }` so we also need the `!important` here to be able to override the default hidden behavior on the sphinx rendered scikit-learn.org. See: https://github.com/scikit-learn/scikit-learn/issues/21755 */display: inline-block !important;position: relative;}#sk-container-id-14 div.sk-text-repr-fallback {display: none;}</style><div id=\"sk-container-id-14\" class=\"sk-top-container\"><div class=\"sk-text-repr-fallback\"><pre>FeatureUnion(transformer_list=[(&#x27;absConc&#x27;,\n",
       "                                Pipeline(steps=[(&#x27;absConcFeat&#x27;,\n",
       "                                                 FunctionTransformer(func=&lt;function absConcFeat at 0x7fae4138d940&gt;))])),\n",
       "                               (&#x27;Punct_Casing&#x27;,\n",
       "                                Pipeline(steps=[(&#x27;Punct_Casing&#x27;,\n",
       "                                                 FunctionTransformer(func=&lt;function Punct_Casing at 0x7fae4138d8b0&gt;))])),\n",
       "                               (&#x27;Spelling&#x27;,\n",
       "                                Pipeline(steps=[(&#x27;Spelling&#x27;,\n",
       "                                                 FunctionTransformer(func=&lt;function Spelling at 0x7fae40fa4ca0&gt;))]))])</pre><b>In a Jupyter environment, please rerun this cell to show the HTML representation or trust the notebook. <br />On GitHub, the HTML representation is unable to render, please try loading this page with nbviewer.org.</b></div><div class=\"sk-container\" hidden><div class=\"sk-item sk-dashed-wrapped\"><div class=\"sk-label-container\"><div class=\"sk-label sk-toggleable\"><input class=\"sk-toggleable__control sk-hidden--visually\" id=\"sk-estimator-id-34\" type=\"checkbox\" ><label for=\"sk-estimator-id-34\" class=\"sk-toggleable__label sk-toggleable__label-arrow\">FeatureUnion</label><div class=\"sk-toggleable__content\"><pre>FeatureUnion(transformer_list=[(&#x27;absConc&#x27;,\n",
       "                                Pipeline(steps=[(&#x27;absConcFeat&#x27;,\n",
       "                                                 FunctionTransformer(func=&lt;function absConcFeat at 0x7fae4138d940&gt;))])),\n",
       "                               (&#x27;Punct_Casing&#x27;,\n",
       "                                Pipeline(steps=[(&#x27;Punct_Casing&#x27;,\n",
       "                                                 FunctionTransformer(func=&lt;function Punct_Casing at 0x7fae4138d8b0&gt;))])),\n",
       "                               (&#x27;Spelling&#x27;,\n",
       "                                Pipeline(steps=[(&#x27;Spelling&#x27;,\n",
       "                                                 FunctionTransformer(func=&lt;function Spelling at 0x7fae40fa4ca0&gt;))]))])</pre></div></div></div><div class=\"sk-parallel\"><div class=\"sk-parallel-item\"><div class=\"sk-item\"><div class=\"sk-label-container\"><div class=\"sk-label sk-toggleable\"><label>absConc</label></div></div><div class=\"sk-serial\"><div class=\"sk-item\"><div class=\"sk-serial\"><div class=\"sk-item\"><div class=\"sk-estimator sk-toggleable\"><input class=\"sk-toggleable__control sk-hidden--visually\" id=\"sk-estimator-id-35\" type=\"checkbox\" ><label for=\"sk-estimator-id-35\" class=\"sk-toggleable__label sk-toggleable__label-arrow\">FunctionTransformer</label><div class=\"sk-toggleable__content\"><pre>FunctionTransformer(func=&lt;function absConcFeat at 0x7fae4138d940&gt;)</pre></div></div></div></div></div></div></div></div><div class=\"sk-parallel-item\"><div class=\"sk-item\"><div class=\"sk-label-container\"><div class=\"sk-label sk-toggleable\"><label>Punct_Casing</label></div></div><div class=\"sk-serial\"><div class=\"sk-item\"><div class=\"sk-serial\"><div class=\"sk-item\"><div class=\"sk-estimator sk-toggleable\"><input class=\"sk-toggleable__control sk-hidden--visually\" id=\"sk-estimator-id-36\" type=\"checkbox\" ><label for=\"sk-estimator-id-36\" class=\"sk-toggleable__label sk-toggleable__label-arrow\">FunctionTransformer</label><div class=\"sk-toggleable__content\"><pre>FunctionTransformer(func=&lt;function Punct_Casing at 0x7fae4138d8b0&gt;)</pre></div></div></div></div></div></div></div></div><div class=\"sk-parallel-item\"><div class=\"sk-item\"><div class=\"sk-label-container\"><div class=\"sk-label sk-toggleable\"><label>Spelling</label></div></div><div class=\"sk-serial\"><div class=\"sk-item\"><div class=\"sk-serial\"><div class=\"sk-item\"><div class=\"sk-estimator sk-toggleable\"><input class=\"sk-toggleable__control sk-hidden--visually\" id=\"sk-estimator-id-37\" type=\"checkbox\" ><label for=\"sk-estimator-id-37\" class=\"sk-toggleable__label sk-toggleable__label-arrow\">FunctionTransformer</label><div class=\"sk-toggleable__content\"><pre>FunctionTransformer(func=&lt;function Spelling at 0x7fae40fa4ca0&gt;)</pre></div></div></div></div></div></div></div></div></div></div></div></div>"
      ],
      "text/plain": [
       "FeatureUnion(transformer_list=[('absConc',\n",
       "                                Pipeline(steps=[('absConcFeat',\n",
       "                                                 FunctionTransformer(func=<function absConcFeat at 0x7fae4138d940>))])),\n",
       "                               ('Punct_Casing',\n",
       "                                Pipeline(steps=[('Punct_Casing',\n",
       "                                                 FunctionTransformer(func=<function Punct_Casing at 0x7fae4138d8b0>))])),\n",
       "                               ('Spelling',\n",
       "                                Pipeline(steps=[('Spelling',\n",
       "                                                 FunctionTransformer(func=<function Spelling at 0x7fae40fa4ca0>))]))])"
      ]
     },
     "execution_count": 292,
     "metadata": {},
     "output_type": "execute_result"
    }
   ],
   "source": [
    "feature_extraction= FeatureUnion([\n",
    "    ('absConc', absConcFeat_pip),\n",
    "    ('Punct_Casing', Punct_Casing_pip),\n",
    "    ('Spelling', Spelling_pip),\n",
    "#     ('LingFeat', lingFeat_pip)\n",
    "])\n",
    "\n",
    "feature_extraction"
   ]
  },
  {
   "cell_type": "code",
   "execution_count": 193,
   "id": "f1208758",
   "metadata": {},
   "outputs": [
    {
     "name": "stderr",
     "output_type": "stream",
     "text": [
      "100%|██████████| 4271/4271 [00:04<00:00, 961.14it/s]\n",
      "100%|██████████| 4271/4271 [00:00<00:00, 538665.88it/s]\n"
     ]
    },
    {
     "data": {
      "text/html": [
       "<div>\n",
       "<style scoped>\n",
       "    .dataframe tbody tr th:only-of-type {\n",
       "        vertical-align: middle;\n",
       "    }\n",
       "\n",
       "    .dataframe tbody tr th {\n",
       "        vertical-align: top;\n",
       "    }\n",
       "\n",
       "    .dataframe thead th {\n",
       "        text-align: right;\n",
       "    }\n",
       "</style>\n",
       "<table border=\"1\" class=\"dataframe\">\n",
       "  <thead>\n",
       "    <tr style=\"text-align: right;\">\n",
       "      <th></th>\n",
       "      <th>query</th>\n",
       "      <th>class</th>\n",
       "      <th>ratioAbs</th>\n",
       "      <th>ratioConc</th>\n",
       "      <th>query</th>\n",
       "      <th>class</th>\n",
       "      <th>punct</th>\n",
       "      <th>casing</th>\n",
       "      <th>query</th>\n",
       "      <th>class</th>\n",
       "      <th>kidsError</th>\n",
       "      <th>misspelledCol</th>\n",
       "      <th>oneOffError</th>\n",
       "    </tr>\n",
       "  </thead>\n",
       "  <tbody>\n",
       "    <tr>\n",
       "      <th>3101</th>\n",
       "      <td>SUNY college population</td>\n",
       "      <td>0</td>\n",
       "      <td>0.00</td>\n",
       "      <td>0.666667</td>\n",
       "      <td>SUNY college population</td>\n",
       "      <td>0</td>\n",
       "      <td>0</td>\n",
       "      <td>1</td>\n",
       "      <td>SUNY college population</td>\n",
       "      <td>0</td>\n",
       "      <td>0</td>\n",
       "      <td>1</td>\n",
       "      <td>1</td>\n",
       "    </tr>\n",
       "    <tr>\n",
       "      <th>4524</th>\n",
       "      <td>Hfgmhvhjcfhjc facts for kids</td>\n",
       "      <td>1</td>\n",
       "      <td>0.25</td>\n",
       "      <td>0.250000</td>\n",
       "      <td>Hfgmhvhjcfhjc facts for kids</td>\n",
       "      <td>1</td>\n",
       "      <td>0</td>\n",
       "      <td>1</td>\n",
       "      <td>Hfgmhvhjcfhjc facts for kids</td>\n",
       "      <td>1</td>\n",
       "      <td>0</td>\n",
       "      <td>1</td>\n",
       "      <td>-1</td>\n",
       "    </tr>\n",
       "    <tr>\n",
       "      <th>4441</th>\n",
       "      <td>robots on star wars</td>\n",
       "      <td>1</td>\n",
       "      <td>0.00</td>\n",
       "      <td>0.500000</td>\n",
       "      <td>robots on star wars</td>\n",
       "      <td>1</td>\n",
       "      <td>0</td>\n",
       "      <td>0</td>\n",
       "      <td>robots on star wars</td>\n",
       "      <td>1</td>\n",
       "      <td>0</td>\n",
       "      <td>0</td>\n",
       "      <td>0</td>\n",
       "    </tr>\n",
       "    <tr>\n",
       "      <th>186</th>\n",
       "      <td>venture capital</td>\n",
       "      <td>0</td>\n",
       "      <td>0.50</td>\n",
       "      <td>0.500000</td>\n",
       "      <td>venture capital</td>\n",
       "      <td>0</td>\n",
       "      <td>0</td>\n",
       "      <td>0</td>\n",
       "      <td>venture capital</td>\n",
       "      <td>0</td>\n",
       "      <td>0</td>\n",
       "      <td>0</td>\n",
       "      <td>0</td>\n",
       "    </tr>\n",
       "    <tr>\n",
       "      <th>3552</th>\n",
       "      <td>Times Publishing</td>\n",
       "      <td>0</td>\n",
       "      <td>0.00</td>\n",
       "      <td>0.000000</td>\n",
       "      <td>Times Publishing</td>\n",
       "      <td>0</td>\n",
       "      <td>0</td>\n",
       "      <td>1</td>\n",
       "      <td>Times Publishing</td>\n",
       "      <td>0</td>\n",
       "      <td>0</td>\n",
       "      <td>0</td>\n",
       "      <td>0</td>\n",
       "    </tr>\n",
       "  </tbody>\n",
       "</table>\n",
       "</div>"
      ],
      "text/plain": [
       "                             query  class  ratioAbs  ratioConc  \\\n",
       "3101       SUNY college population      0      0.00   0.666667   \n",
       "4524  Hfgmhvhjcfhjc facts for kids      1      0.25   0.250000   \n",
       "4441           robots on star wars      1      0.00   0.500000   \n",
       "186                venture capital      0      0.50   0.500000   \n",
       "3552              Times Publishing      0      0.00   0.000000   \n",
       "\n",
       "                             query  class  punct  casing  \\\n",
       "3101       SUNY college population      0      0       1   \n",
       "4524  Hfgmhvhjcfhjc facts for kids      1      0       1   \n",
       "4441           robots on star wars      1      0       0   \n",
       "186                venture capital      0      0       0   \n",
       "3552              Times Publishing      0      0       1   \n",
       "\n",
       "                             query  class  kidsError  misspelledCol  \\\n",
       "3101       SUNY college population      0          0              1   \n",
       "4524  Hfgmhvhjcfhjc facts for kids      1          0              1   \n",
       "4441           robots on star wars      1          0              0   \n",
       "186                venture capital      0          0              0   \n",
       "3552              Times Publishing      0          0              0   \n",
       "\n",
       "      oneOffError  \n",
       "3101            1  \n",
       "4524           -1  \n",
       "4441            0  \n",
       "186             0  \n",
       "3552            0  "
      ]
     },
     "execution_count": 193,
     "metadata": {},
     "output_type": "execute_result"
    }
   ],
   "source": [
    "features = feature_extraction.transform(queries)\n",
    "features.head()"
   ]
  },
  {
   "cell_type": "markdown",
   "id": "5baefd90",
   "metadata": {},
   "source": [
    "## 2. Pruning\n",
    "\n",
    "In the following block of code we do:\n",
    "\n",
    "- Drop the duplite\n",
    "- Substitute NaN with 0\n",
    "- Drop Disco Feature (from lingFeat)\n",
    "- Drop constant variables\n"
   ]
  },
  {
   "cell_type": "code",
   "execution_count": 194,
   "id": "6bc0a789",
   "metadata": {},
   "outputs": [],
   "source": [
    "def prune(features):\n",
    "    \n",
    "    # 1. Drop duplicated\n",
    "#     duplicated_columns=features.columns.duplicated()\n",
    "#     features.loc[:, ~duplicated_columns]\n",
    "    \n",
    "    features = features.loc[:,~features.columns.duplicated()]\n",
    "\n",
    "    \n",
    "#     # 2. drop Disco features\n",
    "    discoFeat = ['to_EntiM_C',\n",
    "            'as_EntiM_C',\n",
    "            'at_EntiM_C',\n",
    "            'to_UEnti_C',\n",
    "            'as_UEnti_C',\n",
    "            'at_UEnti_C',\n",
    "            'ra_SSToT_C',\n",
    "            'ra_SOToT_C',\n",
    "            'ra_SXToT_C',\n",
    "            'ra_SNToT_C',\n",
    "            'ra_OSToT_C',\n",
    "            'ra_OOToT_C',\n",
    "            'ra_OXToT_C',\n",
    "            'ra_ONToT_C',\n",
    "            'ra_XSToT_C',\n",
    "            'ra_XOToT_C',\n",
    "            'ra_XXToT_C',\n",
    "            'ra_XNToT_C',\n",
    "            'ra_NSToT_C',\n",
    "            'ra_NOToT_C',\n",
    "            'ra_NXToT_C',\n",
    "            'ra_NNToT_C',\n",
    "            'LoCohPA_S',\n",
    "            'LoCohPW_S',\n",
    "            'LoCohPU_S',\n",
    "            'LoCoDPA_S',\n",
    "            'LoCoDPW_S',\n",
    "            'LoCoDPU_S']\n",
    "    if all(col in df.columns for col in discoFeat):\n",
    "        features = features.drop(discoFeat, axis=1, inplace=True)\n",
    "    \n",
    "#     # 3. Substitute NaN with 0\n",
    "    features = features.fillna(0)\n",
    "    \n",
    "#     # 4. Drop constant variables \n",
    "    constant_columns = []\n",
    "    for column in features.columns:\n",
    "        if features[column].nunique() == 1:\n",
    "            constant_columns.append(column)\n",
    "    features = pd.DataFrame(features.drop(columns=constant_columns))\n",
    "    \n",
    "    return features\n"
   ]
  },
  {
   "cell_type": "code",
   "execution_count": 195,
   "id": "6cc1e8f4",
   "metadata": {},
   "outputs": [
    {
     "data": {
      "text/html": [
       "<div>\n",
       "<style scoped>\n",
       "    .dataframe tbody tr th:only-of-type {\n",
       "        vertical-align: middle;\n",
       "    }\n",
       "\n",
       "    .dataframe tbody tr th {\n",
       "        vertical-align: top;\n",
       "    }\n",
       "\n",
       "    .dataframe thead th {\n",
       "        text-align: right;\n",
       "    }\n",
       "</style>\n",
       "<table border=\"1\" class=\"dataframe\">\n",
       "  <thead>\n",
       "    <tr style=\"text-align: right;\">\n",
       "      <th></th>\n",
       "      <th>query</th>\n",
       "      <th>class</th>\n",
       "      <th>ratioAbs</th>\n",
       "      <th>ratioConc</th>\n",
       "      <th>punct</th>\n",
       "      <th>casing</th>\n",
       "      <th>kidsError</th>\n",
       "      <th>misspelledCol</th>\n",
       "      <th>oneOffError</th>\n",
       "    </tr>\n",
       "  </thead>\n",
       "  <tbody>\n",
       "    <tr>\n",
       "      <th>3101</th>\n",
       "      <td>SUNY college population</td>\n",
       "      <td>0</td>\n",
       "      <td>0.00</td>\n",
       "      <td>0.666667</td>\n",
       "      <td>0</td>\n",
       "      <td>1</td>\n",
       "      <td>0</td>\n",
       "      <td>1</td>\n",
       "      <td>1</td>\n",
       "    </tr>\n",
       "    <tr>\n",
       "      <th>4524</th>\n",
       "      <td>Hfgmhvhjcfhjc facts for kids</td>\n",
       "      <td>1</td>\n",
       "      <td>0.25</td>\n",
       "      <td>0.250000</td>\n",
       "      <td>0</td>\n",
       "      <td>1</td>\n",
       "      <td>0</td>\n",
       "      <td>1</td>\n",
       "      <td>-1</td>\n",
       "    </tr>\n",
       "    <tr>\n",
       "      <th>4441</th>\n",
       "      <td>robots on star wars</td>\n",
       "      <td>1</td>\n",
       "      <td>0.00</td>\n",
       "      <td>0.500000</td>\n",
       "      <td>0</td>\n",
       "      <td>0</td>\n",
       "      <td>0</td>\n",
       "      <td>0</td>\n",
       "      <td>0</td>\n",
       "    </tr>\n",
       "    <tr>\n",
       "      <th>186</th>\n",
       "      <td>venture capital</td>\n",
       "      <td>0</td>\n",
       "      <td>0.50</td>\n",
       "      <td>0.500000</td>\n",
       "      <td>0</td>\n",
       "      <td>0</td>\n",
       "      <td>0</td>\n",
       "      <td>0</td>\n",
       "      <td>0</td>\n",
       "    </tr>\n",
       "    <tr>\n",
       "      <th>3552</th>\n",
       "      <td>Times Publishing</td>\n",
       "      <td>0</td>\n",
       "      <td>0.00</td>\n",
       "      <td>0.000000</td>\n",
       "      <td>0</td>\n",
       "      <td>1</td>\n",
       "      <td>0</td>\n",
       "      <td>0</td>\n",
       "      <td>0</td>\n",
       "    </tr>\n",
       "  </tbody>\n",
       "</table>\n",
       "</div>"
      ],
      "text/plain": [
       "                             query  class  ratioAbs  ratioConc  punct  casing  \\\n",
       "3101       SUNY college population      0      0.00   0.666667      0       1   \n",
       "4524  Hfgmhvhjcfhjc facts for kids      1      0.25   0.250000      0       1   \n",
       "4441           robots on star wars      1      0.00   0.500000      0       0   \n",
       "186                venture capital      0      0.50   0.500000      0       0   \n",
       "3552              Times Publishing      0      0.00   0.000000      0       1   \n",
       "\n",
       "      kidsError  misspelledCol  oneOffError  \n",
       "3101          0              1            1  \n",
       "4524          0              1           -1  \n",
       "4441          0              0            0  \n",
       "186           0              0            0  \n",
       "3552          0              0            0  "
      ]
     },
     "execution_count": 195,
     "metadata": {},
     "output_type": "execute_result"
    }
   ],
   "source": [
    "features = prune(features)\n",
    "features.head()"
   ]
  },
  {
   "cell_type": "markdown",
   "id": "a60df9c0",
   "metadata": {},
   "source": [
    "## 3. Model Selection"
   ]
  },
  {
   "cell_type": "markdown",
   "id": "ad42b8e8",
   "metadata": {},
   "source": [
    "In this section we train three different models and identify the best model based on the *Accuracy*"
   ]
  },
  {
   "cell_type": "code",
   "execution_count": 196,
   "id": "73e13216",
   "metadata": {},
   "outputs": [],
   "source": [
    "data = features.copy()"
   ]
  },
  {
   "cell_type": "markdown",
   "id": "f50d656a",
   "metadata": {},
   "source": [
    "### Drop query columns"
   ]
  },
  {
   "cell_type": "code",
   "execution_count": 197,
   "id": "b9283f26",
   "metadata": {},
   "outputs": [],
   "source": [
    "data.drop(columns = ['query'], inplace = True, axis=1)"
   ]
  },
  {
   "cell_type": "markdown",
   "id": "81b70e2e",
   "metadata": {},
   "source": [
    "### Split data"
   ]
  },
  {
   "cell_type": "code",
   "execution_count": 198,
   "id": "a7f8c754",
   "metadata": {},
   "outputs": [],
   "source": [
    "X = data.drop(\"class\", axis=1)\n",
    "y = data['class']\n",
    "\n",
    "X_train, X_test, y_train, y_test = train_test_split(X, y, test_size=0.2, random_state=rng, stratify=y)\n",
    "\n",
    "X_train, X_dev, y_train, y_dev = train_test_split(X_train, y_train, test_size=0.2, random_state=rng, stratify=y_train)\n"
   ]
  },
  {
   "cell_type": "code",
   "execution_count": 199,
   "id": "5d13e8ff",
   "metadata": {},
   "outputs": [
    {
     "data": {
      "text/plain": [
       "0    0.800047\n",
       "1    0.199953\n",
       "Name: class, dtype: float64"
      ]
     },
     "execution_count": 199,
     "metadata": {},
     "output_type": "execute_result"
    }
   ],
   "source": [
    "data['class'].value_counts(normalize = True)"
   ]
  },
  {
   "cell_type": "code",
   "execution_count": 200,
   "id": "c0a67f18",
   "metadata": {},
   "outputs": [
    {
     "data": {
      "text/plain": [
       "((2732, 7), (2732,))"
      ]
     },
     "execution_count": 200,
     "metadata": {},
     "output_type": "execute_result"
    }
   ],
   "source": [
    "X_train.shape, y_train.shape"
   ]
  },
  {
   "cell_type": "code",
   "execution_count": 201,
   "id": "1012f983",
   "metadata": {},
   "outputs": [
    {
     "data": {
      "text/plain": [
       "((684, 7), (684,))"
      ]
     },
     "execution_count": 201,
     "metadata": {},
     "output_type": "execute_result"
    }
   ],
   "source": [
    "X_dev.shape, y_dev.shape"
   ]
  },
  {
   "cell_type": "code",
   "execution_count": 202,
   "id": "7a04d059",
   "metadata": {},
   "outputs": [
    {
     "data": {
      "text/plain": [
       "0    0.799708\n",
       "1    0.200292\n",
       "Name: class, dtype: float64"
      ]
     },
     "execution_count": 202,
     "metadata": {},
     "output_type": "execute_result"
    }
   ],
   "source": [
    "y_dev.value_counts(normalize = True)"
   ]
  },
  {
   "cell_type": "markdown",
   "id": "800fc0c6",
   "metadata": {},
   "source": [
    "### Tune hyperparameters"
   ]
  },
  {
   "cell_type": "code",
   "execution_count": 203,
   "id": "e9bbc61b",
   "metadata": {},
   "outputs": [],
   "source": [
    "# -- -- Dring the code from a separate file"
   ]
  },
  {
   "cell_type": "markdown",
   "id": "1bbbbaaa",
   "metadata": {},
   "source": [
    "### Train and test models"
   ]
  },
  {
   "cell_type": "code",
   "execution_count": 204,
   "id": "f0c0abc0",
   "metadata": {},
   "outputs": [],
   "source": [
    "# Define models with their respective HP\n",
    "SVM = SVC(C = 0.1, kernel = 'linear')\n",
    "MLP = MLPClassifier(activation = 'relu', learning_rate = 'constant', alpha = 0.0001, hidden_layer_sizes = (300,), random_state=1)\n",
    "RF = RandomForestClassifier(criterion = 'entropy', max_depth = None, max_features = 'sqrt', min_samples_split = 2, n_estimators = 500, random_state=rng, n_jobs=-1)\n",
    "gnb = GaussianNB() # This is added for testing adding and removing models\n",
    "\n",
    "def modelSelection(model_list):\n",
    "    results=[]\n",
    "\n",
    "    for model in model_list:\n",
    "    \n",
    "        model_pip =  Pipeline(steps=[\n",
    "        ('scaler', StandardScaler()),\n",
    "        ('model', model)\n",
    "        ])\n",
    "\n",
    "        model_pip.fit(X_train, y_train)\n",
    "\n",
    "        model_pred = model_pip.predict(X_test)\n",
    "\n",
    "        cm = confusion_matrix(y_true = y_test, y_pred = model_pred, labels= model_pip.classes_)\n",
    "\n",
    "        FP=cm[0,1]\n",
    "        FN=cm[1,0]\n",
    "        TP=cm[1,1]\n",
    "        TN=cm[0,0]\n",
    "\n",
    "        TPR=TP/(TP+FN)\n",
    "        TNR=TN/(TN+FP)\n",
    "        FPR=FP/(FP+TN)\n",
    "        FNR=FN/(TP+FN)\n",
    "        acc = accuracy_score(y_true = y_test, y_pred = model_pred)\n",
    "        f1=f1_score(y_test, model_pred, zero_division=1)\n",
    "        \n",
    "        metrics={\n",
    "            'Model': model.__class__.__name__, # from sklearn\n",
    "            'Accuracy': acc,\n",
    "            'TPR': TPR,\n",
    "            'TNR': TNR,\n",
    "            'FPR': FPR,\n",
    "            'FNR': FNR,\n",
    "            'f1_score': f1\n",
    "        }\n",
    "        results.append(metrics)\n",
    "\n",
    "    res_df = pd.DataFrame(results)\n",
    "\n",
    "    return res_df    "
   ]
  },
  {
   "cell_type": "code",
   "execution_count": 205,
   "id": "78dd5bcf",
   "metadata": {},
   "outputs": [
    {
     "data": {
      "text/html": [
       "<div>\n",
       "<style scoped>\n",
       "    .dataframe tbody tr th:only-of-type {\n",
       "        vertical-align: middle;\n",
       "    }\n",
       "\n",
       "    .dataframe tbody tr th {\n",
       "        vertical-align: top;\n",
       "    }\n",
       "\n",
       "    .dataframe thead th {\n",
       "        text-align: right;\n",
       "    }\n",
       "</style>\n",
       "<table border=\"1\" class=\"dataframe\">\n",
       "  <thead>\n",
       "    <tr style=\"text-align: right;\">\n",
       "      <th></th>\n",
       "      <th>Model</th>\n",
       "      <th>Accuracy</th>\n",
       "      <th>TPR</th>\n",
       "      <th>TNR</th>\n",
       "      <th>FPR</th>\n",
       "      <th>FNR</th>\n",
       "      <th>f1_score</th>\n",
       "    </tr>\n",
       "  </thead>\n",
       "  <tbody>\n",
       "    <tr>\n",
       "      <th>0</th>\n",
       "      <td>SVC</td>\n",
       "      <td>0.803509</td>\n",
       "      <td>0.017544</td>\n",
       "      <td>1.000000</td>\n",
       "      <td>0.000000</td>\n",
       "      <td>0.982456</td>\n",
       "      <td>0.034483</td>\n",
       "    </tr>\n",
       "    <tr>\n",
       "      <th>1</th>\n",
       "      <td>MLPClassifier</td>\n",
       "      <td>0.795322</td>\n",
       "      <td>0.052632</td>\n",
       "      <td>0.980994</td>\n",
       "      <td>0.019006</td>\n",
       "      <td>0.947368</td>\n",
       "      <td>0.093264</td>\n",
       "    </tr>\n",
       "    <tr>\n",
       "      <th>2</th>\n",
       "      <td>RandomForestClassifier</td>\n",
       "      <td>0.787135</td>\n",
       "      <td>0.099415</td>\n",
       "      <td>0.959064</td>\n",
       "      <td>0.040936</td>\n",
       "      <td>0.900585</td>\n",
       "      <td>0.157407</td>\n",
       "    </tr>\n",
       "    <tr>\n",
       "      <th>3</th>\n",
       "      <td>GaussianNB</td>\n",
       "      <td>0.777778</td>\n",
       "      <td>0.081871</td>\n",
       "      <td>0.951754</td>\n",
       "      <td>0.048246</td>\n",
       "      <td>0.918129</td>\n",
       "      <td>0.128440</td>\n",
       "    </tr>\n",
       "  </tbody>\n",
       "</table>\n",
       "</div>"
      ],
      "text/plain": [
       "                    Model  Accuracy       TPR       TNR       FPR       FNR  \\\n",
       "0                     SVC  0.803509  0.017544  1.000000  0.000000  0.982456   \n",
       "1           MLPClassifier  0.795322  0.052632  0.980994  0.019006  0.947368   \n",
       "2  RandomForestClassifier  0.787135  0.099415  0.959064  0.040936  0.900585   \n",
       "3              GaussianNB  0.777778  0.081871  0.951754  0.048246  0.918129   \n",
       "\n",
       "   f1_score  \n",
       "0  0.034483  \n",
       "1  0.093264  \n",
       "2  0.157407  \n",
       "3  0.128440  "
      ]
     },
     "execution_count": 205,
     "metadata": {},
     "output_type": "execute_result"
    }
   ],
   "source": [
    "modelSelection([SVM, MLP, RF, gnb])"
   ]
  },
  {
   "cell_type": "markdown",
   "id": "1a87f2b8",
   "metadata": {},
   "source": [
    "Note: the best model when the dataset is doesn't include ling feat model os SCV, but according to the experiment done before, RFC performed better "
   ]
  },
  {
   "cell_type": "markdown",
   "id": "bdcde9fc",
   "metadata": {},
   "source": [
    "## 4. Feature importance  "
   ]
  },
  {
   "cell_type": "code",
   "execution_count": 206,
   "id": "ddaf0384",
   "metadata": {},
   "outputs": [],
   "source": [
    "X_cols =  X_train.columns\n",
    "X_scaled=StandardScaler().fit_transform(X_train[X_cols])"
   ]
  },
  {
   "cell_type": "code",
   "execution_count": 207,
   "id": "ca6daa43",
   "metadata": {},
   "outputs": [
    {
     "data": {
      "text/html": [
       "<style>#sk-container-id-12 {color: black;background-color: white;}#sk-container-id-12 pre{padding: 0;}#sk-container-id-12 div.sk-toggleable {background-color: white;}#sk-container-id-12 label.sk-toggleable__label {cursor: pointer;display: block;width: 100%;margin-bottom: 0;padding: 0.3em;box-sizing: border-box;text-align: center;}#sk-container-id-12 label.sk-toggleable__label-arrow:before {content: \"▸\";float: left;margin-right: 0.25em;color: #696969;}#sk-container-id-12 label.sk-toggleable__label-arrow:hover:before {color: black;}#sk-container-id-12 div.sk-estimator:hover label.sk-toggleable__label-arrow:before {color: black;}#sk-container-id-12 div.sk-toggleable__content {max-height: 0;max-width: 0;overflow: hidden;text-align: left;background-color: #f0f8ff;}#sk-container-id-12 div.sk-toggleable__content pre {margin: 0.2em;color: black;border-radius: 0.25em;background-color: #f0f8ff;}#sk-container-id-12 input.sk-toggleable__control:checked~div.sk-toggleable__content {max-height: 200px;max-width: 100%;overflow: auto;}#sk-container-id-12 input.sk-toggleable__control:checked~label.sk-toggleable__label-arrow:before {content: \"▾\";}#sk-container-id-12 div.sk-estimator input.sk-toggleable__control:checked~label.sk-toggleable__label {background-color: #d4ebff;}#sk-container-id-12 div.sk-label input.sk-toggleable__control:checked~label.sk-toggleable__label {background-color: #d4ebff;}#sk-container-id-12 input.sk-hidden--visually {border: 0;clip: rect(1px 1px 1px 1px);clip: rect(1px, 1px, 1px, 1px);height: 1px;margin: -1px;overflow: hidden;padding: 0;position: absolute;width: 1px;}#sk-container-id-12 div.sk-estimator {font-family: monospace;background-color: #f0f8ff;border: 1px dotted black;border-radius: 0.25em;box-sizing: border-box;margin-bottom: 0.5em;}#sk-container-id-12 div.sk-estimator:hover {background-color: #d4ebff;}#sk-container-id-12 div.sk-parallel-item::after {content: \"\";width: 100%;border-bottom: 1px solid gray;flex-grow: 1;}#sk-container-id-12 div.sk-label:hover label.sk-toggleable__label {background-color: #d4ebff;}#sk-container-id-12 div.sk-serial::before {content: \"\";position: absolute;border-left: 1px solid gray;box-sizing: border-box;top: 0;bottom: 0;left: 50%;z-index: 0;}#sk-container-id-12 div.sk-serial {display: flex;flex-direction: column;align-items: center;background-color: white;padding-right: 0.2em;padding-left: 0.2em;position: relative;}#sk-container-id-12 div.sk-item {position: relative;z-index: 1;}#sk-container-id-12 div.sk-parallel {display: flex;align-items: stretch;justify-content: center;background-color: white;position: relative;}#sk-container-id-12 div.sk-item::before, #sk-container-id-12 div.sk-parallel-item::before {content: \"\";position: absolute;border-left: 1px solid gray;box-sizing: border-box;top: 0;bottom: 0;left: 50%;z-index: -1;}#sk-container-id-12 div.sk-parallel-item {display: flex;flex-direction: column;z-index: 1;position: relative;background-color: white;}#sk-container-id-12 div.sk-parallel-item:first-child::after {align-self: flex-end;width: 50%;}#sk-container-id-12 div.sk-parallel-item:last-child::after {align-self: flex-start;width: 50%;}#sk-container-id-12 div.sk-parallel-item:only-child::after {width: 0;}#sk-container-id-12 div.sk-dashed-wrapped {border: 1px dashed gray;margin: 0 0.4em 0.5em 0.4em;box-sizing: border-box;padding-bottom: 0.4em;background-color: white;}#sk-container-id-12 div.sk-label label {font-family: monospace;font-weight: bold;display: inline-block;line-height: 1.2em;}#sk-container-id-12 div.sk-label-container {text-align: center;}#sk-container-id-12 div.sk-container {/* jupyter's `normalize.less` sets `[hidden] { display: none; }` but bootstrap.min.css set `[hidden] { display: none !important; }` so we also need the `!important` here to be able to override the default hidden behavior on the sphinx rendered scikit-learn.org. See: https://github.com/scikit-learn/scikit-learn/issues/21755 */display: inline-block !important;position: relative;}#sk-container-id-12 div.sk-text-repr-fallback {display: none;}</style><div id=\"sk-container-id-12\" class=\"sk-top-container\"><div class=\"sk-text-repr-fallback\"><pre>RandomForestClassifier(criterion=&#x27;entropy&#x27;, n_estimators=500, n_jobs=-1,\n",
       "                       random_state=52023)</pre><b>In a Jupyter environment, please rerun this cell to show the HTML representation or trust the notebook. <br />On GitHub, the HTML representation is unable to render, please try loading this page with nbviewer.org.</b></div><div class=\"sk-container\" hidden><div class=\"sk-item\"><div class=\"sk-estimator sk-toggleable\"><input class=\"sk-toggleable__control sk-hidden--visually\" id=\"sk-estimator-id-30\" type=\"checkbox\" checked><label for=\"sk-estimator-id-30\" class=\"sk-toggleable__label sk-toggleable__label-arrow\">RandomForestClassifier</label><div class=\"sk-toggleable__content\"><pre>RandomForestClassifier(criterion=&#x27;entropy&#x27;, n_estimators=500, n_jobs=-1,\n",
       "                       random_state=52023)</pre></div></div></div></div></div>"
      ],
      "text/plain": [
       "RandomForestClassifier(criterion='entropy', n_estimators=500, n_jobs=-1,\n",
       "                       random_state=52023)"
      ]
     },
     "execution_count": 207,
     "metadata": {},
     "output_type": "execute_result"
    }
   ],
   "source": [
    "model = RF\n",
    "model.fit(X_scaled, y_train)"
   ]
  },
  {
   "cell_type": "code",
   "execution_count": 208,
   "id": "f6f907f1",
   "metadata": {},
   "outputs": [
    {
     "data": {
      "text/plain": [
       "ratioAbs         0.360609\n",
       "ratioConc        0.342856\n",
       "oneOffError      0.091624\n",
       "misspelledCol    0.073996\n",
       "casing           0.068350\n",
       "punct            0.036255\n",
       "kidsError        0.026309\n",
       "dtype: float64"
      ]
     },
     "execution_count": 208,
     "metadata": {},
     "output_type": "execute_result"
    }
   ],
   "source": [
    "FeatImp = pd.Series(model.feature_importances_, index=X_cols).sort_values(ascending=False)\n",
    "FeatImp"
   ]
  },
  {
   "cell_type": "markdown",
   "id": "4ab6a707",
   "metadata": {},
   "source": [
    "### Feature importance distribution"
   ]
  },
  {
   "cell_type": "code",
   "execution_count": 209,
   "id": "63c95ac4",
   "metadata": {},
   "outputs": [
    {
     "data": {
      "image/png": "[encoded data removed]",
      "text/plain": [
       "<Figure size 432x288 with 1 Axes>"
      ]
     },
     "metadata": {
      "needs_background": "light"
     },
     "output_type": "display_data"
    }
   ],
   "source": [
    "sns.histplot(data = FeatImp, kde = True, bins = 100)\n",
    "plt.xlabel('Feature Imp.')\n",
    "plt.title('FeatImp histogram')\n",
    "plt.show()"
   ]
  },
  {
   "cell_type": "code",
   "execution_count": 210,
   "id": "c209555c",
   "metadata": {},
   "outputs": [
    {
     "data": {
      "image/png": "[encoded data removed]",
      "text/plain": [
       "<Figure size 432x288 with 1 Axes>"
      ]
     },
     "metadata": {
      "needs_background": "light"
     },
     "output_type": "display_data"
    }
   ],
   "source": [
    "FeatImp.sort_values().plot.barh(color='green')\n",
    "plt.show()"
   ]
  },
  {
   "cell_type": "code",
   "execution_count": 211,
   "id": "a7614301",
   "metadata": {},
   "outputs": [
    {
     "data": {
      "text/html": [
       "<div>\n",
       "<style scoped>\n",
       "    .dataframe tbody tr th:only-of-type {\n",
       "        vertical-align: middle;\n",
       "    }\n",
       "\n",
       "    .dataframe tbody tr th {\n",
       "        vertical-align: top;\n",
       "    }\n",
       "\n",
       "    .dataframe thead th {\n",
       "        text-align: right;\n",
       "    }\n",
       "</style>\n",
       "<table border=\"1\" class=\"dataframe\">\n",
       "  <thead>\n",
       "    <tr style=\"text-align: right;\">\n",
       "      <th></th>\n",
       "      <th>feat</th>\n",
       "      <th>values</th>\n",
       "    </tr>\n",
       "  </thead>\n",
       "  <tbody>\n",
       "    <tr>\n",
       "      <th>0</th>\n",
       "      <td>ratioAbs</td>\n",
       "      <td>0.360609</td>\n",
       "    </tr>\n",
       "    <tr>\n",
       "      <th>1</th>\n",
       "      <td>ratioConc</td>\n",
       "      <td>0.342856</td>\n",
       "    </tr>\n",
       "  </tbody>\n",
       "</table>\n",
       "</div>"
      ],
      "text/plain": [
       "        feat    values\n",
       "0   ratioAbs  0.360609\n",
       "1  ratioConc  0.342856"
      ]
     },
     "execution_count": 211,
     "metadata": {},
     "output_type": "execute_result"
    }
   ],
   "source": [
    "# mif = FeatImp[FeatImp > 0.003]\n",
    "mif = FeatImp[FeatImp > 0.10] # for testing\n",
    "mostImpFeat = pd.DataFrame(mif)\n",
    "mostImpFeat.reset_index(inplace = True)\n",
    "mostImpFeat = mostImpFeat.rename(columns={'index':'feat', 0:'values'})\n",
    "mostImpFeat"
   ]
  },
  {
   "cell_type": "markdown",
   "id": "b871672c",
   "metadata": {},
   "source": [
    "# PART B"
   ]
  },
  {
   "cell_type": "markdown",
   "id": "0dae1af7",
   "metadata": {},
   "source": [
    "## 1. Data - Search Query"
   ]
  },
  {
   "cell_type": "code",
   "execution_count": 275,
   "id": "6f12f525",
   "metadata": {},
   "outputs": [
    {
     "data": {
      "text/html": [
       "<div>\n",
       "<style scoped>\n",
       "    .dataframe tbody tr th:only-of-type {\n",
       "        vertical-align: middle;\n",
       "    }\n",
       "\n",
       "    .dataframe tbody tr th {\n",
       "        vertical-align: top;\n",
       "    }\n",
       "\n",
       "    .dataframe thead th {\n",
       "        text-align: right;\n",
       "    }\n",
       "</style>\n",
       "<table border=\"1\" class=\"dataframe\">\n",
       "  <thead>\n",
       "    <tr style=\"text-align: right;\">\n",
       "      <th></th>\n",
       "      <th>query</th>\n",
       "      <th>class</th>\n",
       "    </tr>\n",
       "  </thead>\n",
       "  <tbody>\n",
       "    <tr>\n",
       "      <th>1191</th>\n",
       "      <td>consequences building hydroelectric dams could...</td>\n",
       "      <td>0</td>\n",
       "    </tr>\n",
       "    <tr>\n",
       "      <th>3802</th>\n",
       "      <td>Information about tigers</td>\n",
       "      <td>1</td>\n",
       "    </tr>\n",
       "    <tr>\n",
       "      <th>1570</th>\n",
       "      <td>Russian submarine Kursk sinking</td>\n",
       "      <td>0</td>\n",
       "    </tr>\n",
       "    <tr>\n",
       "      <th>1881</th>\n",
       "      <td>SCIENCE GLASS</td>\n",
       "      <td>0</td>\n",
       "    </tr>\n",
       "    <tr>\n",
       "      <th>1250</th>\n",
       "      <td>pocono mountains state parks</td>\n",
       "      <td>0</td>\n",
       "    </tr>\n",
       "  </tbody>\n",
       "</table>\n",
       "</div>"
      ],
      "text/plain": [
       "                                                  query  class\n",
       "1191  consequences building hydroelectric dams could...      0\n",
       "3802                           Information about tigers      1\n",
       "1570                    Russian submarine Kursk sinking      0\n",
       "1881                                      SCIENCE GLASS      0\n",
       "1250                       pocono mountains state parks      0"
      ]
     },
     "execution_count": 275,
     "metadata": {},
     "output_type": "execute_result"
    }
   ],
   "source": [
    "pipSet.head()"
   ]
  },
  {
   "cell_type": "markdown",
   "id": "6b4f56f2",
   "metadata": {},
   "source": [
    "## 2. Feature Extraction "
   ]
  },
  {
   "cell_type": "code",
   "execution_count": 276,
   "id": "4bd0a315",
   "metadata": {},
   "outputs": [
    {
     "name": "stderr",
     "output_type": "stream",
     "text": [
      "100%|██████████| 475/475 [00:00<00:00, 931.59it/s]\n",
      "100%|██████████| 475/475 [00:00<00:00, 544789.28it/s]\n"
     ]
    },
    {
     "data": {
      "text/html": [
       "<div>\n",
       "<style scoped>\n",
       "    .dataframe tbody tr th:only-of-type {\n",
       "        vertical-align: middle;\n",
       "    }\n",
       "\n",
       "    .dataframe tbody tr th {\n",
       "        vertical-align: top;\n",
       "    }\n",
       "\n",
       "    .dataframe thead th {\n",
       "        text-align: right;\n",
       "    }\n",
       "</style>\n",
       "<table border=\"1\" class=\"dataframe\">\n",
       "  <thead>\n",
       "    <tr style=\"text-align: right;\">\n",
       "      <th></th>\n",
       "      <th>query</th>\n",
       "      <th>class</th>\n",
       "      <th>ratioAbs</th>\n",
       "      <th>ratioConc</th>\n",
       "      <th>query</th>\n",
       "      <th>class</th>\n",
       "      <th>punct</th>\n",
       "      <th>casing</th>\n",
       "      <th>query</th>\n",
       "      <th>class</th>\n",
       "      <th>kidsError</th>\n",
       "      <th>misspelledCol</th>\n",
       "      <th>oneOffError</th>\n",
       "    </tr>\n",
       "  </thead>\n",
       "  <tbody>\n",
       "    <tr>\n",
       "      <th>1191</th>\n",
       "      <td>consequences building hydroelectric dams could...</td>\n",
       "      <td>0</td>\n",
       "      <td>0.333333</td>\n",
       "      <td>0.444444</td>\n",
       "      <td>consequences building hydroelectric dams could...</td>\n",
       "      <td>0</td>\n",
       "      <td>0</td>\n",
       "      <td>0</td>\n",
       "      <td>consequences building hydroelectric dams could...</td>\n",
       "      <td>0</td>\n",
       "      <td>0</td>\n",
       "      <td>0</td>\n",
       "      <td>0</td>\n",
       "    </tr>\n",
       "    <tr>\n",
       "      <th>3802</th>\n",
       "      <td>Information about tigers</td>\n",
       "      <td>1</td>\n",
       "      <td>0.333333</td>\n",
       "      <td>0.000000</td>\n",
       "      <td>Information about tigers</td>\n",
       "      <td>1</td>\n",
       "      <td>0</td>\n",
       "      <td>1</td>\n",
       "      <td>Information about tigers</td>\n",
       "      <td>1</td>\n",
       "      <td>0</td>\n",
       "      <td>0</td>\n",
       "      <td>0</td>\n",
       "    </tr>\n",
       "    <tr>\n",
       "      <th>1570</th>\n",
       "      <td>Russian submarine Kursk sinking</td>\n",
       "      <td>0</td>\n",
       "      <td>0.250000</td>\n",
       "      <td>0.250000</td>\n",
       "      <td>Russian submarine Kursk sinking</td>\n",
       "      <td>0</td>\n",
       "      <td>0</td>\n",
       "      <td>1</td>\n",
       "      <td>Russian submarine Kursk sinking</td>\n",
       "      <td>0</td>\n",
       "      <td>0</td>\n",
       "      <td>1</td>\n",
       "      <td>0</td>\n",
       "    </tr>\n",
       "    <tr>\n",
       "      <th>1881</th>\n",
       "      <td>SCIENCE GLASS</td>\n",
       "      <td>0</td>\n",
       "      <td>0.000000</td>\n",
       "      <td>0.000000</td>\n",
       "      <td>SCIENCE GLASS</td>\n",
       "      <td>0</td>\n",
       "      <td>0</td>\n",
       "      <td>1</td>\n",
       "      <td>SCIENCE GLASS</td>\n",
       "      <td>0</td>\n",
       "      <td>0</td>\n",
       "      <td>0</td>\n",
       "      <td>0</td>\n",
       "    </tr>\n",
       "    <tr>\n",
       "      <th>1250</th>\n",
       "      <td>pocono mountains state parks</td>\n",
       "      <td>0</td>\n",
       "      <td>0.000000</td>\n",
       "      <td>0.250000</td>\n",
       "      <td>pocono mountains state parks</td>\n",
       "      <td>0</td>\n",
       "      <td>0</td>\n",
       "      <td>0</td>\n",
       "      <td>pocono mountains state parks</td>\n",
       "      <td>0</td>\n",
       "      <td>0</td>\n",
       "      <td>1</td>\n",
       "      <td>1</td>\n",
       "    </tr>\n",
       "  </tbody>\n",
       "</table>\n",
       "</div>"
      ],
      "text/plain": [
       "                                                  query  class  ratioAbs  \\\n",
       "1191  consequences building hydroelectric dams could...      0  0.333333   \n",
       "3802                           Information about tigers      1  0.333333   \n",
       "1570                    Russian submarine Kursk sinking      0  0.250000   \n",
       "1881                                      SCIENCE GLASS      0  0.000000   \n",
       "1250                       pocono mountains state parks      0  0.000000   \n",
       "\n",
       "      ratioConc                                              query  class  \\\n",
       "1191   0.444444  consequences building hydroelectric dams could...      0   \n",
       "3802   0.000000                           Information about tigers      1   \n",
       "1570   0.250000                    Russian submarine Kursk sinking      0   \n",
       "1881   0.000000                                      SCIENCE GLASS      0   \n",
       "1250   0.250000                       pocono mountains state parks      0   \n",
       "\n",
       "      punct  casing                                              query  class  \\\n",
       "1191      0       0  consequences building hydroelectric dams could...      0   \n",
       "3802      0       1                           Information about tigers      1   \n",
       "1570      0       1                    Russian submarine Kursk sinking      0   \n",
       "1881      0       1                                      SCIENCE GLASS      0   \n",
       "1250      0       0                       pocono mountains state parks      0   \n",
       "\n",
       "      kidsError  misspelledCol  oneOffError  \n",
       "1191          0              0            0  \n",
       "3802          0              0            0  \n",
       "1570          0              1            0  \n",
       "1881          0              0            0  \n",
       "1250          0              1            1  "
      ]
     },
     "execution_count": 276,
     "metadata": {},
     "output_type": "execute_result"
    }
   ],
   "source": [
    "featuresTest = feature_extraction.transform(pipSet)\n",
    "featuresTest.head()"
   ]
  },
  {
   "cell_type": "markdown",
   "id": "0ff1561d",
   "metadata": {},
   "source": [
    "## 3. Pruning"
   ]
  },
  {
   "cell_type": "code",
   "execution_count": 277,
   "id": "29753e10",
   "metadata": {},
   "outputs": [
    {
     "data": {
      "text/html": [
       "<div>\n",
       "<style scoped>\n",
       "    .dataframe tbody tr th:only-of-type {\n",
       "        vertical-align: middle;\n",
       "    }\n",
       "\n",
       "    .dataframe tbody tr th {\n",
       "        vertical-align: top;\n",
       "    }\n",
       "\n",
       "    .dataframe thead th {\n",
       "        text-align: right;\n",
       "    }\n",
       "</style>\n",
       "<table border=\"1\" class=\"dataframe\">\n",
       "  <thead>\n",
       "    <tr style=\"text-align: right;\">\n",
       "      <th></th>\n",
       "      <th>query</th>\n",
       "      <th>class</th>\n",
       "      <th>ratioAbs</th>\n",
       "      <th>ratioConc</th>\n",
       "      <th>punct</th>\n",
       "      <th>casing</th>\n",
       "      <th>kidsError</th>\n",
       "      <th>misspelledCol</th>\n",
       "      <th>oneOffError</th>\n",
       "    </tr>\n",
       "  </thead>\n",
       "  <tbody>\n",
       "    <tr>\n",
       "      <th>0</th>\n",
       "      <td>consequences building hydroelectric dams could...</td>\n",
       "      <td>0</td>\n",
       "      <td>0.333333</td>\n",
       "      <td>0.444444</td>\n",
       "      <td>0</td>\n",
       "      <td>0</td>\n",
       "      <td>0</td>\n",
       "      <td>0</td>\n",
       "      <td>0</td>\n",
       "    </tr>\n",
       "    <tr>\n",
       "      <th>1</th>\n",
       "      <td>Information about tigers</td>\n",
       "      <td>1</td>\n",
       "      <td>0.333333</td>\n",
       "      <td>0.000000</td>\n",
       "      <td>0</td>\n",
       "      <td>1</td>\n",
       "      <td>0</td>\n",
       "      <td>0</td>\n",
       "      <td>0</td>\n",
       "    </tr>\n",
       "    <tr>\n",
       "      <th>2</th>\n",
       "      <td>Russian submarine Kursk sinking</td>\n",
       "      <td>0</td>\n",
       "      <td>0.250000</td>\n",
       "      <td>0.250000</td>\n",
       "      <td>0</td>\n",
       "      <td>1</td>\n",
       "      <td>0</td>\n",
       "      <td>1</td>\n",
       "      <td>0</td>\n",
       "    </tr>\n",
       "    <tr>\n",
       "      <th>3</th>\n",
       "      <td>SCIENCE GLASS</td>\n",
       "      <td>0</td>\n",
       "      <td>0.000000</td>\n",
       "      <td>0.000000</td>\n",
       "      <td>0</td>\n",
       "      <td>1</td>\n",
       "      <td>0</td>\n",
       "      <td>0</td>\n",
       "      <td>0</td>\n",
       "    </tr>\n",
       "    <tr>\n",
       "      <th>4</th>\n",
       "      <td>pocono mountains state parks</td>\n",
       "      <td>0</td>\n",
       "      <td>0.000000</td>\n",
       "      <td>0.250000</td>\n",
       "      <td>0</td>\n",
       "      <td>0</td>\n",
       "      <td>0</td>\n",
       "      <td>1</td>\n",
       "      <td>1</td>\n",
       "    </tr>\n",
       "  </tbody>\n",
       "</table>\n",
       "</div>"
      ],
      "text/plain": [
       "                                               query  class  ratioAbs  \\\n",
       "0  consequences building hydroelectric dams could...      0  0.333333   \n",
       "1                           Information about tigers      1  0.333333   \n",
       "2                    Russian submarine Kursk sinking      0  0.250000   \n",
       "3                                      SCIENCE GLASS      0  0.000000   \n",
       "4                       pocono mountains state parks      0  0.000000   \n",
       "\n",
       "   ratioConc  punct  casing  kidsError  misspelledCol  oneOffError  \n",
       "0   0.444444      0       0          0              0            0  \n",
       "1   0.000000      0       1          0              0            0  \n",
       "2   0.250000      0       1          0              1            0  \n",
       "3   0.000000      0       1          0              0            0  \n",
       "4   0.250000      0       0          0              1            1  "
      ]
     },
     "execution_count": 277,
     "metadata": {},
     "output_type": "execute_result"
    }
   ],
   "source": [
    "featuresTest = prune(featuresTest)\n",
    "featuresTest.reset_index(drop=True, inplace=True)\n",
    "featuresTest.head()"
   ]
  },
  {
   "cell_type": "markdown",
   "id": "c54f7d80",
   "metadata": {},
   "source": [
    "## 4. Select the most important features"
   ]
  },
  {
   "cell_type": "code",
   "execution_count": 278,
   "id": "b1a11c06",
   "metadata": {},
   "outputs": [],
   "source": [
    "newData = featuresTest[mostImpFeat.feat]\n",
    "newData.reset_index(drop=True, inplace=True)"
   ]
  },
  {
   "cell_type": "code",
   "execution_count": 279,
   "id": "76272a32",
   "metadata": {},
   "outputs": [
    {
     "data": {
      "text/html": [
       "<div>\n",
       "<style scoped>\n",
       "    .dataframe tbody tr th:only-of-type {\n",
       "        vertical-align: middle;\n",
       "    }\n",
       "\n",
       "    .dataframe tbody tr th {\n",
       "        vertical-align: top;\n",
       "    }\n",
       "\n",
       "    .dataframe thead th {\n",
       "        text-align: right;\n",
       "    }\n",
       "</style>\n",
       "<table border=\"1\" class=\"dataframe\">\n",
       "  <thead>\n",
       "    <tr style=\"text-align: right;\">\n",
       "      <th></th>\n",
       "      <th>ratioAbs</th>\n",
       "      <th>ratioConc</th>\n",
       "    </tr>\n",
       "  </thead>\n",
       "  <tbody>\n",
       "    <tr>\n",
       "      <th>0</th>\n",
       "      <td>0.333333</td>\n",
       "      <td>0.444444</td>\n",
       "    </tr>\n",
       "    <tr>\n",
       "      <th>1</th>\n",
       "      <td>0.333333</td>\n",
       "      <td>0.000000</td>\n",
       "    </tr>\n",
       "    <tr>\n",
       "      <th>2</th>\n",
       "      <td>0.250000</td>\n",
       "      <td>0.250000</td>\n",
       "    </tr>\n",
       "    <tr>\n",
       "      <th>3</th>\n",
       "      <td>0.000000</td>\n",
       "      <td>0.000000</td>\n",
       "    </tr>\n",
       "    <tr>\n",
       "      <th>4</th>\n",
       "      <td>0.000000</td>\n",
       "      <td>0.250000</td>\n",
       "    </tr>\n",
       "  </tbody>\n",
       "</table>\n",
       "</div>"
      ],
      "text/plain": [
       "   ratioAbs  ratioConc\n",
       "0  0.333333   0.444444\n",
       "1  0.333333   0.000000\n",
       "2  0.250000   0.250000\n",
       "3  0.000000   0.000000\n",
       "4  0.000000   0.250000"
      ]
     },
     "execution_count": 279,
     "metadata": {},
     "output_type": "execute_result"
    }
   ],
   "source": [
    "newData.head()"
   ]
  },
  {
   "cell_type": "markdown",
   "id": "234bfa0a",
   "metadata": {},
   "source": [
    "## 5. Prediction"
   ]
  },
  {
   "cell_type": "code",
   "execution_count": 280,
   "id": "8d83bb06",
   "metadata": {},
   "outputs": [],
   "source": [
    "# pred = model_pip.predict(X_test)"
   ]
  },
  {
   "cell_type": "markdown",
   "id": "94d9d71d",
   "metadata": {},
   "source": [
    "## New queries "
   ]
  },
  {
   "cell_type": "code",
   "execution_count": 281,
   "id": "c871271e",
   "metadata": {},
   "outputs": [],
   "source": [
    "dt = featuresTest.copy()"
   ]
  },
  {
   "cell_type": "code",
   "execution_count": 282,
   "id": "1cc3967c",
   "metadata": {},
   "outputs": [
    {
     "data": {
      "text/html": [
       "<div>\n",
       "<style scoped>\n",
       "    .dataframe tbody tr th:only-of-type {\n",
       "        vertical-align: middle;\n",
       "    }\n",
       "\n",
       "    .dataframe tbody tr th {\n",
       "        vertical-align: top;\n",
       "    }\n",
       "\n",
       "    .dataframe thead th {\n",
       "        text-align: right;\n",
       "    }\n",
       "</style>\n",
       "<table border=\"1\" class=\"dataframe\">\n",
       "  <thead>\n",
       "    <tr style=\"text-align: right;\">\n",
       "      <th></th>\n",
       "      <th>query</th>\n",
       "      <th>class</th>\n",
       "      <th>ratioAbs</th>\n",
       "      <th>ratioConc</th>\n",
       "      <th>punct</th>\n",
       "      <th>casing</th>\n",
       "      <th>kidsError</th>\n",
       "      <th>misspelledCol</th>\n",
       "      <th>oneOffError</th>\n",
       "    </tr>\n",
       "  </thead>\n",
       "  <tbody>\n",
       "    <tr>\n",
       "      <th>0</th>\n",
       "      <td>consequences building hydroelectric dams could...</td>\n",
       "      <td>0</td>\n",
       "      <td>0.333333</td>\n",
       "      <td>0.444444</td>\n",
       "      <td>0</td>\n",
       "      <td>0</td>\n",
       "      <td>0</td>\n",
       "      <td>0</td>\n",
       "      <td>0</td>\n",
       "    </tr>\n",
       "    <tr>\n",
       "      <th>1</th>\n",
       "      <td>Information about tigers</td>\n",
       "      <td>1</td>\n",
       "      <td>0.333333</td>\n",
       "      <td>0.000000</td>\n",
       "      <td>0</td>\n",
       "      <td>1</td>\n",
       "      <td>0</td>\n",
       "      <td>0</td>\n",
       "      <td>0</td>\n",
       "    </tr>\n",
       "  </tbody>\n",
       "</table>\n",
       "</div>"
      ],
      "text/plain": [
       "                                               query  class  ratioAbs  \\\n",
       "0  consequences building hydroelectric dams could...      0  0.333333   \n",
       "1                           Information about tigers      1  0.333333   \n",
       "\n",
       "   ratioConc  punct  casing  kidsError  misspelledCol  oneOffError  \n",
       "0   0.444444      0       0          0              0            0  \n",
       "1   0.000000      0       1          0              0            0  "
      ]
     },
     "execution_count": 282,
     "metadata": {},
     "output_type": "execute_result"
    }
   ],
   "source": [
    "dt.head(2)"
   ]
  },
  {
   "cell_type": "code",
   "execution_count": 283,
   "id": "b2dd2267",
   "metadata": {},
   "outputs": [
    {
     "data": {
      "text/plain": [
       "(475, 9)"
      ]
     },
     "execution_count": 283,
     "metadata": {},
     "output_type": "execute_result"
    }
   ],
   "source": [
    "dt.shape"
   ]
  },
  {
   "cell_type": "code",
   "execution_count": 284,
   "id": "6f29d105",
   "metadata": {},
   "outputs": [
    {
     "data": {
      "text/html": [
       "<div>\n",
       "<style scoped>\n",
       "    .dataframe tbody tr th:only-of-type {\n",
       "        vertical-align: middle;\n",
       "    }\n",
       "\n",
       "    .dataframe tbody tr th {\n",
       "        vertical-align: top;\n",
       "    }\n",
       "\n",
       "    .dataframe thead th {\n",
       "        text-align: right;\n",
       "    }\n",
       "</style>\n",
       "<table border=\"1\" class=\"dataframe\">\n",
       "  <thead>\n",
       "    <tr style=\"text-align: right;\">\n",
       "      <th></th>\n",
       "      <th>query</th>\n",
       "      <th>class</th>\n",
       "      <th>ratioAbs</th>\n",
       "      <th>ratioConc</th>\n",
       "      <th>punct</th>\n",
       "      <th>casing</th>\n",
       "      <th>kidsError</th>\n",
       "      <th>misspelledCol</th>\n",
       "      <th>oneOffError</th>\n",
       "    </tr>\n",
       "  </thead>\n",
       "  <tbody>\n",
       "    <tr>\n",
       "      <th>0</th>\n",
       "      <td>consequences building hydroelectric dams could...</td>\n",
       "      <td>0</td>\n",
       "      <td>0.333333</td>\n",
       "      <td>0.444444</td>\n",
       "      <td>0</td>\n",
       "      <td>0</td>\n",
       "      <td>0</td>\n",
       "      <td>0</td>\n",
       "      <td>0</td>\n",
       "    </tr>\n",
       "    <tr>\n",
       "      <th>1</th>\n",
       "      <td>Information about tigers</td>\n",
       "      <td>1</td>\n",
       "      <td>0.333333</td>\n",
       "      <td>0.000000</td>\n",
       "      <td>0</td>\n",
       "      <td>1</td>\n",
       "      <td>0</td>\n",
       "      <td>0</td>\n",
       "      <td>0</td>\n",
       "    </tr>\n",
       "  </tbody>\n",
       "</table>\n",
       "</div>"
      ],
      "text/plain": [
       "                                               query  class  ratioAbs  \\\n",
       "0  consequences building hydroelectric dams could...      0  0.333333   \n",
       "1                           Information about tigers      1  0.333333   \n",
       "\n",
       "   ratioConc  punct  casing  kidsError  misspelledCol  oneOffError  \n",
       "0   0.444444      0       0          0              0            0  \n",
       "1   0.000000      0       1          0              0            0  "
      ]
     },
     "execution_count": 284,
     "metadata": {},
     "output_type": "execute_result"
    }
   ],
   "source": [
    "data2 = featuresTest.copy()\n",
    "data2.head(2)"
   ]
  },
  {
   "cell_type": "code",
   "execution_count": 285,
   "id": "51e85c0c",
   "metadata": {},
   "outputs": [
    {
     "data": {
      "text/plain": [
       "(475, 9)"
      ]
     },
     "execution_count": 285,
     "metadata": {},
     "output_type": "execute_result"
    }
   ],
   "source": [
    "data2.shape"
   ]
  },
  {
   "cell_type": "code",
   "execution_count": 286,
   "id": "86492dd3",
   "metadata": {},
   "outputs": [
    {
     "data": {
      "text/plain": [
       "(475, 7)"
      ]
     },
     "execution_count": 286,
     "metadata": {},
     "output_type": "execute_result"
    }
   ],
   "source": [
    "data2 = data2.drop(['query','class'], axis=1)\n",
    "data2.shape"
   ]
  },
  {
   "cell_type": "code",
   "execution_count": 288,
   "id": "7fca4554",
   "metadata": {},
   "outputs": [],
   "source": [
    "model_pip_test =  Pipeline(steps=[\n",
    "    ('scaler', StandardScaler()),\n",
    "    ('model', RF)\n",
    "    ])\n",
    "\n",
    "model_pip_test.fit(X_train, y_train)\n",
    "\n",
    "model_pred_prob_test = model_pip_test.predict_proba(data2)\n",
    "results = pd.DataFrame(model_pred_prob_test)"
   ]
  },
  {
   "cell_type": "code",
   "execution_count": 290,
   "id": "862cac55",
   "metadata": {},
   "outputs": [
    {
     "data": {
      "text/html": [
       "<div>\n",
       "<style scoped>\n",
       "    .dataframe tbody tr th:only-of-type {\n",
       "        vertical-align: middle;\n",
       "    }\n",
       "\n",
       "    .dataframe tbody tr th {\n",
       "        vertical-align: top;\n",
       "    }\n",
       "\n",
       "    .dataframe thead th {\n",
       "        text-align: right;\n",
       "    }\n",
       "</style>\n",
       "<table border=\"1\" class=\"dataframe\">\n",
       "  <thead>\n",
       "    <tr style=\"text-align: right;\">\n",
       "      <th></th>\n",
       "      <th>0</th>\n",
       "      <th>1</th>\n",
       "      <th>query</th>\n",
       "      <th>class</th>\n",
       "    </tr>\n",
       "  </thead>\n",
       "  <tbody>\n",
       "    <tr>\n",
       "      <th>0</th>\n",
       "      <td>0.851550</td>\n",
       "      <td>0.148450</td>\n",
       "      <td>consequences building hydroelectric dams could...</td>\n",
       "      <td>0</td>\n",
       "    </tr>\n",
       "    <tr>\n",
       "      <th>1</th>\n",
       "      <td>0.643278</td>\n",
       "      <td>0.356722</td>\n",
       "      <td>Information about tigers</td>\n",
       "      <td>1</td>\n",
       "    </tr>\n",
       "    <tr>\n",
       "      <th>2</th>\n",
       "      <td>0.672545</td>\n",
       "      <td>0.327455</td>\n",
       "      <td>Russian submarine Kursk sinking</td>\n",
       "      <td>0</td>\n",
       "    </tr>\n",
       "    <tr>\n",
       "      <th>3</th>\n",
       "      <td>0.653156</td>\n",
       "      <td>0.346844</td>\n",
       "      <td>SCIENCE GLASS</td>\n",
       "      <td>0</td>\n",
       "    </tr>\n",
       "    <tr>\n",
       "      <th>4</th>\n",
       "      <td>1.000000</td>\n",
       "      <td>0.000000</td>\n",
       "      <td>pocono mountains state parks</td>\n",
       "      <td>0</td>\n",
       "    </tr>\n",
       "    <tr>\n",
       "      <th>...</th>\n",
       "      <td>...</td>\n",
       "      <td>...</td>\n",
       "      <td>...</td>\n",
       "      <td>...</td>\n",
       "    </tr>\n",
       "    <tr>\n",
       "      <th>470</th>\n",
       "      <td>0.665073</td>\n",
       "      <td>0.334927</td>\n",
       "      <td>Largest country</td>\n",
       "      <td>1</td>\n",
       "    </tr>\n",
       "    <tr>\n",
       "      <th>471</th>\n",
       "      <td>1.000000</td>\n",
       "      <td>0.000000</td>\n",
       "      <td>australia gun crime</td>\n",
       "      <td>0</td>\n",
       "    </tr>\n",
       "    <tr>\n",
       "      <th>472</th>\n",
       "      <td>0.643962</td>\n",
       "      <td>0.356038</td>\n",
       "      <td>Marcus Gilmore Edson parents</td>\n",
       "      <td>1</td>\n",
       "    </tr>\n",
       "    <tr>\n",
       "      <th>473</th>\n",
       "      <td>0.942350</td>\n",
       "      <td>0.057650</td>\n",
       "      <td>Some  of Albert Einstein struggles or hardships</td>\n",
       "      <td>1</td>\n",
       "    </tr>\n",
       "    <tr>\n",
       "      <th>474</th>\n",
       "      <td>1.000000</td>\n",
       "      <td>0.000000</td>\n",
       "      <td>internet phone services</td>\n",
       "      <td>0</td>\n",
       "    </tr>\n",
       "  </tbody>\n",
       "</table>\n",
       "<p>475 rows × 4 columns</p>\n",
       "</div>"
      ],
      "text/plain": [
       "            0         1                                              query  \\\n",
       "0    0.851550  0.148450  consequences building hydroelectric dams could...   \n",
       "1    0.643278  0.356722                           Information about tigers   \n",
       "2    0.672545  0.327455                    Russian submarine Kursk sinking   \n",
       "3    0.653156  0.346844                                      SCIENCE GLASS   \n",
       "4    1.000000  0.000000                       pocono mountains state parks   \n",
       "..        ...       ...                                                ...   \n",
       "470  0.665073  0.334927                                    Largest country   \n",
       "471  1.000000  0.000000                                australia gun crime   \n",
       "472  0.643962  0.356038                       Marcus Gilmore Edson parents   \n",
       "473  0.942350  0.057650    Some  of Albert Einstein struggles or hardships   \n",
       "474  1.000000  0.000000                            internet phone services   \n",
       "\n",
       "     class  \n",
       "0        0  \n",
       "1        1  \n",
       "2        0  \n",
       "3        0  \n",
       "4        0  \n",
       "..     ...  \n",
       "470      1  \n",
       "471      0  \n",
       "472      1  \n",
       "473      1  \n",
       "474      0  \n",
       "\n",
       "[475 rows x 4 columns]"
      ]
     },
     "execution_count": 290,
     "metadata": {},
     "output_type": "execute_result"
    }
   ],
   "source": [
    "results.join(dt[['query','class']])"
   ]
  },
  {
   "cell_type": "code",
   "execution_count": null,
   "id": "e836b35a",
   "metadata": {},
   "outputs": [],
   "source": []
  },
  {
   "cell_type": "code",
   "execution_count": null,
   "id": "a93daaa8",
   "metadata": {},
   "outputs": [],
   "source": []
  },
  {
   "cell_type": "code",
   "execution_count": null,
   "id": "0c849074",
   "metadata": {},
   "outputs": [],
   "source": []
  },
  {
   "cell_type": "code",
   "execution_count": null,
   "id": "a0d20381",
   "metadata": {},
   "outputs": [],
   "source": []
  },
  {
   "cell_type": "code",
   "execution_count": null,
   "id": "2e991d6f",
   "metadata": {},
   "outputs": [],
   "source": []
  },
  {
   "cell_type": "code",
   "execution_count": null,
   "id": "9feeee78",
   "metadata": {},
   "outputs": [],
   "source": []
  },
  {
   "cell_type": "code",
   "execution_count": null,
   "id": "72596e26",
   "metadata": {},
   "outputs": [],
   "source": []
  },
  {
   "cell_type": "code",
   "execution_count": null,
   "id": "43654ed4",
   "metadata": {},
   "outputs": [],
   "source": []
  },
  {
   "cell_type": "code",
   "execution_count": null,
   "id": "c9fe000e",
   "metadata": {},
   "outputs": [],
   "source": []
  },
  {
   "cell_type": "code",
   "execution_count": null,
   "id": "da9a5819",
   "metadata": {},
   "outputs": [],
   "source": []
  },
  {
   "cell_type": "code",
   "execution_count": null,
   "id": "48aaf427",
   "metadata": {},
   "outputs": [],
   "source": []
  },
  {
   "cell_type": "code",
   "execution_count": null,
   "id": "682e942b",
   "metadata": {},
   "outputs": [],
   "source": []
  },
  {
   "cell_type": "code",
   "execution_count": null,
   "id": "d5b53f55",
   "metadata": {},
   "outputs": [],
   "source": []
  },
  {
   "cell_type": "code",
   "execution_count": null,
   "id": "63a5e4da",
   "metadata": {},
   "outputs": [],
   "source": []
  },
  {
   "cell_type": "code",
   "execution_count": null,
   "id": "1967ff6e",
   "metadata": {},
   "outputs": [],
   "source": []
  },
  {
   "cell_type": "code",
   "execution_count": null,
   "id": "405d215b",
   "metadata": {},
   "outputs": [],
   "source": []
  }
 ],
 "metadata": {
  "kernelspec": {
   "display_name": "Python 3",
   "language": "python",
   "name": "python3"
  },
  "language_info": {
   "codemirror_mode": {
    "name": "ipython",
    "version": 3
   },
   "file_extension": ".py",
   "mimetype": "text/x-python",
   "name": "python",
   "nbconvert_exporter": "python",
   "pygments_lexer": "ipython3",
   "version": "3.8.8"
  }
 },
 "nbformat": 4,
 "nbformat_minor": 5
}
