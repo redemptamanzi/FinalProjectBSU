{
 "cells": [
  {
   "cell_type": "code",
   "execution_count": 1,
   "id": "6a56919d",
   "metadata": {},
   "outputs": [],
   "source": [
    "import csv\n",
    "import nltk\n",
    "import pickle\n",
    "import re\n",
    "import sys\n",
    "import string\n",
    "import warnings\n",
    "import random\n",
    "import numpy as np\n",
    "import pandas as pd"
   ]
  },
  {
   "cell_type": "code",
   "execution_count": 2,
   "id": "d305ad90",
   "metadata": {},
   "outputs": [],
   "source": [
    "from sklearn.pipeline import Pipeline\n",
    "from spellchecker import SpellChecker\n",
    "from nltk.corpus import stopwords\n",
    "from nltk.tokenize import SyllableTokenizer\n",
    "from nltk.stem import WordNetLemmatizer \n",
    "from sklearn.feature_extraction.text import TfidfVectorizer\n",
    "from tqdm import tqdm\n",
    "from sklearn.preprocessing import FunctionTransformer"
   ]
  },
  {
   "cell_type": "code",
   "execution_count": 3,
   "id": "a64d425a",
   "metadata": {},
   "outputs": [],
   "source": [
    "np.random.seed(52023)\n",
    "\n",
    "stopwords = list(stopwords.words('english'))"
   ]
  },
  {
   "cell_type": "markdown",
   "id": "c868ae16",
   "metadata": {},
   "source": [
    "# Data - Search Queries "
   ]
  },
  {
   "cell_type": "code",
   "execution_count": 4,
   "id": "0df8f016",
   "metadata": {},
   "outputs": [
    {
     "data": {
      "text/html": [
       "<div>\n",
       "<style scoped>\n",
       "    .dataframe tbody tr th:only-of-type {\n",
       "        vertical-align: middle;\n",
       "    }\n",
       "\n",
       "    .dataframe tbody tr th {\n",
       "        vertical-align: top;\n",
       "    }\n",
       "\n",
       "    .dataframe thead th {\n",
       "        text-align: right;\n",
       "    }\n",
       "</style>\n",
       "<table border=\"1\" class=\"dataframe\">\n",
       "  <thead>\n",
       "    <tr style=\"text-align: right;\">\n",
       "      <th></th>\n",
       "      <th>query</th>\n",
       "      <th>class</th>\n",
       "    </tr>\n",
       "  </thead>\n",
       "  <tbody>\n",
       "    <tr>\n",
       "      <th>0</th>\n",
       "      <td>US civil war causes</td>\n",
       "      <td>0</td>\n",
       "    </tr>\n",
       "    <tr>\n",
       "      <th>1</th>\n",
       "      <td>scooter brands</td>\n",
       "      <td>0</td>\n",
       "    </tr>\n",
       "    <tr>\n",
       "      <th>2</th>\n",
       "      <td>scooter brands reliable</td>\n",
       "      <td>0</td>\n",
       "    </tr>\n",
       "    <tr>\n",
       "      <th>3</th>\n",
       "      <td>scooter</td>\n",
       "      <td>0</td>\n",
       "    </tr>\n",
       "    <tr>\n",
       "      <th>4</th>\n",
       "      <td>scooter cheap</td>\n",
       "      <td>0</td>\n",
       "    </tr>\n",
       "    <tr>\n",
       "      <th>...</th>\n",
       "      <td>...</td>\n",
       "      <td>...</td>\n",
       "    </tr>\n",
       "    <tr>\n",
       "      <th>4741</th>\n",
       "      <td>House of dreams</td>\n",
       "      <td>1</td>\n",
       "    </tr>\n",
       "    <tr>\n",
       "      <th>4742</th>\n",
       "      <td>When did Desmond doss get married</td>\n",
       "      <td>1</td>\n",
       "    </tr>\n",
       "    <tr>\n",
       "      <th>4743</th>\n",
       "      <td>H</td>\n",
       "      <td>1</td>\n",
       "    </tr>\n",
       "    <tr>\n",
       "      <th>4744</th>\n",
       "      <td>find fact about dog</td>\n",
       "      <td>1</td>\n",
       "    </tr>\n",
       "    <tr>\n",
       "      <th>4745</th>\n",
       "      <td>kid</td>\n",
       "      <td>1</td>\n",
       "    </tr>\n",
       "  </tbody>\n",
       "</table>\n",
       "<p>4746 rows × 2 columns</p>\n",
       "</div>"
      ],
      "text/plain": [
       "                                  query  class\n",
       "0                   US civil war causes      0\n",
       "1                        scooter brands      0\n",
       "2               scooter brands reliable      0\n",
       "3                               scooter      0\n",
       "4                         scooter cheap      0\n",
       "...                                 ...    ...\n",
       "4741                    House of dreams      1\n",
       "4742  When did Desmond doss get married      1\n",
       "4743                                  H      1\n",
       "4744                find fact about dog      1\n",
       "4745                                kid      1\n",
       "\n",
       "[4746 rows x 2 columns]"
      ]
     },
     "execution_count": 4,
     "metadata": {},
     "output_type": "execute_result"
    }
   ],
   "source": [
    "Queries = pd.read_pickle('../data/AllQueries4746.p')\n",
    "Queries"
   ]
  },
  {
   "cell_type": "markdown",
   "id": "b53b759a",
   "metadata": {},
   "source": [
    "# Search Query Splits"
   ]
  },
  {
   "cell_type": "markdown",
   "id": "feb489d5",
   "metadata": {},
   "source": [
    "We split search in 90/10 distribution, 90% for experiment and 10% for pipeline testing "
   ]
  },
  {
   "cell_type": "code",
   "execution_count": null,
   "id": "9dda9c31",
   "metadata": {},
   "outputs": [],
   "source": []
  },
  {
   "cell_type": "code",
   "execution_count": null,
   "id": "7920fac0",
   "metadata": {},
   "outputs": [],
   "source": []
  },
  {
   "cell_type": "code",
   "execution_count": null,
   "id": "c10f6ba1",
   "metadata": {},
   "outputs": [],
   "source": []
  },
  {
   "cell_type": "code",
   "execution_count": null,
   "id": "de1ad9a1",
   "metadata": {},
   "outputs": [],
   "source": []
  },
  {
   "cell_type": "code",
   "execution_count": null,
   "id": "911c96c6",
   "metadata": {},
   "outputs": [],
   "source": []
  },
  {
   "cell_type": "code",
   "execution_count": 7,
   "id": "3bfe75f4",
   "metadata": {},
   "outputs": [
    {
     "data": {
      "text/html": [
       "<div>\n",
       "<style scoped>\n",
       "    .dataframe tbody tr th:only-of-type {\n",
       "        vertical-align: middle;\n",
       "    }\n",
       "\n",
       "    .dataframe tbody tr th {\n",
       "        vertical-align: top;\n",
       "    }\n",
       "\n",
       "    .dataframe thead th {\n",
       "        text-align: right;\n",
       "    }\n",
       "</style>\n",
       "<table border=\"1\" class=\"dataframe\">\n",
       "  <thead>\n",
       "    <tr style=\"text-align: right;\">\n",
       "      <th></th>\n",
       "      <th>word</th>\n",
       "      <th>concreteness</th>\n",
       "      <th>label</th>\n",
       "    </tr>\n",
       "  </thead>\n",
       "  <tbody>\n",
       "    <tr>\n",
       "      <th>0</th>\n",
       "      <td>roadsweeper</td>\n",
       "      <td>4.85</td>\n",
       "      <td>concrete</td>\n",
       "    </tr>\n",
       "    <tr>\n",
       "      <th>1</th>\n",
       "      <td>traindriver</td>\n",
       "      <td>4.54</td>\n",
       "      <td>concrete</td>\n",
       "    </tr>\n",
       "    <tr>\n",
       "      <th>2</th>\n",
       "      <td>tush</td>\n",
       "      <td>4.45</td>\n",
       "      <td>concrete</td>\n",
       "    </tr>\n",
       "    <tr>\n",
       "      <th>3</th>\n",
       "      <td>hairdress</td>\n",
       "      <td>3.93</td>\n",
       "      <td>concrete</td>\n",
       "    </tr>\n",
       "    <tr>\n",
       "      <th>4</th>\n",
       "      <td>pharmaceutics</td>\n",
       "      <td>3.77</td>\n",
       "      <td>concrete</td>\n",
       "    </tr>\n",
       "    <tr>\n",
       "      <th>...</th>\n",
       "      <td>...</td>\n",
       "      <td>...</td>\n",
       "      <td>...</td>\n",
       "    </tr>\n",
       "    <tr>\n",
       "      <th>39949</th>\n",
       "      <td>unenvied</td>\n",
       "      <td>1.21</td>\n",
       "      <td>abstract</td>\n",
       "    </tr>\n",
       "    <tr>\n",
       "      <th>39950</th>\n",
       "      <td>agnostically</td>\n",
       "      <td>1.20</td>\n",
       "      <td>abstract</td>\n",
       "    </tr>\n",
       "    <tr>\n",
       "      <th>39951</th>\n",
       "      <td>conceptualistic</td>\n",
       "      <td>1.18</td>\n",
       "      <td>abstract</td>\n",
       "    </tr>\n",
       "    <tr>\n",
       "      <th>39952</th>\n",
       "      <td>conventionalism</td>\n",
       "      <td>1.18</td>\n",
       "      <td>abstract</td>\n",
       "    </tr>\n",
       "    <tr>\n",
       "      <th>39953</th>\n",
       "      <td>essentialness</td>\n",
       "      <td>1.04</td>\n",
       "      <td>abstract</td>\n",
       "    </tr>\n",
       "  </tbody>\n",
       "</table>\n",
       "<p>39954 rows × 3 columns</p>\n",
       "</div>"
      ],
      "text/plain": [
       "                  word  concreteness     label\n",
       "0          roadsweeper          4.85  concrete\n",
       "1          traindriver          4.54  concrete\n",
       "2                 tush          4.45  concrete\n",
       "3            hairdress          3.93  concrete\n",
       "4        pharmaceutics          3.77  concrete\n",
       "...                ...           ...       ...\n",
       "39949         unenvied          1.21  abstract\n",
       "39950     agnostically          1.20  abstract\n",
       "39951  conceptualistic          1.18  abstract\n",
       "39952  conventionalism          1.18  abstract\n",
       "39953    essentialness          1.04  abstract\n",
       "\n",
       "[39954 rows x 3 columns]"
      ]
     },
     "execution_count": 7,
     "metadata": {},
     "output_type": "execute_result"
    }
   ],
   "source": [
    "word_concreteness = pickle.load( open( \"../data/concreteness/word_concreteness.p\", \"rb\" ) )\n",
    "word_concreteness['word']=word_concreteness['word'].str.lower() \n",
    "word_concreteness"
   ]
  },
  {
   "cell_type": "code",
   "execution_count": 6,
   "id": "7d423a78",
   "metadata": {},
   "outputs": [],
   "source": [
    "fn_allFeat = Queries[['query','class']]\n",
    "fn_allQueries = Queries['query'].tolist()"
   ]
  },
  {
   "cell_type": "code",
   "execution_count": 10,
   "id": "622e2a71",
   "metadata": {},
   "outputs": [
    {
     "name": "stderr",
     "output_type": "stream",
     "text": [
      "100%|██████████| 4746/4746 [00:05<00:00, 938.58it/s] \n"
     ]
    },
    {
     "data": {
      "text/html": [
       "<div>\n",
       "<style scoped>\n",
       "    .dataframe tbody tr th:only-of-type {\n",
       "        vertical-align: middle;\n",
       "    }\n",
       "\n",
       "    .dataframe tbody tr th {\n",
       "        vertical-align: top;\n",
       "    }\n",
       "\n",
       "    .dataframe thead th {\n",
       "        text-align: right;\n",
       "    }\n",
       "</style>\n",
       "<table border=\"1\" class=\"dataframe\">\n",
       "  <thead>\n",
       "    <tr style=\"text-align: right;\">\n",
       "      <th></th>\n",
       "      <th>query</th>\n",
       "      <th>class</th>\n",
       "      <th>ratioAbs</th>\n",
       "      <th>ratioConc</th>\n",
       "    </tr>\n",
       "  </thead>\n",
       "  <tbody>\n",
       "    <tr>\n",
       "      <th>0</th>\n",
       "      <td>US civil war causes</td>\n",
       "      <td>0</td>\n",
       "      <td>0.250000</td>\n",
       "      <td>0.250000</td>\n",
       "    </tr>\n",
       "    <tr>\n",
       "      <th>1</th>\n",
       "      <td>scooter brands</td>\n",
       "      <td>0</td>\n",
       "      <td>0.000000</td>\n",
       "      <td>0.500000</td>\n",
       "    </tr>\n",
       "    <tr>\n",
       "      <th>2</th>\n",
       "      <td>scooter brands reliable</td>\n",
       "      <td>0</td>\n",
       "      <td>0.333333</td>\n",
       "      <td>0.333333</td>\n",
       "    </tr>\n",
       "    <tr>\n",
       "      <th>3</th>\n",
       "      <td>scooter</td>\n",
       "      <td>0</td>\n",
       "      <td>0.000000</td>\n",
       "      <td>1.000000</td>\n",
       "    </tr>\n",
       "    <tr>\n",
       "      <th>4</th>\n",
       "      <td>scooter cheap</td>\n",
       "      <td>0</td>\n",
       "      <td>0.500000</td>\n",
       "      <td>0.500000</td>\n",
       "    </tr>\n",
       "    <tr>\n",
       "      <th>...</th>\n",
       "      <td>...</td>\n",
       "      <td>...</td>\n",
       "      <td>...</td>\n",
       "      <td>...</td>\n",
       "    </tr>\n",
       "    <tr>\n",
       "      <th>4741</th>\n",
       "      <td>House of dreams</td>\n",
       "      <td>1</td>\n",
       "      <td>0.333333</td>\n",
       "      <td>0.000000</td>\n",
       "    </tr>\n",
       "    <tr>\n",
       "      <th>4742</th>\n",
       "      <td>When did Desmond doss get married</td>\n",
       "      <td>1</td>\n",
       "      <td>0.500000</td>\n",
       "      <td>0.000000</td>\n",
       "    </tr>\n",
       "    <tr>\n",
       "      <th>4743</th>\n",
       "      <td>H</td>\n",
       "      <td>1</td>\n",
       "      <td>0.000000</td>\n",
       "      <td>0.000000</td>\n",
       "    </tr>\n",
       "    <tr>\n",
       "      <th>4744</th>\n",
       "      <td>find fact about dog</td>\n",
       "      <td>1</td>\n",
       "      <td>0.750000</td>\n",
       "      <td>0.250000</td>\n",
       "    </tr>\n",
       "    <tr>\n",
       "      <th>4745</th>\n",
       "      <td>kid</td>\n",
       "      <td>1</td>\n",
       "      <td>0.000000</td>\n",
       "      <td>1.000000</td>\n",
       "    </tr>\n",
       "  </tbody>\n",
       "</table>\n",
       "<p>4746 rows × 4 columns</p>\n",
       "</div>"
      ],
      "text/plain": [
       "                                  query  class  ratioAbs  ratioConc\n",
       "0                   US civil war causes      0  0.250000   0.250000\n",
       "1                        scooter brands      0  0.000000   0.500000\n",
       "2               scooter brands reliable      0  0.333333   0.333333\n",
       "3                               scooter      0  0.000000   1.000000\n",
       "4                         scooter cheap      0  0.500000   0.500000\n",
       "...                                 ...    ...       ...        ...\n",
       "4741                    House of dreams      1  0.333333   0.000000\n",
       "4742  When did Desmond doss get married      1  0.500000   0.000000\n",
       "4743                                  H      1  0.000000   0.000000\n",
       "4744                find fact about dog      1  0.750000   0.250000\n",
       "4745                                kid      1  0.000000   1.000000\n",
       "\n",
       "[4746 rows x 4 columns]"
      ]
     },
     "execution_count": 10,
     "metadata": {},
     "output_type": "execute_result"
    }
   ],
   "source": [
    "results = absConcFeat(fn_allQueries)\n",
    "results"
   ]
  },
  {
   "cell_type": "markdown",
   "id": "e647ffd7",
   "metadata": {},
   "source": [
    "## Try pipeline"
   ]
  },
  {
   "cell_type": "markdown",
   "id": "af089f77",
   "metadata": {},
   "source": [
    "Note: all function take a list of *queries* as input"
   ]
  },
  {
   "cell_type": "code",
   "execution_count": null,
   "id": "451814ae",
   "metadata": {},
   "outputs": [],
   "source": [
    "#--S"
   ]
  },
  {
   "cell_type": "code",
   "execution_count": 25,
   "id": "f77b6cf2",
   "metadata": {},
   "outputs": [],
   "source": [
    "def div(n):\n",
    "    a = n/2\n",
    "    return a"
   ]
  },
  {
   "cell_type": "code",
   "execution_count": 37,
   "id": "a43bc516",
   "metadata": {},
   "outputs": [
    {
     "data": {
      "text/plain": [
       "Pipeline(steps=[('transform',\n",
       "                 FunctionTransformer(func=<function div at 0x7fd30266dca0>))])"
      ]
     },
     "execution_count": 37,
     "metadata": {},
     "output_type": "execute_result"
    }
   ],
   "source": [
    "div_pip = Pipeline(steps=[\n",
    "    ('transform', FunctionTransformer(div)),\n",
    "    \n",
    "])\n",
    "div_pip"
   ]
  },
  {
   "cell_type": "code",
   "execution_count": 36,
   "id": "a575eb9f",
   "metadata": {},
   "outputs": [
    {
     "data": {
      "text/plain": [
       "2.0"
      ]
     },
     "execution_count": 36,
     "metadata": {},
     "output_type": "execute_result"
    }
   ],
   "source": [
    "nu = div_pip.transform(4)\n",
    "nu"
   ]
  },
  {
   "cell_type": "code",
   "execution_count": 40,
   "id": "fe70c0e5",
   "metadata": {},
   "outputs": [
    {
     "data": {
      "text/plain": [
       "Pipeline(steps=[('transform',\n",
       "                 FunctionTransformer(func=<function div at 0x7fd30266dca0>))])"
      ]
     },
     "execution_count": 40,
     "metadata": {},
     "output_type": "execute_result"
    }
   ],
   "source": [
    "nn = div_pip.fit(4)\n",
    "nn"
   ]
  },
  {
   "cell_type": "code",
   "execution_count": null,
   "id": "db94dfbb",
   "metadata": {},
   "outputs": [],
   "source": []
  },
  {
   "cell_type": "code",
   "execution_count": null,
   "id": "35b5bc83",
   "metadata": {},
   "outputs": [],
   "source": [
    "abs_conc_pipe = steps=[\n",
    "    ('add', FunctionTransformer(add))\n",
    "]"
   ]
  },
  {
   "cell_type": "code",
   "execution_count": 15,
   "id": "76203145",
   "metadata": {},
   "outputs": [],
   "source": [
    "def add(n1, n2):\n",
    "    ans = n1+n2\n",
    "    return(ans)"
   ]
  },
  {
   "cell_type": "code",
   "execution_count": 16,
   "id": "4ff2c444",
   "metadata": {},
   "outputs": [
    {
     "data": {
      "text/plain": [
       "5"
      ]
     },
     "execution_count": 16,
     "metadata": {},
     "output_type": "execute_result"
    }
   ],
   "source": [
    "add(2,3)"
   ]
  },
  {
   "cell_type": "code",
   "execution_count": 45,
   "id": "406260ab",
   "metadata": {},
   "outputs": [],
   "source": [
    "# try multiple functions"
   ]
  },
  {
   "cell_type": "code",
   "execution_count": 46,
   "id": "a8e659f7",
   "metadata": {},
   "outputs": [
    {
     "name": "stdout",
     "output_type": "stream",
     "text": [
      "Addition result: 8\n",
      "Multiplication result: 15\n"
     ]
    }
   ],
   "source": [
    "def calculation(a, b):\n",
    "    def add_numbers():\n",
    "        return a + b\n",
    "    \n",
    "    def multiply_numbers():\n",
    "        return a * b\n",
    "    \n",
    "    addition_result = add_numbers()\n",
    "    multiplication_result = multiply_numbers()\n",
    "    \n",
    "    return addition_result, multiplication_result\n",
    "\n",
    "result = calculation(5, 3)\n",
    "print(\"Addition result:\", result[0])\n",
    "print(\"Multiplication result:\", result[1])"
   ]
  },
  {
   "cell_type": "code",
   "execution_count": 47,
   "id": "03b39091",
   "metadata": {},
   "outputs": [
    {
     "data": {
      "text/plain": [
       "(8, 15)"
      ]
     },
     "execution_count": 47,
     "metadata": {},
     "output_type": "execute_result"
    }
   ],
   "source": [
    "result"
   ]
  },
  {
   "cell_type": "code",
   "execution_count": 48,
   "id": "68c795ed",
   "metadata": {},
   "outputs": [
    {
     "name": "stdout",
     "output_type": "stream",
     "text": [
      "   Number1  Number2  Addition  Subtraction\n",
      "0       10        5        15            5\n",
      "1       20        8        28           12\n",
      "2       30       12        42           18\n"
     ]
    }
   ],
   "source": [
    "\n",
    "data = {'Number1': [10, 20, 30],\n",
    "        'Number2': [5, 8, 12]}\n",
    "df = pd.DataFrame(data)\n",
    "\n",
    "df['Addition'] = df['Number1'] + df['Number2']\n",
    "df['Subtraction'] = df['Number1'] - df['Number2']\n",
    "\n",
    "print(df)"
   ]
  },
  {
   "cell_type": "code",
   "execution_count": 41,
   "id": "aecc1ea6",
   "metadata": {},
   "outputs": [],
   "source": [
    "#---E"
   ]
  },
  {
   "cell_type": "code",
   "execution_count": 9,
   "id": "7478f62f",
   "metadata": {},
   "outputs": [],
   "source": [
    "def absConcFeat(queries):\n",
    "    word_concreteness['word']=word_concreteness['word'].str.lower() \n",
    "    aw = word_concreteness[word_concreteness['label']=='abstract']\n",
    "    cw = word_concreteness[word_concreteness['label']=='concrete']\n",
    "\n",
    "    abW = []\n",
    "    coW = []\n",
    "    for w_a in aw['word']:\n",
    "        abW.append(w_a)\n",
    "    for w_c in cw['word']:\n",
    "        coW.append(w_c)\n",
    "\n",
    "    absrtCount = []\n",
    "    concCount = []\n",
    "    with tqdm(total=len(fn_allQueries)) as pbar:\n",
    "        for query in fn_allQueries:\n",
    "\n",
    "            a_countWord = 0\n",
    "            c_countWord = 0\n",
    "            wordCount = 0\n",
    "            for word in query.split(' '):\n",
    "                word.lower()\n",
    "                wordCount +=1\n",
    "                if word in abW:\n",
    "                    a_countWord +=1\n",
    "                if word in coW:\n",
    "                    c_countWord +=1\n",
    "\n",
    "            absrtCount.append(a_countWord/wordCount)\n",
    "            concCount.append(c_countWord/wordCount)\n",
    "            pbar.update()\n",
    "\n",
    "    fn_allFeat['ratioAbs'] = absrtCount\n",
    "    fn_allFeat['ratioConc'] = concCount\n",
    "\n",
    "    return fn_allFeat"
   ]
  },
  {
   "cell_type": "code",
   "execution_count": 51,
   "id": "fea8757a",
   "metadata": {},
   "outputs": [
    {
     "data": {
      "text/plain": [
       "Pipeline(steps=[('transform',\n",
       "                 FunctionTransformer(func=<function absConcFeat at 0x7fd2a80c7430>))])"
      ]
     },
     "execution_count": 51,
     "metadata": {},
     "output_type": "execute_result"
    }
   ],
   "source": [
    "abs_conc_pipe = Pipeline(steps=[\n",
    "    ('transform', FunctionTransformer(absConcFeat)),\n",
    "    \n",
    "])\n",
    "abs_conc_pipe"
   ]
  },
  {
   "cell_type": "code",
   "execution_count": 53,
   "id": "a7271a90",
   "metadata": {
    "scrolled": true
   },
   "outputs": [
    {
     "name": "stderr",
     "output_type": "stream",
     "text": [
      "100%|██████████| 4746/4746 [00:04<00:00, 955.55it/s] \n"
     ]
    },
    {
     "data": {
      "text/html": [
       "<div>\n",
       "<style scoped>\n",
       "    .dataframe tbody tr th:only-of-type {\n",
       "        vertical-align: middle;\n",
       "    }\n",
       "\n",
       "    .dataframe tbody tr th {\n",
       "        vertical-align: top;\n",
       "    }\n",
       "\n",
       "    .dataframe thead th {\n",
       "        text-align: right;\n",
       "    }\n",
       "</style>\n",
       "<table border=\"1\" class=\"dataframe\">\n",
       "  <thead>\n",
       "    <tr style=\"text-align: right;\">\n",
       "      <th></th>\n",
       "      <th>query</th>\n",
       "      <th>class</th>\n",
       "      <th>ratioAbs</th>\n",
       "      <th>ratioConc</th>\n",
       "    </tr>\n",
       "  </thead>\n",
       "  <tbody>\n",
       "    <tr>\n",
       "      <th>0</th>\n",
       "      <td>US civil war causes</td>\n",
       "      <td>0</td>\n",
       "      <td>0.250000</td>\n",
       "      <td>0.250000</td>\n",
       "    </tr>\n",
       "    <tr>\n",
       "      <th>1</th>\n",
       "      <td>scooter brands</td>\n",
       "      <td>0</td>\n",
       "      <td>0.000000</td>\n",
       "      <td>0.500000</td>\n",
       "    </tr>\n",
       "    <tr>\n",
       "      <th>2</th>\n",
       "      <td>scooter brands reliable</td>\n",
       "      <td>0</td>\n",
       "      <td>0.333333</td>\n",
       "      <td>0.333333</td>\n",
       "    </tr>\n",
       "    <tr>\n",
       "      <th>3</th>\n",
       "      <td>scooter</td>\n",
       "      <td>0</td>\n",
       "      <td>0.000000</td>\n",
       "      <td>1.000000</td>\n",
       "    </tr>\n",
       "    <tr>\n",
       "      <th>4</th>\n",
       "      <td>scooter cheap</td>\n",
       "      <td>0</td>\n",
       "      <td>0.500000</td>\n",
       "      <td>0.500000</td>\n",
       "    </tr>\n",
       "    <tr>\n",
       "      <th>...</th>\n",
       "      <td>...</td>\n",
       "      <td>...</td>\n",
       "      <td>...</td>\n",
       "      <td>...</td>\n",
       "    </tr>\n",
       "    <tr>\n",
       "      <th>4741</th>\n",
       "      <td>House of dreams</td>\n",
       "      <td>1</td>\n",
       "      <td>0.333333</td>\n",
       "      <td>0.000000</td>\n",
       "    </tr>\n",
       "    <tr>\n",
       "      <th>4742</th>\n",
       "      <td>When did Desmond doss get married</td>\n",
       "      <td>1</td>\n",
       "      <td>0.500000</td>\n",
       "      <td>0.000000</td>\n",
       "    </tr>\n",
       "    <tr>\n",
       "      <th>4743</th>\n",
       "      <td>H</td>\n",
       "      <td>1</td>\n",
       "      <td>0.000000</td>\n",
       "      <td>0.000000</td>\n",
       "    </tr>\n",
       "    <tr>\n",
       "      <th>4744</th>\n",
       "      <td>find fact about dog</td>\n",
       "      <td>1</td>\n",
       "      <td>0.750000</td>\n",
       "      <td>0.250000</td>\n",
       "    </tr>\n",
       "    <tr>\n",
       "      <th>4745</th>\n",
       "      <td>kid</td>\n",
       "      <td>1</td>\n",
       "      <td>0.000000</td>\n",
       "      <td>1.000000</td>\n",
       "    </tr>\n",
       "  </tbody>\n",
       "</table>\n",
       "<p>4746 rows × 4 columns</p>\n",
       "</div>"
      ],
      "text/plain": [
       "                                  query  class  ratioAbs  ratioConc\n",
       "0                   US civil war causes      0  0.250000   0.250000\n",
       "1                        scooter brands      0  0.000000   0.500000\n",
       "2               scooter brands reliable      0  0.333333   0.333333\n",
       "3                               scooter      0  0.000000   1.000000\n",
       "4                         scooter cheap      0  0.500000   0.500000\n",
       "...                                 ...    ...       ...        ...\n",
       "4741                    House of dreams      1  0.333333   0.000000\n",
       "4742  When did Desmond doss get married      1  0.500000   0.000000\n",
       "4743                                  H      1  0.000000   0.000000\n",
       "4744                find fact about dog      1  0.750000   0.250000\n",
       "4745                                kid      1  0.000000   1.000000\n",
       "\n",
       "[4746 rows x 4 columns]"
      ]
     },
     "execution_count": 53,
     "metadata": {},
     "output_type": "execute_result"
    }
   ],
   "source": [
    "abs_conc_pipe.transform(fn_allQueries)"
   ]
  },
  {
   "cell_type": "code",
   "execution_count": null,
   "id": "c22315eb",
   "metadata": {},
   "outputs": [],
   "source": [
    "class featExtr(BaseEstimator, TransformerMixin):\n",
    "    def __init__(self):\n",
    "        \n",
    "    "
   ]
  },
  {
   "cell_type": "code",
   "execution_count": 1,
   "id": "4b87d01e",
   "metadata": {},
   "outputs": [
    {
     "name": "stdout",
     "output_type": "stream",
     "text": [
      "hello words\n"
     ]
    }
   ],
   "source": [
    "print(\"hello words\")"
   ]
  },
  {
   "cell_type": "code",
   "execution_count": 4,
   "id": "a0097639",
   "metadata": {},
   "outputs": [
    {
     "data": {
      "text/plain": [
       "array(12)"
      ]
     },
     "execution_count": 4,
     "metadata": {},
     "output_type": "execute_result"
    }
   ],
   "source": [
    "np.array(12)"
   ]
  },
  {
   "cell_type": "code",
   "execution_count": null,
   "id": "177e3b5c",
   "metadata": {},
   "outputs": [],
   "source": []
  }
 ],
 "metadata": {
  "kernelspec": {
   "display_name": "Python 3",
   "language": "python",
   "name": "python3"
  },
  "language_info": {
   "codemirror_mode": {
    "name": "ipython",
    "version": 3
   },
   "file_extension": ".py",
   "mimetype": "text/x-python",
   "name": "python",
   "nbconvert_exporter": "python",
   "pygments_lexer": "ipython3",
   "version": "3.8.8"
  }
 },
 "nbformat": 4,
 "nbformat_minor": 5
}
