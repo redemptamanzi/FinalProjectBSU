{
 "cells": [
  {
   "cell_type": "code",
   "execution_count": 470,
   "id": "abc56293",
   "metadata": {},
   "outputs": [],
   "source": [
    "import re\n",
    "import os\n",
    "import time\n",
    "import nltk\n",
    "import pickle\n",
    "import subprocess\n",
    "import numpy as np\n",
    "import pandas as pd\n",
    "import seaborn as sns\n",
    "import matplotlib.pyplot as plt"
   ]
  },
  {
   "cell_type": "code",
   "execution_count": 471,
   "id": "ff98c93e",
   "metadata": {},
   "outputs": [],
   "source": [
    "from sklearn import tree\n",
    "from sklearn.svm import SVC\n",
    "from sklearn import ensemble\n",
    "from sklearn import set_config\n",
    "from sklearn import naive_bayes\n",
    "from sklearn import linear_model\n",
    "from sklearn import neural_network\n",
    "from sklearn import gaussian_process\n",
    "from sklearn.pipeline import Pipeline\n",
    "from sklearn.neural_network import MLPClassifier\n",
    "from sklearn.ensemble import RandomForestClassifier\n",
    "from sklearn.model_selection import train_test_split, GridSearchCV\n",
    "from sklearn.preprocessing import StandardScaler, MinMaxScaler, FunctionTransformer\n",
    "from sklearn.metrics import confusion_matrix, classification_report, ConfusionMatrixDisplay, accuracy_score"
   ]
  },
  {
   "cell_type": "code",
   "execution_count": 472,
   "id": "31621c14",
   "metadata": {},
   "outputs": [],
   "source": [
    "set_config(display='diagram')"
   ]
  },
  {
   "cell_type": "code",
   "execution_count": 473,
   "id": "a8d884ac",
   "metadata": {},
   "outputs": [
    {
     "data": {
      "text/plain": [
       "'/Users/assoumerredempta/Documents/aSpring_2023/MS_Final_Project/Experiments'"
      ]
     },
     "execution_count": 473,
     "metadata": {},
     "output_type": "execute_result"
    }
   ],
   "source": [
    "pwd"
   ]
  },
  {
   "cell_type": "markdown",
   "id": "0ddb6762",
   "metadata": {},
   "source": [
    "## Data "
   ]
  },
  {
   "cell_type": "code",
   "execution_count": 474,
   "id": "8c535f02",
   "metadata": {},
   "outputs": [
    {
     "data": {
      "text/html": [
       "<div>\n",
       "<style scoped>\n",
       "    .dataframe tbody tr th:only-of-type {\n",
       "        vertical-align: middle;\n",
       "    }\n",
       "\n",
       "    .dataframe tbody tr th {\n",
       "        vertical-align: top;\n",
       "    }\n",
       "\n",
       "    .dataframe thead th {\n",
       "        text-align: right;\n",
       "    }\n",
       "</style>\n",
       "<table border=\"1\" class=\"dataframe\">\n",
       "  <thead>\n",
       "    <tr style=\"text-align: right;\">\n",
       "      <th></th>\n",
       "      <th>ra_SNTo_C</th>\n",
       "      <th>ra_ONTo_C</th>\n",
       "      <th>ra_XNTo_C</th>\n",
       "      <th>ra_NSTo_C</th>\n",
       "      <th>ra_NOTo_C</th>\n",
       "      <th>ra_NXTo_C</th>\n",
       "      <th>ra_NNTo_C</th>\n",
       "      <th>to_NoPhr_C</th>\n",
       "      <th>as_NoPhr_C</th>\n",
       "      <th>at_NoPhr_C</th>\n",
       "      <th>...</th>\n",
       "      <th>LinseaW_S</th>\n",
       "      <th>query</th>\n",
       "      <th>ratioAbs</th>\n",
       "      <th>ratioConc</th>\n",
       "      <th>numSpellingErrors</th>\n",
       "      <th>offByOne</th>\n",
       "      <th>kidsError</th>\n",
       "      <th>punct</th>\n",
       "      <th>casing</th>\n",
       "      <th>class</th>\n",
       "    </tr>\n",
       "  </thead>\n",
       "  <tbody>\n",
       "    <tr>\n",
       "      <th>3101</th>\n",
       "      <td>0.0</td>\n",
       "      <td>0.0</td>\n",
       "      <td>0.333333</td>\n",
       "      <td>0.0</td>\n",
       "      <td>0.0</td>\n",
       "      <td>0.333333</td>\n",
       "      <td>0.333333</td>\n",
       "      <td>0.0</td>\n",
       "      <td>0.0</td>\n",
       "      <td>0.00</td>\n",
       "      <td>...</td>\n",
       "      <td>0.00</td>\n",
       "      <td>SUNY college population</td>\n",
       "      <td>0.000000</td>\n",
       "      <td>0.666667</td>\n",
       "      <td>1</td>\n",
       "      <td>1</td>\n",
       "      <td>0</td>\n",
       "      <td>0</td>\n",
       "      <td>1</td>\n",
       "      <td>0</td>\n",
       "    </tr>\n",
       "    <tr>\n",
       "      <th>4524</th>\n",
       "      <td>0.0</td>\n",
       "      <td>0.0</td>\n",
       "      <td>0.333333</td>\n",
       "      <td>0.0</td>\n",
       "      <td>0.0</td>\n",
       "      <td>0.333333</td>\n",
       "      <td>0.333333</td>\n",
       "      <td>3.0</td>\n",
       "      <td>1.5</td>\n",
       "      <td>0.60</td>\n",
       "      <td>...</td>\n",
       "      <td>0.25</td>\n",
       "      <td>Hfgmhvhjcfhjc facts for kids</td>\n",
       "      <td>0.250000</td>\n",
       "      <td>0.250000</td>\n",
       "      <td>-1</td>\n",
       "      <td>-1</td>\n",
       "      <td>-1</td>\n",
       "      <td>0</td>\n",
       "      <td>1</td>\n",
       "      <td>1</td>\n",
       "    </tr>\n",
       "    <tr>\n",
       "      <th>4441</th>\n",
       "      <td>0.0</td>\n",
       "      <td>0.0</td>\n",
       "      <td>0.333333</td>\n",
       "      <td>0.0</td>\n",
       "      <td>0.0</td>\n",
       "      <td>0.000000</td>\n",
       "      <td>0.666667</td>\n",
       "      <td>3.0</td>\n",
       "      <td>1.5</td>\n",
       "      <td>0.75</td>\n",
       "      <td>...</td>\n",
       "      <td>0.00</td>\n",
       "      <td>robots on star wars</td>\n",
       "      <td>0.000000</td>\n",
       "      <td>0.500000</td>\n",
       "      <td>0</td>\n",
       "      <td>0</td>\n",
       "      <td>0</td>\n",
       "      <td>0</td>\n",
       "      <td>0</td>\n",
       "      <td>1</td>\n",
       "    </tr>\n",
       "    <tr>\n",
       "      <th>186</th>\n",
       "      <td>0.0</td>\n",
       "      <td>0.0</td>\n",
       "      <td>0.500000</td>\n",
       "      <td>0.0</td>\n",
       "      <td>0.0</td>\n",
       "      <td>0.500000</td>\n",
       "      <td>0.000000</td>\n",
       "      <td>0.0</td>\n",
       "      <td>0.0</td>\n",
       "      <td>0.00</td>\n",
       "      <td>...</td>\n",
       "      <td>-0.25</td>\n",
       "      <td>venture capital</td>\n",
       "      <td>0.500000</td>\n",
       "      <td>0.500000</td>\n",
       "      <td>0</td>\n",
       "      <td>0</td>\n",
       "      <td>0</td>\n",
       "      <td>0</td>\n",
       "      <td>0</td>\n",
       "      <td>0</td>\n",
       "    </tr>\n",
       "    <tr>\n",
       "      <th>3552</th>\n",
       "      <td>0.0</td>\n",
       "      <td>0.0</td>\n",
       "      <td>0.500000</td>\n",
       "      <td>0.0</td>\n",
       "      <td>0.0</td>\n",
       "      <td>0.500000</td>\n",
       "      <td>0.000000</td>\n",
       "      <td>0.0</td>\n",
       "      <td>0.0</td>\n",
       "      <td>0.00</td>\n",
       "      <td>...</td>\n",
       "      <td>-0.25</td>\n",
       "      <td>Times Publishing</td>\n",
       "      <td>0.000000</td>\n",
       "      <td>0.000000</td>\n",
       "      <td>0</td>\n",
       "      <td>0</td>\n",
       "      <td>0</td>\n",
       "      <td>0</td>\n",
       "      <td>1</td>\n",
       "      <td>0</td>\n",
       "    </tr>\n",
       "    <tr>\n",
       "      <th>...</th>\n",
       "      <td>...</td>\n",
       "      <td>...</td>\n",
       "      <td>...</td>\n",
       "      <td>...</td>\n",
       "      <td>...</td>\n",
       "      <td>...</td>\n",
       "      <td>...</td>\n",
       "      <td>...</td>\n",
       "      <td>...</td>\n",
       "      <td>...</td>\n",
       "      <td>...</td>\n",
       "      <td>...</td>\n",
       "      <td>...</td>\n",
       "      <td>...</td>\n",
       "      <td>...</td>\n",
       "      <td>...</td>\n",
       "      <td>...</td>\n",
       "      <td>...</td>\n",
       "      <td>...</td>\n",
       "      <td>...</td>\n",
       "      <td>...</td>\n",
       "    </tr>\n",
       "    <tr>\n",
       "      <th>4581</th>\n",
       "      <td>0.0</td>\n",
       "      <td>0.0</td>\n",
       "      <td>0.000000</td>\n",
       "      <td>0.0</td>\n",
       "      <td>0.0</td>\n",
       "      <td>0.000000</td>\n",
       "      <td>0.000000</td>\n",
       "      <td>0.0</td>\n",
       "      <td>0.0</td>\n",
       "      <td>0.00</td>\n",
       "      <td>...</td>\n",
       "      <td>-0.25</td>\n",
       "      <td>test again</td>\n",
       "      <td>0.500000</td>\n",
       "      <td>0.500000</td>\n",
       "      <td>0</td>\n",
       "      <td>0</td>\n",
       "      <td>0</td>\n",
       "      <td>0</td>\n",
       "      <td>0</td>\n",
       "      <td>1</td>\n",
       "    </tr>\n",
       "    <tr>\n",
       "      <th>3647</th>\n",
       "      <td>0.0</td>\n",
       "      <td>0.0</td>\n",
       "      <td>0.000000</td>\n",
       "      <td>0.0</td>\n",
       "      <td>0.0</td>\n",
       "      <td>0.000000</td>\n",
       "      <td>0.000000</td>\n",
       "      <td>0.0</td>\n",
       "      <td>0.0</td>\n",
       "      <td>0.00</td>\n",
       "      <td>...</td>\n",
       "      <td>-0.50</td>\n",
       "      <td>cutterbee</td>\n",
       "      <td>0.000000</td>\n",
       "      <td>0.000000</td>\n",
       "      <td>-1</td>\n",
       "      <td>-1</td>\n",
       "      <td>-1</td>\n",
       "      <td>0</td>\n",
       "      <td>0</td>\n",
       "      <td>0</td>\n",
       "    </tr>\n",
       "    <tr>\n",
       "      <th>4229</th>\n",
       "      <td>0.0</td>\n",
       "      <td>0.0</td>\n",
       "      <td>0.500000</td>\n",
       "      <td>0.0</td>\n",
       "      <td>0.0</td>\n",
       "      <td>0.500000</td>\n",
       "      <td>0.000000</td>\n",
       "      <td>0.0</td>\n",
       "      <td>0.0</td>\n",
       "      <td>0.00</td>\n",
       "      <td>...</td>\n",
       "      <td>0.00</td>\n",
       "      <td>fun facts about c3po</td>\n",
       "      <td>0.500000</td>\n",
       "      <td>0.000000</td>\n",
       "      <td>1</td>\n",
       "      <td>1</td>\n",
       "      <td>0</td>\n",
       "      <td>0</td>\n",
       "      <td>0</td>\n",
       "      <td>1</td>\n",
       "    </tr>\n",
       "    <tr>\n",
       "      <th>2388</th>\n",
       "      <td>0.0</td>\n",
       "      <td>0.0</td>\n",
       "      <td>0.333333</td>\n",
       "      <td>0.0</td>\n",
       "      <td>0.0</td>\n",
       "      <td>0.000000</td>\n",
       "      <td>0.666667</td>\n",
       "      <td>0.0</td>\n",
       "      <td>0.0</td>\n",
       "      <td>0.00</td>\n",
       "      <td>...</td>\n",
       "      <td>0.00</td>\n",
       "      <td>france 1998 stock market</td>\n",
       "      <td>0.000000</td>\n",
       "      <td>0.500000</td>\n",
       "      <td>0</td>\n",
       "      <td>0</td>\n",
       "      <td>0</td>\n",
       "      <td>0</td>\n",
       "      <td>0</td>\n",
       "      <td>0</td>\n",
       "    </tr>\n",
       "    <tr>\n",
       "      <th>2064</th>\n",
       "      <td>0.0</td>\n",
       "      <td>0.0</td>\n",
       "      <td>0.000000</td>\n",
       "      <td>0.0</td>\n",
       "      <td>0.0</td>\n",
       "      <td>0.000000</td>\n",
       "      <td>1.000000</td>\n",
       "      <td>0.0</td>\n",
       "      <td>0.0</td>\n",
       "      <td>0.00</td>\n",
       "      <td>...</td>\n",
       "      <td>0.00</td>\n",
       "      <td>swahili traditional dishes</td>\n",
       "      <td>0.333333</td>\n",
       "      <td>0.000000</td>\n",
       "      <td>1</td>\n",
       "      <td>0</td>\n",
       "      <td>0</td>\n",
       "      <td>0</td>\n",
       "      <td>0</td>\n",
       "      <td>0</td>\n",
       "    </tr>\n",
       "  </tbody>\n",
       "</table>\n",
       "<p>4271 rows × 195 columns</p>\n",
       "</div>"
      ],
      "text/plain": [
       "      ra_SNTo_C  ra_ONTo_C  ra_XNTo_C  ra_NSTo_C  ra_NOTo_C  ra_NXTo_C  \\\n",
       "3101        0.0        0.0   0.333333        0.0        0.0   0.333333   \n",
       "4524        0.0        0.0   0.333333        0.0        0.0   0.333333   \n",
       "4441        0.0        0.0   0.333333        0.0        0.0   0.000000   \n",
       "186         0.0        0.0   0.500000        0.0        0.0   0.500000   \n",
       "3552        0.0        0.0   0.500000        0.0        0.0   0.500000   \n",
       "...         ...        ...        ...        ...        ...        ...   \n",
       "4581        0.0        0.0   0.000000        0.0        0.0   0.000000   \n",
       "3647        0.0        0.0   0.000000        0.0        0.0   0.000000   \n",
       "4229        0.0        0.0   0.500000        0.0        0.0   0.500000   \n",
       "2388        0.0        0.0   0.333333        0.0        0.0   0.000000   \n",
       "2064        0.0        0.0   0.000000        0.0        0.0   0.000000   \n",
       "\n",
       "      ra_NNTo_C  to_NoPhr_C  as_NoPhr_C  at_NoPhr_C  ...  LinseaW_S  \\\n",
       "3101   0.333333         0.0         0.0        0.00  ...       0.00   \n",
       "4524   0.333333         3.0         1.5        0.60  ...       0.25   \n",
       "4441   0.666667         3.0         1.5        0.75  ...       0.00   \n",
       "186    0.000000         0.0         0.0        0.00  ...      -0.25   \n",
       "3552   0.000000         0.0         0.0        0.00  ...      -0.25   \n",
       "...         ...         ...         ...         ...  ...        ...   \n",
       "4581   0.000000         0.0         0.0        0.00  ...      -0.25   \n",
       "3647   0.000000         0.0         0.0        0.00  ...      -0.50   \n",
       "4229   0.000000         0.0         0.0        0.00  ...       0.00   \n",
       "2388   0.666667         0.0         0.0        0.00  ...       0.00   \n",
       "2064   1.000000         0.0         0.0        0.00  ...       0.00   \n",
       "\n",
       "                             query  ratioAbs  ratioConc  numSpellingErrors  \\\n",
       "3101       SUNY college population  0.000000   0.666667                  1   \n",
       "4524  Hfgmhvhjcfhjc facts for kids  0.250000   0.250000                 -1   \n",
       "4441           robots on star wars  0.000000   0.500000                  0   \n",
       "186                venture capital  0.500000   0.500000                  0   \n",
       "3552              Times Publishing  0.000000   0.000000                  0   \n",
       "...                            ...       ...        ...                ...   \n",
       "4581                    test again  0.500000   0.500000                  0   \n",
       "3647                     cutterbee  0.000000   0.000000                 -1   \n",
       "4229          fun facts about c3po  0.500000   0.000000                  1   \n",
       "2388      france 1998 stock market  0.000000   0.500000                  0   \n",
       "2064    swahili traditional dishes  0.333333   0.000000                  1   \n",
       "\n",
       "      offByOne  kidsError  punct  casing  class  \n",
       "3101         1          0      0       1      0  \n",
       "4524        -1         -1      0       1      1  \n",
       "4441         0          0      0       0      1  \n",
       "186          0          0      0       0      0  \n",
       "3552         0          0      0       1      0  \n",
       "...        ...        ...    ...     ...    ...  \n",
       "4581         0          0      0       0      1  \n",
       "3647        -1         -1      0       0      0  \n",
       "4229         1          0      0       0      1  \n",
       "2388         0          0      0       0      0  \n",
       "2064         0          0      0       0      0  \n",
       "\n",
       "[4271 rows x 195 columns]"
      ]
     },
     "execution_count": 474,
     "metadata": {},
     "output_type": "execute_result"
    }
   ],
   "source": [
    "data_ = pickle.load( open( \"../data/ExtractedDataSets/allFeatFinal.p\", \"rb\" ) )\n",
    "data_"
   ]
  },
  {
   "cell_type": "code",
   "execution_count": 475,
   "id": "9988d14a",
   "metadata": {},
   "outputs": [],
   "source": [
    "data = data_.copy()"
   ]
  },
  {
   "cell_type": "code",
   "execution_count": 490,
   "id": "e56425b2",
   "metadata": {},
   "outputs": [
    {
     "data": {
      "text/plain": [
       "0    0.800047\n",
       "1    0.199953\n",
       "Name: class, dtype: float64"
      ]
     },
     "execution_count": 490,
     "metadata": {},
     "output_type": "execute_result"
    }
   ],
   "source": [
    "data['class'].value_counts(normalize = True)"
   ]
  },
  {
   "cell_type": "markdown",
   "id": "94af621d",
   "metadata": {},
   "source": [
    "### Drop ``query columns``"
   ]
  },
  {
   "cell_type": "code",
   "execution_count": 491,
   "id": "82801101",
   "metadata": {},
   "outputs": [],
   "source": [
    "data.drop(columns = ['query'], inplace = True, axis=1)"
   ]
  },
  {
   "cell_type": "code",
   "execution_count": 492,
   "id": "143f12b4",
   "metadata": {},
   "outputs": [
    {
     "data": {
      "text/html": [
       "<div>\n",
       "<style scoped>\n",
       "    .dataframe tbody tr th:only-of-type {\n",
       "        vertical-align: middle;\n",
       "    }\n",
       "\n",
       "    .dataframe tbody tr th {\n",
       "        vertical-align: top;\n",
       "    }\n",
       "\n",
       "    .dataframe thead th {\n",
       "        text-align: right;\n",
       "    }\n",
       "</style>\n",
       "<table border=\"1\" class=\"dataframe\">\n",
       "  <thead>\n",
       "    <tr style=\"text-align: right;\">\n",
       "      <th></th>\n",
       "      <th>ra_SNTo_C</th>\n",
       "      <th>ra_ONTo_C</th>\n",
       "      <th>ra_XNTo_C</th>\n",
       "      <th>ra_NSTo_C</th>\n",
       "      <th>ra_NOTo_C</th>\n",
       "      <th>ra_NXTo_C</th>\n",
       "      <th>ra_NNTo_C</th>\n",
       "      <th>to_NoPhr_C</th>\n",
       "      <th>as_NoPhr_C</th>\n",
       "      <th>at_NoPhr_C</th>\n",
       "      <th>...</th>\n",
       "      <th>Gunning_S</th>\n",
       "      <th>LinseaW_S</th>\n",
       "      <th>ratioAbs</th>\n",
       "      <th>ratioConc</th>\n",
       "      <th>numSpellingErrors</th>\n",
       "      <th>offByOne</th>\n",
       "      <th>kidsError</th>\n",
       "      <th>punct</th>\n",
       "      <th>casing</th>\n",
       "      <th>class</th>\n",
       "    </tr>\n",
       "  </thead>\n",
       "  <tbody>\n",
       "    <tr>\n",
       "      <th>3101</th>\n",
       "      <td>0.0</td>\n",
       "      <td>0.0</td>\n",
       "      <td>0.333333</td>\n",
       "      <td>0.0</td>\n",
       "      <td>0.0</td>\n",
       "      <td>0.333333</td>\n",
       "      <td>0.333333</td>\n",
       "      <td>0.0</td>\n",
       "      <td>0.0</td>\n",
       "      <td>0.00</td>\n",
       "      <td>...</td>\n",
       "      <td>-0.50</td>\n",
       "      <td>0.00</td>\n",
       "      <td>0.000000</td>\n",
       "      <td>0.666667</td>\n",
       "      <td>1</td>\n",
       "      <td>1</td>\n",
       "      <td>0</td>\n",
       "      <td>0</td>\n",
       "      <td>1</td>\n",
       "      <td>0</td>\n",
       "    </tr>\n",
       "    <tr>\n",
       "      <th>4524</th>\n",
       "      <td>0.0</td>\n",
       "      <td>0.0</td>\n",
       "      <td>0.333333</td>\n",
       "      <td>0.0</td>\n",
       "      <td>0.0</td>\n",
       "      <td>0.333333</td>\n",
       "      <td>0.333333</td>\n",
       "      <td>3.0</td>\n",
       "      <td>1.5</td>\n",
       "      <td>0.60</td>\n",
       "      <td>...</td>\n",
       "      <td>-0.25</td>\n",
       "      <td>0.25</td>\n",
       "      <td>0.250000</td>\n",
       "      <td>0.250000</td>\n",
       "      <td>-1</td>\n",
       "      <td>-1</td>\n",
       "      <td>-1</td>\n",
       "      <td>0</td>\n",
       "      <td>1</td>\n",
       "      <td>1</td>\n",
       "    </tr>\n",
       "    <tr>\n",
       "      <th>4441</th>\n",
       "      <td>0.0</td>\n",
       "      <td>0.0</td>\n",
       "      <td>0.333333</td>\n",
       "      <td>0.0</td>\n",
       "      <td>0.0</td>\n",
       "      <td>0.000000</td>\n",
       "      <td>0.666667</td>\n",
       "      <td>3.0</td>\n",
       "      <td>1.5</td>\n",
       "      <td>0.75</td>\n",
       "      <td>...</td>\n",
       "      <td>-0.50</td>\n",
       "      <td>0.00</td>\n",
       "      <td>0.000000</td>\n",
       "      <td>0.500000</td>\n",
       "      <td>0</td>\n",
       "      <td>0</td>\n",
       "      <td>0</td>\n",
       "      <td>0</td>\n",
       "      <td>0</td>\n",
       "      <td>1</td>\n",
       "    </tr>\n",
       "    <tr>\n",
       "      <th>186</th>\n",
       "      <td>0.0</td>\n",
       "      <td>0.0</td>\n",
       "      <td>0.500000</td>\n",
       "      <td>0.0</td>\n",
       "      <td>0.0</td>\n",
       "      <td>0.500000</td>\n",
       "      <td>0.000000</td>\n",
       "      <td>0.0</td>\n",
       "      <td>0.0</td>\n",
       "      <td>0.00</td>\n",
       "      <td>...</td>\n",
       "      <td>-0.75</td>\n",
       "      <td>-0.25</td>\n",
       "      <td>0.500000</td>\n",
       "      <td>0.500000</td>\n",
       "      <td>0</td>\n",
       "      <td>0</td>\n",
       "      <td>0</td>\n",
       "      <td>0</td>\n",
       "      <td>0</td>\n",
       "      <td>0</td>\n",
       "    </tr>\n",
       "    <tr>\n",
       "      <th>3552</th>\n",
       "      <td>0.0</td>\n",
       "      <td>0.0</td>\n",
       "      <td>0.500000</td>\n",
       "      <td>0.0</td>\n",
       "      <td>0.0</td>\n",
       "      <td>0.500000</td>\n",
       "      <td>0.000000</td>\n",
       "      <td>0.0</td>\n",
       "      <td>0.0</td>\n",
       "      <td>0.00</td>\n",
       "      <td>...</td>\n",
       "      <td>-0.75</td>\n",
       "      <td>-0.25</td>\n",
       "      <td>0.000000</td>\n",
       "      <td>0.000000</td>\n",
       "      <td>0</td>\n",
       "      <td>0</td>\n",
       "      <td>0</td>\n",
       "      <td>0</td>\n",
       "      <td>1</td>\n",
       "      <td>0</td>\n",
       "    </tr>\n",
       "    <tr>\n",
       "      <th>...</th>\n",
       "      <td>...</td>\n",
       "      <td>...</td>\n",
       "      <td>...</td>\n",
       "      <td>...</td>\n",
       "      <td>...</td>\n",
       "      <td>...</td>\n",
       "      <td>...</td>\n",
       "      <td>...</td>\n",
       "      <td>...</td>\n",
       "      <td>...</td>\n",
       "      <td>...</td>\n",
       "      <td>...</td>\n",
       "      <td>...</td>\n",
       "      <td>...</td>\n",
       "      <td>...</td>\n",
       "      <td>...</td>\n",
       "      <td>...</td>\n",
       "      <td>...</td>\n",
       "      <td>...</td>\n",
       "      <td>...</td>\n",
       "      <td>...</td>\n",
       "    </tr>\n",
       "    <tr>\n",
       "      <th>4581</th>\n",
       "      <td>0.0</td>\n",
       "      <td>0.0</td>\n",
       "      <td>0.000000</td>\n",
       "      <td>0.0</td>\n",
       "      <td>0.0</td>\n",
       "      <td>0.000000</td>\n",
       "      <td>0.000000</td>\n",
       "      <td>0.0</td>\n",
       "      <td>0.0</td>\n",
       "      <td>0.00</td>\n",
       "      <td>...</td>\n",
       "      <td>-0.75</td>\n",
       "      <td>-0.25</td>\n",
       "      <td>0.500000</td>\n",
       "      <td>0.500000</td>\n",
       "      <td>0</td>\n",
       "      <td>0</td>\n",
       "      <td>0</td>\n",
       "      <td>0</td>\n",
       "      <td>0</td>\n",
       "      <td>1</td>\n",
       "    </tr>\n",
       "    <tr>\n",
       "      <th>3647</th>\n",
       "      <td>0.0</td>\n",
       "      <td>0.0</td>\n",
       "      <td>0.000000</td>\n",
       "      <td>0.0</td>\n",
       "      <td>0.0</td>\n",
       "      <td>0.000000</td>\n",
       "      <td>0.000000</td>\n",
       "      <td>0.0</td>\n",
       "      <td>0.0</td>\n",
       "      <td>0.00</td>\n",
       "      <td>...</td>\n",
       "      <td>-1.00</td>\n",
       "      <td>-0.50</td>\n",
       "      <td>0.000000</td>\n",
       "      <td>0.000000</td>\n",
       "      <td>-1</td>\n",
       "      <td>-1</td>\n",
       "      <td>-1</td>\n",
       "      <td>0</td>\n",
       "      <td>0</td>\n",
       "      <td>0</td>\n",
       "    </tr>\n",
       "    <tr>\n",
       "      <th>4229</th>\n",
       "      <td>0.0</td>\n",
       "      <td>0.0</td>\n",
       "      <td>0.500000</td>\n",
       "      <td>0.0</td>\n",
       "      <td>0.0</td>\n",
       "      <td>0.500000</td>\n",
       "      <td>0.000000</td>\n",
       "      <td>0.0</td>\n",
       "      <td>0.0</td>\n",
       "      <td>0.00</td>\n",
       "      <td>...</td>\n",
       "      <td>-0.50</td>\n",
       "      <td>0.00</td>\n",
       "      <td>0.500000</td>\n",
       "      <td>0.000000</td>\n",
       "      <td>1</td>\n",
       "      <td>1</td>\n",
       "      <td>0</td>\n",
       "      <td>0</td>\n",
       "      <td>0</td>\n",
       "      <td>1</td>\n",
       "    </tr>\n",
       "    <tr>\n",
       "      <th>2388</th>\n",
       "      <td>0.0</td>\n",
       "      <td>0.0</td>\n",
       "      <td>0.333333</td>\n",
       "      <td>0.0</td>\n",
       "      <td>0.0</td>\n",
       "      <td>0.000000</td>\n",
       "      <td>0.666667</td>\n",
       "      <td>0.0</td>\n",
       "      <td>0.0</td>\n",
       "      <td>0.00</td>\n",
       "      <td>...</td>\n",
       "      <td>-0.50</td>\n",
       "      <td>0.00</td>\n",
       "      <td>0.000000</td>\n",
       "      <td>0.500000</td>\n",
       "      <td>0</td>\n",
       "      <td>0</td>\n",
       "      <td>0</td>\n",
       "      <td>0</td>\n",
       "      <td>0</td>\n",
       "      <td>0</td>\n",
       "    </tr>\n",
       "    <tr>\n",
       "      <th>2064</th>\n",
       "      <td>0.0</td>\n",
       "      <td>0.0</td>\n",
       "      <td>0.000000</td>\n",
       "      <td>0.0</td>\n",
       "      <td>0.0</td>\n",
       "      <td>0.000000</td>\n",
       "      <td>1.000000</td>\n",
       "      <td>0.0</td>\n",
       "      <td>0.0</td>\n",
       "      <td>0.00</td>\n",
       "      <td>...</td>\n",
       "      <td>-0.50</td>\n",
       "      <td>0.00</td>\n",
       "      <td>0.333333</td>\n",
       "      <td>0.000000</td>\n",
       "      <td>1</td>\n",
       "      <td>0</td>\n",
       "      <td>0</td>\n",
       "      <td>0</td>\n",
       "      <td>0</td>\n",
       "      <td>0</td>\n",
       "    </tr>\n",
       "  </tbody>\n",
       "</table>\n",
       "<p>4271 rows × 194 columns</p>\n",
       "</div>"
      ],
      "text/plain": [
       "      ra_SNTo_C  ra_ONTo_C  ra_XNTo_C  ra_NSTo_C  ra_NOTo_C  ra_NXTo_C  \\\n",
       "3101        0.0        0.0   0.333333        0.0        0.0   0.333333   \n",
       "4524        0.0        0.0   0.333333        0.0        0.0   0.333333   \n",
       "4441        0.0        0.0   0.333333        0.0        0.0   0.000000   \n",
       "186         0.0        0.0   0.500000        0.0        0.0   0.500000   \n",
       "3552        0.0        0.0   0.500000        0.0        0.0   0.500000   \n",
       "...         ...        ...        ...        ...        ...        ...   \n",
       "4581        0.0        0.0   0.000000        0.0        0.0   0.000000   \n",
       "3647        0.0        0.0   0.000000        0.0        0.0   0.000000   \n",
       "4229        0.0        0.0   0.500000        0.0        0.0   0.500000   \n",
       "2388        0.0        0.0   0.333333        0.0        0.0   0.000000   \n",
       "2064        0.0        0.0   0.000000        0.0        0.0   0.000000   \n",
       "\n",
       "      ra_NNTo_C  to_NoPhr_C  as_NoPhr_C  at_NoPhr_C  ...  Gunning_S  \\\n",
       "3101   0.333333         0.0         0.0        0.00  ...      -0.50   \n",
       "4524   0.333333         3.0         1.5        0.60  ...      -0.25   \n",
       "4441   0.666667         3.0         1.5        0.75  ...      -0.50   \n",
       "186    0.000000         0.0         0.0        0.00  ...      -0.75   \n",
       "3552   0.000000         0.0         0.0        0.00  ...      -0.75   \n",
       "...         ...         ...         ...         ...  ...        ...   \n",
       "4581   0.000000         0.0         0.0        0.00  ...      -0.75   \n",
       "3647   0.000000         0.0         0.0        0.00  ...      -1.00   \n",
       "4229   0.000000         0.0         0.0        0.00  ...      -0.50   \n",
       "2388   0.666667         0.0         0.0        0.00  ...      -0.50   \n",
       "2064   1.000000         0.0         0.0        0.00  ...      -0.50   \n",
       "\n",
       "      LinseaW_S  ratioAbs  ratioConc  numSpellingErrors  offByOne  kidsError  \\\n",
       "3101       0.00  0.000000   0.666667                  1         1          0   \n",
       "4524       0.25  0.250000   0.250000                 -1        -1         -1   \n",
       "4441       0.00  0.000000   0.500000                  0         0          0   \n",
       "186       -0.25  0.500000   0.500000                  0         0          0   \n",
       "3552      -0.25  0.000000   0.000000                  0         0          0   \n",
       "...         ...       ...        ...                ...       ...        ...   \n",
       "4581      -0.25  0.500000   0.500000                  0         0          0   \n",
       "3647      -0.50  0.000000   0.000000                 -1        -1         -1   \n",
       "4229       0.00  0.500000   0.000000                  1         1          0   \n",
       "2388       0.00  0.000000   0.500000                  0         0          0   \n",
       "2064       0.00  0.333333   0.000000                  1         0          0   \n",
       "\n",
       "      punct  casing  class  \n",
       "3101      0       1      0  \n",
       "4524      0       1      1  \n",
       "4441      0       0      1  \n",
       "186       0       0      0  \n",
       "3552      0       1      0  \n",
       "...     ...     ...    ...  \n",
       "4581      0       0      1  \n",
       "3647      0       0      0  \n",
       "4229      0       0      1  \n",
       "2388      0       0      0  \n",
       "2064      0       0      0  \n",
       "\n",
       "[4271 rows x 194 columns]"
      ]
     },
     "execution_count": 492,
     "metadata": {},
     "output_type": "execute_result"
    }
   ],
   "source": [
    "data"
   ]
  },
  {
   "cell_type": "markdown",
   "id": "a2e10c3e",
   "metadata": {},
   "source": [
    "## Data splitting\n",
    "\n",
    "Train, development, and test set"
   ]
  },
  {
   "cell_type": "code",
   "execution_count": 494,
   "id": "f5f3e3c9",
   "metadata": {},
   "outputs": [],
   "source": [
    "rng = 52023"
   ]
  },
  {
   "cell_type": "code",
   "execution_count": 496,
   "id": "0d48c322",
   "metadata": {},
   "outputs": [],
   "source": [
    "X = data.drop(\"class\", axis=1)\n",
    "y = data['class']\n",
    "\n",
    "X_train, X_test, y_train, y_test = train_test_split(X, y, test_size=0.2, random_state=rng, stratify=y)\n",
    "\n",
    "X_train, X_dev, y_train, y_dev = train_test_split(X_train, y_train, test_size=0.2, random_state=rng, stratify=y_train)\n"
   ]
  },
  {
   "cell_type": "code",
   "execution_count": 497,
   "id": "ebc95544",
   "metadata": {},
   "outputs": [
    {
     "data": {
      "text/plain": [
       "((2732, 193), (2732,))"
      ]
     },
     "execution_count": 497,
     "metadata": {},
     "output_type": "execute_result"
    }
   ],
   "source": [
    "X_train.shape, y_train.shape"
   ]
  },
  {
   "cell_type": "code",
   "execution_count": 498,
   "id": "ed64c901",
   "metadata": {},
   "outputs": [
    {
     "data": {
      "text/plain": [
       "((684, 193), (684,))"
      ]
     },
     "execution_count": 498,
     "metadata": {},
     "output_type": "execute_result"
    }
   ],
   "source": [
    "X_dev.shape, y_dev.shape"
   ]
  },
  {
   "cell_type": "code",
   "execution_count": 499,
   "id": "cb0e52f6",
   "metadata": {},
   "outputs": [
    {
     "data": {
      "text/plain": [
       "0    0.799708\n",
       "1    0.200292\n",
       "Name: class, dtype: float64"
      ]
     },
     "execution_count": 499,
     "metadata": {},
     "output_type": "execute_result"
    }
   ],
   "source": [
    "y_dev.value_counts(normalize = True)"
   ]
  },
  {
   "cell_type": "code",
   "execution_count": 500,
   "id": "04f87332",
   "metadata": {},
   "outputs": [
    {
     "data": {
      "text/plain": [
       "((855, 193), (855,))"
      ]
     },
     "execution_count": 500,
     "metadata": {},
     "output_type": "execute_result"
    }
   ],
   "source": [
    "X_test.shape, y_test.shape"
   ]
  },
  {
   "cell_type": "markdown",
   "id": "5cec8dac",
   "metadata": {},
   "source": [
    "## 1. Support Vector Machine (SVM)"
   ]
  },
  {
   "cell_type": "code",
   "execution_count": 502,
   "id": "6f1600c7",
   "metadata": {},
   "outputs": [
    {
     "data": {
      "text/html": [
       "<style>div.sk-top-container {color: black;background-color: white;}div.sk-toggleable {background-color: white;}label.sk-toggleable__label {cursor: pointer;display: block;width: 100%;margin-bottom: 0;padding: 0.2em 0.3em;box-sizing: border-box;text-align: center;}div.sk-toggleable__content {max-height: 0;max-width: 0;overflow: hidden;text-align: left;background-color: #f0f8ff;}div.sk-toggleable__content pre {margin: 0.2em;color: black;border-radius: 0.25em;background-color: #f0f8ff;}input.sk-toggleable__control:checked~div.sk-toggleable__content {max-height: 200px;max-width: 100%;overflow: auto;}div.sk-estimator input.sk-toggleable__control:checked~label.sk-toggleable__label {background-color: #d4ebff;}div.sk-label input.sk-toggleable__control:checked~label.sk-toggleable__label {background-color: #d4ebff;}input.sk-hidden--visually {border: 0;clip: rect(1px 1px 1px 1px);clip: rect(1px, 1px, 1px, 1px);height: 1px;margin: -1px;overflow: hidden;padding: 0;position: absolute;width: 1px;}div.sk-estimator {font-family: monospace;background-color: #f0f8ff;margin: 0.25em 0.25em;border: 1px dotted black;border-radius: 0.25em;box-sizing: border-box;}div.sk-estimator:hover {background-color: #d4ebff;}div.sk-parallel-item::after {content: \"\";width: 100%;border-bottom: 1px solid gray;flex-grow: 1;}div.sk-label:hover label.sk-toggleable__label {background-color: #d4ebff;}div.sk-serial::before {content: \"\";position: absolute;border-left: 1px solid gray;box-sizing: border-box;top: 2em;bottom: 0;left: 50%;}div.sk-serial {display: flex;flex-direction: column;align-items: center;background-color: white;}div.sk-item {z-index: 1;}div.sk-parallel {display: flex;align-items: stretch;justify-content: center;background-color: white;}div.sk-parallel-item {display: flex;flex-direction: column;position: relative;background-color: white;}div.sk-parallel-item:first-child::after {align-self: flex-end;width: 50%;}div.sk-parallel-item:last-child::after {align-self: flex-start;width: 50%;}div.sk-parallel-item:only-child::after {width: 0;}div.sk-dashed-wrapped {border: 1px dashed gray;margin: 0.2em;box-sizing: border-box;padding-bottom: 0.1em;background-color: white;position: relative;}div.sk-label label {font-family: monospace;font-weight: bold;background-color: white;display: inline-block;line-height: 1.2em;}div.sk-label-container {position: relative;z-index: 2;text-align: center;}div.sk-container {display: inline-block;position: relative;}</style><div class=\"sk-top-container\"><div class=\"sk-container\"><div class=\"sk-item sk-dashed-wrapped\"><div class=\"sk-label-container\"><div class=\"sk-label sk-toggleable\"><input class=\"sk-toggleable__control sk-hidden--visually\" id=\"b2a4a162-3a8e-4826-8641-1c7bc76d6d57\" type=\"checkbox\" ><label class=\"sk-toggleable__label\" for=\"b2a4a162-3a8e-4826-8641-1c7bc76d6d57\">Pipeline</label><div class=\"sk-toggleable__content\"><pre>Pipeline(steps=[('scaler', StandardScaler()), ('model', SVC())])</pre></div></div></div><div class=\"sk-serial\"><div class=\"sk-item\"><div class=\"sk-estimator sk-toggleable\"><input class=\"sk-toggleable__control sk-hidden--visually\" id=\"78b92941-bf86-4f4a-8d24-2d095a41b078\" type=\"checkbox\" ><label class=\"sk-toggleable__label\" for=\"78b92941-bf86-4f4a-8d24-2d095a41b078\">StandardScaler</label><div class=\"sk-toggleable__content\"><pre>StandardScaler()</pre></div></div></div><div class=\"sk-item\"><div class=\"sk-estimator sk-toggleable\"><input class=\"sk-toggleable__control sk-hidden--visually\" id=\"ac132696-9a86-4657-b7f0-0d02ed3363eb\" type=\"checkbox\" ><label class=\"sk-toggleable__label\" for=\"ac132696-9a86-4657-b7f0-0d02ed3363eb\">SVC</label><div class=\"sk-toggleable__content\"><pre>SVC()</pre></div></div></div></div></div></div></div>"
      ],
      "text/plain": [
       "Pipeline(steps=[('scaler', StandardScaler()), ('model', SVC())])"
      ]
     },
     "execution_count": 502,
     "metadata": {},
     "output_type": "execute_result"
    }
   ],
   "source": [
    "\n",
    "svc_pipeline = Pipeline(steps=[\n",
    "    ('scaler', StandardScaler()),\n",
    "    ('model', SVC())\n",
    "])\n",
    "\n",
    "svc_pipeline.fit(X_train, y_train)"
   ]
  },
  {
   "cell_type": "code",
   "execution_count": 503,
   "id": "361ad7a0",
   "metadata": {},
   "outputs": [],
   "source": [
    "pred_svc = svc_pipeline.predict(X_test)\n",
    "cm_svm = confusion_matrix(y_true=y_test, y_pred=pred_svc, labels= svc_pipeline.classes_)\n",
    "disp = ConfusionMatrixDisplay(confusion_matrix=cm_svm, display_labels=svc_pipeline.classes_)"
   ]
  },
  {
   "cell_type": "code",
   "execution_count": 504,
   "id": "1010ad4e",
   "metadata": {},
   "outputs": [],
   "source": [
    "FP=cm_svm[0,1]\n",
    "FN=cm_svm[1,0]\n",
    "TP=cm_svm[1,1]\n",
    "TN=cm_svm[0,0]\n",
    "\n",
    "TPR=TP/(TP+FN)\n",
    "TNR=TN/(TN+FP)\n",
    "FPR=FP/(FP+TN)\n",
    "FNR=FN/(TP+FN)"
   ]
  },
  {
   "cell_type": "code",
   "execution_count": 505,
   "id": "c8095315",
   "metadata": {},
   "outputs": [
    {
     "data": {
      "text/plain": [
       "(0.38011695906432746,\n",
       " 0.9605263157894737,\n",
       " 0.039473684210526314,\n",
       " 0.6198830409356725)"
      ]
     },
     "execution_count": 505,
     "metadata": {},
     "output_type": "execute_result"
    }
   ],
   "source": [
    "TPR, TNR, FPR, FNR"
   ]
  },
  {
   "cell_type": "code",
   "execution_count": 506,
   "id": "932887ba",
   "metadata": {},
   "outputs": [
    {
     "name": "stdout",
     "output_type": "stream",
     "text": [
      "              precision    recall  f1-score   support\n",
      "\n",
      "           0      0.861     0.961     0.908       684\n",
      "           1      0.707     0.380     0.494       171\n",
      "\n",
      "    accuracy                          0.844       855\n",
      "   macro avg      0.784     0.670     0.701       855\n",
      "weighted avg      0.830     0.844     0.825       855\n",
      "\n"
     ]
    }
   ],
   "source": [
    "print(classification_report(y_true=y_test, y_pred=pred_svc,\n",
    "                            labels= svc_pipeline.classes_, digits=3))"
   ]
  },
  {
   "cell_type": "markdown",
   "id": "ffdcea56",
   "metadata": {},
   "source": [
    "### Tune SVM HP"
   ]
  },
  {
   "cell_type": "code",
   "execution_count": 540,
   "id": "26cedc97",
   "metadata": {},
   "outputs": [],
   "source": [
    "linear_kernel = {\n",
    "    'model__C': [0.1, 0.5, 1.0, 5, 10], \n",
    "    'model__kernel': ['linear']\n",
    "}\n",
    "\n",
    "rbf_kernel ={\n",
    "    'model__C': [0.1, 0.5, 1, 5, 10], \n",
    "    'model__kernel': ['rbf'],\n",
    "    'model__gamma': ['scale', 'auto']\n",
    "}\n",
    "\n",
    "poly_kernel ={\n",
    "    'model__C': [0.1, 0.5, 1, 5, 10], \n",
    "    'model__kernel': ['poly'],\n",
    "    'model__degree': [2,3],\n",
    "    'model__gamma': ['scale', 'auto']\n",
    "}\n",
    "\n",
    "\n",
    "param = [\n",
    "    linear_kernel,\n",
    "    rbf_kernel,\n",
    "    poly_kernel\n",
    "]\n"
   ]
  },
  {
   "cell_type": "code",
   "execution_count": 541,
   "id": "daf07412",
   "metadata": {},
   "outputs": [
    {
     "name": "stdout",
     "output_type": "stream",
     "text": [
      "Fitting 5 folds for each of 35 candidates, totalling 175 fits\n"
     ]
    },
    {
     "data": {
      "text/html": [
       "<style>div.sk-top-container {color: black;background-color: white;}div.sk-toggleable {background-color: white;}label.sk-toggleable__label {cursor: pointer;display: block;width: 100%;margin-bottom: 0;padding: 0.2em 0.3em;box-sizing: border-box;text-align: center;}div.sk-toggleable__content {max-height: 0;max-width: 0;overflow: hidden;text-align: left;background-color: #f0f8ff;}div.sk-toggleable__content pre {margin: 0.2em;color: black;border-radius: 0.25em;background-color: #f0f8ff;}input.sk-toggleable__control:checked~div.sk-toggleable__content {max-height: 200px;max-width: 100%;overflow: auto;}div.sk-estimator input.sk-toggleable__control:checked~label.sk-toggleable__label {background-color: #d4ebff;}div.sk-label input.sk-toggleable__control:checked~label.sk-toggleable__label {background-color: #d4ebff;}input.sk-hidden--visually {border: 0;clip: rect(1px 1px 1px 1px);clip: rect(1px, 1px, 1px, 1px);height: 1px;margin: -1px;overflow: hidden;padding: 0;position: absolute;width: 1px;}div.sk-estimator {font-family: monospace;background-color: #f0f8ff;margin: 0.25em 0.25em;border: 1px dotted black;border-radius: 0.25em;box-sizing: border-box;}div.sk-estimator:hover {background-color: #d4ebff;}div.sk-parallel-item::after {content: \"\";width: 100%;border-bottom: 1px solid gray;flex-grow: 1;}div.sk-label:hover label.sk-toggleable__label {background-color: #d4ebff;}div.sk-serial::before {content: \"\";position: absolute;border-left: 1px solid gray;box-sizing: border-box;top: 2em;bottom: 0;left: 50%;}div.sk-serial {display: flex;flex-direction: column;align-items: center;background-color: white;}div.sk-item {z-index: 1;}div.sk-parallel {display: flex;align-items: stretch;justify-content: center;background-color: white;}div.sk-parallel-item {display: flex;flex-direction: column;position: relative;background-color: white;}div.sk-parallel-item:first-child::after {align-self: flex-end;width: 50%;}div.sk-parallel-item:last-child::after {align-self: flex-start;width: 50%;}div.sk-parallel-item:only-child::after {width: 0;}div.sk-dashed-wrapped {border: 1px dashed gray;margin: 0.2em;box-sizing: border-box;padding-bottom: 0.1em;background-color: white;position: relative;}div.sk-label label {font-family: monospace;font-weight: bold;background-color: white;display: inline-block;line-height: 1.2em;}div.sk-label-container {position: relative;z-index: 2;text-align: center;}div.sk-container {display: inline-block;position: relative;}</style><div class=\"sk-top-container\"><div class=\"sk-container\"><div class=\"sk-item sk-dashed-wrapped\"><div class=\"sk-label-container\"><div class=\"sk-label sk-toggleable\"><input class=\"sk-toggleable__control sk-hidden--visually\" id=\"76385b41-d3ef-4f50-aad7-855b15bc5fd3\" type=\"checkbox\" ><label class=\"sk-toggleable__label\" for=\"76385b41-d3ef-4f50-aad7-855b15bc5fd3\">GridSearchCV</label><div class=\"sk-toggleable__content\"><pre>GridSearchCV(estimator=Pipeline(steps=[('scaler', StandardScaler()),\n",
       "                                       ('model', SVC())]),\n",
       "             n_jobs=-1,\n",
       "             param_grid=[{'model__C': [0.1, 0.5, 1.0, 5, 10],\n",
       "                          'model__kernel': ['linear']},\n",
       "                         {'model__C': [0.1, 0.5, 1, 5, 10],\n",
       "                          'model__gamma': ['scale', 'auto'],\n",
       "                          'model__kernel': ['rbf']},\n",
       "                         {'model__C': [0.1, 0.5, 1, 5, 10],\n",
       "                          'model__degree': [2, 3],\n",
       "                          'model__gamma': ['scale', 'auto'],\n",
       "                          'model__kernel': ['poly']}],\n",
       "             verbose=2)</pre></div></div></div><div class=\"sk-parallel\"><div class=\"sk-parallel-item\"><div class=\"sk-item\"><div class=\"sk-serial\"><div class=\"sk-item\"><div class=\"sk-serial\"><div class=\"sk-item\"><div class=\"sk-estimator sk-toggleable\"><input class=\"sk-toggleable__control sk-hidden--visually\" id=\"a15e0857-a4af-4e40-b88a-13ccded7fdbe\" type=\"checkbox\" ><label class=\"sk-toggleable__label\" for=\"a15e0857-a4af-4e40-b88a-13ccded7fdbe\">StandardScaler</label><div class=\"sk-toggleable__content\"><pre>StandardScaler()</pre></div></div></div><div class=\"sk-item\"><div class=\"sk-estimator sk-toggleable\"><input class=\"sk-toggleable__control sk-hidden--visually\" id=\"184b6499-b232-4771-a282-e0837f0748c8\" type=\"checkbox\" ><label class=\"sk-toggleable__label\" for=\"184b6499-b232-4771-a282-e0837f0748c8\">SVC</label><div class=\"sk-toggleable__content\"><pre>SVC()</pre></div></div></div></div></div></div></div></div></div></div></div></div>"
      ],
      "text/plain": [
       "GridSearchCV(estimator=Pipeline(steps=[('scaler', StandardScaler()),\n",
       "                                       ('model', SVC())]),\n",
       "             n_jobs=-1,\n",
       "             param_grid=[{'model__C': [0.1, 0.5, 1.0, 5, 10],\n",
       "                          'model__kernel': ['linear']},\n",
       "                         {'model__C': [0.1, 0.5, 1, 5, 10],\n",
       "                          'model__gamma': ['scale', 'auto'],\n",
       "                          'model__kernel': ['rbf']},\n",
       "                         {'model__C': [0.1, 0.5, 1, 5, 10],\n",
       "                          'model__degree': [2, 3],\n",
       "                          'model__gamma': ['scale', 'auto'],\n",
       "                          'model__kernel': ['poly']}],\n",
       "             verbose=2)"
      ]
     },
     "execution_count": 541,
     "metadata": {},
     "output_type": "execute_result"
    }
   ],
   "source": [
    "svc_cv = GridSearchCV(estimator=svc_pipeline, param_grid=param, n_jobs=-1, verbose=2)\n",
    "svc_cv.fit(X_dev, y_dev)\n"
   ]
  },
  {
   "cell_type": "code",
   "execution_count": 542,
   "id": "a97d817a",
   "metadata": {},
   "outputs": [
    {
     "data": {
      "text/plain": [
       "{'model__C': 0.1, 'model__kernel': 'linear'}"
      ]
     },
     "execution_count": 542,
     "metadata": {},
     "output_type": "execute_result"
    }
   ],
   "source": [
    "svc_cv.best_params_"
   ]
  },
  {
   "cell_type": "code",
   "execution_count": 510,
   "id": "a954d361",
   "metadata": {},
   "outputs": [],
   "source": [
    "new_ys_pred = svc_cv.best_estimator_.predict(X_test)"
   ]
  },
  {
   "cell_type": "code",
   "execution_count": 511,
   "id": "42276fb8",
   "metadata": {},
   "outputs": [
    {
     "name": "stdout",
     "output_type": "stream",
     "text": [
      "              precision    recall  f1-score   support\n",
      "\n",
      "           0       0.86      0.95      0.90       684\n",
      "           1       0.67      0.38      0.49       171\n",
      "\n",
      "    accuracy                           0.84       855\n",
      "   macro avg       0.77      0.67      0.69       855\n",
      "weighted avg       0.82      0.84      0.82       855\n",
      "\n"
     ]
    }
   ],
   "source": [
    "print(classification_report(y_true=y_test, y_pred=new_ys_pred, labels= svc_pipeline.classes_))"
   ]
  },
  {
   "cell_type": "markdown",
   "id": "cf9b3fae",
   "metadata": {},
   "source": [
    "## 2. MLP"
   ]
  },
  {
   "cell_type": "code",
   "execution_count": 512,
   "id": "303e6ab1",
   "metadata": {},
   "outputs": [
    {
     "name": "stdout",
     "output_type": "stream",
     "text": [
      "Iteration 1, loss = 0.48424348\n",
      "Iteration 2, loss = 0.36723593\n",
      "Iteration 3, loss = 0.33395707\n",
      "Iteration 4, loss = 0.31871004\n",
      "Iteration 5, loss = 0.30948692\n",
      "Iteration 6, loss = 0.30021294\n",
      "Iteration 7, loss = 0.29344629\n",
      "Iteration 8, loss = 0.28812057\n",
      "Iteration 9, loss = 0.28307400\n",
      "Iteration 10, loss = 0.27713379\n",
      "Iteration 11, loss = 0.27238998\n",
      "Iteration 12, loss = 0.26909490\n",
      "Iteration 13, loss = 0.26444351\n",
      "Iteration 14, loss = 0.26138454\n",
      "Iteration 15, loss = 0.25950656\n",
      "Iteration 16, loss = 0.25486554\n",
      "Iteration 17, loss = 0.25507699\n",
      "Iteration 18, loss = 0.24846801\n",
      "Iteration 19, loss = 0.24696640\n",
      "Iteration 20, loss = 0.24797483\n",
      "Iteration 21, loss = 0.24105781\n",
      "Iteration 22, loss = 0.23922121\n",
      "Iteration 23, loss = 0.23733788\n",
      "Iteration 24, loss = 0.23315838\n",
      "Iteration 25, loss = 0.23320023\n",
      "Iteration 26, loss = 0.22887475\n",
      "Iteration 27, loss = 0.22626854\n",
      "Iteration 28, loss = 0.22100234\n",
      "Iteration 29, loss = 0.21869547\n",
      "Iteration 30, loss = 0.21824818\n",
      "Iteration 31, loss = 0.21336775\n",
      "Iteration 32, loss = 0.21134612\n",
      "Iteration 33, loss = 0.21378455\n",
      "Iteration 34, loss = 0.20769502\n",
      "Iteration 35, loss = 0.20443327\n",
      "Iteration 36, loss = 0.20467536\n",
      "Iteration 37, loss = 0.20084737\n",
      "Iteration 38, loss = 0.20212613\n",
      "Iteration 39, loss = 0.19933403\n",
      "Iteration 40, loss = 0.19978099\n",
      "Iteration 41, loss = 0.19602874\n",
      "Iteration 42, loss = 0.19079266\n",
      "Iteration 43, loss = 0.18989653\n",
      "Iteration 44, loss = 0.18938511\n",
      "Iteration 45, loss = 0.18771895\n",
      "Iteration 46, loss = 0.18442058\n",
      "Iteration 47, loss = 0.18295541\n",
      "Iteration 48, loss = 0.18034385\n",
      "Iteration 49, loss = 0.18136496\n",
      "Iteration 50, loss = 0.17915482\n",
      "Iteration 51, loss = 0.17838127\n",
      "Iteration 52, loss = 0.17583699\n",
      "Iteration 53, loss = 0.17535368\n",
      "Iteration 54, loss = 0.17190596\n",
      "Iteration 55, loss = 0.16974627\n",
      "Iteration 56, loss = 0.17117947\n",
      "Iteration 57, loss = 0.17064080\n",
      "Iteration 58, loss = 0.16493066\n",
      "Iteration 59, loss = 0.17047647\n",
      "Iteration 60, loss = 0.16177979\n",
      "Iteration 61, loss = 0.16389589\n",
      "Iteration 62, loss = 0.15954175\n",
      "Iteration 63, loss = 0.15938729\n",
      "Iteration 64, loss = 0.15644674\n",
      "Iteration 65, loss = 0.15512846\n",
      "Iteration 66, loss = 0.15759353\n",
      "Iteration 67, loss = 0.15638645\n",
      "Iteration 68, loss = 0.15335967\n",
      "Iteration 69, loss = 0.15565241\n",
      "Iteration 70, loss = 0.15129742\n",
      "Iteration 71, loss = 0.15016304\n",
      "Iteration 72, loss = 0.14679321\n",
      "Iteration 73, loss = 0.15083922\n",
      "Iteration 74, loss = 0.14787951\n",
      "Iteration 75, loss = 0.14275042\n",
      "Iteration 76, loss = 0.14313096\n",
      "Iteration 77, loss = 0.14361840\n",
      "Iteration 78, loss = 0.14065246\n",
      "Iteration 79, loss = 0.14156899\n",
      "Iteration 80, loss = 0.14165669\n",
      "Iteration 81, loss = 0.13715777\n",
      "Iteration 82, loss = 0.13684995\n",
      "Iteration 83, loss = 0.13671031\n",
      "Iteration 84, loss = 0.13531177\n",
      "Iteration 85, loss = 0.13480255\n",
      "Iteration 86, loss = 0.13317379\n",
      "Iteration 87, loss = 0.13469923\n",
      "Iteration 88, loss = 0.13104139\n",
      "Iteration 89, loss = 0.13071602\n",
      "Iteration 90, loss = 0.12880422\n",
      "Iteration 91, loss = 0.12689073\n",
      "Iteration 92, loss = 0.12909455\n",
      "Iteration 93, loss = 0.12684036\n",
      "Iteration 94, loss = 0.12701153\n",
      "Iteration 95, loss = 0.12472174\n",
      "Iteration 96, loss = 0.12236169\n",
      "Iteration 97, loss = 0.12413173\n",
      "Iteration 98, loss = 0.12162998\n",
      "Iteration 99, loss = 0.12032674\n",
      "Iteration 100, loss = 0.12273139\n",
      "Iteration 101, loss = 0.12567030\n",
      "Iteration 102, loss = 0.11954978\n",
      "Iteration 103, loss = 0.12149446\n",
      "Iteration 104, loss = 0.12175721\n",
      "Iteration 105, loss = 0.12047575\n",
      "Iteration 106, loss = 0.11755809\n",
      "Iteration 107, loss = 0.11928215\n",
      "Iteration 108, loss = 0.11770646\n",
      "Iteration 109, loss = 0.12418781\n",
      "Iteration 110, loss = 0.12062745\n",
      "Iteration 111, loss = 0.11751142\n",
      "Iteration 112, loss = 0.11603512\n",
      "Iteration 113, loss = 0.11390447\n",
      "Iteration 114, loss = 0.11392947\n",
      "Iteration 115, loss = 0.11295120\n",
      "Iteration 116, loss = 0.11113361\n",
      "Iteration 117, loss = 0.10854960\n",
      "Iteration 118, loss = 0.10914112\n",
      "Iteration 119, loss = 0.11206436\n",
      "Iteration 120, loss = 0.10980205\n",
      "Iteration 121, loss = 0.11112500\n",
      "Iteration 122, loss = 0.11449467\n",
      "Iteration 123, loss = 0.11055216\n",
      "Iteration 124, loss = 0.10622416\n",
      "Iteration 125, loss = 0.10245986\n",
      "Iteration 126, loss = 0.10289438\n",
      "Iteration 127, loss = 0.10309738\n",
      "Iteration 128, loss = 0.10105389\n",
      "Iteration 129, loss = 0.10084141\n",
      "Iteration 130, loss = 0.10189935\n",
      "Iteration 131, loss = 0.10133016\n",
      "Iteration 132, loss = 0.10596917\n",
      "Iteration 133, loss = 0.10224956\n",
      "Iteration 134, loss = 0.09861698\n",
      "Iteration 135, loss = 0.09719085\n",
      "Iteration 136, loss = 0.09744690\n",
      "Iteration 137, loss = 0.09674067\n",
      "Iteration 138, loss = 0.10050781\n",
      "Iteration 139, loss = 0.09984169\n",
      "Iteration 140, loss = 0.09906750\n",
      "Iteration 141, loss = 0.09673753\n",
      "Iteration 142, loss = 0.09587404\n",
      "Iteration 143, loss = 0.09411371\n",
      "Iteration 144, loss = 0.09428185\n",
      "Iteration 145, loss = 0.09227460\n",
      "Iteration 146, loss = 0.09175992\n",
      "Iteration 147, loss = 0.09062508\n",
      "Iteration 148, loss = 0.09070387\n",
      "Iteration 149, loss = 0.09391003\n",
      "Iteration 150, loss = 0.09035802\n",
      "Iteration 151, loss = 0.08905480\n",
      "Iteration 152, loss = 0.09057938\n",
      "Iteration 153, loss = 0.09034832\n",
      "Iteration 154, loss = 0.08897896\n",
      "Iteration 155, loss = 0.08891193\n",
      "Iteration 156, loss = 0.08814994\n",
      "Iteration 157, loss = 0.08856785\n",
      "Iteration 158, loss = 0.08741738\n",
      "Iteration 159, loss = 0.08744792\n",
      "Iteration 160, loss = 0.08522693\n",
      "Iteration 161, loss = 0.08943057\n",
      "Iteration 162, loss = 0.08588617\n",
      "Iteration 163, loss = 0.08531310\n",
      "Iteration 164, loss = 0.08519146\n",
      "Iteration 165, loss = 0.08627436\n",
      "Iteration 166, loss = 0.08255477\n",
      "Iteration 167, loss = 0.08260462\n",
      "Iteration 168, loss = 0.08148979\n",
      "Iteration 169, loss = 0.08128923\n",
      "Iteration 170, loss = 0.08028918\n",
      "Iteration 171, loss = 0.08003393\n",
      "Iteration 172, loss = 0.08022732\n",
      "Iteration 173, loss = 0.08030018\n",
      "Iteration 174, loss = 0.08202009\n",
      "Iteration 175, loss = 0.08069879\n",
      "Iteration 176, loss = 0.08337867\n",
      "Iteration 177, loss = 0.08048284\n",
      "Iteration 178, loss = 0.07902608\n",
      "Iteration 179, loss = 0.08137798\n",
      "Iteration 180, loss = 0.07787023\n",
      "Iteration 181, loss = 0.07746704\n",
      "Iteration 182, loss = 0.07766664\n",
      "Iteration 183, loss = 0.07808823\n",
      "Iteration 184, loss = 0.07627698\n",
      "Iteration 185, loss = 0.07579925\n",
      "Iteration 186, loss = 0.07557288\n",
      "Iteration 187, loss = 0.07352565\n",
      "Iteration 188, loss = 0.07361144\n",
      "Iteration 189, loss = 0.07754454\n",
      "Iteration 190, loss = 0.07660260\n",
      "Iteration 191, loss = 0.07564127\n",
      "Iteration 192, loss = 0.07361767\n",
      "Iteration 193, loss = 0.07311362\n",
      "Iteration 194, loss = 0.07158494\n",
      "Iteration 195, loss = 0.07544337\n",
      "Iteration 196, loss = 0.07211688\n",
      "Iteration 197, loss = 0.07182769\n",
      "Iteration 198, loss = 0.07439896\n",
      "Iteration 199, loss = 0.07217677\n",
      "Iteration 200, loss = 0.06991712\n",
      "Iteration 201, loss = 0.06950533\n",
      "Iteration 202, loss = 0.07039899\n",
      "Iteration 203, loss = 0.07302812\n",
      "Iteration 204, loss = 0.07332441\n",
      "Iteration 205, loss = 0.07012090\n",
      "Iteration 206, loss = 0.07069115\n",
      "Iteration 207, loss = 0.07050588\n",
      "Iteration 208, loss = 0.07207988\n",
      "Iteration 209, loss = 0.07303316\n",
      "Iteration 210, loss = 0.07474167\n",
      "Iteration 211, loss = 0.06744514\n",
      "Iteration 212, loss = 0.06858447\n",
      "Iteration 213, loss = 0.06587340\n",
      "Iteration 214, loss = 0.06525665\n",
      "Iteration 215, loss = 0.06761980\n",
      "Iteration 216, loss = 0.06570143\n",
      "Iteration 217, loss = 0.06584467\n",
      "Iteration 218, loss = 0.06531973\n",
      "Iteration 219, loss = 0.06457872\n",
      "Iteration 220, loss = 0.06407521\n",
      "Iteration 221, loss = 0.06395358\n",
      "Iteration 222, loss = 0.06303190\n",
      "Iteration 223, loss = 0.06288297\n",
      "Iteration 224, loss = 0.06257363\n",
      "Iteration 225, loss = 0.06271539\n",
      "Iteration 226, loss = 0.06181835\n",
      "Iteration 227, loss = 0.06509664\n",
      "Iteration 228, loss = 0.06374553\n",
      "Iteration 229, loss = 0.06230916\n",
      "Iteration 230, loss = 0.06213328\n",
      "Iteration 231, loss = 0.06418552\n",
      "Iteration 232, loss = 0.06635744\n",
      "Iteration 233, loss = 0.07202957\n",
      "Iteration 234, loss = 0.06654221\n",
      "Iteration 235, loss = 0.06384437\n",
      "Iteration 236, loss = 0.06658363\n",
      "Iteration 237, loss = 0.06802651\n",
      "Training loss did not improve more than tol=0.000100 for 10 consecutive epochs. Stopping.\n",
      "CPU times: user 10.6 s, sys: 13.7 s, total: 24.3 s\n",
      "Wall time: 4.12 s\n"
     ]
    },
    {
     "data": {
      "text/html": [
       "<style>div.sk-top-container {color: black;background-color: white;}div.sk-toggleable {background-color: white;}label.sk-toggleable__label {cursor: pointer;display: block;width: 100%;margin-bottom: 0;padding: 0.2em 0.3em;box-sizing: border-box;text-align: center;}div.sk-toggleable__content {max-height: 0;max-width: 0;overflow: hidden;text-align: left;background-color: #f0f8ff;}div.sk-toggleable__content pre {margin: 0.2em;color: black;border-radius: 0.25em;background-color: #f0f8ff;}input.sk-toggleable__control:checked~div.sk-toggleable__content {max-height: 200px;max-width: 100%;overflow: auto;}div.sk-estimator input.sk-toggleable__control:checked~label.sk-toggleable__label {background-color: #d4ebff;}div.sk-label input.sk-toggleable__control:checked~label.sk-toggleable__label {background-color: #d4ebff;}input.sk-hidden--visually {border: 0;clip: rect(1px 1px 1px 1px);clip: rect(1px, 1px, 1px, 1px);height: 1px;margin: -1px;overflow: hidden;padding: 0;position: absolute;width: 1px;}div.sk-estimator {font-family: monospace;background-color: #f0f8ff;margin: 0.25em 0.25em;border: 1px dotted black;border-radius: 0.25em;box-sizing: border-box;}div.sk-estimator:hover {background-color: #d4ebff;}div.sk-parallel-item::after {content: \"\";width: 100%;border-bottom: 1px solid gray;flex-grow: 1;}div.sk-label:hover label.sk-toggleable__label {background-color: #d4ebff;}div.sk-serial::before {content: \"\";position: absolute;border-left: 1px solid gray;box-sizing: border-box;top: 2em;bottom: 0;left: 50%;}div.sk-serial {display: flex;flex-direction: column;align-items: center;background-color: white;}div.sk-item {z-index: 1;}div.sk-parallel {display: flex;align-items: stretch;justify-content: center;background-color: white;}div.sk-parallel-item {display: flex;flex-direction: column;position: relative;background-color: white;}div.sk-parallel-item:first-child::after {align-self: flex-end;width: 50%;}div.sk-parallel-item:last-child::after {align-self: flex-start;width: 50%;}div.sk-parallel-item:only-child::after {width: 0;}div.sk-dashed-wrapped {border: 1px dashed gray;margin: 0.2em;box-sizing: border-box;padding-bottom: 0.1em;background-color: white;position: relative;}div.sk-label label {font-family: monospace;font-weight: bold;background-color: white;display: inline-block;line-height: 1.2em;}div.sk-label-container {position: relative;z-index: 2;text-align: center;}div.sk-container {display: inline-block;position: relative;}</style><div class=\"sk-top-container\"><div class=\"sk-container\"><div class=\"sk-item sk-dashed-wrapped\"><div class=\"sk-label-container\"><div class=\"sk-label sk-toggleable\"><input class=\"sk-toggleable__control sk-hidden--visually\" id=\"d46a7b65-542e-4798-aacd-ff1c0e6b5c94\" type=\"checkbox\" ><label class=\"sk-toggleable__label\" for=\"d46a7b65-542e-4798-aacd-ff1c0e6b5c94\">Pipeline</label><div class=\"sk-toggleable__content\"><pre>Pipeline(steps=[('scaler', StandardScaler()),\n",
       "                ('model',\n",
       "                 MLPClassifier(max_iter=300, random_state=42, verbose=2))])</pre></div></div></div><div class=\"sk-serial\"><div class=\"sk-item\"><div class=\"sk-estimator sk-toggleable\"><input class=\"sk-toggleable__control sk-hidden--visually\" id=\"2dc4d5b6-699a-4317-b082-057cd03e11d6\" type=\"checkbox\" ><label class=\"sk-toggleable__label\" for=\"2dc4d5b6-699a-4317-b082-057cd03e11d6\">StandardScaler</label><div class=\"sk-toggleable__content\"><pre>StandardScaler()</pre></div></div></div><div class=\"sk-item\"><div class=\"sk-estimator sk-toggleable\"><input class=\"sk-toggleable__control sk-hidden--visually\" id=\"87a6b451-b5f2-4a7e-9481-0cdf684543ca\" type=\"checkbox\" ><label class=\"sk-toggleable__label\" for=\"87a6b451-b5f2-4a7e-9481-0cdf684543ca\">MLPClassifier</label><div class=\"sk-toggleable__content\"><pre>MLPClassifier(max_iter=300, random_state=42, verbose=2)</pre></div></div></div></div></div></div></div>"
      ],
      "text/plain": [
       "Pipeline(steps=[('scaler', StandardScaler()),\n",
       "                ('model',\n",
       "                 MLPClassifier(max_iter=300, random_state=42, verbose=2))])"
      ]
     },
     "execution_count": 512,
     "metadata": {},
     "output_type": "execute_result"
    }
   ],
   "source": [
    "%%time\n",
    "mlp_pipeline = Pipeline(steps=[\n",
    "    ('scaler', StandardScaler()),\n",
    "    ('model', MLPClassifier(random_state=42, max_iter=300, validation_fraction = 0.1, verbose = 2))\n",
    "])\n",
    "mlp_pipeline.fit(X_train, y_train)"
   ]
  },
  {
   "cell_type": "code",
   "execution_count": 513,
   "id": "b598e3ee",
   "metadata": {},
   "outputs": [],
   "source": [
    "pred_mlp = mlp_pipeline.predict(X_test)\n",
    "cm_mlp = confusion_matrix(y_true=y_test, y_pred=pred_mlp, labels = mlp_pipeline.classes_)\n",
    "disp = ConfusionMatrixDisplay(confusion_matrix=cm_mlp, display_labels=mlp_pipeline.classes_)"
   ]
  },
  {
   "cell_type": "code",
   "execution_count": 514,
   "id": "24ec562e",
   "metadata": {},
   "outputs": [],
   "source": [
    "FP=cm_mlp[0,1]\n",
    "FN=cm_mlp[1,0]\n",
    "TP=cm_mlp[1,1]\n",
    "TN=cm_mlp[0,0]\n",
    "\n",
    "TPR=TP/(TP+FN)\n",
    "TNR=TN/(TN+FP)\n",
    "FPR=FP/(FP+TN)\n",
    "FNR=FN/(TP+FN)"
   ]
  },
  {
   "cell_type": "code",
   "execution_count": 515,
   "id": "acff5a5f",
   "metadata": {},
   "outputs": [
    {
     "data": {
      "text/plain": [
       "(0.5380116959064327,\n",
       " 0.9210526315789473,\n",
       " 0.07894736842105263,\n",
       " 0.4619883040935672)"
      ]
     },
     "execution_count": 515,
     "metadata": {},
     "output_type": "execute_result"
    }
   ],
   "source": [
    "TPR, TNR, FPR, FNR"
   ]
  },
  {
   "cell_type": "code",
   "execution_count": 516,
   "id": "1157d85d",
   "metadata": {},
   "outputs": [
    {
     "name": "stdout",
     "output_type": "stream",
     "text": [
      "              precision    recall  f1-score   support\n",
      "\n",
      "           0      0.889     0.921     0.905       684\n",
      "           1      0.630     0.538     0.580       171\n",
      "\n",
      "    accuracy                          0.844       855\n",
      "   macro avg      0.759     0.730     0.742       855\n",
      "weighted avg      0.837     0.844     0.840       855\n",
      "\n"
     ]
    }
   ],
   "source": [
    "print(classification_report(y_true=y_test, y_pred=pred_mlp,\n",
    "                            labels= mlp_pipeline.classes_, digits=3))\n",
    "   "
   ]
  },
  {
   "cell_type": "markdown",
   "id": "6650c045",
   "metadata": {},
   "source": [
    "### Tune MLP HP"
   ]
  },
  {
   "cell_type": "code",
   "execution_count": 517,
   "id": "a8076cd2",
   "metadata": {},
   "outputs": [
    {
     "name": "stdout",
     "output_type": "stream",
     "text": [
      "Fitting 5 folds for each of 108 candidates, totalling 540 fits\n",
      "Best hyperparameters: {'activation': 'relu', 'alpha': 0.0001, 'hidden_layer_sizes': (300,), 'learning_rate': 'constant'}\n"
     ]
    }
   ],
   "source": [
    "param_grid = {\n",
    "    'hidden_layer_sizes': [(30,), (50,), (100,), (300,)],\n",
    "    'activation': ['logistic', 'relu', 'tanh'],\n",
    "    'alpha': [0.0001, 0.001, 0.01],\n",
    "    'learning_rate': ['constant', 'adaptive', 'invscaling']\n",
    "}\n",
    "\n",
    "mlp = MLPClassifier(max_iter=1000)\n",
    "\n",
    "grid_search = GridSearchCV(mlp, param_grid=param_grid, cv=5, verbose=1)\n",
    "\n",
    "grid_search.fit(X_dev, y_dev)\n",
    "\n",
    "print(\"Best hyperparameters:\", grid_search.best_params_)"
   ]
  },
  {
   "cell_type": "code",
   "execution_count": 518,
   "id": "aa5ff088",
   "metadata": {},
   "outputs": [
    {
     "name": "stdout",
     "output_type": "stream",
     "text": [
      "Accuracy: 0.8113804004214963\n"
     ]
    }
   ],
   "source": [
    "best_mlp = grid_search.best_estimator_\n",
    "y_pred = best_mlp.predict(X_test)\n",
    "print(\"Accuracy:\", accuracy)"
   ]
  },
  {
   "cell_type": "markdown",
   "id": "bd30a474",
   "metadata": {},
   "source": [
    "## 3. Random Forest (rf)"
   ]
  },
  {
   "cell_type": "code",
   "execution_count": 519,
   "id": "50138c0f",
   "metadata": {},
   "outputs": [
    {
     "data": {
      "text/html": [
       "<style>div.sk-top-container {color: black;background-color: white;}div.sk-toggleable {background-color: white;}label.sk-toggleable__label {cursor: pointer;display: block;width: 100%;margin-bottom: 0;padding: 0.2em 0.3em;box-sizing: border-box;text-align: center;}div.sk-toggleable__content {max-height: 0;max-width: 0;overflow: hidden;text-align: left;background-color: #f0f8ff;}div.sk-toggleable__content pre {margin: 0.2em;color: black;border-radius: 0.25em;background-color: #f0f8ff;}input.sk-toggleable__control:checked~div.sk-toggleable__content {max-height: 200px;max-width: 100%;overflow: auto;}div.sk-estimator input.sk-toggleable__control:checked~label.sk-toggleable__label {background-color: #d4ebff;}div.sk-label input.sk-toggleable__control:checked~label.sk-toggleable__label {background-color: #d4ebff;}input.sk-hidden--visually {border: 0;clip: rect(1px 1px 1px 1px);clip: rect(1px, 1px, 1px, 1px);height: 1px;margin: -1px;overflow: hidden;padding: 0;position: absolute;width: 1px;}div.sk-estimator {font-family: monospace;background-color: #f0f8ff;margin: 0.25em 0.25em;border: 1px dotted black;border-radius: 0.25em;box-sizing: border-box;}div.sk-estimator:hover {background-color: #d4ebff;}div.sk-parallel-item::after {content: \"\";width: 100%;border-bottom: 1px solid gray;flex-grow: 1;}div.sk-label:hover label.sk-toggleable__label {background-color: #d4ebff;}div.sk-serial::before {content: \"\";position: absolute;border-left: 1px solid gray;box-sizing: border-box;top: 2em;bottom: 0;left: 50%;}div.sk-serial {display: flex;flex-direction: column;align-items: center;background-color: white;}div.sk-item {z-index: 1;}div.sk-parallel {display: flex;align-items: stretch;justify-content: center;background-color: white;}div.sk-parallel-item {display: flex;flex-direction: column;position: relative;background-color: white;}div.sk-parallel-item:first-child::after {align-self: flex-end;width: 50%;}div.sk-parallel-item:last-child::after {align-self: flex-start;width: 50%;}div.sk-parallel-item:only-child::after {width: 0;}div.sk-dashed-wrapped {border: 1px dashed gray;margin: 0.2em;box-sizing: border-box;padding-bottom: 0.1em;background-color: white;position: relative;}div.sk-label label {font-family: monospace;font-weight: bold;background-color: white;display: inline-block;line-height: 1.2em;}div.sk-label-container {position: relative;z-index: 2;text-align: center;}div.sk-container {display: inline-block;position: relative;}</style><div class=\"sk-top-container\"><div class=\"sk-container\"><div class=\"sk-item sk-dashed-wrapped\"><div class=\"sk-label-container\"><div class=\"sk-label sk-toggleable\"><input class=\"sk-toggleable__control sk-hidden--visually\" id=\"e9ba5cb2-f2ab-4027-b621-f4f89daf6dbf\" type=\"checkbox\" ><label class=\"sk-toggleable__label\" for=\"e9ba5cb2-f2ab-4027-b621-f4f89daf6dbf\">Pipeline</label><div class=\"sk-toggleable__content\"><pre>Pipeline(steps=[('scaler', StandardScaler()),\n",
       "                ('model', RandomForestClassifier(n_jobs=-1, random_state=42))])</pre></div></div></div><div class=\"sk-serial\"><div class=\"sk-item\"><div class=\"sk-estimator sk-toggleable\"><input class=\"sk-toggleable__control sk-hidden--visually\" id=\"10e0f173-91b5-4efc-a84c-fc07025b7d91\" type=\"checkbox\" ><label class=\"sk-toggleable__label\" for=\"10e0f173-91b5-4efc-a84c-fc07025b7d91\">StandardScaler</label><div class=\"sk-toggleable__content\"><pre>StandardScaler()</pre></div></div></div><div class=\"sk-item\"><div class=\"sk-estimator sk-toggleable\"><input class=\"sk-toggleable__control sk-hidden--visually\" id=\"1049c3c1-1120-436f-8bd3-36c48acb3d84\" type=\"checkbox\" ><label class=\"sk-toggleable__label\" for=\"1049c3c1-1120-436f-8bd3-36c48acb3d84\">RandomForestClassifier</label><div class=\"sk-toggleable__content\"><pre>RandomForestClassifier(n_jobs=-1, random_state=42)</pre></div></div></div></div></div></div></div>"
      ],
      "text/plain": [
       "Pipeline(steps=[('scaler', StandardScaler()),\n",
       "                ('model', RandomForestClassifier(n_jobs=-1, random_state=42))])"
      ]
     },
     "execution_count": 519,
     "metadata": {},
     "output_type": "execute_result"
    }
   ],
   "source": [
    "rfc_pipeline = Pipeline(steps=[\n",
    "    ('scaler', StandardScaler()),\n",
    "    ('model', RandomForestClassifier(random_state=42, n_jobs=-1))\n",
    "])\n",
    "\n",
    "rfc_pipeline.fit(X_train, y_train)"
   ]
  },
  {
   "cell_type": "code",
   "execution_count": 520,
   "id": "3afe7e78",
   "metadata": {},
   "outputs": [],
   "source": [
    "pred_rfc = rfc_pipeline.predict(X_test)\n",
    "cm_rf = confusion_matrix(y_true=y_test, y_pred=pred_rfc, labels= rfc_pipeline.classes_)\n",
    "disp = ConfusionMatrixDisplay(confusion_matrix=cm_rf, display_labels=rfc_pipeline.classes_)"
   ]
  },
  {
   "cell_type": "code",
   "execution_count": 521,
   "id": "3cc17427",
   "metadata": {},
   "outputs": [],
   "source": [
    "FP=cm_rf[0,1]\n",
    "FN=cm_rf[1,0]\n",
    "TP=cm_rf[1,1]\n",
    "TN=cm_rf[0,0]\n",
    "\n",
    "TPR=TP/(TP+FN)\n",
    "TNR=TN/(TN+FP)\n",
    "FPR=FP/(FP+TN)\n",
    "FNR=FN/(TP+FN)"
   ]
  },
  {
   "cell_type": "code",
   "execution_count": 522,
   "id": "09d00b55",
   "metadata": {},
   "outputs": [
    {
     "data": {
      "text/plain": [
       "(0.4678362573099415,\n",
       " 0.966374269005848,\n",
       " 0.033625730994152045,\n",
       " 0.5321637426900585)"
      ]
     },
     "execution_count": 522,
     "metadata": {},
     "output_type": "execute_result"
    }
   ],
   "source": [
    "TPR, TNR, FPR, FNR"
   ]
  },
  {
   "cell_type": "code",
   "execution_count": 523,
   "id": "d14e1fd5",
   "metadata": {},
   "outputs": [
    {
     "name": "stdout",
     "output_type": "stream",
     "text": [
      "              precision    recall  f1-score   support\n",
      "\n",
      "           0      0.879     0.966     0.921       684\n",
      "           1      0.777     0.468     0.584       171\n",
      "\n",
      "    accuracy                          0.867       855\n",
      "   macro avg      0.828     0.717     0.752       855\n",
      "weighted avg      0.859     0.867     0.853       855\n",
      "\n"
     ]
    }
   ],
   "source": [
    "print(classification_report(y_true=y_test, y_pred=pred_rfc,\n",
    "                            labels= rfc_pipeline.classes_, digits=3))"
   ]
  },
  {
   "cell_type": "code",
   "execution_count": 524,
   "id": "dda9fda1",
   "metadata": {},
   "outputs": [
    {
     "data": {
      "text/plain": [
       "0.8666666666666667"
      ]
     },
     "execution_count": 524,
     "metadata": {},
     "output_type": "execute_result"
    }
   ],
   "source": [
    "acc_rfc = accuracy_score(y_test, pred_rfc)\n",
    "acc_rfc"
   ]
  },
  {
   "cell_type": "markdown",
   "id": "2f7e056f",
   "metadata": {},
   "source": [
    "### Tune RF Hyperparameter"
   ]
  },
  {
   "cell_type": "code",
   "execution_count": 525,
   "id": "fc479c9b",
   "metadata": {},
   "outputs": [
    {
     "name": "stdout",
     "output_type": "stream",
     "text": [
      "Fitting 5 folds for each of 36 candidates, totalling 180 fits\n"
     ]
    },
    {
     "data": {
      "text/html": [
       "<style>div.sk-top-container {color: black;background-color: white;}div.sk-toggleable {background-color: white;}label.sk-toggleable__label {cursor: pointer;display: block;width: 100%;margin-bottom: 0;padding: 0.2em 0.3em;box-sizing: border-box;text-align: center;}div.sk-toggleable__content {max-height: 0;max-width: 0;overflow: hidden;text-align: left;background-color: #f0f8ff;}div.sk-toggleable__content pre {margin: 0.2em;color: black;border-radius: 0.25em;background-color: #f0f8ff;}input.sk-toggleable__control:checked~div.sk-toggleable__content {max-height: 200px;max-width: 100%;overflow: auto;}div.sk-estimator input.sk-toggleable__control:checked~label.sk-toggleable__label {background-color: #d4ebff;}div.sk-label input.sk-toggleable__control:checked~label.sk-toggleable__label {background-color: #d4ebff;}input.sk-hidden--visually {border: 0;clip: rect(1px 1px 1px 1px);clip: rect(1px, 1px, 1px, 1px);height: 1px;margin: -1px;overflow: hidden;padding: 0;position: absolute;width: 1px;}div.sk-estimator {font-family: monospace;background-color: #f0f8ff;margin: 0.25em 0.25em;border: 1px dotted black;border-radius: 0.25em;box-sizing: border-box;}div.sk-estimator:hover {background-color: #d4ebff;}div.sk-parallel-item::after {content: \"\";width: 100%;border-bottom: 1px solid gray;flex-grow: 1;}div.sk-label:hover label.sk-toggleable__label {background-color: #d4ebff;}div.sk-serial::before {content: \"\";position: absolute;border-left: 1px solid gray;box-sizing: border-box;top: 2em;bottom: 0;left: 50%;}div.sk-serial {display: flex;flex-direction: column;align-items: center;background-color: white;}div.sk-item {z-index: 1;}div.sk-parallel {display: flex;align-items: stretch;justify-content: center;background-color: white;}div.sk-parallel-item {display: flex;flex-direction: column;position: relative;background-color: white;}div.sk-parallel-item:first-child::after {align-self: flex-end;width: 50%;}div.sk-parallel-item:last-child::after {align-self: flex-start;width: 50%;}div.sk-parallel-item:only-child::after {width: 0;}div.sk-dashed-wrapped {border: 1px dashed gray;margin: 0.2em;box-sizing: border-box;padding-bottom: 0.1em;background-color: white;position: relative;}div.sk-label label {font-family: monospace;font-weight: bold;background-color: white;display: inline-block;line-height: 1.2em;}div.sk-label-container {position: relative;z-index: 2;text-align: center;}div.sk-container {display: inline-block;position: relative;}</style><div class=\"sk-top-container\"><div class=\"sk-container\"><div class=\"sk-item sk-dashed-wrapped\"><div class=\"sk-label-container\"><div class=\"sk-label sk-toggleable\"><input class=\"sk-toggleable__control sk-hidden--visually\" id=\"e6d3f22a-c399-4c1c-ae10-cd1098095f0d\" type=\"checkbox\" ><label class=\"sk-toggleable__label\" for=\"e6d3f22a-c399-4c1c-ae10-cd1098095f0d\">GridSearchCV</label><div class=\"sk-toggleable__content\"><pre>GridSearchCV(cv=5,\n",
       "             estimator=Pipeline(steps=[('scaler', StandardScaler()),\n",
       "                                       ('model',\n",
       "                                        RandomForestClassifier(n_jobs=-1,\n",
       "                                                               random_state=42))]),\n",
       "             n_jobs=-1,\n",
       "             param_grid={'model__criterion': ['gini', 'entropy'],\n",
       "                         'model__max_depth': [None, 20],\n",
       "                         'model__max_features': ['sqrt', 'log2', None],\n",
       "                         'model__min_samples_split': [2],\n",
       "                         'model__n_estimators': [100, 200, 500]},\n",
       "             verbose=1)</pre></div></div></div><div class=\"sk-parallel\"><div class=\"sk-parallel-item\"><div class=\"sk-item\"><div class=\"sk-serial\"><div class=\"sk-item\"><div class=\"sk-serial\"><div class=\"sk-item\"><div class=\"sk-estimator sk-toggleable\"><input class=\"sk-toggleable__control sk-hidden--visually\" id=\"af514e66-1775-4b62-b2b2-6ed23670c543\" type=\"checkbox\" ><label class=\"sk-toggleable__label\" for=\"af514e66-1775-4b62-b2b2-6ed23670c543\">StandardScaler</label><div class=\"sk-toggleable__content\"><pre>StandardScaler()</pre></div></div></div><div class=\"sk-item\"><div class=\"sk-estimator sk-toggleable\"><input class=\"sk-toggleable__control sk-hidden--visually\" id=\"02dd5776-6091-46a7-95c7-5580300e6cdd\" type=\"checkbox\" ><label class=\"sk-toggleable__label\" for=\"02dd5776-6091-46a7-95c7-5580300e6cdd\">RandomForestClassifier</label><div class=\"sk-toggleable__content\"><pre>RandomForestClassifier(n_jobs=-1, random_state=42)</pre></div></div></div></div></div></div></div></div></div></div></div></div>"
      ],
      "text/plain": [
       "GridSearchCV(cv=5,\n",
       "             estimator=Pipeline(steps=[('scaler', StandardScaler()),\n",
       "                                       ('model',\n",
       "                                        RandomForestClassifier(n_jobs=-1,\n",
       "                                                               random_state=42))]),\n",
       "             n_jobs=-1,\n",
       "             param_grid={'model__criterion': ['gini', 'entropy'],\n",
       "                         'model__max_depth': [None, 20],\n",
       "                         'model__max_features': ['sqrt', 'log2', None],\n",
       "                         'model__min_samples_split': [2],\n",
       "                         'model__n_estimators': [100, 200, 500]},\n",
       "             verbose=1)"
      ]
     },
     "execution_count": 525,
     "metadata": {},
     "output_type": "execute_result"
    }
   ],
   "source": [
    "param_spec = {\n",
    "    'model__n_estimators': [100, 200, 500],\n",
    "    'model__criterion': ['gini', 'entropy'],\n",
    "    'model__max_depth': [None, 20],\n",
    "    'model__min_samples_split': [2, 3, 5], \n",
    "    'model__max_features': ['sqrt', 'log2', None] #\n",
    "}\n",
    "\n",
    "rf_cv = GridSearchCV(estimator=rfc_pipeline, param_grid=param_spec,\n",
    "                    n_jobs=-1, verbose=1, refit=True, cv=5)\n",
    "# for i in tqdm(param_spec):\n",
    "rf_cv.fit(X_train, y_train)"
   ]
  },
  {
   "cell_type": "code",
   "execution_count": 526,
   "id": "67ae6251",
   "metadata": {},
   "outputs": [
    {
     "data": {
      "text/plain": [
       "{'model__criterion': 'entropy',\n",
       " 'model__max_depth': None,\n",
       " 'model__max_features': 'sqrt',\n",
       " 'model__min_samples_split': 2,\n",
       " 'model__n_estimators': 500}"
      ]
     },
     "execution_count": 526,
     "metadata": {},
     "output_type": "execute_result"
    }
   ],
   "source": [
    "rf_cv.best_params_"
   ]
  },
  {
   "cell_type": "code",
   "execution_count": 527,
   "id": "8f9ccf59",
   "metadata": {},
   "outputs": [
    {
     "name": "stdout",
     "output_type": "stream",
     "text": [
      "              precision    recall  f1-score   support\n",
      "\n",
      "           0      0.881     0.968     0.923       684\n",
      "           1      0.788     0.480     0.596       171\n",
      "\n",
      "    accuracy                          0.870       855\n",
      "   macro avg      0.835     0.724     0.760       855\n",
      "weighted avg      0.863     0.870     0.857       855\n",
      "\n"
     ]
    }
   ],
   "source": [
    "yt_pred_rf_cv = rf_cv.predict(X_test)\n",
    "print(classification_report(y_true=y_test, y_pred=yt_pred_rf_cv,\n",
    "                            labels= svc_pipeline.classes_, digits=3))"
   ]
  },
  {
   "cell_type": "markdown",
   "id": "375e9377",
   "metadata": {},
   "source": [
    "## Feature importance"
   ]
  },
  {
   "cell_type": "code",
   "execution_count": 531,
   "id": "ca597518",
   "metadata": {},
   "outputs": [],
   "source": [
    "X_cols =  X_train.columns\n",
    "X_scaled=StandardScaler().fit_transform(X_train[X_cols])"
   ]
  },
  {
   "cell_type": "code",
   "execution_count": 532,
   "id": "9fa94823",
   "metadata": {},
   "outputs": [
    {
     "data": {
      "text/html": [
       "<style>div.sk-top-container {color: black;background-color: white;}div.sk-toggleable {background-color: white;}label.sk-toggleable__label {cursor: pointer;display: block;width: 100%;margin-bottom: 0;padding: 0.2em 0.3em;box-sizing: border-box;text-align: center;}div.sk-toggleable__content {max-height: 0;max-width: 0;overflow: hidden;text-align: left;background-color: #f0f8ff;}div.sk-toggleable__content pre {margin: 0.2em;color: black;border-radius: 0.25em;background-color: #f0f8ff;}input.sk-toggleable__control:checked~div.sk-toggleable__content {max-height: 200px;max-width: 100%;overflow: auto;}div.sk-estimator input.sk-toggleable__control:checked~label.sk-toggleable__label {background-color: #d4ebff;}div.sk-label input.sk-toggleable__control:checked~label.sk-toggleable__label {background-color: #d4ebff;}input.sk-hidden--visually {border: 0;clip: rect(1px 1px 1px 1px);clip: rect(1px, 1px, 1px, 1px);height: 1px;margin: -1px;overflow: hidden;padding: 0;position: absolute;width: 1px;}div.sk-estimator {font-family: monospace;background-color: #f0f8ff;margin: 0.25em 0.25em;border: 1px dotted black;border-radius: 0.25em;box-sizing: border-box;}div.sk-estimator:hover {background-color: #d4ebff;}div.sk-parallel-item::after {content: \"\";width: 100%;border-bottom: 1px solid gray;flex-grow: 1;}div.sk-label:hover label.sk-toggleable__label {background-color: #d4ebff;}div.sk-serial::before {content: \"\";position: absolute;border-left: 1px solid gray;box-sizing: border-box;top: 2em;bottom: 0;left: 50%;}div.sk-serial {display: flex;flex-direction: column;align-items: center;background-color: white;}div.sk-item {z-index: 1;}div.sk-parallel {display: flex;align-items: stretch;justify-content: center;background-color: white;}div.sk-parallel-item {display: flex;flex-direction: column;position: relative;background-color: white;}div.sk-parallel-item:first-child::after {align-self: flex-end;width: 50%;}div.sk-parallel-item:last-child::after {align-self: flex-start;width: 50%;}div.sk-parallel-item:only-child::after {width: 0;}div.sk-dashed-wrapped {border: 1px dashed gray;margin: 0.2em;box-sizing: border-box;padding-bottom: 0.1em;background-color: white;position: relative;}div.sk-label label {font-family: monospace;font-weight: bold;background-color: white;display: inline-block;line-height: 1.2em;}div.sk-label-container {position: relative;z-index: 2;text-align: center;}div.sk-container {display: inline-block;position: relative;}</style><div class=\"sk-top-container\"><div class=\"sk-container\"><div class=\"sk-item\"><div class=\"sk-estimator sk-toggleable\"><input class=\"sk-toggleable__control sk-hidden--visually\" id=\"5b1b0770-4617-4c54-b166-3c727b7218fc\" type=\"checkbox\" checked><label class=\"sk-toggleable__label\" for=\"5b1b0770-4617-4c54-b166-3c727b7218fc\">RandomForestClassifier</label><div class=\"sk-toggleable__content\"><pre>RandomForestClassifier(criterion='entropy', max_depth=20, max_features='sqrt',\n",
       "                       n_estimators=500, n_jobs=-1, random_state=42)</pre></div></div></div></div></div>"
      ],
      "text/plain": [
       "RandomForestClassifier(criterion='entropy', max_depth=20, max_features='sqrt',\n",
       "                       n_estimators=500, n_jobs=-1, random_state=42)"
      ]
     },
     "execution_count": 532,
     "metadata": {},
     "output_type": "execute_result"
    }
   ],
   "source": [
    "model=RandomForestClassifier(random_state=rng, \n",
    "                             n_jobs=-1, \n",
    "                             n_estimators = 500, \n",
    "                             criterion = 'entropy',\n",
    "                             max_depth = 20,\n",
    "                             min_samples_split = 2,\n",
    "                             max_features = 'sqrt'\n",
    "                             )\n",
    "# model.fit(X_scaled, data['class'])\n",
    "                             \n",
    "model.fit(X_scaled, y_train)"
   ]
  },
  {
   "cell_type": "code",
   "execution_count": 533,
   "id": "98dc1fcf",
   "metadata": {},
   "outputs": [
    {
     "data": {
      "text/plain": [
       "array([1.16060508e-03, 5.57652078e-05, 4.50231446e-03, 9.86884760e-04,\n",
       "       3.53420957e-04, 4.94832017e-03, 4.47343578e-03, 1.74873008e-03,\n",
       "       1.85632407e-03, 3.30778577e-03, 1.98587287e-03, 1.95118924e-03,\n",
       "       1.71885195e-03, 3.66670044e-04, 3.75043101e-04, 9.92018580e-04,\n",
       "       9.68414871e-04, 2.28930263e-03, 1.86384062e-03, 9.41680602e-04,\n",
       "       1.10450588e-03, 2.81633259e-04, 6.22852099e-04, 1.35009191e-03,\n",
       "       9.52271366e-04, 2.77834212e-03, 1.97934447e-03, 3.10583462e-03,\n",
       "       3.46895327e-04, 2.65512960e-04, 2.27466520e-04, 1.01753236e-03,\n",
       "       9.67514944e-04, 1.67668087e-03, 1.80430145e-03, 5.25643362e-04,\n",
       "       3.47658520e-04, 1.78157332e-04, 1.51542586e-04, 2.45450882e-04,\n",
       "       2.88620925e-04, 2.94235420e-04, 2.90682849e-04, 2.67634973e-04,\n",
       "       2.99705999e-04, 1.26267744e-04, 5.67512734e-05, 1.95139869e-04,\n",
       "       2.05465426e-04, 3.05750631e-04, 2.59373770e-04, 6.37563203e-04,\n",
       "       2.09428411e-04, 1.85040323e-04, 3.35801636e-05, 2.40461039e-03,\n",
       "       2.12032272e-03, 3.22170557e-03, 1.68576183e-03, 1.77286083e-03,\n",
       "       2.75330054e-03, 4.06617001e-03, 3.89381739e-03, 6.53722308e-03,\n",
       "       1.70998117e-03, 1.52277391e-03, 1.43138936e-04, 5.78555838e-04,\n",
       "       4.28630422e-04, 1.37455723e-03, 1.42618039e-03, 2.79887779e-03,\n",
       "       3.88847383e-04, 1.35647088e-03, 1.36146444e-04, 2.05903330e-04,\n",
       "       1.78243523e-04, 1.72409167e-03, 1.74582911e-03, 2.47217663e-03,\n",
       "       2.10456609e-03, 3.69930146e-04, 2.14750396e-04, 4.88152669e-04,\n",
       "       3.37436952e-05, 2.52245231e-04, 2.56068254e-04, 3.29086870e-04,\n",
       "       2.77538850e-04, 2.27105631e-04, 2.08462387e-04, 1.41694914e-04,\n",
       "       1.44131578e-05, 3.49777246e-04, 3.07371578e-04, 5.59145021e-04,\n",
       "       3.96899473e-04, 5.05795941e-04, 2.98845049e-04, 1.22820060e-04,\n",
       "       4.10923907e-05, 4.55251065e-04, 4.89371099e-04, 6.49650777e-04,\n",
       "       7.71211547e-05, 4.42487654e-04, 1.71880738e-04, 2.69224322e-05,\n",
       "       3.63288913e-05, 3.90530858e-03, 5.14784640e-03, 8.92353016e-03,\n",
       "       4.92985904e-03, 4.76869985e-03, 7.61005594e-03, 6.34104591e-03,\n",
       "       4.15675915e-04, 5.37919252e-03, 5.37454490e-04, 3.26197602e-04,\n",
       "       2.17780123e-03, 1.52967877e-03, 3.61773633e-03, 3.60406294e-03,\n",
       "       1.36878183e-03, 1.30506764e-03, 1.24197722e-03, 1.29700230e-03,\n",
       "       1.60140919e-03, 1.70853927e-03, 2.97552882e-04, 3.05541246e-04,\n",
       "       3.16063240e-04, 1.91982071e-02, 1.75656569e-02, 1.84581729e-02,\n",
       "       1.77619530e-02, 1.64048830e-02, 1.85242711e-02, 9.31058769e-03,\n",
       "       9.39929527e-03, 9.92726739e-03, 1.61133399e-02, 1.85203740e-02,\n",
       "       1.29205495e-02, 1.58526885e-02, 1.66899827e-02, 1.18362652e-02,\n",
       "       1.69553686e-02, 1.61771350e-02, 1.47685038e-02, 1.33568567e-02,\n",
       "       1.32904159e-02, 1.66308542e-02, 1.66211426e-02, 1.63441417e-02,\n",
       "       1.79250540e-02, 1.48714441e-02, 1.49833409e-02, 2.02807011e-02,\n",
       "       1.76038196e-02, 1.87574043e-02, 1.65634829e-02, 1.19696115e-02,\n",
       "       1.17753508e-02, 1.40790423e-02, 1.33803931e-02, 1.26325367e-02,\n",
       "       1.75883953e-02, 1.25486371e-02, 1.32617528e-02, 1.28848161e-02,\n",
       "       5.48188172e-03, 4.99394774e-03, 5.68968845e-03, 5.87984530e-03,\n",
       "       1.81342622e-02, 2.31370141e-02, 2.95960411e-02, 4.37134364e-02,\n",
       "       9.46090973e-03, 1.22632734e-02, 6.61560750e-03, 2.16023389e-03,\n",
       "       6.75142536e-03, 6.97841524e-03, 4.83334885e-03, 6.72811521e-03,\n",
       "       8.10205267e-03, 6.71658149e-03, 2.38387053e-03, 1.10397943e-03,\n",
       "       9.96065330e-03])"
      ]
     },
     "execution_count": 533,
     "metadata": {},
     "output_type": "execute_result"
    }
   ],
   "source": [
    "model.feature_importances_"
   ]
  },
  {
   "cell_type": "code",
   "execution_count": 534,
   "id": "ebdfd975",
   "metadata": {},
   "outputs": [
    {
     "data": {
      "text/plain": [
       "at_Chara_C    0.043713\n",
       "as_Chara_C    0.029596\n",
       "at_Sylla_C    0.023137\n",
       "at_SbCDL_C    0.020281\n",
       "to_AAKuW_C    0.019198\n",
       "as_SbSBW_C    0.018757\n",
       "at_AAKuL_C    0.018524\n",
       "as_AABrL_C    0.018520\n",
       "at_AAKuW_C    0.018458\n",
       "as_Sylla_C    0.018134\n",
       "at_SbFrL_C    0.017925\n",
       "to_AAKuL_C    0.017762\n",
       "to_SbSBW_C    0.017604\n",
       "at_SbSBC_C    0.017588\n",
       "as_AAKuW_C    0.017566\n",
       "to_SbFrQ_C    0.016955\n",
       "as_AACoL_C    0.016690\n",
       "at_SbCDC_C    0.016631\n",
       "to_SbFrL_C    0.016621\n",
       "at_SbSBW_C    0.016563\n",
       "as_AAKuL_C    0.016405\n",
       "as_SbFrL_C    0.016344\n",
       "as_SbFrQ_C    0.016177\n",
       "to_AABrL_C    0.016113\n",
       "to_AACoL_C    0.015853\n",
       "as_SbCDL_C    0.014983\n",
       "to_SbCDL_C    0.014871\n",
       "at_SbFrQ_C    0.014769\n",
       "at_SbL1W_C    0.014079\n",
       "to_SbSBC_C    0.013380\n",
       "to_SbCDC_C    0.013357\n",
       "as_SbCDC_C    0.013290\n",
       "as_SbL1C_C    0.013262\n",
       "at_AABrL_C    0.012921\n",
       "at_SbL1C_C    0.012885\n",
       "as_SbSBC_C    0.012633\n",
       "to_SbL1C_C    0.012549\n",
       "AutoRea_S     0.012263\n",
       "to_SbL1W_C    0.011970\n",
       "at_AACoL_C    0.011836\n",
       "dtype: float64"
      ]
     },
     "execution_count": 534,
     "metadata": {},
     "output_type": "execute_result"
    }
   ],
   "source": [
    "FeatImp = pd.Series(model.feature_importances_, index=X_cols).sort_values(ascending=False)\n",
    "FeatImp.head(40)"
   ]
  },
  {
   "cell_type": "code",
   "execution_count": 535,
   "id": "6744b5f8",
   "metadata": {},
   "outputs": [
    {
     "data": {
      "text/plain": [
       "<AxesSubplot:>"
      ]
     },
     "execution_count": 535,
     "metadata": {},
     "output_type": "execute_result"
    },
    {
     "data": {
      "image/png": "[encoded data removed]",
      "text/plain": [
       "<Figure size 432x288 with 1 Axes>"
      ]
     },
     "metadata": {
      "needs_background": "light"
     },
     "output_type": "display_data"
    }
   ],
   "source": [
    "%matplotlib inline\n",
    "\n",
    "FeatImp.head(20).sort_values().plot.barh(color='green')"
   ]
  },
  {
   "cell_type": "code",
   "execution_count": 536,
   "id": "88861918",
   "metadata": {},
   "outputs": [
    {
     "data": {
      "text/plain": [
       "ra_SuVeT_C    0.000299\n",
       "SimpAvV_S     0.000298\n",
       "at_AjPhr_C    0.000294\n",
       "ra_AjNoP_C    0.000291\n",
       "as_AjPhr_C    0.000289\n",
       "ra_VeAjP_C    0.000282\n",
       "ra_AvAjT_C    0.000278\n",
       "ra_AjVeP_C    0.000268\n",
       "ra_SuAjP_C    0.000266\n",
       "ra_AvNoP_C    0.000259\n",
       "as_AvTag_C    0.000256\n",
       "to_AvTag_C    0.000252\n",
       "to_AjPhr_C    0.000245\n",
       "ra_SuAvP_C    0.000227\n",
       "ra_AvNoT_C    0.000227\n",
       "ra_AjAvT_C    0.000215\n",
       "ra_AvSuP_C    0.000209\n",
       "ra_AvVeT_C    0.000208\n",
       "ra_VeSuT_C    0.000206\n",
       "as_AvPhr_C    0.000205\n",
       "to_AvPhr_C    0.000195\n",
       "ra_AvPrP_C    0.000185\n",
       "ra_VeCoT_C    0.000178\n",
       "ra_PrAjP_C    0.000178\n",
       "ra_CoVeT_C    0.000172\n",
       "ra_PrAvP_C    0.000152\n",
       "ra_NoAvT_C    0.000143\n",
       "ra_AvSuT_C    0.000142\n",
       "ra_VeAvT_C    0.000136\n",
       "ra_AjPrP_C    0.000126\n",
       "ra_SuAvT_C    0.000123\n",
       "ra_CoAjT_C    0.000077\n",
       "ra_AjAvP_C    0.000057\n",
       "ra_ONTo_C     0.000056\n",
       "ra_SuCoT_C    0.000041\n",
       "ra_CoSuT_C    0.000036\n",
       "ra_AjCoT_C    0.000034\n",
       "ra_AvAjP_C    0.000034\n",
       "ra_CoAvT_C    0.000027\n",
       "ra_AvCoT_C    0.000014\n",
       "dtype: float64"
      ]
     },
     "execution_count": 536,
     "metadata": {},
     "output_type": "execute_result"
    }
   ],
   "source": [
    "FeatImp.tail(40)"
   ]
  },
  {
   "cell_type": "code",
   "execution_count": 537,
   "id": "bdca26db",
   "metadata": {},
   "outputs": [
    {
     "data": {
      "text/plain": [
       "<AxesSubplot:>"
      ]
     },
     "execution_count": 537,
     "metadata": {},
     "output_type": "execute_result"
    },
    {
     "data": {
      "image/png": "[encoded data removed]",
      "text/plain": [
       "<Figure size 432x288 with 1 Axes>"
      ]
     },
     "metadata": {
      "needs_background": "light"
     },
     "output_type": "display_data"
    }
   ],
   "source": [
    "FeatImp[FeatImp > 0.015].plot(kind='barh')"
   ]
  },
  {
   "cell_type": "markdown",
   "id": "ceac34cf",
   "metadata": {},
   "source": [
    "## Polt feature Importance \n",
    "\n",
    "We visualize the distribution of feature importance in order to find a threshold of the most important features"
   ]
  },
  {
   "cell_type": "code",
   "execution_count": 538,
   "id": "cfb6df7f",
   "metadata": {},
   "outputs": [
    {
     "data": {
      "image/png": "[encoded data removed]",
      "text/plain": [
       "<Figure size 432x288 with 1 Axes>"
      ]
     },
     "metadata": {
      "needs_background": "light"
     },
     "output_type": "display_data"
    }
   ],
   "source": [
    "sns.histplot(data = FeatImp, kde = True, bins = 100)\n",
    "# plt.xlim(xmin=0.00, xmax = 0.05)\n",
    "plt.xlabel('Feature Imp.')\n",
    "plt.show()"
   ]
  },
  {
   "cell_type": "markdown",
   "id": "cf631718",
   "metadata": {},
   "source": [
    "We can see that the plot is curving at around **0.005**, so we are taking it as our threshold"
   ]
  },
  {
   "cell_type": "markdown",
   "id": "23de6b52",
   "metadata": {},
   "source": [
    "## Create a df for the important features\n",
    "\n",
    "This dataframe will used later for selecting trimming the most important features "
   ]
  },
  {
   "cell_type": "code",
   "execution_count": 547,
   "id": "ba47be32",
   "metadata": {},
   "outputs": [
    {
     "data": {
      "text/html": [
       "<div>\n",
       "<style scoped>\n",
       "    .dataframe tbody tr th:only-of-type {\n",
       "        vertical-align: middle;\n",
       "    }\n",
       "\n",
       "    .dataframe tbody tr th {\n",
       "        vertical-align: top;\n",
       "    }\n",
       "\n",
       "    .dataframe thead th {\n",
       "        text-align: right;\n",
       "    }\n",
       "</style>\n",
       "<table border=\"1\" class=\"dataframe\">\n",
       "  <thead>\n",
       "    <tr style=\"text-align: right;\">\n",
       "      <th></th>\n",
       "      <th>features</th>\n",
       "      <th>values</th>\n",
       "    </tr>\n",
       "  </thead>\n",
       "  <tbody>\n",
       "    <tr>\n",
       "      <th>0</th>\n",
       "      <td>at_Chara_C</td>\n",
       "      <td>0.043713</td>\n",
       "    </tr>\n",
       "    <tr>\n",
       "      <th>1</th>\n",
       "      <td>as_Chara_C</td>\n",
       "      <td>0.029596</td>\n",
       "    </tr>\n",
       "    <tr>\n",
       "      <th>2</th>\n",
       "      <td>at_Sylla_C</td>\n",
       "      <td>0.023137</td>\n",
       "    </tr>\n",
       "    <tr>\n",
       "      <th>3</th>\n",
       "      <td>at_SbCDL_C</td>\n",
       "      <td>0.020281</td>\n",
       "    </tr>\n",
       "    <tr>\n",
       "      <th>4</th>\n",
       "      <td>to_AAKuW_C</td>\n",
       "      <td>0.019198</td>\n",
       "    </tr>\n",
       "    <tr>\n",
       "      <th>...</th>\n",
       "      <td>...</td>\n",
       "      <td>...</td>\n",
       "    </tr>\n",
       "    <tr>\n",
       "      <th>188</th>\n",
       "      <td>ra_CoSuT_C</td>\n",
       "      <td>0.000036</td>\n",
       "    </tr>\n",
       "    <tr>\n",
       "      <th>189</th>\n",
       "      <td>ra_AjCoT_C</td>\n",
       "      <td>0.000034</td>\n",
       "    </tr>\n",
       "    <tr>\n",
       "      <th>190</th>\n",
       "      <td>ra_AvAjP_C</td>\n",
       "      <td>0.000034</td>\n",
       "    </tr>\n",
       "    <tr>\n",
       "      <th>191</th>\n",
       "      <td>ra_CoAvT_C</td>\n",
       "      <td>0.000027</td>\n",
       "    </tr>\n",
       "    <tr>\n",
       "      <th>192</th>\n",
       "      <td>ra_AvCoT_C</td>\n",
       "      <td>0.000014</td>\n",
       "    </tr>\n",
       "  </tbody>\n",
       "</table>\n",
       "<p>193 rows × 2 columns</p>\n",
       "</div>"
      ],
      "text/plain": [
       "       features    values\n",
       "0    at_Chara_C  0.043713\n",
       "1    as_Chara_C  0.029596\n",
       "2    at_Sylla_C  0.023137\n",
       "3    at_SbCDL_C  0.020281\n",
       "4    to_AAKuW_C  0.019198\n",
       "..          ...       ...\n",
       "188  ra_CoSuT_C  0.000036\n",
       "189  ra_AjCoT_C  0.000034\n",
       "190  ra_AvAjP_C  0.000034\n",
       "191  ra_CoAvT_C  0.000027\n",
       "192  ra_AvCoT_C  0.000014\n",
       "\n",
       "[193 rows x 2 columns]"
      ]
     },
     "execution_count": 547,
     "metadata": {},
     "output_type": "execute_result"
    }
   ],
   "source": [
    "FIdf = pd.DataFrame(FeatImp)\n",
    "FIdf.reset_index(inplace = True)\n",
    "FIdf = FIdf.rename(columns={'index':'features', 0:'values'})\n",
    "FIdf"
   ]
  },
  {
   "cell_type": "code",
   "execution_count": null,
   "id": "de5c3d58",
   "metadata": {},
   "outputs": [],
   "source": []
  },
  {
   "cell_type": "code",
   "execution_count": null,
   "id": "26536d76",
   "metadata": {},
   "outputs": [],
   "source": []
  },
  {
   "cell_type": "code",
   "execution_count": null,
   "id": "7d5a782d",
   "metadata": {},
   "outputs": [],
   "source": []
  },
  {
   "cell_type": "code",
   "execution_count": null,
   "id": "9b7f9402",
   "metadata": {},
   "outputs": [],
   "source": []
  },
  {
   "cell_type": "code",
   "execution_count": null,
   "id": "453950db",
   "metadata": {},
   "outputs": [],
   "source": []
  },
  {
   "cell_type": "code",
   "execution_count": null,
   "id": "2027d641",
   "metadata": {},
   "outputs": [],
   "source": []
  },
  {
   "cell_type": "code",
   "execution_count": null,
   "id": "43444b0c",
   "metadata": {},
   "outputs": [],
   "source": []
  },
  {
   "cell_type": "code",
   "execution_count": null,
   "id": "62443195",
   "metadata": {},
   "outputs": [],
   "source": []
  },
  {
   "cell_type": "code",
   "execution_count": null,
   "id": "1501e52d",
   "metadata": {},
   "outputs": [],
   "source": []
  },
  {
   "cell_type": "code",
   "execution_count": null,
   "id": "747bb50b",
   "metadata": {},
   "outputs": [],
   "source": []
  },
  {
   "cell_type": "code",
   "execution_count": null,
   "id": "5a34ee1a",
   "metadata": {},
   "outputs": [],
   "source": []
  },
  {
   "cell_type": "code",
   "execution_count": null,
   "id": "da495660",
   "metadata": {},
   "outputs": [],
   "source": []
  }
 ],
 "metadata": {
  "kernelspec": {
   "display_name": "Python 3",
   "language": "python",
   "name": "python3"
  },
  "language_info": {
   "codemirror_mode": {
    "name": "ipython",
    "version": 3
   },
   "file_extension": ".py",
   "mimetype": "text/x-python",
   "name": "python",
   "nbconvert_exporter": "python",
   "pygments_lexer": "ipython3",
   "version": "3.8.8"
  }
 },
 "nbformat": 4,
 "nbformat_minor": 5
}
