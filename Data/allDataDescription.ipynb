{
 "cells": [
  {
   "cell_type": "code",
   "execution_count": 337,
   "id": "8c9543d4",
   "metadata": {},
   "outputs": [],
   "source": [
    "import re\n",
    "import os\n",
    "import time\n",
    "import nltk\n",
    "import pickle\n",
    "import subprocess\n",
    "import numpy as np\n",
    "import pandas as pd\n",
    "import matplotlib.pyplot as plt"
   ]
  },
  {
   "cell_type": "code",
   "execution_count": 338,
   "id": "8d875727",
   "metadata": {},
   "outputs": [],
   "source": [
    "from sklearn.model_selection import train_test_split"
   ]
  },
  {
   "cell_type": "markdown",
   "id": "37805e8a",
   "metadata": {},
   "source": [
    "## LingFeat features"
   ]
  },
  {
   "cell_type": "markdown",
   "id": "b26e0b0b",
   "metadata": {},
   "source": [
    "**allLingfeat.p** file is a dataframe of extracted lingFeat"
   ]
  },
  {
   "cell_type": "code",
   "execution_count": 339,
   "id": "2c1cca00",
   "metadata": {},
   "outputs": [
    {
     "data": {
      "text/html": [
       "<div>\n",
       "<style scoped>\n",
       "    .dataframe tbody tr th:only-of-type {\n",
       "        vertical-align: middle;\n",
       "    }\n",
       "\n",
       "    .dataframe tbody tr th {\n",
       "        vertical-align: top;\n",
       "    }\n",
       "\n",
       "    .dataframe thead th {\n",
       "        text-align: right;\n",
       "    }\n",
       "</style>\n",
       "<table border=\"1\" class=\"dataframe\">\n",
       "  <thead>\n",
       "    <tr style=\"text-align: right;\">\n",
       "      <th></th>\n",
       "      <th>to_EntiM_C</th>\n",
       "      <th>as_EntiM_C</th>\n",
       "      <th>at_EntiM_C</th>\n",
       "      <th>to_UEnti_C</th>\n",
       "      <th>as_UEnti_C</th>\n",
       "      <th>at_UEnti_C</th>\n",
       "      <th>ra_SSTo_C</th>\n",
       "      <th>ra_SOTo_C</th>\n",
       "      <th>ra_SXTo_C</th>\n",
       "      <th>ra_SNTo_C</th>\n",
       "      <th>...</th>\n",
       "      <th>as_Sylla_C</th>\n",
       "      <th>at_Sylla_C</th>\n",
       "      <th>as_Chara_C</th>\n",
       "      <th>at_Chara_C</th>\n",
       "      <th>FleschG_S</th>\n",
       "      <th>AutoRea_S</th>\n",
       "      <th>ColeLia_S</th>\n",
       "      <th>SmogInd_S</th>\n",
       "      <th>Gunning_S</th>\n",
       "      <th>LinseaW_S</th>\n",
       "    </tr>\n",
       "  </thead>\n",
       "  <tbody>\n",
       "    <tr>\n",
       "      <th>0</th>\n",
       "      <td>1.0</td>\n",
       "      <td>0.5</td>\n",
       "      <td>0.250000</td>\n",
       "      <td>1.0</td>\n",
       "      <td>0.5</td>\n",
       "      <td>0.250000</td>\n",
       "      <td>0.0</td>\n",
       "      <td>0.0</td>\n",
       "      <td>0.0</td>\n",
       "      <td>0.0</td>\n",
       "      <td>...</td>\n",
       "      <td>2.0</td>\n",
       "      <td>1.000000</td>\n",
       "      <td>8.0</td>\n",
       "      <td>4.000000</td>\n",
       "      <td>2.890000</td>\n",
       "      <td>-1.910</td>\n",
       "      <td>-15.803568</td>\n",
       "      <td>1.414214</td>\n",
       "      <td>-0.50</td>\n",
       "      <td>0.00</td>\n",
       "    </tr>\n",
       "    <tr>\n",
       "      <th>1</th>\n",
       "      <td>0.0</td>\n",
       "      <td>0.0</td>\n",
       "      <td>0.000000</td>\n",
       "      <td>0.0</td>\n",
       "      <td>0.0</td>\n",
       "      <td>0.000000</td>\n",
       "      <td>0.0</td>\n",
       "      <td>0.0</td>\n",
       "      <td>0.0</td>\n",
       "      <td>0.0</td>\n",
       "      <td>...</td>\n",
       "      <td>1.5</td>\n",
       "      <td>1.000000</td>\n",
       "      <td>6.5</td>\n",
       "      <td>4.333333</td>\n",
       "      <td>-15.005000</td>\n",
       "      <td>-25.455</td>\n",
       "      <td>-15.804156</td>\n",
       "      <td>0.000000</td>\n",
       "      <td>-0.75</td>\n",
       "      <td>-0.25</td>\n",
       "    </tr>\n",
       "    <tr>\n",
       "      <th>2</th>\n",
       "      <td>0.0</td>\n",
       "      <td>0.0</td>\n",
       "      <td>0.000000</td>\n",
       "      <td>0.0</td>\n",
       "      <td>0.0</td>\n",
       "      <td>0.000000</td>\n",
       "      <td>0.0</td>\n",
       "      <td>0.0</td>\n",
       "      <td>0.0</td>\n",
       "      <td>0.0</td>\n",
       "      <td>...</td>\n",
       "      <td>2.5</td>\n",
       "      <td>1.250000</td>\n",
       "      <td>10.5</td>\n",
       "      <td>5.250000</td>\n",
       "      <td>-14.810000</td>\n",
       "      <td>-25.270</td>\n",
       "      <td>-15.803568</td>\n",
       "      <td>0.000000</td>\n",
       "      <td>-0.50</td>\n",
       "      <td>0.00</td>\n",
       "    </tr>\n",
       "    <tr>\n",
       "      <th>3</th>\n",
       "      <td>0.0</td>\n",
       "      <td>0.0</td>\n",
       "      <td>0.000000</td>\n",
       "      <td>0.0</td>\n",
       "      <td>0.0</td>\n",
       "      <td>0.000000</td>\n",
       "      <td>NaN</td>\n",
       "      <td>NaN</td>\n",
       "      <td>NaN</td>\n",
       "      <td>NaN</td>\n",
       "      <td>...</td>\n",
       "      <td>1.0</td>\n",
       "      <td>1.000000</td>\n",
       "      <td>3.5</td>\n",
       "      <td>3.500000</td>\n",
       "      <td>-15.200000</td>\n",
       "      <td>-25.640</td>\n",
       "      <td>-15.804744</td>\n",
       "      <td>0.000000</td>\n",
       "      <td>-1.00</td>\n",
       "      <td>-0.50</td>\n",
       "    </tr>\n",
       "    <tr>\n",
       "      <th>4</th>\n",
       "      <td>0.0</td>\n",
       "      <td>0.0</td>\n",
       "      <td>0.000000</td>\n",
       "      <td>0.0</td>\n",
       "      <td>0.0</td>\n",
       "      <td>0.000000</td>\n",
       "      <td>0.0</td>\n",
       "      <td>0.0</td>\n",
       "      <td>0.0</td>\n",
       "      <td>0.0</td>\n",
       "      <td>...</td>\n",
       "      <td>1.5</td>\n",
       "      <td>1.000000</td>\n",
       "      <td>6.0</td>\n",
       "      <td>4.000000</td>\n",
       "      <td>-15.005000</td>\n",
       "      <td>-25.455</td>\n",
       "      <td>-15.804156</td>\n",
       "      <td>0.000000</td>\n",
       "      <td>-0.75</td>\n",
       "      <td>-0.25</td>\n",
       "    </tr>\n",
       "    <tr>\n",
       "      <th>...</th>\n",
       "      <td>...</td>\n",
       "      <td>...</td>\n",
       "      <td>...</td>\n",
       "      <td>...</td>\n",
       "      <td>...</td>\n",
       "      <td>...</td>\n",
       "      <td>...</td>\n",
       "      <td>...</td>\n",
       "      <td>...</td>\n",
       "      <td>...</td>\n",
       "      <td>...</td>\n",
       "      <td>...</td>\n",
       "      <td>...</td>\n",
       "      <td>...</td>\n",
       "      <td>...</td>\n",
       "      <td>...</td>\n",
       "      <td>...</td>\n",
       "      <td>...</td>\n",
       "      <td>...</td>\n",
       "      <td>...</td>\n",
       "      <td>...</td>\n",
       "    </tr>\n",
       "    <tr>\n",
       "      <th>4741</th>\n",
       "      <td>1.0</td>\n",
       "      <td>0.5</td>\n",
       "      <td>0.333333</td>\n",
       "      <td>1.0</td>\n",
       "      <td>0.5</td>\n",
       "      <td>0.333333</td>\n",
       "      <td>0.0</td>\n",
       "      <td>0.0</td>\n",
       "      <td>0.0</td>\n",
       "      <td>0.0</td>\n",
       "      <td>...</td>\n",
       "      <td>1.0</td>\n",
       "      <td>0.666667</td>\n",
       "      <td>6.5</td>\n",
       "      <td>4.333333</td>\n",
       "      <td>-15.005000</td>\n",
       "      <td>-25.455</td>\n",
       "      <td>-15.804156</td>\n",
       "      <td>0.000000</td>\n",
       "      <td>-0.75</td>\n",
       "      <td>-0.25</td>\n",
       "    </tr>\n",
       "    <tr>\n",
       "      <th>4742</th>\n",
       "      <td>1.0</td>\n",
       "      <td>0.5</td>\n",
       "      <td>0.142857</td>\n",
       "      <td>1.0</td>\n",
       "      <td>0.5</td>\n",
       "      <td>0.142857</td>\n",
       "      <td>0.0</td>\n",
       "      <td>0.0</td>\n",
       "      <td>0.0</td>\n",
       "      <td>0.0</td>\n",
       "      <td>...</td>\n",
       "      <td>4.0</td>\n",
       "      <td>1.142857</td>\n",
       "      <td>14.0</td>\n",
       "      <td>4.000000</td>\n",
       "      <td>-0.739286</td>\n",
       "      <td>-1.355</td>\n",
       "      <td>-15.801804</td>\n",
       "      <td>1.414214</td>\n",
       "      <td>0.25</td>\n",
       "      <td>0.75</td>\n",
       "    </tr>\n",
       "    <tr>\n",
       "      <th>4743</th>\n",
       "      <td>0.0</td>\n",
       "      <td>0.0</td>\n",
       "      <td>0.000000</td>\n",
       "      <td>0.0</td>\n",
       "      <td>0.0</td>\n",
       "      <td>0.000000</td>\n",
       "      <td>NaN</td>\n",
       "      <td>NaN</td>\n",
       "      <td>NaN</td>\n",
       "      <td>NaN</td>\n",
       "      <td>...</td>\n",
       "      <td>0.0</td>\n",
       "      <td>0.000000</td>\n",
       "      <td>0.5</td>\n",
       "      <td>1.000000</td>\n",
       "      <td>-15.395000</td>\n",
       "      <td>-25.825</td>\n",
       "      <td>-15.805332</td>\n",
       "      <td>0.000000</td>\n",
       "      <td>-1.25</td>\n",
       "      <td>-0.75</td>\n",
       "    </tr>\n",
       "    <tr>\n",
       "      <th>4744</th>\n",
       "      <td>0.0</td>\n",
       "      <td>0.0</td>\n",
       "      <td>0.000000</td>\n",
       "      <td>0.0</td>\n",
       "      <td>0.0</td>\n",
       "      <td>0.000000</td>\n",
       "      <td>0.0</td>\n",
       "      <td>0.0</td>\n",
       "      <td>0.0</td>\n",
       "      <td>0.0</td>\n",
       "      <td>...</td>\n",
       "      <td>2.5</td>\n",
       "      <td>1.000000</td>\n",
       "      <td>8.0</td>\n",
       "      <td>3.200000</td>\n",
       "      <td>-2.815000</td>\n",
       "      <td>-6.397</td>\n",
       "      <td>-15.802980</td>\n",
       "      <td>1.000000</td>\n",
       "      <td>-0.25</td>\n",
       "      <td>0.25</td>\n",
       "    </tr>\n",
       "    <tr>\n",
       "      <th>4745</th>\n",
       "      <td>0.0</td>\n",
       "      <td>0.0</td>\n",
       "      <td>0.000000</td>\n",
       "      <td>0.0</td>\n",
       "      <td>0.0</td>\n",
       "      <td>0.000000</td>\n",
       "      <td>NaN</td>\n",
       "      <td>NaN</td>\n",
       "      <td>NaN</td>\n",
       "      <td>NaN</td>\n",
       "      <td>...</td>\n",
       "      <td>0.5</td>\n",
       "      <td>0.500000</td>\n",
       "      <td>1.5</td>\n",
       "      <td>1.500000</td>\n",
       "      <td>-15.200000</td>\n",
       "      <td>-25.640</td>\n",
       "      <td>-15.804744</td>\n",
       "      <td>0.000000</td>\n",
       "      <td>-1.00</td>\n",
       "      <td>-0.50</td>\n",
       "    </tr>\n",
       "  </tbody>\n",
       "</table>\n",
       "<p>4746 rows × 223 columns</p>\n",
       "</div>"
      ],
      "text/plain": [
       "      to_EntiM_C  as_EntiM_C  at_EntiM_C  to_UEnti_C  as_UEnti_C  at_UEnti_C  \\\n",
       "0            1.0         0.5    0.250000         1.0         0.5    0.250000   \n",
       "1            0.0         0.0    0.000000         0.0         0.0    0.000000   \n",
       "2            0.0         0.0    0.000000         0.0         0.0    0.000000   \n",
       "3            0.0         0.0    0.000000         0.0         0.0    0.000000   \n",
       "4            0.0         0.0    0.000000         0.0         0.0    0.000000   \n",
       "...          ...         ...         ...         ...         ...         ...   \n",
       "4741         1.0         0.5    0.333333         1.0         0.5    0.333333   \n",
       "4742         1.0         0.5    0.142857         1.0         0.5    0.142857   \n",
       "4743         0.0         0.0    0.000000         0.0         0.0    0.000000   \n",
       "4744         0.0         0.0    0.000000         0.0         0.0    0.000000   \n",
       "4745         0.0         0.0    0.000000         0.0         0.0    0.000000   \n",
       "\n",
       "      ra_SSTo_C  ra_SOTo_C  ra_SXTo_C  ra_SNTo_C  ...  as_Sylla_C  at_Sylla_C  \\\n",
       "0           0.0        0.0        0.0        0.0  ...         2.0    1.000000   \n",
       "1           0.0        0.0        0.0        0.0  ...         1.5    1.000000   \n",
       "2           0.0        0.0        0.0        0.0  ...         2.5    1.250000   \n",
       "3           NaN        NaN        NaN        NaN  ...         1.0    1.000000   \n",
       "4           0.0        0.0        0.0        0.0  ...         1.5    1.000000   \n",
       "...         ...        ...        ...        ...  ...         ...         ...   \n",
       "4741        0.0        0.0        0.0        0.0  ...         1.0    0.666667   \n",
       "4742        0.0        0.0        0.0        0.0  ...         4.0    1.142857   \n",
       "4743        NaN        NaN        NaN        NaN  ...         0.0    0.000000   \n",
       "4744        0.0        0.0        0.0        0.0  ...         2.5    1.000000   \n",
       "4745        NaN        NaN        NaN        NaN  ...         0.5    0.500000   \n",
       "\n",
       "      as_Chara_C  at_Chara_C  FleschG_S  AutoRea_S  ColeLia_S  SmogInd_S  \\\n",
       "0            8.0    4.000000   2.890000     -1.910 -15.803568   1.414214   \n",
       "1            6.5    4.333333 -15.005000    -25.455 -15.804156   0.000000   \n",
       "2           10.5    5.250000 -14.810000    -25.270 -15.803568   0.000000   \n",
       "3            3.5    3.500000 -15.200000    -25.640 -15.804744   0.000000   \n",
       "4            6.0    4.000000 -15.005000    -25.455 -15.804156   0.000000   \n",
       "...          ...         ...        ...        ...        ...        ...   \n",
       "4741         6.5    4.333333 -15.005000    -25.455 -15.804156   0.000000   \n",
       "4742        14.0    4.000000  -0.739286     -1.355 -15.801804   1.414214   \n",
       "4743         0.5    1.000000 -15.395000    -25.825 -15.805332   0.000000   \n",
       "4744         8.0    3.200000  -2.815000     -6.397 -15.802980   1.000000   \n",
       "4745         1.5    1.500000 -15.200000    -25.640 -15.804744   0.000000   \n",
       "\n",
       "      Gunning_S  LinseaW_S  \n",
       "0         -0.50       0.00  \n",
       "1         -0.75      -0.25  \n",
       "2         -0.50       0.00  \n",
       "3         -1.00      -0.50  \n",
       "4         -0.75      -0.25  \n",
       "...         ...        ...  \n",
       "4741      -0.75      -0.25  \n",
       "4742       0.25       0.75  \n",
       "4743      -1.25      -0.75  \n",
       "4744      -0.25       0.25  \n",
       "4745      -1.00      -0.50  \n",
       "\n",
       "[4746 rows x 223 columns]"
      ]
     },
     "execution_count": 339,
     "metadata": {},
     "output_type": "execute_result"
    }
   ],
   "source": [
    "allLingfeat_ = pickle.load(open('ExtractedDataSets/allLingfeat.p', 'rb'))\n",
    "allLingfeat_"
   ]
  },
  {
   "cell_type": "code",
   "execution_count": 340,
   "id": "ee699e6b",
   "metadata": {},
   "outputs": [],
   "source": [
    "# allLingfeat['class'] # not included\n",
    "# allLingfeat['query'] # not included"
   ]
  },
  {
   "cell_type": "markdown",
   "id": "af9c7f13",
   "metadata": {},
   "source": [
    "### Remove DISCO features\n",
    "\n",
    "The following feature are dropped because they are mostly used for paragraph and large text while search queries are usually single pheases and sentences"
   ]
  },
  {
   "cell_type": "code",
   "execution_count": 342,
   "id": "7b6ab989",
   "metadata": {},
   "outputs": [],
   "source": [
    "discoFeat = ['to_EntiM_C',\n",
    "            'as_EntiM_C',\n",
    "            'at_EntiM_C',\n",
    "            'to_UEnti_C',\n",
    "            'as_UEnti_C',\n",
    "            'at_UEnti_C',\n",
    "            'ra_SSToT_C',\n",
    "            'ra_SOToT_C',\n",
    "            'ra_SXToT_C',\n",
    "            'ra_SNToT_C',\n",
    "            'ra_OSToT_C',\n",
    "            'ra_OOToT_C',\n",
    "            'ra_OXToT_C',\n",
    "            'ra_ONToT_C',\n",
    "            'ra_XSToT_C',\n",
    "            'ra_XOToT_C',\n",
    "            'ra_XXToT_C',\n",
    "            'ra_XNToT_C',\n",
    "            'ra_NSToT_C',\n",
    "            'ra_NOToT_C',\n",
    "            'ra_NXToT_C',\n",
    "            'ra_NNToT_C',\n",
    "            'LoCohPA_S',\n",
    "            'LoCohPW_S',\n",
    "            'LoCohPU_S',\n",
    "            'LoCoDPA_S',\n",
    "            'LoCoDPW_S',\n",
    "            'LoCoDPU_S']"
   ]
  },
  {
   "cell_type": "code",
   "execution_count": 343,
   "id": "3072a48c",
   "metadata": {},
   "outputs": [
    {
     "data": {
      "text/plain": [
       "(4746, 195)"
      ]
     },
     "execution_count": 343,
     "metadata": {},
     "output_type": "execute_result"
    }
   ],
   "source": [
    "allLingfeat = allLingfeat_.copy()\n",
    "allLingfeat = allLingfeat.drop(discoFeat, axis=1)\n",
    "allLingfeat.shape"
   ]
  },
  {
   "cell_type": "markdown",
   "id": "846fc871",
   "metadata": {},
   "source": [
    "## Spelling and Punctuation features"
   ]
  },
  {
   "cell_type": "code",
   "execution_count": 344,
   "id": "888740cc",
   "metadata": {},
   "outputs": [
    {
     "data": {
      "text/html": [
       "<div>\n",
       "<style scoped>\n",
       "    .dataframe tbody tr th:only-of-type {\n",
       "        vertical-align: middle;\n",
       "    }\n",
       "\n",
       "    .dataframe tbody tr th {\n",
       "        vertical-align: top;\n",
       "    }\n",
       "\n",
       "    .dataframe thead th {\n",
       "        text-align: right;\n",
       "    }\n",
       "</style>\n",
       "<table border=\"1\" class=\"dataframe\">\n",
       "  <thead>\n",
       "    <tr style=\"text-align: right;\">\n",
       "      <th></th>\n",
       "      <th>numSpellingErrors</th>\n",
       "      <th>query</th>\n",
       "      <th>offByOne</th>\n",
       "      <th>kidsError</th>\n",
       "      <th>punct</th>\n",
       "      <th>casing</th>\n",
       "    </tr>\n",
       "  </thead>\n",
       "  <tbody>\n",
       "    <tr>\n",
       "      <th>0</th>\n",
       "      <td>0</td>\n",
       "      <td>US civil war causes</td>\n",
       "      <td>0</td>\n",
       "      <td>0</td>\n",
       "      <td>0</td>\n",
       "      <td>1</td>\n",
       "    </tr>\n",
       "    <tr>\n",
       "      <th>1</th>\n",
       "      <td>0</td>\n",
       "      <td>scooter brands</td>\n",
       "      <td>0</td>\n",
       "      <td>0</td>\n",
       "      <td>0</td>\n",
       "      <td>0</td>\n",
       "    </tr>\n",
       "    <tr>\n",
       "      <th>2</th>\n",
       "      <td>0</td>\n",
       "      <td>scooter brands reliable</td>\n",
       "      <td>0</td>\n",
       "      <td>0</td>\n",
       "      <td>0</td>\n",
       "      <td>0</td>\n",
       "    </tr>\n",
       "    <tr>\n",
       "      <th>3</th>\n",
       "      <td>0</td>\n",
       "      <td>scooter</td>\n",
       "      <td>0</td>\n",
       "      <td>0</td>\n",
       "      <td>0</td>\n",
       "      <td>0</td>\n",
       "    </tr>\n",
       "    <tr>\n",
       "      <th>4</th>\n",
       "      <td>0</td>\n",
       "      <td>scooter cheap</td>\n",
       "      <td>0</td>\n",
       "      <td>0</td>\n",
       "      <td>0</td>\n",
       "      <td>0</td>\n",
       "    </tr>\n",
       "    <tr>\n",
       "      <th>...</th>\n",
       "      <td>...</td>\n",
       "      <td>...</td>\n",
       "      <td>...</td>\n",
       "      <td>...</td>\n",
       "      <td>...</td>\n",
       "      <td>...</td>\n",
       "    </tr>\n",
       "    <tr>\n",
       "      <th>4741</th>\n",
       "      <td>0</td>\n",
       "      <td>House of dreams</td>\n",
       "      <td>0</td>\n",
       "      <td>0</td>\n",
       "      <td>0</td>\n",
       "      <td>1</td>\n",
       "    </tr>\n",
       "    <tr>\n",
       "      <th>4742</th>\n",
       "      <td>0</td>\n",
       "      <td>When did Desmond doss get married</td>\n",
       "      <td>0</td>\n",
       "      <td>0</td>\n",
       "      <td>0</td>\n",
       "      <td>1</td>\n",
       "    </tr>\n",
       "    <tr>\n",
       "      <th>4743</th>\n",
       "      <td>1</td>\n",
       "      <td>H</td>\n",
       "      <td>1</td>\n",
       "      <td>0</td>\n",
       "      <td>0</td>\n",
       "      <td>1</td>\n",
       "    </tr>\n",
       "    <tr>\n",
       "      <th>4744</th>\n",
       "      <td>0</td>\n",
       "      <td>find fact about dog</td>\n",
       "      <td>0</td>\n",
       "      <td>0</td>\n",
       "      <td>0</td>\n",
       "      <td>0</td>\n",
       "    </tr>\n",
       "    <tr>\n",
       "      <th>4745</th>\n",
       "      <td>0</td>\n",
       "      <td>kid</td>\n",
       "      <td>0</td>\n",
       "      <td>0</td>\n",
       "      <td>0</td>\n",
       "      <td>0</td>\n",
       "    </tr>\n",
       "  </tbody>\n",
       "</table>\n",
       "<p>4746 rows × 6 columns</p>\n",
       "</div>"
      ],
      "text/plain": [
       "      numSpellingErrors                              query  offByOne  \\\n",
       "0                     0                US civil war causes         0   \n",
       "1                     0                     scooter brands         0   \n",
       "2                     0            scooter brands reliable         0   \n",
       "3                     0                            scooter         0   \n",
       "4                     0                      scooter cheap         0   \n",
       "...                 ...                                ...       ...   \n",
       "4741                  0                    House of dreams         0   \n",
       "4742                  0  When did Desmond doss get married         0   \n",
       "4743                  1                                  H         1   \n",
       "4744                  0                find fact about dog         0   \n",
       "4745                  0                                kid         0   \n",
       "\n",
       "      kidsError  punct  casing  \n",
       "0             0      0       1  \n",
       "1             0      0       0  \n",
       "2             0      0       0  \n",
       "3             0      0       0  \n",
       "4             0      0       0  \n",
       "...         ...    ...     ...  \n",
       "4741          0      0       1  \n",
       "4742          0      0       1  \n",
       "4743          0      0       1  \n",
       "4744          0      0       0  \n",
       "4745          0      0       0  \n",
       "\n",
       "[4746 rows x 6 columns]"
      ]
     },
     "execution_count": 344,
     "metadata": {},
     "output_type": "execute_result"
    }
   ],
   "source": [
    "SPFeat = pickle.load(open('data/ExtractedDataSets/SPFeat.p','rb'))\n",
    "SPFeat"
   ]
  },
  {
   "cell_type": "code",
   "execution_count": 345,
   "id": "a7011d50",
   "metadata": {},
   "outputs": [],
   "source": [
    "# SPFeat['class'] # not included\n",
    "# SPFeat['query'] # included"
   ]
  },
  {
   "cell_type": "markdown",
   "id": "2afee606",
   "metadata": {},
   "source": [
    "#### drop ``query column`` "
   ]
  },
  {
   "cell_type": "code",
   "execution_count": 346,
   "id": "b35362e8",
   "metadata": {},
   "outputs": [],
   "source": [
    "SPFeat.drop(columns = ['query'], inplace = True, axis=1)"
   ]
  },
  {
   "cell_type": "code",
   "execution_count": 347,
   "id": "b1b39e2a",
   "metadata": {},
   "outputs": [
    {
     "data": {
      "text/html": [
       "<div>\n",
       "<style scoped>\n",
       "    .dataframe tbody tr th:only-of-type {\n",
       "        vertical-align: middle;\n",
       "    }\n",
       "\n",
       "    .dataframe tbody tr th {\n",
       "        vertical-align: top;\n",
       "    }\n",
       "\n",
       "    .dataframe thead th {\n",
       "        text-align: right;\n",
       "    }\n",
       "</style>\n",
       "<table border=\"1\" class=\"dataframe\">\n",
       "  <thead>\n",
       "    <tr style=\"text-align: right;\">\n",
       "      <th></th>\n",
       "      <th>numSpellingErrors</th>\n",
       "      <th>offByOne</th>\n",
       "      <th>kidsError</th>\n",
       "      <th>punct</th>\n",
       "      <th>casing</th>\n",
       "    </tr>\n",
       "  </thead>\n",
       "  <tbody>\n",
       "    <tr>\n",
       "      <th>0</th>\n",
       "      <td>0</td>\n",
       "      <td>0</td>\n",
       "      <td>0</td>\n",
       "      <td>0</td>\n",
       "      <td>1</td>\n",
       "    </tr>\n",
       "    <tr>\n",
       "      <th>1</th>\n",
       "      <td>0</td>\n",
       "      <td>0</td>\n",
       "      <td>0</td>\n",
       "      <td>0</td>\n",
       "      <td>0</td>\n",
       "    </tr>\n",
       "    <tr>\n",
       "      <th>2</th>\n",
       "      <td>0</td>\n",
       "      <td>0</td>\n",
       "      <td>0</td>\n",
       "      <td>0</td>\n",
       "      <td>0</td>\n",
       "    </tr>\n",
       "    <tr>\n",
       "      <th>3</th>\n",
       "      <td>0</td>\n",
       "      <td>0</td>\n",
       "      <td>0</td>\n",
       "      <td>0</td>\n",
       "      <td>0</td>\n",
       "    </tr>\n",
       "    <tr>\n",
       "      <th>4</th>\n",
       "      <td>0</td>\n",
       "      <td>0</td>\n",
       "      <td>0</td>\n",
       "      <td>0</td>\n",
       "      <td>0</td>\n",
       "    </tr>\n",
       "    <tr>\n",
       "      <th>...</th>\n",
       "      <td>...</td>\n",
       "      <td>...</td>\n",
       "      <td>...</td>\n",
       "      <td>...</td>\n",
       "      <td>...</td>\n",
       "    </tr>\n",
       "    <tr>\n",
       "      <th>4741</th>\n",
       "      <td>0</td>\n",
       "      <td>0</td>\n",
       "      <td>0</td>\n",
       "      <td>0</td>\n",
       "      <td>1</td>\n",
       "    </tr>\n",
       "    <tr>\n",
       "      <th>4742</th>\n",
       "      <td>0</td>\n",
       "      <td>0</td>\n",
       "      <td>0</td>\n",
       "      <td>0</td>\n",
       "      <td>1</td>\n",
       "    </tr>\n",
       "    <tr>\n",
       "      <th>4743</th>\n",
       "      <td>1</td>\n",
       "      <td>1</td>\n",
       "      <td>0</td>\n",
       "      <td>0</td>\n",
       "      <td>1</td>\n",
       "    </tr>\n",
       "    <tr>\n",
       "      <th>4744</th>\n",
       "      <td>0</td>\n",
       "      <td>0</td>\n",
       "      <td>0</td>\n",
       "      <td>0</td>\n",
       "      <td>0</td>\n",
       "    </tr>\n",
       "    <tr>\n",
       "      <th>4745</th>\n",
       "      <td>0</td>\n",
       "      <td>0</td>\n",
       "      <td>0</td>\n",
       "      <td>0</td>\n",
       "      <td>0</td>\n",
       "    </tr>\n",
       "  </tbody>\n",
       "</table>\n",
       "<p>4746 rows × 5 columns</p>\n",
       "</div>"
      ],
      "text/plain": [
       "      numSpellingErrors  offByOne  kidsError  punct  casing\n",
       "0                     0         0          0      0       1\n",
       "1                     0         0          0      0       0\n",
       "2                     0         0          0      0       0\n",
       "3                     0         0          0      0       0\n",
       "4                     0         0          0      0       0\n",
       "...                 ...       ...        ...    ...     ...\n",
       "4741                  0         0          0      0       1\n",
       "4742                  0         0          0      0       1\n",
       "4743                  1         1          0      0       1\n",
       "4744                  0         0          0      0       0\n",
       "4745                  0         0          0      0       0\n",
       "\n",
       "[4746 rows x 5 columns]"
      ]
     },
     "execution_count": 347,
     "metadata": {},
     "output_type": "execute_result"
    }
   ],
   "source": [
    "SPFeat"
   ]
  },
  {
   "cell_type": "markdown",
   "id": "a84ec342",
   "metadata": {},
   "source": [
    "## Other features"
   ]
  },
  {
   "cell_type": "code",
   "execution_count": 348,
   "id": "a902e394",
   "metadata": {},
   "outputs": [
    {
     "data": {
      "text/html": [
       "<div>\n",
       "<style scoped>\n",
       "    .dataframe tbody tr th:only-of-type {\n",
       "        vertical-align: middle;\n",
       "    }\n",
       "\n",
       "    .dataframe tbody tr th {\n",
       "        vertical-align: top;\n",
       "    }\n",
       "\n",
       "    .dataframe thead th {\n",
       "        text-align: right;\n",
       "    }\n",
       "</style>\n",
       "<table border=\"1\" class=\"dataframe\">\n",
       "  <thead>\n",
       "    <tr style=\"text-align: right;\">\n",
       "      <th></th>\n",
       "      <th>query</th>\n",
       "      <th>class</th>\n",
       "      <th>ratioAbs</th>\n",
       "      <th>ratioConc</th>\n",
       "    </tr>\n",
       "  </thead>\n",
       "  <tbody>\n",
       "    <tr>\n",
       "      <th>0</th>\n",
       "      <td>US civil war causes</td>\n",
       "      <td>0</td>\n",
       "      <td>0.250000</td>\n",
       "      <td>0.250000</td>\n",
       "    </tr>\n",
       "    <tr>\n",
       "      <th>1</th>\n",
       "      <td>scooter brands</td>\n",
       "      <td>0</td>\n",
       "      <td>0.000000</td>\n",
       "      <td>0.500000</td>\n",
       "    </tr>\n",
       "    <tr>\n",
       "      <th>2</th>\n",
       "      <td>scooter brands reliable</td>\n",
       "      <td>0</td>\n",
       "      <td>0.333333</td>\n",
       "      <td>0.333333</td>\n",
       "    </tr>\n",
       "    <tr>\n",
       "      <th>3</th>\n",
       "      <td>scooter</td>\n",
       "      <td>0</td>\n",
       "      <td>0.000000</td>\n",
       "      <td>1.000000</td>\n",
       "    </tr>\n",
       "    <tr>\n",
       "      <th>4</th>\n",
       "      <td>scooter cheap</td>\n",
       "      <td>0</td>\n",
       "      <td>0.500000</td>\n",
       "      <td>0.500000</td>\n",
       "    </tr>\n",
       "    <tr>\n",
       "      <th>...</th>\n",
       "      <td>...</td>\n",
       "      <td>...</td>\n",
       "      <td>...</td>\n",
       "      <td>...</td>\n",
       "    </tr>\n",
       "    <tr>\n",
       "      <th>4741</th>\n",
       "      <td>House of dreams</td>\n",
       "      <td>1</td>\n",
       "      <td>0.333333</td>\n",
       "      <td>0.000000</td>\n",
       "    </tr>\n",
       "    <tr>\n",
       "      <th>4742</th>\n",
       "      <td>When did Desmond doss get married</td>\n",
       "      <td>1</td>\n",
       "      <td>0.500000</td>\n",
       "      <td>0.000000</td>\n",
       "    </tr>\n",
       "    <tr>\n",
       "      <th>4743</th>\n",
       "      <td>H</td>\n",
       "      <td>1</td>\n",
       "      <td>0.000000</td>\n",
       "      <td>0.000000</td>\n",
       "    </tr>\n",
       "    <tr>\n",
       "      <th>4744</th>\n",
       "      <td>find fact about dog</td>\n",
       "      <td>1</td>\n",
       "      <td>0.750000</td>\n",
       "      <td>0.250000</td>\n",
       "    </tr>\n",
       "    <tr>\n",
       "      <th>4745</th>\n",
       "      <td>kid</td>\n",
       "      <td>1</td>\n",
       "      <td>0.000000</td>\n",
       "      <td>1.000000</td>\n",
       "    </tr>\n",
       "  </tbody>\n",
       "</table>\n",
       "<p>4746 rows × 4 columns</p>\n",
       "</div>"
      ],
      "text/plain": [
       "                                  query  class  ratioAbs  ratioConc\n",
       "0                   US civil war causes      0  0.250000   0.250000\n",
       "1                        scooter brands      0  0.000000   0.500000\n",
       "2               scooter brands reliable      0  0.333333   0.333333\n",
       "3                               scooter      0  0.000000   1.000000\n",
       "4                         scooter cheap      0  0.500000   0.500000\n",
       "...                                 ...    ...       ...        ...\n",
       "4741                    House of dreams      1  0.333333   0.000000\n",
       "4742  When did Desmond doss get married      1  0.500000   0.000000\n",
       "4743                                  H      1  0.000000   0.000000\n",
       "4744                find fact about dog      1  0.750000   0.250000\n",
       "4745                                kid      1  0.000000   1.000000\n",
       "\n",
       "[4746 rows x 4 columns]"
      ]
     },
     "execution_count": 348,
     "metadata": {},
     "output_type": "execute_result"
    }
   ],
   "source": [
    "otherFeat = pickle.load(open('data/ExtractedDataSets/otherFeat.p','rb'))\n",
    "otherFeat\n"
   ]
  },
  {
   "cell_type": "code",
   "execution_count": 349,
   "id": "dbbbf881",
   "metadata": {},
   "outputs": [],
   "source": [
    "# otherFeat['class'] # included\n",
    "# otherFeat['query'] # included"
   ]
  },
  {
   "cell_type": "code",
   "execution_count": 350,
   "id": "965e818f",
   "metadata": {},
   "outputs": [
    {
     "data": {
      "text/html": [
       "<div>\n",
       "<style scoped>\n",
       "    .dataframe tbody tr th:only-of-type {\n",
       "        vertical-align: middle;\n",
       "    }\n",
       "\n",
       "    .dataframe tbody tr th {\n",
       "        vertical-align: top;\n",
       "    }\n",
       "\n",
       "    .dataframe thead th {\n",
       "        text-align: right;\n",
       "    }\n",
       "</style>\n",
       "<table border=\"1\" class=\"dataframe\">\n",
       "  <thead>\n",
       "    <tr style=\"text-align: right;\">\n",
       "      <th></th>\n",
       "      <th>ra_SSTo_C</th>\n",
       "      <th>ra_SOTo_C</th>\n",
       "      <th>ra_SXTo_C</th>\n",
       "      <th>ra_SNTo_C</th>\n",
       "      <th>ra_OSTo_C</th>\n",
       "      <th>ra_OOTo_C</th>\n",
       "      <th>ra_OXTo_C</th>\n",
       "      <th>ra_ONTo_C</th>\n",
       "      <th>ra_XSTo_C</th>\n",
       "      <th>ra_XOTo_C</th>\n",
       "      <th>...</th>\n",
       "      <th>LinseaW_S</th>\n",
       "      <th>query</th>\n",
       "      <th>class</th>\n",
       "      <th>ratioAbs</th>\n",
       "      <th>ratioConc</th>\n",
       "      <th>numSpellingErrors</th>\n",
       "      <th>offByOne</th>\n",
       "      <th>kidsError</th>\n",
       "      <th>punct</th>\n",
       "      <th>casing</th>\n",
       "    </tr>\n",
       "  </thead>\n",
       "  <tbody>\n",
       "    <tr>\n",
       "      <th>0</th>\n",
       "      <td>0.0</td>\n",
       "      <td>0.0</td>\n",
       "      <td>0.0</td>\n",
       "      <td>0.0</td>\n",
       "      <td>0.0</td>\n",
       "      <td>0.0</td>\n",
       "      <td>0.0</td>\n",
       "      <td>0.0</td>\n",
       "      <td>0.0</td>\n",
       "      <td>0.0</td>\n",
       "      <td>...</td>\n",
       "      <td>0.00</td>\n",
       "      <td>US civil war causes</td>\n",
       "      <td>0</td>\n",
       "      <td>0.250000</td>\n",
       "      <td>0.250000</td>\n",
       "      <td>0</td>\n",
       "      <td>0</td>\n",
       "      <td>0</td>\n",
       "      <td>0</td>\n",
       "      <td>1</td>\n",
       "    </tr>\n",
       "    <tr>\n",
       "      <th>1</th>\n",
       "      <td>0.0</td>\n",
       "      <td>0.0</td>\n",
       "      <td>0.0</td>\n",
       "      <td>0.0</td>\n",
       "      <td>0.0</td>\n",
       "      <td>0.0</td>\n",
       "      <td>0.0</td>\n",
       "      <td>0.0</td>\n",
       "      <td>0.0</td>\n",
       "      <td>0.0</td>\n",
       "      <td>...</td>\n",
       "      <td>-0.25</td>\n",
       "      <td>scooter brands</td>\n",
       "      <td>0</td>\n",
       "      <td>0.000000</td>\n",
       "      <td>0.500000</td>\n",
       "      <td>0</td>\n",
       "      <td>0</td>\n",
       "      <td>0</td>\n",
       "      <td>0</td>\n",
       "      <td>0</td>\n",
       "    </tr>\n",
       "    <tr>\n",
       "      <th>2</th>\n",
       "      <td>0.0</td>\n",
       "      <td>0.0</td>\n",
       "      <td>0.0</td>\n",
       "      <td>0.0</td>\n",
       "      <td>0.0</td>\n",
       "      <td>0.0</td>\n",
       "      <td>0.0</td>\n",
       "      <td>0.0</td>\n",
       "      <td>0.0</td>\n",
       "      <td>0.0</td>\n",
       "      <td>...</td>\n",
       "      <td>0.00</td>\n",
       "      <td>scooter brands reliable</td>\n",
       "      <td>0</td>\n",
       "      <td>0.333333</td>\n",
       "      <td>0.333333</td>\n",
       "      <td>0</td>\n",
       "      <td>0</td>\n",
       "      <td>0</td>\n",
       "      <td>0</td>\n",
       "      <td>0</td>\n",
       "    </tr>\n",
       "    <tr>\n",
       "      <th>3</th>\n",
       "      <td>NaN</td>\n",
       "      <td>NaN</td>\n",
       "      <td>NaN</td>\n",
       "      <td>NaN</td>\n",
       "      <td>NaN</td>\n",
       "      <td>NaN</td>\n",
       "      <td>NaN</td>\n",
       "      <td>NaN</td>\n",
       "      <td>NaN</td>\n",
       "      <td>NaN</td>\n",
       "      <td>...</td>\n",
       "      <td>-0.50</td>\n",
       "      <td>scooter</td>\n",
       "      <td>0</td>\n",
       "      <td>0.000000</td>\n",
       "      <td>1.000000</td>\n",
       "      <td>0</td>\n",
       "      <td>0</td>\n",
       "      <td>0</td>\n",
       "      <td>0</td>\n",
       "      <td>0</td>\n",
       "    </tr>\n",
       "    <tr>\n",
       "      <th>4</th>\n",
       "      <td>0.0</td>\n",
       "      <td>0.0</td>\n",
       "      <td>0.0</td>\n",
       "      <td>0.0</td>\n",
       "      <td>0.0</td>\n",
       "      <td>0.0</td>\n",
       "      <td>0.0</td>\n",
       "      <td>0.0</td>\n",
       "      <td>0.0</td>\n",
       "      <td>0.0</td>\n",
       "      <td>...</td>\n",
       "      <td>-0.25</td>\n",
       "      <td>scooter cheap</td>\n",
       "      <td>0</td>\n",
       "      <td>0.500000</td>\n",
       "      <td>0.500000</td>\n",
       "      <td>0</td>\n",
       "      <td>0</td>\n",
       "      <td>0</td>\n",
       "      <td>0</td>\n",
       "      <td>0</td>\n",
       "    </tr>\n",
       "    <tr>\n",
       "      <th>...</th>\n",
       "      <td>...</td>\n",
       "      <td>...</td>\n",
       "      <td>...</td>\n",
       "      <td>...</td>\n",
       "      <td>...</td>\n",
       "      <td>...</td>\n",
       "      <td>...</td>\n",
       "      <td>...</td>\n",
       "      <td>...</td>\n",
       "      <td>...</td>\n",
       "      <td>...</td>\n",
       "      <td>...</td>\n",
       "      <td>...</td>\n",
       "      <td>...</td>\n",
       "      <td>...</td>\n",
       "      <td>...</td>\n",
       "      <td>...</td>\n",
       "      <td>...</td>\n",
       "      <td>...</td>\n",
       "      <td>...</td>\n",
       "      <td>...</td>\n",
       "    </tr>\n",
       "    <tr>\n",
       "      <th>4741</th>\n",
       "      <td>0.0</td>\n",
       "      <td>0.0</td>\n",
       "      <td>0.0</td>\n",
       "      <td>0.0</td>\n",
       "      <td>0.0</td>\n",
       "      <td>0.0</td>\n",
       "      <td>0.0</td>\n",
       "      <td>0.0</td>\n",
       "      <td>0.0</td>\n",
       "      <td>0.0</td>\n",
       "      <td>...</td>\n",
       "      <td>-0.25</td>\n",
       "      <td>House of dreams</td>\n",
       "      <td>1</td>\n",
       "      <td>0.333333</td>\n",
       "      <td>0.000000</td>\n",
       "      <td>0</td>\n",
       "      <td>0</td>\n",
       "      <td>0</td>\n",
       "      <td>0</td>\n",
       "      <td>1</td>\n",
       "    </tr>\n",
       "    <tr>\n",
       "      <th>4742</th>\n",
       "      <td>0.0</td>\n",
       "      <td>0.0</td>\n",
       "      <td>0.0</td>\n",
       "      <td>0.0</td>\n",
       "      <td>0.0</td>\n",
       "      <td>0.0</td>\n",
       "      <td>0.0</td>\n",
       "      <td>0.0</td>\n",
       "      <td>0.0</td>\n",
       "      <td>0.0</td>\n",
       "      <td>...</td>\n",
       "      <td>0.75</td>\n",
       "      <td>When did Desmond doss get married</td>\n",
       "      <td>1</td>\n",
       "      <td>0.500000</td>\n",
       "      <td>0.000000</td>\n",
       "      <td>0</td>\n",
       "      <td>0</td>\n",
       "      <td>0</td>\n",
       "      <td>0</td>\n",
       "      <td>1</td>\n",
       "    </tr>\n",
       "    <tr>\n",
       "      <th>4743</th>\n",
       "      <td>NaN</td>\n",
       "      <td>NaN</td>\n",
       "      <td>NaN</td>\n",
       "      <td>NaN</td>\n",
       "      <td>NaN</td>\n",
       "      <td>NaN</td>\n",
       "      <td>NaN</td>\n",
       "      <td>NaN</td>\n",
       "      <td>NaN</td>\n",
       "      <td>NaN</td>\n",
       "      <td>...</td>\n",
       "      <td>-0.75</td>\n",
       "      <td>H</td>\n",
       "      <td>1</td>\n",
       "      <td>0.000000</td>\n",
       "      <td>0.000000</td>\n",
       "      <td>1</td>\n",
       "      <td>1</td>\n",
       "      <td>0</td>\n",
       "      <td>0</td>\n",
       "      <td>1</td>\n",
       "    </tr>\n",
       "    <tr>\n",
       "      <th>4744</th>\n",
       "      <td>0.0</td>\n",
       "      <td>0.0</td>\n",
       "      <td>0.0</td>\n",
       "      <td>0.0</td>\n",
       "      <td>0.0</td>\n",
       "      <td>0.0</td>\n",
       "      <td>0.0</td>\n",
       "      <td>0.0</td>\n",
       "      <td>0.0</td>\n",
       "      <td>0.0</td>\n",
       "      <td>...</td>\n",
       "      <td>0.25</td>\n",
       "      <td>find fact about dog</td>\n",
       "      <td>1</td>\n",
       "      <td>0.750000</td>\n",
       "      <td>0.250000</td>\n",
       "      <td>0</td>\n",
       "      <td>0</td>\n",
       "      <td>0</td>\n",
       "      <td>0</td>\n",
       "      <td>0</td>\n",
       "    </tr>\n",
       "    <tr>\n",
       "      <th>4745</th>\n",
       "      <td>NaN</td>\n",
       "      <td>NaN</td>\n",
       "      <td>NaN</td>\n",
       "      <td>NaN</td>\n",
       "      <td>NaN</td>\n",
       "      <td>NaN</td>\n",
       "      <td>NaN</td>\n",
       "      <td>NaN</td>\n",
       "      <td>NaN</td>\n",
       "      <td>NaN</td>\n",
       "      <td>...</td>\n",
       "      <td>-0.50</td>\n",
       "      <td>kid</td>\n",
       "      <td>1</td>\n",
       "      <td>0.000000</td>\n",
       "      <td>1.000000</td>\n",
       "      <td>0</td>\n",
       "      <td>0</td>\n",
       "      <td>0</td>\n",
       "      <td>0</td>\n",
       "      <td>0</td>\n",
       "    </tr>\n",
       "  </tbody>\n",
       "</table>\n",
       "<p>4746 rows × 204 columns</p>\n",
       "</div>"
      ],
      "text/plain": [
       "      ra_SSTo_C  ra_SOTo_C  ra_SXTo_C  ra_SNTo_C  ra_OSTo_C  ra_OOTo_C  \\\n",
       "0           0.0        0.0        0.0        0.0        0.0        0.0   \n",
       "1           0.0        0.0        0.0        0.0        0.0        0.0   \n",
       "2           0.0        0.0        0.0        0.0        0.0        0.0   \n",
       "3           NaN        NaN        NaN        NaN        NaN        NaN   \n",
       "4           0.0        0.0        0.0        0.0        0.0        0.0   \n",
       "...         ...        ...        ...        ...        ...        ...   \n",
       "4741        0.0        0.0        0.0        0.0        0.0        0.0   \n",
       "4742        0.0        0.0        0.0        0.0        0.0        0.0   \n",
       "4743        NaN        NaN        NaN        NaN        NaN        NaN   \n",
       "4744        0.0        0.0        0.0        0.0        0.0        0.0   \n",
       "4745        NaN        NaN        NaN        NaN        NaN        NaN   \n",
       "\n",
       "      ra_OXTo_C  ra_ONTo_C  ra_XSTo_C  ra_XOTo_C  ...  LinseaW_S  \\\n",
       "0           0.0        0.0        0.0        0.0  ...       0.00   \n",
       "1           0.0        0.0        0.0        0.0  ...      -0.25   \n",
       "2           0.0        0.0        0.0        0.0  ...       0.00   \n",
       "3           NaN        NaN        NaN        NaN  ...      -0.50   \n",
       "4           0.0        0.0        0.0        0.0  ...      -0.25   \n",
       "...         ...        ...        ...        ...  ...        ...   \n",
       "4741        0.0        0.0        0.0        0.0  ...      -0.25   \n",
       "4742        0.0        0.0        0.0        0.0  ...       0.75   \n",
       "4743        NaN        NaN        NaN        NaN  ...      -0.75   \n",
       "4744        0.0        0.0        0.0        0.0  ...       0.25   \n",
       "4745        NaN        NaN        NaN        NaN  ...      -0.50   \n",
       "\n",
       "                                  query  class  ratioAbs  ratioConc  \\\n",
       "0                   US civil war causes      0  0.250000   0.250000   \n",
       "1                        scooter brands      0  0.000000   0.500000   \n",
       "2               scooter brands reliable      0  0.333333   0.333333   \n",
       "3                               scooter      0  0.000000   1.000000   \n",
       "4                         scooter cheap      0  0.500000   0.500000   \n",
       "...                                 ...    ...       ...        ...   \n",
       "4741                    House of dreams      1  0.333333   0.000000   \n",
       "4742  When did Desmond doss get married      1  0.500000   0.000000   \n",
       "4743                                  H      1  0.000000   0.000000   \n",
       "4744                find fact about dog      1  0.750000   0.250000   \n",
       "4745                                kid      1  0.000000   1.000000   \n",
       "\n",
       "      numSpellingErrors  offByOne  kidsError  punct  casing  \n",
       "0                     0         0          0      0       1  \n",
       "1                     0         0          0      0       0  \n",
       "2                     0         0          0      0       0  \n",
       "3                     0         0          0      0       0  \n",
       "4                     0         0          0      0       0  \n",
       "...                 ...       ...        ...    ...     ...  \n",
       "4741                  0         0          0      0       1  \n",
       "4742                  0         0          0      0       1  \n",
       "4743                  1         1          0      0       1  \n",
       "4744                  0         0          0      0       0  \n",
       "4745                  0         0          0      0       0  \n",
       "\n",
       "[4746 rows x 204 columns]"
      ]
     },
     "execution_count": 350,
     "metadata": {},
     "output_type": "execute_result"
    }
   ],
   "source": [
    "allFeatAdded_ = pd.concat([allLingfeat,\n",
    "                           otherFeat,\n",
    "                           SPFeat], \n",
    "                        axis = 1)\n",
    "allFeatAdded_.reset_index(inplace = True, drop = True)\n",
    "allFeatAdded_\n"
   ]
  },
  {
   "cell_type": "markdown",
   "id": "f3c0b9a5",
   "metadata": {},
   "source": [
    "### Check duplicate columns"
   ]
  },
  {
   "cell_type": "code",
   "execution_count": 351,
   "id": "9e8cc0c1",
   "metadata": {},
   "outputs": [],
   "source": [
    "cols = allFeatAdded_.columns.tolist()"
   ]
  },
  {
   "cell_type": "code",
   "execution_count": 352,
   "id": "411981d6",
   "metadata": {},
   "outputs": [
    {
     "data": {
      "text/plain": [
       "True"
      ]
     },
     "execution_count": 352,
     "metadata": {},
     "output_type": "execute_result"
    }
   ],
   "source": [
    "len(cols) == len(set(cols))"
   ]
  },
  {
   "cell_type": "markdown",
   "id": "077dd02c",
   "metadata": {},
   "source": [
    "## Make a dataframe copy"
   ]
  },
  {
   "cell_type": "code",
   "execution_count": 353,
   "id": "f7f7cb16",
   "metadata": {},
   "outputs": [],
   "source": [
    "allFeatAdded = allFeatAdded_.copy()"
   ]
  },
  {
   "cell_type": "markdown",
   "id": "016fe8dc",
   "metadata": {},
   "source": [
    "## Replace NaN with 0"
   ]
  },
  {
   "cell_type": "code",
   "execution_count": 354,
   "id": "98e449c7",
   "metadata": {},
   "outputs": [
    {
     "data": {
      "text/html": [
       "<div>\n",
       "<style scoped>\n",
       "    .dataframe tbody tr th:only-of-type {\n",
       "        vertical-align: middle;\n",
       "    }\n",
       "\n",
       "    .dataframe tbody tr th {\n",
       "        vertical-align: top;\n",
       "    }\n",
       "\n",
       "    .dataframe thead th {\n",
       "        text-align: right;\n",
       "    }\n",
       "</style>\n",
       "<table border=\"1\" class=\"dataframe\">\n",
       "  <thead>\n",
       "    <tr style=\"text-align: right;\">\n",
       "      <th></th>\n",
       "      <th>ra_SSTo_C</th>\n",
       "      <th>ra_SOTo_C</th>\n",
       "      <th>ra_SXTo_C</th>\n",
       "      <th>ra_SNTo_C</th>\n",
       "      <th>ra_OSTo_C</th>\n",
       "      <th>ra_OOTo_C</th>\n",
       "      <th>ra_OXTo_C</th>\n",
       "      <th>ra_ONTo_C</th>\n",
       "      <th>ra_XSTo_C</th>\n",
       "      <th>ra_XOTo_C</th>\n",
       "      <th>...</th>\n",
       "      <th>LinseaW_S</th>\n",
       "      <th>query</th>\n",
       "      <th>class</th>\n",
       "      <th>ratioAbs</th>\n",
       "      <th>ratioConc</th>\n",
       "      <th>numSpellingErrors</th>\n",
       "      <th>offByOne</th>\n",
       "      <th>kidsError</th>\n",
       "      <th>punct</th>\n",
       "      <th>casing</th>\n",
       "    </tr>\n",
       "  </thead>\n",
       "  <tbody>\n",
       "    <tr>\n",
       "      <th>0</th>\n",
       "      <td>0.0</td>\n",
       "      <td>0.0</td>\n",
       "      <td>0.0</td>\n",
       "      <td>0.0</td>\n",
       "      <td>0.0</td>\n",
       "      <td>0.0</td>\n",
       "      <td>0.0</td>\n",
       "      <td>0.0</td>\n",
       "      <td>0.0</td>\n",
       "      <td>0.0</td>\n",
       "      <td>...</td>\n",
       "      <td>0.00</td>\n",
       "      <td>US civil war causes</td>\n",
       "      <td>0</td>\n",
       "      <td>0.250000</td>\n",
       "      <td>0.250000</td>\n",
       "      <td>0</td>\n",
       "      <td>0</td>\n",
       "      <td>0</td>\n",
       "      <td>0</td>\n",
       "      <td>1</td>\n",
       "    </tr>\n",
       "    <tr>\n",
       "      <th>1</th>\n",
       "      <td>0.0</td>\n",
       "      <td>0.0</td>\n",
       "      <td>0.0</td>\n",
       "      <td>0.0</td>\n",
       "      <td>0.0</td>\n",
       "      <td>0.0</td>\n",
       "      <td>0.0</td>\n",
       "      <td>0.0</td>\n",
       "      <td>0.0</td>\n",
       "      <td>0.0</td>\n",
       "      <td>...</td>\n",
       "      <td>-0.25</td>\n",
       "      <td>scooter brands</td>\n",
       "      <td>0</td>\n",
       "      <td>0.000000</td>\n",
       "      <td>0.500000</td>\n",
       "      <td>0</td>\n",
       "      <td>0</td>\n",
       "      <td>0</td>\n",
       "      <td>0</td>\n",
       "      <td>0</td>\n",
       "    </tr>\n",
       "    <tr>\n",
       "      <th>2</th>\n",
       "      <td>0.0</td>\n",
       "      <td>0.0</td>\n",
       "      <td>0.0</td>\n",
       "      <td>0.0</td>\n",
       "      <td>0.0</td>\n",
       "      <td>0.0</td>\n",
       "      <td>0.0</td>\n",
       "      <td>0.0</td>\n",
       "      <td>0.0</td>\n",
       "      <td>0.0</td>\n",
       "      <td>...</td>\n",
       "      <td>0.00</td>\n",
       "      <td>scooter brands reliable</td>\n",
       "      <td>0</td>\n",
       "      <td>0.333333</td>\n",
       "      <td>0.333333</td>\n",
       "      <td>0</td>\n",
       "      <td>0</td>\n",
       "      <td>0</td>\n",
       "      <td>0</td>\n",
       "      <td>0</td>\n",
       "    </tr>\n",
       "    <tr>\n",
       "      <th>3</th>\n",
       "      <td>0.0</td>\n",
       "      <td>0.0</td>\n",
       "      <td>0.0</td>\n",
       "      <td>0.0</td>\n",
       "      <td>0.0</td>\n",
       "      <td>0.0</td>\n",
       "      <td>0.0</td>\n",
       "      <td>0.0</td>\n",
       "      <td>0.0</td>\n",
       "      <td>0.0</td>\n",
       "      <td>...</td>\n",
       "      <td>-0.50</td>\n",
       "      <td>scooter</td>\n",
       "      <td>0</td>\n",
       "      <td>0.000000</td>\n",
       "      <td>1.000000</td>\n",
       "      <td>0</td>\n",
       "      <td>0</td>\n",
       "      <td>0</td>\n",
       "      <td>0</td>\n",
       "      <td>0</td>\n",
       "    </tr>\n",
       "    <tr>\n",
       "      <th>4</th>\n",
       "      <td>0.0</td>\n",
       "      <td>0.0</td>\n",
       "      <td>0.0</td>\n",
       "      <td>0.0</td>\n",
       "      <td>0.0</td>\n",
       "      <td>0.0</td>\n",
       "      <td>0.0</td>\n",
       "      <td>0.0</td>\n",
       "      <td>0.0</td>\n",
       "      <td>0.0</td>\n",
       "      <td>...</td>\n",
       "      <td>-0.25</td>\n",
       "      <td>scooter cheap</td>\n",
       "      <td>0</td>\n",
       "      <td>0.500000</td>\n",
       "      <td>0.500000</td>\n",
       "      <td>0</td>\n",
       "      <td>0</td>\n",
       "      <td>0</td>\n",
       "      <td>0</td>\n",
       "      <td>0</td>\n",
       "    </tr>\n",
       "    <tr>\n",
       "      <th>...</th>\n",
       "      <td>...</td>\n",
       "      <td>...</td>\n",
       "      <td>...</td>\n",
       "      <td>...</td>\n",
       "      <td>...</td>\n",
       "      <td>...</td>\n",
       "      <td>...</td>\n",
       "      <td>...</td>\n",
       "      <td>...</td>\n",
       "      <td>...</td>\n",
       "      <td>...</td>\n",
       "      <td>...</td>\n",
       "      <td>...</td>\n",
       "      <td>...</td>\n",
       "      <td>...</td>\n",
       "      <td>...</td>\n",
       "      <td>...</td>\n",
       "      <td>...</td>\n",
       "      <td>...</td>\n",
       "      <td>...</td>\n",
       "      <td>...</td>\n",
       "    </tr>\n",
       "    <tr>\n",
       "      <th>4741</th>\n",
       "      <td>0.0</td>\n",
       "      <td>0.0</td>\n",
       "      <td>0.0</td>\n",
       "      <td>0.0</td>\n",
       "      <td>0.0</td>\n",
       "      <td>0.0</td>\n",
       "      <td>0.0</td>\n",
       "      <td>0.0</td>\n",
       "      <td>0.0</td>\n",
       "      <td>0.0</td>\n",
       "      <td>...</td>\n",
       "      <td>-0.25</td>\n",
       "      <td>House of dreams</td>\n",
       "      <td>1</td>\n",
       "      <td>0.333333</td>\n",
       "      <td>0.000000</td>\n",
       "      <td>0</td>\n",
       "      <td>0</td>\n",
       "      <td>0</td>\n",
       "      <td>0</td>\n",
       "      <td>1</td>\n",
       "    </tr>\n",
       "    <tr>\n",
       "      <th>4742</th>\n",
       "      <td>0.0</td>\n",
       "      <td>0.0</td>\n",
       "      <td>0.0</td>\n",
       "      <td>0.0</td>\n",
       "      <td>0.0</td>\n",
       "      <td>0.0</td>\n",
       "      <td>0.0</td>\n",
       "      <td>0.0</td>\n",
       "      <td>0.0</td>\n",
       "      <td>0.0</td>\n",
       "      <td>...</td>\n",
       "      <td>0.75</td>\n",
       "      <td>When did Desmond doss get married</td>\n",
       "      <td>1</td>\n",
       "      <td>0.500000</td>\n",
       "      <td>0.000000</td>\n",
       "      <td>0</td>\n",
       "      <td>0</td>\n",
       "      <td>0</td>\n",
       "      <td>0</td>\n",
       "      <td>1</td>\n",
       "    </tr>\n",
       "    <tr>\n",
       "      <th>4743</th>\n",
       "      <td>0.0</td>\n",
       "      <td>0.0</td>\n",
       "      <td>0.0</td>\n",
       "      <td>0.0</td>\n",
       "      <td>0.0</td>\n",
       "      <td>0.0</td>\n",
       "      <td>0.0</td>\n",
       "      <td>0.0</td>\n",
       "      <td>0.0</td>\n",
       "      <td>0.0</td>\n",
       "      <td>...</td>\n",
       "      <td>-0.75</td>\n",
       "      <td>H</td>\n",
       "      <td>1</td>\n",
       "      <td>0.000000</td>\n",
       "      <td>0.000000</td>\n",
       "      <td>1</td>\n",
       "      <td>1</td>\n",
       "      <td>0</td>\n",
       "      <td>0</td>\n",
       "      <td>1</td>\n",
       "    </tr>\n",
       "    <tr>\n",
       "      <th>4744</th>\n",
       "      <td>0.0</td>\n",
       "      <td>0.0</td>\n",
       "      <td>0.0</td>\n",
       "      <td>0.0</td>\n",
       "      <td>0.0</td>\n",
       "      <td>0.0</td>\n",
       "      <td>0.0</td>\n",
       "      <td>0.0</td>\n",
       "      <td>0.0</td>\n",
       "      <td>0.0</td>\n",
       "      <td>...</td>\n",
       "      <td>0.25</td>\n",
       "      <td>find fact about dog</td>\n",
       "      <td>1</td>\n",
       "      <td>0.750000</td>\n",
       "      <td>0.250000</td>\n",
       "      <td>0</td>\n",
       "      <td>0</td>\n",
       "      <td>0</td>\n",
       "      <td>0</td>\n",
       "      <td>0</td>\n",
       "    </tr>\n",
       "    <tr>\n",
       "      <th>4745</th>\n",
       "      <td>0.0</td>\n",
       "      <td>0.0</td>\n",
       "      <td>0.0</td>\n",
       "      <td>0.0</td>\n",
       "      <td>0.0</td>\n",
       "      <td>0.0</td>\n",
       "      <td>0.0</td>\n",
       "      <td>0.0</td>\n",
       "      <td>0.0</td>\n",
       "      <td>0.0</td>\n",
       "      <td>...</td>\n",
       "      <td>-0.50</td>\n",
       "      <td>kid</td>\n",
       "      <td>1</td>\n",
       "      <td>0.000000</td>\n",
       "      <td>1.000000</td>\n",
       "      <td>0</td>\n",
       "      <td>0</td>\n",
       "      <td>0</td>\n",
       "      <td>0</td>\n",
       "      <td>0</td>\n",
       "    </tr>\n",
       "  </tbody>\n",
       "</table>\n",
       "<p>4746 rows × 204 columns</p>\n",
       "</div>"
      ],
      "text/plain": [
       "      ra_SSTo_C  ra_SOTo_C  ra_SXTo_C  ra_SNTo_C  ra_OSTo_C  ra_OOTo_C  \\\n",
       "0           0.0        0.0        0.0        0.0        0.0        0.0   \n",
       "1           0.0        0.0        0.0        0.0        0.0        0.0   \n",
       "2           0.0        0.0        0.0        0.0        0.0        0.0   \n",
       "3           0.0        0.0        0.0        0.0        0.0        0.0   \n",
       "4           0.0        0.0        0.0        0.0        0.0        0.0   \n",
       "...         ...        ...        ...        ...        ...        ...   \n",
       "4741        0.0        0.0        0.0        0.0        0.0        0.0   \n",
       "4742        0.0        0.0        0.0        0.0        0.0        0.0   \n",
       "4743        0.0        0.0        0.0        0.0        0.0        0.0   \n",
       "4744        0.0        0.0        0.0        0.0        0.0        0.0   \n",
       "4745        0.0        0.0        0.0        0.0        0.0        0.0   \n",
       "\n",
       "      ra_OXTo_C  ra_ONTo_C  ra_XSTo_C  ra_XOTo_C  ...  LinseaW_S  \\\n",
       "0           0.0        0.0        0.0        0.0  ...       0.00   \n",
       "1           0.0        0.0        0.0        0.0  ...      -0.25   \n",
       "2           0.0        0.0        0.0        0.0  ...       0.00   \n",
       "3           0.0        0.0        0.0        0.0  ...      -0.50   \n",
       "4           0.0        0.0        0.0        0.0  ...      -0.25   \n",
       "...         ...        ...        ...        ...  ...        ...   \n",
       "4741        0.0        0.0        0.0        0.0  ...      -0.25   \n",
       "4742        0.0        0.0        0.0        0.0  ...       0.75   \n",
       "4743        0.0        0.0        0.0        0.0  ...      -0.75   \n",
       "4744        0.0        0.0        0.0        0.0  ...       0.25   \n",
       "4745        0.0        0.0        0.0        0.0  ...      -0.50   \n",
       "\n",
       "                                  query  class  ratioAbs  ratioConc  \\\n",
       "0                   US civil war causes      0  0.250000   0.250000   \n",
       "1                        scooter brands      0  0.000000   0.500000   \n",
       "2               scooter brands reliable      0  0.333333   0.333333   \n",
       "3                               scooter      0  0.000000   1.000000   \n",
       "4                         scooter cheap      0  0.500000   0.500000   \n",
       "...                                 ...    ...       ...        ...   \n",
       "4741                    House of dreams      1  0.333333   0.000000   \n",
       "4742  When did Desmond doss get married      1  0.500000   0.000000   \n",
       "4743                                  H      1  0.000000   0.000000   \n",
       "4744                find fact about dog      1  0.750000   0.250000   \n",
       "4745                                kid      1  0.000000   1.000000   \n",
       "\n",
       "      numSpellingErrors  offByOne  kidsError  punct  casing  \n",
       "0                     0         0          0      0       1  \n",
       "1                     0         0          0      0       0  \n",
       "2                     0         0          0      0       0  \n",
       "3                     0         0          0      0       0  \n",
       "4                     0         0          0      0       0  \n",
       "...                 ...       ...        ...    ...     ...  \n",
       "4741                  0         0          0      0       1  \n",
       "4742                  0         0          0      0       1  \n",
       "4743                  1         1          0      0       1  \n",
       "4744                  0         0          0      0       0  \n",
       "4745                  0         0          0      0       0  \n",
       "\n",
       "[4746 rows x 204 columns]"
      ]
     },
     "execution_count": 354,
     "metadata": {},
     "output_type": "execute_result"
    }
   ],
   "source": [
    "allFeatAdded = allFeatAdded.fillna(0)\n",
    "allFeatAdded"
   ]
  },
  {
   "cell_type": "markdown",
   "id": "6bc185c3",
   "metadata": {},
   "source": [
    "## Replace ``inf`` in ``avgLenWord column`` by 0\n",
    "\n",
    "(4338 row)"
   ]
  },
  {
   "cell_type": "code",
   "execution_count": 355,
   "id": "f892af6b",
   "metadata": {},
   "outputs": [],
   "source": [
    "allFeatAdded = allFeatAdded.replace('inf', 0)"
   ]
  },
  {
   "cell_type": "code",
   "execution_count": 356,
   "id": "d304a5e6",
   "metadata": {},
   "outputs": [],
   "source": [
    "inf = allFeatAdded[allFeatAdded.isin([np.inf, -np.inf]).any(axis=1)]"
   ]
  },
  {
   "cell_type": "code",
   "execution_count": 357,
   "id": "526406e7",
   "metadata": {},
   "outputs": [
    {
     "data": {
      "text/html": [
       "<div>\n",
       "<style scoped>\n",
       "    .dataframe tbody tr th:only-of-type {\n",
       "        vertical-align: middle;\n",
       "    }\n",
       "\n",
       "    .dataframe tbody tr th {\n",
       "        vertical-align: top;\n",
       "    }\n",
       "\n",
       "    .dataframe thead th {\n",
       "        text-align: right;\n",
       "    }\n",
       "</style>\n",
       "<table border=\"1\" class=\"dataframe\">\n",
       "  <thead>\n",
       "    <tr style=\"text-align: right;\">\n",
       "      <th></th>\n",
       "      <th>ra_SSTo_C</th>\n",
       "      <th>ra_SOTo_C</th>\n",
       "      <th>ra_SXTo_C</th>\n",
       "      <th>ra_SNTo_C</th>\n",
       "      <th>ra_OSTo_C</th>\n",
       "      <th>ra_OOTo_C</th>\n",
       "      <th>ra_OXTo_C</th>\n",
       "      <th>ra_ONTo_C</th>\n",
       "      <th>ra_XSTo_C</th>\n",
       "      <th>ra_XOTo_C</th>\n",
       "      <th>...</th>\n",
       "      <th>LinseaW_S</th>\n",
       "      <th>query</th>\n",
       "      <th>class</th>\n",
       "      <th>ratioAbs</th>\n",
       "      <th>ratioConc</th>\n",
       "      <th>numSpellingErrors</th>\n",
       "      <th>offByOne</th>\n",
       "      <th>kidsError</th>\n",
       "      <th>punct</th>\n",
       "      <th>casing</th>\n",
       "    </tr>\n",
       "  </thead>\n",
       "  <tbody>\n",
       "  </tbody>\n",
       "</table>\n",
       "<p>0 rows × 204 columns</p>\n",
       "</div>"
      ],
      "text/plain": [
       "Empty DataFrame\n",
       "Columns: [ra_SSTo_C, ra_SOTo_C, ra_SXTo_C, ra_SNTo_C, ra_OSTo_C, ra_OOTo_C, ra_OXTo_C, ra_ONTo_C, ra_XSTo_C, ra_XOTo_C, ra_XXTo_C, ra_XNTo_C, ra_NSTo_C, ra_NOTo_C, ra_NXTo_C, ra_NNTo_C, to_NoPhr_C, as_NoPhr_C, at_NoPhr_C, ra_NoVeP_C, ra_NoSuP_C, ra_NoPrP_C, ra_NoAjP_C, ra_NoAvP_C, to_VePhr_C, as_VePhr_C, at_VePhr_C, ra_VeNoP_C, ra_VeSuP_C, ra_VePrP_C, ra_VeAjP_C, ra_VeAvP_C, to_SuPhr_C, as_SuPhr_C, at_SuPhr_C, ra_SuNoP_C, ra_SuVeP_C, ra_SuPrP_C, ra_SuAjP_C, ra_SuAvP_C, to_PrPhr_C, as_PrPhr_C, at_PrPhr_C, ra_PrNoP_C, ra_PrVeP_C, ra_PrSuP_C, ra_PrAjP_C, ra_PrAvP_C, to_AjPhr_C, as_AjPhr_C, at_AjPhr_C, ra_AjNoP_C, ra_AjVeP_C, ra_AjSuP_C, ra_AjPrP_C, ra_AjAvP_C, to_AvPhr_C, as_AvPhr_C, at_AvPhr_C, ra_AvNoP_C, ra_AvVeP_C, ra_AvSuP_C, ra_AvPrP_C, ra_AvAjP_C, to_TreeH_C, as_TreeH_C, at_TreeH_C, to_FTree_C, as_FTree_C, at_FTree_C, to_NoTag_C, as_NoTag_C, at_NoTag_C, ra_NoAjT_C, ra_NoVeT_C, ra_NoAvT_C, ra_NoSuT_C, ra_NoCoT_C, to_VeTag_C, as_VeTag_C, at_VeTag_C, ra_VeAjT_C, ra_VeNoT_C, ra_VeAvT_C, ra_VeSuT_C, ra_VeCoT_C, to_AjTag_C, as_AjTag_C, at_AjTag_C, ra_AjNoT_C, ra_AjVeT_C, ra_AjAvT_C, ra_AjSuT_C, ra_AjCoT_C, to_AvTag_C, as_AvTag_C, at_AvTag_C, ra_AvAjT_C, ra_AvNoT_C, ra_AvVeT_C, ...]\n",
       "Index: []\n",
       "\n",
       "[0 rows x 204 columns]"
      ]
     },
     "execution_count": 357,
     "metadata": {},
     "output_type": "execute_result"
    }
   ],
   "source": [
    "inf.head()"
   ]
  },
  {
   "cell_type": "code",
   "execution_count": 358,
   "id": "fb74395a",
   "metadata": {},
   "outputs": [],
   "source": [
    "# inf['avgLenWord']"
   ]
  },
  {
   "cell_type": "code",
   "execution_count": 359,
   "id": "7bb7652f",
   "metadata": {},
   "outputs": [],
   "source": [
    "# inf['avgLenWord'] = inf['avgLenWord'].replace('inf','0')\n",
    "# print(inf)"
   ]
  },
  {
   "cell_type": "code",
   "execution_count": null,
   "id": "60a249cb",
   "metadata": {},
   "outputs": [],
   "source": []
  },
  {
   "cell_type": "code",
   "execution_count": null,
   "id": "33ffab55",
   "metadata": {},
   "outputs": [],
   "source": []
  },
  {
   "cell_type": "code",
   "execution_count": null,
   "id": "90de78cc",
   "metadata": {},
   "outputs": [],
   "source": []
  },
  {
   "cell_type": "markdown",
   "id": "ed4e16da",
   "metadata": {},
   "source": [
    "## Count constant variables"
   ]
  },
  {
   "cell_type": "code",
   "execution_count": 360,
   "id": "da4c3ea3",
   "metadata": {},
   "outputs": [
    {
     "name": "stdout",
     "output_type": "stream",
     "text": [
      "Number of constant columns: 9\n"
     ]
    }
   ],
   "source": [
    "constant_columns_count = 0\n",
    "\n",
    "for column in allFeatAdded.columns:\n",
    "    if allFeatAdded[column].nunique() == 1:\n",
    "        constant_columns_count += 1\n",
    "\n",
    "print(\"Number of constant columns:\", constant_columns_count)"
   ]
  },
  {
   "cell_type": "markdown",
   "id": "e81dcf0e",
   "metadata": {},
   "source": [
    "## Count and print constant columns"
   ]
  },
  {
   "cell_type": "code",
   "execution_count": 362,
   "id": "3c590d6d",
   "metadata": {},
   "outputs": [
    {
     "name": "stdout",
     "output_type": "stream",
     "text": [
      "Number of constant columns: 9\n",
      "Constant column names: ['ra_SSTo_C', 'ra_SOTo_C', 'ra_SXTo_C', 'ra_OSTo_C', 'ra_OOTo_C', 'ra_OXTo_C', 'ra_XSTo_C', 'ra_XOTo_C', 'ra_XXTo_C']\n"
     ]
    }
   ],
   "source": [
    "constant_columns_count = 0\n",
    "\n",
    "constant_columns = []\n",
    "\n",
    "for column in allFeatAdded.columns:\n",
    "    if allFeatAdded[column].nunique() == 1:\n",
    "        constant_columns_count += 1\n",
    "        constant_columns.append(column)\n",
    "\n",
    "print(\"Number of constant columns:\", constant_columns_count)\n",
    "print(\"Constant column names:\", constant_columns)\n"
   ]
  },
  {
   "cell_type": "markdown",
   "id": "68d316b6",
   "metadata": {},
   "source": [
    "## Drop constant columns"
   ]
  },
  {
   "cell_type": "code",
   "execution_count": 363,
   "id": "6bf2c973",
   "metadata": {},
   "outputs": [],
   "source": [
    "constant_columns = []\n",
    "for column in allFeatAdded.columns:\n",
    "    if allFeatAdded[column].nunique() == 1:\n",
    "        constant_columns.append(column)\n",
    "\n",
    "allFeat_DroppedConstCols = pd.DataFrame(allFeatAdded.drop(columns=constant_columns))\n"
   ]
  },
  {
   "cell_type": "code",
   "execution_count": 364,
   "id": "05b0547e",
   "metadata": {},
   "outputs": [
    {
     "data": {
      "text/html": [
       "<div>\n",
       "<style scoped>\n",
       "    .dataframe tbody tr th:only-of-type {\n",
       "        vertical-align: middle;\n",
       "    }\n",
       "\n",
       "    .dataframe tbody tr th {\n",
       "        vertical-align: top;\n",
       "    }\n",
       "\n",
       "    .dataframe thead th {\n",
       "        text-align: right;\n",
       "    }\n",
       "</style>\n",
       "<table border=\"1\" class=\"dataframe\">\n",
       "  <thead>\n",
       "    <tr style=\"text-align: right;\">\n",
       "      <th></th>\n",
       "      <th>ra_SNTo_C</th>\n",
       "      <th>ra_ONTo_C</th>\n",
       "      <th>ra_XNTo_C</th>\n",
       "      <th>ra_NSTo_C</th>\n",
       "      <th>ra_NOTo_C</th>\n",
       "      <th>ra_NXTo_C</th>\n",
       "      <th>ra_NNTo_C</th>\n",
       "      <th>to_NoPhr_C</th>\n",
       "      <th>as_NoPhr_C</th>\n",
       "      <th>at_NoPhr_C</th>\n",
       "      <th>...</th>\n",
       "      <th>LinseaW_S</th>\n",
       "      <th>query</th>\n",
       "      <th>class</th>\n",
       "      <th>ratioAbs</th>\n",
       "      <th>ratioConc</th>\n",
       "      <th>numSpellingErrors</th>\n",
       "      <th>offByOne</th>\n",
       "      <th>kidsError</th>\n",
       "      <th>punct</th>\n",
       "      <th>casing</th>\n",
       "    </tr>\n",
       "  </thead>\n",
       "  <tbody>\n",
       "    <tr>\n",
       "      <th>0</th>\n",
       "      <td>0.0</td>\n",
       "      <td>0.0</td>\n",
       "      <td>0.5</td>\n",
       "      <td>0.0</td>\n",
       "      <td>0.0</td>\n",
       "      <td>0.0</td>\n",
       "      <td>0.5</td>\n",
       "      <td>1.0</td>\n",
       "      <td>0.5</td>\n",
       "      <td>0.250000</td>\n",
       "      <td>...</td>\n",
       "      <td>0.00</td>\n",
       "      <td>US civil war causes</td>\n",
       "      <td>0</td>\n",
       "      <td>0.250000</td>\n",
       "      <td>0.250000</td>\n",
       "      <td>0</td>\n",
       "      <td>0</td>\n",
       "      <td>0</td>\n",
       "      <td>0</td>\n",
       "      <td>1</td>\n",
       "    </tr>\n",
       "    <tr>\n",
       "      <th>1</th>\n",
       "      <td>0.0</td>\n",
       "      <td>0.0</td>\n",
       "      <td>0.5</td>\n",
       "      <td>0.0</td>\n",
       "      <td>0.0</td>\n",
       "      <td>0.5</td>\n",
       "      <td>0.0</td>\n",
       "      <td>0.0</td>\n",
       "      <td>0.0</td>\n",
       "      <td>0.000000</td>\n",
       "      <td>...</td>\n",
       "      <td>-0.25</td>\n",
       "      <td>scooter brands</td>\n",
       "      <td>0</td>\n",
       "      <td>0.000000</td>\n",
       "      <td>0.500000</td>\n",
       "      <td>0</td>\n",
       "      <td>0</td>\n",
       "      <td>0</td>\n",
       "      <td>0</td>\n",
       "      <td>0</td>\n",
       "    </tr>\n",
       "    <tr>\n",
       "      <th>2</th>\n",
       "      <td>0.0</td>\n",
       "      <td>0.0</td>\n",
       "      <td>0.5</td>\n",
       "      <td>0.5</td>\n",
       "      <td>0.0</td>\n",
       "      <td>0.0</td>\n",
       "      <td>0.0</td>\n",
       "      <td>0.0</td>\n",
       "      <td>0.0</td>\n",
       "      <td>0.000000</td>\n",
       "      <td>...</td>\n",
       "      <td>0.00</td>\n",
       "      <td>scooter brands reliable</td>\n",
       "      <td>0</td>\n",
       "      <td>0.333333</td>\n",
       "      <td>0.333333</td>\n",
       "      <td>0</td>\n",
       "      <td>0</td>\n",
       "      <td>0</td>\n",
       "      <td>0</td>\n",
       "      <td>0</td>\n",
       "    </tr>\n",
       "    <tr>\n",
       "      <th>3</th>\n",
       "      <td>0.0</td>\n",
       "      <td>0.0</td>\n",
       "      <td>0.0</td>\n",
       "      <td>0.0</td>\n",
       "      <td>0.0</td>\n",
       "      <td>0.0</td>\n",
       "      <td>0.0</td>\n",
       "      <td>0.0</td>\n",
       "      <td>0.0</td>\n",
       "      <td>0.000000</td>\n",
       "      <td>...</td>\n",
       "      <td>-0.50</td>\n",
       "      <td>scooter</td>\n",
       "      <td>0</td>\n",
       "      <td>0.000000</td>\n",
       "      <td>1.000000</td>\n",
       "      <td>0</td>\n",
       "      <td>0</td>\n",
       "      <td>0</td>\n",
       "      <td>0</td>\n",
       "      <td>0</td>\n",
       "    </tr>\n",
       "    <tr>\n",
       "      <th>4</th>\n",
       "      <td>0.0</td>\n",
       "      <td>0.0</td>\n",
       "      <td>0.0</td>\n",
       "      <td>0.0</td>\n",
       "      <td>0.0</td>\n",
       "      <td>0.0</td>\n",
       "      <td>0.0</td>\n",
       "      <td>0.0</td>\n",
       "      <td>0.0</td>\n",
       "      <td>0.000000</td>\n",
       "      <td>...</td>\n",
       "      <td>-0.25</td>\n",
       "      <td>scooter cheap</td>\n",
       "      <td>0</td>\n",
       "      <td>0.500000</td>\n",
       "      <td>0.500000</td>\n",
       "      <td>0</td>\n",
       "      <td>0</td>\n",
       "      <td>0</td>\n",
       "      <td>0</td>\n",
       "      <td>0</td>\n",
       "    </tr>\n",
       "    <tr>\n",
       "      <th>...</th>\n",
       "      <td>...</td>\n",
       "      <td>...</td>\n",
       "      <td>...</td>\n",
       "      <td>...</td>\n",
       "      <td>...</td>\n",
       "      <td>...</td>\n",
       "      <td>...</td>\n",
       "      <td>...</td>\n",
       "      <td>...</td>\n",
       "      <td>...</td>\n",
       "      <td>...</td>\n",
       "      <td>...</td>\n",
       "      <td>...</td>\n",
       "      <td>...</td>\n",
       "      <td>...</td>\n",
       "      <td>...</td>\n",
       "      <td>...</td>\n",
       "      <td>...</td>\n",
       "      <td>...</td>\n",
       "      <td>...</td>\n",
       "      <td>...</td>\n",
       "    </tr>\n",
       "    <tr>\n",
       "      <th>4741</th>\n",
       "      <td>0.0</td>\n",
       "      <td>0.0</td>\n",
       "      <td>0.5</td>\n",
       "      <td>0.0</td>\n",
       "      <td>0.0</td>\n",
       "      <td>0.0</td>\n",
       "      <td>0.5</td>\n",
       "      <td>0.0</td>\n",
       "      <td>0.0</td>\n",
       "      <td>0.000000</td>\n",
       "      <td>...</td>\n",
       "      <td>-0.25</td>\n",
       "      <td>House of dreams</td>\n",
       "      <td>1</td>\n",
       "      <td>0.333333</td>\n",
       "      <td>0.000000</td>\n",
       "      <td>0</td>\n",
       "      <td>0</td>\n",
       "      <td>0</td>\n",
       "      <td>0</td>\n",
       "      <td>1</td>\n",
       "    </tr>\n",
       "    <tr>\n",
       "      <th>4742</th>\n",
       "      <td>0.0</td>\n",
       "      <td>0.0</td>\n",
       "      <td>0.0</td>\n",
       "      <td>0.0</td>\n",
       "      <td>0.0</td>\n",
       "      <td>0.0</td>\n",
       "      <td>1.0</td>\n",
       "      <td>1.0</td>\n",
       "      <td>0.5</td>\n",
       "      <td>0.142857</td>\n",
       "      <td>...</td>\n",
       "      <td>0.75</td>\n",
       "      <td>When did Desmond doss get married</td>\n",
       "      <td>1</td>\n",
       "      <td>0.500000</td>\n",
       "      <td>0.000000</td>\n",
       "      <td>0</td>\n",
       "      <td>0</td>\n",
       "      <td>0</td>\n",
       "      <td>0</td>\n",
       "      <td>1</td>\n",
       "    </tr>\n",
       "    <tr>\n",
       "      <th>4743</th>\n",
       "      <td>0.0</td>\n",
       "      <td>0.0</td>\n",
       "      <td>0.0</td>\n",
       "      <td>0.0</td>\n",
       "      <td>0.0</td>\n",
       "      <td>0.0</td>\n",
       "      <td>0.0</td>\n",
       "      <td>0.0</td>\n",
       "      <td>0.0</td>\n",
       "      <td>0.000000</td>\n",
       "      <td>...</td>\n",
       "      <td>-0.75</td>\n",
       "      <td>H</td>\n",
       "      <td>1</td>\n",
       "      <td>0.000000</td>\n",
       "      <td>0.000000</td>\n",
       "      <td>1</td>\n",
       "      <td>1</td>\n",
       "      <td>0</td>\n",
       "      <td>0</td>\n",
       "      <td>1</td>\n",
       "    </tr>\n",
       "    <tr>\n",
       "      <th>4744</th>\n",
       "      <td>0.0</td>\n",
       "      <td>0.0</td>\n",
       "      <td>0.0</td>\n",
       "      <td>0.0</td>\n",
       "      <td>0.5</td>\n",
       "      <td>0.0</td>\n",
       "      <td>0.5</td>\n",
       "      <td>3.0</td>\n",
       "      <td>1.5</td>\n",
       "      <td>0.600000</td>\n",
       "      <td>...</td>\n",
       "      <td>0.25</td>\n",
       "      <td>find fact about dog</td>\n",
       "      <td>1</td>\n",
       "      <td>0.750000</td>\n",
       "      <td>0.250000</td>\n",
       "      <td>0</td>\n",
       "      <td>0</td>\n",
       "      <td>0</td>\n",
       "      <td>0</td>\n",
       "      <td>0</td>\n",
       "    </tr>\n",
       "    <tr>\n",
       "      <th>4745</th>\n",
       "      <td>0.0</td>\n",
       "      <td>0.0</td>\n",
       "      <td>0.0</td>\n",
       "      <td>0.0</td>\n",
       "      <td>0.0</td>\n",
       "      <td>0.0</td>\n",
       "      <td>0.0</td>\n",
       "      <td>0.0</td>\n",
       "      <td>0.0</td>\n",
       "      <td>0.000000</td>\n",
       "      <td>...</td>\n",
       "      <td>-0.50</td>\n",
       "      <td>kid</td>\n",
       "      <td>1</td>\n",
       "      <td>0.000000</td>\n",
       "      <td>1.000000</td>\n",
       "      <td>0</td>\n",
       "      <td>0</td>\n",
       "      <td>0</td>\n",
       "      <td>0</td>\n",
       "      <td>0</td>\n",
       "    </tr>\n",
       "  </tbody>\n",
       "</table>\n",
       "<p>4746 rows × 195 columns</p>\n",
       "</div>"
      ],
      "text/plain": [
       "      ra_SNTo_C  ra_ONTo_C  ra_XNTo_C  ra_NSTo_C  ra_NOTo_C  ra_NXTo_C  \\\n",
       "0           0.0        0.0        0.5        0.0        0.0        0.0   \n",
       "1           0.0        0.0        0.5        0.0        0.0        0.5   \n",
       "2           0.0        0.0        0.5        0.5        0.0        0.0   \n",
       "3           0.0        0.0        0.0        0.0        0.0        0.0   \n",
       "4           0.0        0.0        0.0        0.0        0.0        0.0   \n",
       "...         ...        ...        ...        ...        ...        ...   \n",
       "4741        0.0        0.0        0.5        0.0        0.0        0.0   \n",
       "4742        0.0        0.0        0.0        0.0        0.0        0.0   \n",
       "4743        0.0        0.0        0.0        0.0        0.0        0.0   \n",
       "4744        0.0        0.0        0.0        0.0        0.5        0.0   \n",
       "4745        0.0        0.0        0.0        0.0        0.0        0.0   \n",
       "\n",
       "      ra_NNTo_C  to_NoPhr_C  as_NoPhr_C  at_NoPhr_C  ...  LinseaW_S  \\\n",
       "0           0.5         1.0         0.5    0.250000  ...       0.00   \n",
       "1           0.0         0.0         0.0    0.000000  ...      -0.25   \n",
       "2           0.0         0.0         0.0    0.000000  ...       0.00   \n",
       "3           0.0         0.0         0.0    0.000000  ...      -0.50   \n",
       "4           0.0         0.0         0.0    0.000000  ...      -0.25   \n",
       "...         ...         ...         ...         ...  ...        ...   \n",
       "4741        0.5         0.0         0.0    0.000000  ...      -0.25   \n",
       "4742        1.0         1.0         0.5    0.142857  ...       0.75   \n",
       "4743        0.0         0.0         0.0    0.000000  ...      -0.75   \n",
       "4744        0.5         3.0         1.5    0.600000  ...       0.25   \n",
       "4745        0.0         0.0         0.0    0.000000  ...      -0.50   \n",
       "\n",
       "                                  query  class  ratioAbs  ratioConc  \\\n",
       "0                   US civil war causes      0  0.250000   0.250000   \n",
       "1                        scooter brands      0  0.000000   0.500000   \n",
       "2               scooter brands reliable      0  0.333333   0.333333   \n",
       "3                               scooter      0  0.000000   1.000000   \n",
       "4                         scooter cheap      0  0.500000   0.500000   \n",
       "...                                 ...    ...       ...        ...   \n",
       "4741                    House of dreams      1  0.333333   0.000000   \n",
       "4742  When did Desmond doss get married      1  0.500000   0.000000   \n",
       "4743                                  H      1  0.000000   0.000000   \n",
       "4744                find fact about dog      1  0.750000   0.250000   \n",
       "4745                                kid      1  0.000000   1.000000   \n",
       "\n",
       "      numSpellingErrors  offByOne  kidsError  punct  casing  \n",
       "0                     0         0          0      0       1  \n",
       "1                     0         0          0      0       0  \n",
       "2                     0         0          0      0       0  \n",
       "3                     0         0          0      0       0  \n",
       "4                     0         0          0      0       0  \n",
       "...                 ...       ...        ...    ...     ...  \n",
       "4741                  0         0          0      0       1  \n",
       "4742                  0         0          0      0       1  \n",
       "4743                  1         1          0      0       1  \n",
       "4744                  0         0          0      0       0  \n",
       "4745                  0         0          0      0       0  \n",
       "\n",
       "[4746 rows x 195 columns]"
      ]
     },
     "execution_count": 364,
     "metadata": {},
     "output_type": "execute_result"
    }
   ],
   "source": [
    "allFeat_DroppedConstCols"
   ]
  },
  {
   "cell_type": "code",
   "execution_count": 365,
   "id": "65ef40c7",
   "metadata": {},
   "outputs": [
    {
     "data": {
      "text/plain": [
       "(4746, 195)"
      ]
     },
     "execution_count": 365,
     "metadata": {},
     "output_type": "execute_result"
    }
   ],
   "source": [
    "allFeat_DroppedConstCols.shape"
   ]
  },
  {
   "cell_type": "markdown",
   "id": "eeca4717",
   "metadata": {},
   "source": [
    "## Split the dataset into 90/10 \n",
    "\n",
    "``expSet set`` represent the ``90%`` of the dataset that will be used in the experimenst, while ``pipSet set`` which is ``10%`` will be used for popiple line test"
   ]
  },
  {
   "cell_type": "code",
   "execution_count": 373,
   "id": "d501163f",
   "metadata": {},
   "outputs": [],
   "source": [
    "rng = 52023\n",
    "X, y = allFeat_DroppedConstCols.drop('class', axis=1), allFeat_DroppedConstCols['class']\n",
    "X_expSet, X_pipSet, y_expSet, y_pipSet = train_test_split(X, y, \n",
    "                                                    test_size=0.1, stratify=y,\n",
    "                                                   random_state=rng)"
   ]
  },
  {
   "cell_type": "code",
   "execution_count": 376,
   "id": "b691d2a4",
   "metadata": {},
   "outputs": [
    {
     "data": {
      "text/plain": [
       "(4271, 195)"
      ]
     },
     "execution_count": 376,
     "metadata": {},
     "output_type": "execute_result"
    }
   ],
   "source": [
    "# Add the class column back to experiment set\n",
    "X_expSet['class'] = y_expSet\n",
    "expSet = X_expSet\n",
    "expSet.shape"
   ]
  },
  {
   "cell_type": "code",
   "execution_count": 377,
   "id": "20612760",
   "metadata": {},
   "outputs": [
    {
     "data": {
      "text/plain": [
       "(475, 195)"
      ]
     },
     "execution_count": 377,
     "metadata": {},
     "output_type": "execute_result"
    }
   ],
   "source": [
    "# Add the class column back to pipeline test test\n",
    "X_pipSet['class'] = y_pipSet\n",
    "pipSet = X_pipSet\n",
    "pipSet.shape"
   ]
  },
  {
   "cell_type": "markdown",
   "id": "d3526af2",
   "metadata": {},
   "source": [
    "## Export the final datasets"
   ]
  },
  {
   "cell_type": "code",
   "execution_count": 379,
   "id": "c403c7c5",
   "metadata": {},
   "outputs": [],
   "source": [
    "pickle.dump(expSet, open('data/ExtractedDataSets/allFeatFinal.p', 'wb'))\n",
    "pickle.dump(pipSet, open('data/ExtractedDataSets/pipelineTestingSet.p', 'wb'))"
   ]
  },
  {
   "cell_type": "code",
   "execution_count": 450,
   "id": "6d81e046",
   "metadata": {},
   "outputs": [
    {
     "data": {
      "text/plain": [
       "0    0.8\n",
       "1    0.2\n",
       "Name: class, dtype: float64"
      ]
     },
     "execution_count": 450,
     "metadata": {},
     "output_type": "execute_result"
    }
   ],
   "source": [
    "pipSet['class'].value_counts(normalize = True)"
   ]
  },
  {
   "cell_type": "markdown",
   "id": "9b4ef92b",
   "metadata": {},
   "source": [
    "# Data/features exploration\n",
    "\n",
    "We are randomly selecting two columns for each feature category"
   ]
  },
  {
   "cell_type": "code",
   "execution_count": 382,
   "id": "ca2499f4",
   "metadata": {},
   "outputs": [],
   "source": [
    "data = expSet.copy()"
   ]
  },
  {
   "cell_type": "markdown",
   "id": "50ea6aa3",
   "metadata": {},
   "source": [
    "## 1. Syntactic\n",
    "\n",
    "Measuring the complexity of grammar and structure\n",
    "\n",
    "**i. to_NoPhr_C** - total count of Noun phrases\n",
    "\n",
    "*Google* A noun phrase is either a pronoun or any group of words that can be replaced by a pronoun. For example, 'they', 'cars', and 'the cars' are noun phrases, but 'car' is just a noun, as you can see in these sentences (in which the noun phrases are all in bold) Q: Do you like cars? A: Yes, I like them.\n",
    "\n",
    "**ii. at_VePhr_C** - average count of Verb phrases per token\n",
    "\n",
    "*Google*: A verb phrase or verbal phrase consists of a verb, or of a main verb following a modal or one or more auxiliaries. Examples are ` walked,' `can see,' and `had been waiting. '"
   ]
  },
  {
   "cell_type": "code",
   "execution_count": 383,
   "id": "129a543d",
   "metadata": {},
   "outputs": [
    {
     "data": {
      "text/plain": [
       "3101    0.0\n",
       "4524    3.0\n",
       "4441    3.0\n",
       "186     0.0\n",
       "3552    0.0\n",
       "       ... \n",
       "4581    0.0\n",
       "3647    0.0\n",
       "4229    0.0\n",
       "2388    0.0\n",
       "2064    0.0\n",
       "Name: to_NoPhr_C, Length: 4271, dtype: float64"
      ]
     },
     "execution_count": 383,
     "metadata": {},
     "output_type": "execute_result"
    }
   ],
   "source": [
    "data['to_NoPhr_C']"
   ]
  },
  {
   "cell_type": "code",
   "execution_count": 384,
   "id": "498531f5",
   "metadata": {},
   "outputs": [
    {
     "data": {
      "text/plain": [
       "3101    0.0\n",
       "4524    0.0\n",
       "4441    0.0\n",
       "186     0.0\n",
       "3552    0.0\n",
       "       ... \n",
       "4581    0.0\n",
       "3647    0.0\n",
       "4229    0.0\n",
       "2388    0.0\n",
       "2064    0.0\n",
       "Name: at_VePhr_C, Length: 4271, dtype: float64"
      ]
     },
     "execution_count": 384,
     "metadata": {},
     "output_type": "execute_result"
    }
   ],
   "source": [
    "data['at_VePhr_C']"
   ]
  },
  {
   "cell_type": "code",
   "execution_count": 385,
   "id": "1d36e209",
   "metadata": {},
   "outputs": [],
   "source": [
    "synt2Feat = data[['to_NoPhr_C','at_VePhr_C', 'to_TreeH_C', 'class']]"
   ]
  },
  {
   "cell_type": "code",
   "execution_count": 386,
   "id": "fee0612b",
   "metadata": {},
   "outputs": [
    {
     "data": {
      "text/html": [
       "<div>\n",
       "<style scoped>\n",
       "    .dataframe tbody tr th:only-of-type {\n",
       "        vertical-align: middle;\n",
       "    }\n",
       "\n",
       "    .dataframe tbody tr th {\n",
       "        vertical-align: top;\n",
       "    }\n",
       "\n",
       "    .dataframe thead th {\n",
       "        text-align: right;\n",
       "    }\n",
       "</style>\n",
       "<table border=\"1\" class=\"dataframe\">\n",
       "  <thead>\n",
       "    <tr style=\"text-align: right;\">\n",
       "      <th></th>\n",
       "      <th>TotalNPCount</th>\n",
       "      <th>AvVerPharCount</th>\n",
       "      <th>TreeHeightCount</th>\n",
       "      <th>class</th>\n",
       "    </tr>\n",
       "  </thead>\n",
       "  <tbody>\n",
       "    <tr>\n",
       "      <th>3101</th>\n",
       "      <td>0.0</td>\n",
       "      <td>0.0</td>\n",
       "      <td>0.0</td>\n",
       "      <td>0</td>\n",
       "    </tr>\n",
       "    <tr>\n",
       "      <th>4524</th>\n",
       "      <td>3.0</td>\n",
       "      <td>0.0</td>\n",
       "      <td>6.0</td>\n",
       "      <td>1</td>\n",
       "    </tr>\n",
       "    <tr>\n",
       "      <th>4441</th>\n",
       "      <td>3.0</td>\n",
       "      <td>0.0</td>\n",
       "      <td>6.0</td>\n",
       "      <td>1</td>\n",
       "    </tr>\n",
       "    <tr>\n",
       "      <th>186</th>\n",
       "      <td>0.0</td>\n",
       "      <td>0.0</td>\n",
       "      <td>0.0</td>\n",
       "      <td>0</td>\n",
       "    </tr>\n",
       "    <tr>\n",
       "      <th>3552</th>\n",
       "      <td>0.0</td>\n",
       "      <td>0.0</td>\n",
       "      <td>0.0</td>\n",
       "      <td>0</td>\n",
       "    </tr>\n",
       "  </tbody>\n",
       "</table>\n",
       "</div>"
      ],
      "text/plain": [
       "      TotalNPCount  AvVerPharCount  TreeHeightCount  class\n",
       "3101           0.0             0.0              0.0      0\n",
       "4524           3.0             0.0              6.0      1\n",
       "4441           3.0             0.0              6.0      1\n",
       "186            0.0             0.0              0.0      0\n",
       "3552           0.0             0.0              0.0      0"
      ]
     },
     "execution_count": 386,
     "metadata": {},
     "output_type": "execute_result"
    }
   ],
   "source": [
    "# Rename columns\n",
    "\n",
    "col_name = {'to_NoPhr_C': 'TotalNPCount',\n",
    "           'at_VePhr_C': 'AvVerPharCount',\n",
    "           'to_TreeH_C': 'TreeHeightCount'}\n",
    "            \n",
    "synt2Feat = synt2Feat.rename(columns = col_name)\n",
    "synt2Feat.head()"
   ]
  },
  {
   "cell_type": "markdown",
   "id": "f23b4a24",
   "metadata": {},
   "source": [
    "### Basic info\n",
    "\n",
    "#### - All"
   ]
  },
  {
   "cell_type": "code",
   "execution_count": 387,
   "id": "5500db9a",
   "metadata": {},
   "outputs": [
    {
     "data": {
      "text/html": [
       "<div>\n",
       "<style scoped>\n",
       "    .dataframe tbody tr th:only-of-type {\n",
       "        vertical-align: middle;\n",
       "    }\n",
       "\n",
       "    .dataframe tbody tr th {\n",
       "        vertical-align: top;\n",
       "    }\n",
       "\n",
       "    .dataframe thead th {\n",
       "        text-align: right;\n",
       "    }\n",
       "</style>\n",
       "<table border=\"1\" class=\"dataframe\">\n",
       "  <thead>\n",
       "    <tr style=\"text-align: right;\">\n",
       "      <th></th>\n",
       "      <th>TotalNPCount</th>\n",
       "      <th>AvVerPharCount</th>\n",
       "      <th>TreeHeightCount</th>\n",
       "      <th>class</th>\n",
       "    </tr>\n",
       "  </thead>\n",
       "  <tbody>\n",
       "    <tr>\n",
       "      <th>count</th>\n",
       "      <td>4271.000000</td>\n",
       "      <td>4271.000000</td>\n",
       "      <td>4271.000000</td>\n",
       "      <td>4271.000000</td>\n",
       "    </tr>\n",
       "    <tr>\n",
       "      <th>mean</th>\n",
       "      <td>1.095762</td>\n",
       "      <td>0.063712</td>\n",
       "      <td>2.966987</td>\n",
       "      <td>0.199953</td>\n",
       "    </tr>\n",
       "    <tr>\n",
       "      <th>std</th>\n",
       "      <td>1.425252</td>\n",
       "      <td>0.133476</td>\n",
       "      <td>3.338805</td>\n",
       "      <td>0.400012</td>\n",
       "    </tr>\n",
       "    <tr>\n",
       "      <th>min</th>\n",
       "      <td>0.000000</td>\n",
       "      <td>0.000000</td>\n",
       "      <td>0.000000</td>\n",
       "      <td>0.000000</td>\n",
       "    </tr>\n",
       "    <tr>\n",
       "      <th>25%</th>\n",
       "      <td>0.000000</td>\n",
       "      <td>0.000000</td>\n",
       "      <td>0.000000</td>\n",
       "      <td>0.000000</td>\n",
       "    </tr>\n",
       "    <tr>\n",
       "      <th>50%</th>\n",
       "      <td>0.000000</td>\n",
       "      <td>0.000000</td>\n",
       "      <td>0.000000</td>\n",
       "      <td>0.000000</td>\n",
       "    </tr>\n",
       "    <tr>\n",
       "      <th>75%</th>\n",
       "      <td>2.000000</td>\n",
       "      <td>0.000000</td>\n",
       "      <td>6.000000</td>\n",
       "      <td>0.000000</td>\n",
       "    </tr>\n",
       "    <tr>\n",
       "      <th>max</th>\n",
       "      <td>8.000000</td>\n",
       "      <td>1.000000</td>\n",
       "      <td>20.000000</td>\n",
       "      <td>1.000000</td>\n",
       "    </tr>\n",
       "  </tbody>\n",
       "</table>\n",
       "</div>"
      ],
      "text/plain": [
       "       TotalNPCount  AvVerPharCount  TreeHeightCount        class\n",
       "count   4271.000000     4271.000000      4271.000000  4271.000000\n",
       "mean       1.095762        0.063712         2.966987     0.199953\n",
       "std        1.425252        0.133476         3.338805     0.400012\n",
       "min        0.000000        0.000000         0.000000     0.000000\n",
       "25%        0.000000        0.000000         0.000000     0.000000\n",
       "50%        0.000000        0.000000         0.000000     0.000000\n",
       "75%        2.000000        0.000000         6.000000     0.000000\n",
       "max        8.000000        1.000000        20.000000     1.000000"
      ]
     },
     "execution_count": 387,
     "metadata": {},
     "output_type": "execute_result"
    }
   ],
   "source": [
    "synt2Feat.describe()"
   ]
  },
  {
   "cell_type": "code",
   "execution_count": 388,
   "id": "d020911c",
   "metadata": {},
   "outputs": [
    {
     "data": {
      "text/plain": [
       "<AxesSubplot:>"
      ]
     },
     "execution_count": 388,
     "metadata": {},
     "output_type": "execute_result"
    },
    {
     "data": {
      "image/png": "[encoded data removed]",
      "text/plain": [
       "<Figure size 432x288 with 1 Axes>"
      ]
     },
     "metadata": {
      "needs_background": "light"
     },
     "output_type": "display_data"
    }
   ],
   "source": [
    "synt2Feat.boxplot()"
   ]
  },
  {
   "cell_type": "code",
   "execution_count": 389,
   "id": "10a299b4",
   "metadata": {},
   "outputs": [
    {
     "data": {
      "text/plain": [
       "<AxesSubplot:>"
      ]
     },
     "execution_count": 389,
     "metadata": {},
     "output_type": "execute_result"
    },
    {
     "data": {
      "image/png": "[encoded data removed]",
      "text/plain": [
       "<Figure size 432x288 with 1 Axes>"
      ]
     },
     "metadata": {
      "needs_background": "light"
     },
     "output_type": "display_data"
    }
   ],
   "source": [
    "pd.DataFrame(synt2Feat['TotalNPCount']).boxplot()"
   ]
  },
  {
   "cell_type": "code",
   "execution_count": 390,
   "id": "f474f7a6",
   "metadata": {},
   "outputs": [
    {
     "data": {
      "text/plain": [
       "<AxesSubplot:>"
      ]
     },
     "execution_count": 390,
     "metadata": {},
     "output_type": "execute_result"
    },
    {
     "data": {
      "image/png": "[encoded data removed]",
      "text/plain": [
       "<Figure size 432x288 with 1 Axes>"
      ]
     },
     "metadata": {
      "needs_background": "light"
     },
     "output_type": "display_data"
    }
   ],
   "source": [
    "pd.DataFrame(synt2Feat['AvVerPharCount']).boxplot()"
   ]
  },
  {
   "cell_type": "markdown",
   "id": "f398a511",
   "metadata": {},
   "source": [
    "#### - Kids"
   ]
  },
  {
   "cell_type": "code",
   "execution_count": 391,
   "id": "65bc2742",
   "metadata": {},
   "outputs": [
    {
     "data": {
      "text/html": [
       "<div>\n",
       "<style scoped>\n",
       "    .dataframe tbody tr th:only-of-type {\n",
       "        vertical-align: middle;\n",
       "    }\n",
       "\n",
       "    .dataframe tbody tr th {\n",
       "        vertical-align: top;\n",
       "    }\n",
       "\n",
       "    .dataframe thead th {\n",
       "        text-align: right;\n",
       "    }\n",
       "</style>\n",
       "<table border=\"1\" class=\"dataframe\">\n",
       "  <thead>\n",
       "    <tr style=\"text-align: right;\">\n",
       "      <th></th>\n",
       "      <th>TotalNPCount</th>\n",
       "      <th>AvVerPharCount</th>\n",
       "      <th>TreeHeightCount</th>\n",
       "      <th>class</th>\n",
       "    </tr>\n",
       "  </thead>\n",
       "  <tbody>\n",
       "    <tr>\n",
       "      <th>count</th>\n",
       "      <td>854.000000</td>\n",
       "      <td>854.000000</td>\n",
       "      <td>854.000000</td>\n",
       "      <td>854.0</td>\n",
       "    </tr>\n",
       "    <tr>\n",
       "      <th>mean</th>\n",
       "      <td>1.133489</td>\n",
       "      <td>0.077194</td>\n",
       "      <td>3.145199</td>\n",
       "      <td>1.0</td>\n",
       "    </tr>\n",
       "    <tr>\n",
       "      <th>std</th>\n",
       "      <td>1.521546</td>\n",
       "      <td>0.136445</td>\n",
       "      <td>3.723440</td>\n",
       "      <td>0.0</td>\n",
       "    </tr>\n",
       "    <tr>\n",
       "      <th>min</th>\n",
       "      <td>0.000000</td>\n",
       "      <td>0.000000</td>\n",
       "      <td>0.000000</td>\n",
       "      <td>1.0</td>\n",
       "    </tr>\n",
       "    <tr>\n",
       "      <th>25%</th>\n",
       "      <td>0.000000</td>\n",
       "      <td>0.000000</td>\n",
       "      <td>0.000000</td>\n",
       "      <td>1.0</td>\n",
       "    </tr>\n",
       "    <tr>\n",
       "      <th>50%</th>\n",
       "      <td>0.000000</td>\n",
       "      <td>0.000000</td>\n",
       "      <td>0.000000</td>\n",
       "      <td>1.0</td>\n",
       "    </tr>\n",
       "    <tr>\n",
       "      <th>75%</th>\n",
       "      <td>2.000000</td>\n",
       "      <td>0.166667</td>\n",
       "      <td>7.000000</td>\n",
       "      <td>1.0</td>\n",
       "    </tr>\n",
       "    <tr>\n",
       "      <th>max</th>\n",
       "      <td>8.000000</td>\n",
       "      <td>0.750000</td>\n",
       "      <td>20.000000</td>\n",
       "      <td>1.0</td>\n",
       "    </tr>\n",
       "  </tbody>\n",
       "</table>\n",
       "</div>"
      ],
      "text/plain": [
       "       TotalNPCount  AvVerPharCount  TreeHeightCount  class\n",
       "count    854.000000      854.000000       854.000000  854.0\n",
       "mean       1.133489        0.077194         3.145199    1.0\n",
       "std        1.521546        0.136445         3.723440    0.0\n",
       "min        0.000000        0.000000         0.000000    1.0\n",
       "25%        0.000000        0.000000         0.000000    1.0\n",
       "50%        0.000000        0.000000         0.000000    1.0\n",
       "75%        2.000000        0.166667         7.000000    1.0\n",
       "max        8.000000        0.750000        20.000000    1.0"
      ]
     },
     "execution_count": 391,
     "metadata": {},
     "output_type": "execute_result"
    }
   ],
   "source": [
    "Ksynt2Feat = synt2Feat[synt2Feat['class'] == 1]\n",
    "Ksynt2Feat.describe()"
   ]
  },
  {
   "cell_type": "code",
   "execution_count": 392,
   "id": "734a7605",
   "metadata": {},
   "outputs": [
    {
     "data": {
      "image/png": "[encoded data removed]",
      "text/plain": [
       "<Figure size 432x288 with 1 Axes>"
      ]
     },
     "metadata": {
      "needs_background": "light"
     },
     "output_type": "display_data"
    }
   ],
   "source": [
    "Ksynt2Feat.boxplot()\n",
    "plt.show()"
   ]
  },
  {
   "cell_type": "code",
   "execution_count": 393,
   "id": "2a26c1d6",
   "metadata": {},
   "outputs": [
    {
     "data": {
      "image/png": "[encoded data removed]",
      "text/plain": [
       "<Figure size 432x288 with 1 Axes>"
      ]
     },
     "metadata": {
      "needs_background": "light"
     },
     "output_type": "display_data"
    }
   ],
   "source": [
    "plt.hist(Ksynt2Feat['TotalNPCount'], label='TotalNPCount')\n",
    "plt.hist(Ksynt2Feat['AvVerPharCount'], label='AvVerPharCount') \n",
    "plt.hist(Ksynt2Feat['TreeHeightCount'], label='TreeHeightCount')\n",
    "plt.legend()\n",
    "plt.show()"
   ]
  },
  {
   "cell_type": "markdown",
   "id": "272b3022",
   "metadata": {},
   "source": [
    "#### - Adults"
   ]
  },
  {
   "cell_type": "code",
   "execution_count": 394,
   "id": "7b4afa6c",
   "metadata": {},
   "outputs": [
    {
     "data": {
      "text/html": [
       "<div>\n",
       "<style scoped>\n",
       "    .dataframe tbody tr th:only-of-type {\n",
       "        vertical-align: middle;\n",
       "    }\n",
       "\n",
       "    .dataframe tbody tr th {\n",
       "        vertical-align: top;\n",
       "    }\n",
       "\n",
       "    .dataframe thead th {\n",
       "        text-align: right;\n",
       "    }\n",
       "</style>\n",
       "<table border=\"1\" class=\"dataframe\">\n",
       "  <thead>\n",
       "    <tr style=\"text-align: right;\">\n",
       "      <th></th>\n",
       "      <th>TotalNPCount</th>\n",
       "      <th>AvVerPharCount</th>\n",
       "      <th>TreeHeightCount</th>\n",
       "      <th>class</th>\n",
       "    </tr>\n",
       "  </thead>\n",
       "  <tbody>\n",
       "    <tr>\n",
       "      <th>count</th>\n",
       "      <td>3417.000000</td>\n",
       "      <td>3417.000000</td>\n",
       "      <td>3417.000000</td>\n",
       "      <td>3417.0</td>\n",
       "    </tr>\n",
       "    <tr>\n",
       "      <th>mean</th>\n",
       "      <td>1.086333</td>\n",
       "      <td>0.060342</td>\n",
       "      <td>2.922447</td>\n",
       "      <td>0.0</td>\n",
       "    </tr>\n",
       "    <tr>\n",
       "      <th>std</th>\n",
       "      <td>1.400227</td>\n",
       "      <td>0.132530</td>\n",
       "      <td>3.234604</td>\n",
       "      <td>0.0</td>\n",
       "    </tr>\n",
       "    <tr>\n",
       "      <th>min</th>\n",
       "      <td>0.000000</td>\n",
       "      <td>0.000000</td>\n",
       "      <td>0.000000</td>\n",
       "      <td>0.0</td>\n",
       "    </tr>\n",
       "    <tr>\n",
       "      <th>25%</th>\n",
       "      <td>0.000000</td>\n",
       "      <td>0.000000</td>\n",
       "      <td>0.000000</td>\n",
       "      <td>0.0</td>\n",
       "    </tr>\n",
       "    <tr>\n",
       "      <th>50%</th>\n",
       "      <td>0.000000</td>\n",
       "      <td>0.000000</td>\n",
       "      <td>0.000000</td>\n",
       "      <td>0.0</td>\n",
       "    </tr>\n",
       "    <tr>\n",
       "      <th>75%</th>\n",
       "      <td>2.000000</td>\n",
       "      <td>0.000000</td>\n",
       "      <td>6.000000</td>\n",
       "      <td>0.0</td>\n",
       "    </tr>\n",
       "    <tr>\n",
       "      <th>max</th>\n",
       "      <td>8.000000</td>\n",
       "      <td>1.000000</td>\n",
       "      <td>13.000000</td>\n",
       "      <td>0.0</td>\n",
       "    </tr>\n",
       "  </tbody>\n",
       "</table>\n",
       "</div>"
      ],
      "text/plain": [
       "       TotalNPCount  AvVerPharCount  TreeHeightCount   class\n",
       "count   3417.000000     3417.000000      3417.000000  3417.0\n",
       "mean       1.086333        0.060342         2.922447     0.0\n",
       "std        1.400227        0.132530         3.234604     0.0\n",
       "min        0.000000        0.000000         0.000000     0.0\n",
       "25%        0.000000        0.000000         0.000000     0.0\n",
       "50%        0.000000        0.000000         0.000000     0.0\n",
       "75%        2.000000        0.000000         6.000000     0.0\n",
       "max        8.000000        1.000000        13.000000     0.0"
      ]
     },
     "execution_count": 394,
     "metadata": {},
     "output_type": "execute_result"
    }
   ],
   "source": [
    "Asynt2Feat = synt2Feat[synt2Feat['class'] == 0]\n",
    "Asynt2Feat.describe()"
   ]
  },
  {
   "cell_type": "code",
   "execution_count": 395,
   "id": "d73e6f18",
   "metadata": {},
   "outputs": [
    {
     "data": {
      "image/png": "[encoded data removed]",
      "text/plain": [
       "<Figure size 432x288 with 1 Axes>"
      ]
     },
     "metadata": {
      "needs_background": "light"
     },
     "output_type": "display_data"
    }
   ],
   "source": [
    "Asynt2Feat.boxplot()\n",
    "plt.show()"
   ]
  },
  {
   "cell_type": "code",
   "execution_count": 396,
   "id": "ed78d432",
   "metadata": {},
   "outputs": [
    {
     "data": {
      "image/png": "[encoded data removed]",
      "text/plain": [
       "<Figure size 432x288 with 3 Axes>"
      ]
     },
     "metadata": {
      "needs_background": "light"
     },
     "output_type": "display_data"
    }
   ],
   "source": [
    "fig, (ax1, ax2, ax3) = plt.subplots(3, 1, sharex=True)\n",
    "\n",
    "ax1.hist(Asynt2Feat['TotalNPCount'])\n",
    "ax2.hist(Asynt2Feat['AvVerPharCount'])\n",
    "ax3.hist(Asynt2Feat['TreeHeightCount'])\n",
    "\n",
    "ax1.set_ylabel('Frequency')\n",
    "ax1.set_title('TotalNPCount Histogram ')\n",
    "\n",
    "ax2.set_ylabel('Frequency')\n",
    "ax2.set_title('AvVerPharCount Histogram') \n",
    "\n",
    "ax3.set_ylabel('Frequency')\n",
    "ax3.set_title('TreeHeightCount Histogram')\n",
    "\n",
    "# Adjust the spacing between subplots\n",
    "plt.subplots_adjust(hspace=0.6)\n",
    "\n",
    "plt.show()\n"
   ]
  },
  {
   "cell_type": "code",
   "execution_count": 397,
   "id": "72755ebc",
   "metadata": {},
   "outputs": [
    {
     "data": {
      "image/png": "[encoded data removed]",
      "text/plain": [
       "<Figure size 432x288 with 1 Axes>"
      ]
     },
     "metadata": {
      "needs_background": "light"
     },
     "output_type": "display_data"
    }
   ],
   "source": [
    "plt.hist(Asynt2Feat['TotalNPCount'], label='TotalNPCount')\n",
    "plt.hist(Asynt2Feat['AvVerPharCount'], label='AvVerPharCount')\n",
    "plt.legend()\n",
    "plt.show()"
   ]
  },
  {
   "cell_type": "markdown",
   "id": "f438e230",
   "metadata": {},
   "source": [
    "From the above plots, we can see that in both classes, most of the observations contain 0 values in the selected features"
   ]
  },
  {
   "cell_type": "markdown",
   "id": "79f56ab6",
   "metadata": {},
   "source": [
    "## 2. Lexican Semantics\n",
    "\n",
    "Measuring word/phrasal-specific difficulty\n",
    "\n",
    "**i. SimpNoV_S** - unique Nouns/total Nouns (Noun Variation-1)\n",
    "\n",
    "**ii. SimpTTR_S** - unique tokens/total tokens (TTR)\n",
    "\n",
    "**iii. to_AAKuW_C** - total AoA (Age of Acquisition) of words. *Note: AoA refers to the estimated age at which a word is learned or acquired by individuals.*"
   ]
  },
  {
   "cell_type": "code",
   "execution_count": 398,
   "id": "0594946f",
   "metadata": {},
   "outputs": [],
   "source": [
    "lexSem3Feat = data[['SimpNoV_S', 'SimpTTR_S', 'to_AAKuW_C', 'class']]"
   ]
  },
  {
   "cell_type": "markdown",
   "id": "f2c99799",
   "metadata": {},
   "source": [
    "#### - All"
   ]
  },
  {
   "cell_type": "code",
   "execution_count": 399,
   "id": "01d2bee5",
   "metadata": {},
   "outputs": [
    {
     "data": {
      "text/html": [
       "<div>\n",
       "<style scoped>\n",
       "    .dataframe tbody tr th:only-of-type {\n",
       "        vertical-align: middle;\n",
       "    }\n",
       "\n",
       "    .dataframe tbody tr th {\n",
       "        vertical-align: top;\n",
       "    }\n",
       "\n",
       "    .dataframe thead th {\n",
       "        text-align: right;\n",
       "    }\n",
       "</style>\n",
       "<table border=\"1\" class=\"dataframe\">\n",
       "  <thead>\n",
       "    <tr style=\"text-align: right;\">\n",
       "      <th></th>\n",
       "      <th>SimpNoV_S</th>\n",
       "      <th>SimpTTR_S</th>\n",
       "      <th>to_AAKuW_C</th>\n",
       "      <th>class</th>\n",
       "    </tr>\n",
       "  </thead>\n",
       "  <tbody>\n",
       "    <tr>\n",
       "      <th>count</th>\n",
       "      <td>4271.000000</td>\n",
       "      <td>4271.000000</td>\n",
       "      <td>4271.000000</td>\n",
       "      <td>4271.000000</td>\n",
       "    </tr>\n",
       "    <tr>\n",
       "      <th>mean</th>\n",
       "      <td>0.844157</td>\n",
       "      <td>0.994661</td>\n",
       "      <td>17.170698</td>\n",
       "      <td>0.199953</td>\n",
       "    </tr>\n",
       "    <tr>\n",
       "      <th>std</th>\n",
       "      <td>0.360848</td>\n",
       "      <td>0.044707</td>\n",
       "      <td>11.534529</td>\n",
       "      <td>0.400012</td>\n",
       "    </tr>\n",
       "    <tr>\n",
       "      <th>min</th>\n",
       "      <td>0.000000</td>\n",
       "      <td>0.083333</td>\n",
       "      <td>0.000000</td>\n",
       "      <td>0.000000</td>\n",
       "    </tr>\n",
       "    <tr>\n",
       "      <th>25%</th>\n",
       "      <td>1.000000</td>\n",
       "      <td>1.000000</td>\n",
       "      <td>8.900000</td>\n",
       "      <td>0.000000</td>\n",
       "    </tr>\n",
       "    <tr>\n",
       "      <th>50%</th>\n",
       "      <td>1.000000</td>\n",
       "      <td>1.000000</td>\n",
       "      <td>16.200000</td>\n",
       "      <td>0.000000</td>\n",
       "    </tr>\n",
       "    <tr>\n",
       "      <th>75%</th>\n",
       "      <td>1.000000</td>\n",
       "      <td>1.000000</td>\n",
       "      <td>24.070000</td>\n",
       "      <td>0.000000</td>\n",
       "    </tr>\n",
       "    <tr>\n",
       "      <th>max</th>\n",
       "      <td>1.000000</td>\n",
       "      <td>1.000000</td>\n",
       "      <td>109.080000</td>\n",
       "      <td>1.000000</td>\n",
       "    </tr>\n",
       "  </tbody>\n",
       "</table>\n",
       "</div>"
      ],
      "text/plain": [
       "         SimpNoV_S    SimpTTR_S   to_AAKuW_C        class\n",
       "count  4271.000000  4271.000000  4271.000000  4271.000000\n",
       "mean      0.844157     0.994661    17.170698     0.199953\n",
       "std       0.360848     0.044707    11.534529     0.400012\n",
       "min       0.000000     0.083333     0.000000     0.000000\n",
       "25%       1.000000     1.000000     8.900000     0.000000\n",
       "50%       1.000000     1.000000    16.200000     0.000000\n",
       "75%       1.000000     1.000000    24.070000     0.000000\n",
       "max       1.000000     1.000000   109.080000     1.000000"
      ]
     },
     "execution_count": 399,
     "metadata": {},
     "output_type": "execute_result"
    }
   ],
   "source": [
    "lexSem3Feat.describe()"
   ]
  },
  {
   "cell_type": "code",
   "execution_count": 400,
   "id": "9dd71bf8",
   "metadata": {},
   "outputs": [
    {
     "data": {
      "image/png": "[encoded data removed]",
      "text/plain": [
       "<Figure size 432x288 with 3 Axes>"
      ]
     },
     "metadata": {
      "needs_background": "light"
     },
     "output_type": "display_data"
    }
   ],
   "source": [
    "fig, (ax1, ax2, ax3) = plt.subplots(3, 1, sharex=True)\n",
    "\n",
    "ax1.hist(lexSem3Feat['SimpNoV_S'])\n",
    "ax2.hist(lexSem3Feat['SimpTTR_S'])\n",
    "ax3.hist(lexSem3Feat['to_AAKuW_C'])\n",
    "\n",
    "ax1.set_ylabel('Frequency')\n",
    "ax1.set_title('unique Nouns/total Nouns Histogram ')\n",
    "\n",
    "ax2.set_ylabel('Frequency')\n",
    "ax2.set_title(' unique tokens/total tokens Histogram') \n",
    "\n",
    "ax3.set_ylabel('Frequency')\n",
    "ax3.set_title('total AoA of words Histogram')\n",
    "\n",
    "# Adjust the spacing between subplots\n",
    "plt.subplots_adjust(hspace=0.6)\n",
    "\n",
    "plt.show()"
   ]
  },
  {
   "cell_type": "code",
   "execution_count": 401,
   "id": "6b40c1b2",
   "metadata": {},
   "outputs": [
    {
     "data": {
      "text/plain": [
       "<AxesSubplot:>"
      ]
     },
     "execution_count": 401,
     "metadata": {},
     "output_type": "execute_result"
    },
    {
     "data": {
      "image/png": "[encoded data removed]",
      "text/plain": [
       "<Figure size 432x288 with 1 Axes>"
      ]
     },
     "metadata": {
      "needs_background": "light"
     },
     "output_type": "display_data"
    }
   ],
   "source": [
    "lexSem3Feat['SimpNoV_S'].hist()"
   ]
  },
  {
   "cell_type": "code",
   "execution_count": 402,
   "id": "01f6bcbf",
   "metadata": {},
   "outputs": [
    {
     "data": {
      "text/plain": [
       "<AxesSubplot:>"
      ]
     },
     "execution_count": 402,
     "metadata": {},
     "output_type": "execute_result"
    },
    {
     "data": {
      "image/png": "[encoded data removed]",
      "text/plain": [
       "<Figure size 432x288 with 1 Axes>"
      ]
     },
     "metadata": {
      "needs_background": "light"
     },
     "output_type": "display_data"
    }
   ],
   "source": [
    "lexSem3Feat['SimpTTR_S'].hist()"
   ]
  },
  {
   "cell_type": "code",
   "execution_count": 403,
   "id": "6630795f",
   "metadata": {},
   "outputs": [
    {
     "data": {
      "text/plain": [
       "<AxesSubplot:>"
      ]
     },
     "execution_count": 403,
     "metadata": {},
     "output_type": "execute_result"
    },
    {
     "data": {
      "image/png": "[encoded data removed]",
      "text/plain": [
       "<Figure size 432x288 with 1 Axes>"
      ]
     },
     "metadata": {
      "needs_background": "light"
     },
     "output_type": "display_data"
    }
   ],
   "source": [
    "lexSem3Feat['to_AAKuW_C'].hist()"
   ]
  },
  {
   "cell_type": "markdown",
   "id": "62a29217",
   "metadata": {},
   "source": [
    "#### - Kids"
   ]
  },
  {
   "cell_type": "code",
   "execution_count": 404,
   "id": "24b54c64",
   "metadata": {},
   "outputs": [
    {
     "data": {
      "text/html": [
       "<div>\n",
       "<style scoped>\n",
       "    .dataframe tbody tr th:only-of-type {\n",
       "        vertical-align: middle;\n",
       "    }\n",
       "\n",
       "    .dataframe tbody tr th {\n",
       "        vertical-align: top;\n",
       "    }\n",
       "\n",
       "    .dataframe thead th {\n",
       "        text-align: right;\n",
       "    }\n",
       "</style>\n",
       "<table border=\"1\" class=\"dataframe\">\n",
       "  <thead>\n",
       "    <tr style=\"text-align: right;\">\n",
       "      <th></th>\n",
       "      <th>SimpNoV_S</th>\n",
       "      <th>SimpTTR_S</th>\n",
       "      <th>to_AAKuW_C</th>\n",
       "      <th>class</th>\n",
       "    </tr>\n",
       "  </thead>\n",
       "  <tbody>\n",
       "    <tr>\n",
       "      <th>count</th>\n",
       "      <td>854.000000</td>\n",
       "      <td>854.000000</td>\n",
       "      <td>854.000000</td>\n",
       "      <td>854.0</td>\n",
       "    </tr>\n",
       "    <tr>\n",
       "      <th>mean</th>\n",
       "      <td>0.758308</td>\n",
       "      <td>0.987123</td>\n",
       "      <td>12.879204</td>\n",
       "      <td>1.0</td>\n",
       "    </tr>\n",
       "    <tr>\n",
       "      <th>std</th>\n",
       "      <td>0.427072</td>\n",
       "      <td>0.074020</td>\n",
       "      <td>10.977088</td>\n",
       "      <td>0.0</td>\n",
       "    </tr>\n",
       "    <tr>\n",
       "      <th>min</th>\n",
       "      <td>0.000000</td>\n",
       "      <td>0.083333</td>\n",
       "      <td>0.000000</td>\n",
       "      <td>1.0</td>\n",
       "    </tr>\n",
       "    <tr>\n",
       "      <th>25%</th>\n",
       "      <td>1.000000</td>\n",
       "      <td>1.000000</td>\n",
       "      <td>4.260000</td>\n",
       "      <td>1.0</td>\n",
       "    </tr>\n",
       "    <tr>\n",
       "      <th>50%</th>\n",
       "      <td>1.000000</td>\n",
       "      <td>1.000000</td>\n",
       "      <td>11.540000</td>\n",
       "      <td>1.0</td>\n",
       "    </tr>\n",
       "    <tr>\n",
       "      <th>75%</th>\n",
       "      <td>1.000000</td>\n",
       "      <td>1.000000</td>\n",
       "      <td>19.007500</td>\n",
       "      <td>1.0</td>\n",
       "    </tr>\n",
       "    <tr>\n",
       "      <th>max</th>\n",
       "      <td>1.000000</td>\n",
       "      <td>1.000000</td>\n",
       "      <td>83.870000</td>\n",
       "      <td>1.0</td>\n",
       "    </tr>\n",
       "  </tbody>\n",
       "</table>\n",
       "</div>"
      ],
      "text/plain": [
       "        SimpNoV_S   SimpTTR_S  to_AAKuW_C  class\n",
       "count  854.000000  854.000000  854.000000  854.0\n",
       "mean     0.758308    0.987123   12.879204    1.0\n",
       "std      0.427072    0.074020   10.977088    0.0\n",
       "min      0.000000    0.083333    0.000000    1.0\n",
       "25%      1.000000    1.000000    4.260000    1.0\n",
       "50%      1.000000    1.000000   11.540000    1.0\n",
       "75%      1.000000    1.000000   19.007500    1.0\n",
       "max      1.000000    1.000000   83.870000    1.0"
      ]
     },
     "execution_count": 404,
     "metadata": {},
     "output_type": "execute_result"
    }
   ],
   "source": [
    "KlexSem3Feat = lexSem3Feat[lexSem3Feat['class'] == 1]\n",
    "KlexSem3Feat.describe()"
   ]
  },
  {
   "cell_type": "code",
   "execution_count": 405,
   "id": "b6f00195",
   "metadata": {},
   "outputs": [
    {
     "data": {
      "text/plain": [
       "(854, 4)"
      ]
     },
     "execution_count": 405,
     "metadata": {},
     "output_type": "execute_result"
    }
   ],
   "source": [
    "KlexSem3Feat.shape"
   ]
  },
  {
   "cell_type": "code",
   "execution_count": 406,
   "id": "737c6079",
   "metadata": {},
   "outputs": [
    {
     "data": {
      "text/plain": [
       "<AxesSubplot:>"
      ]
     },
     "execution_count": 406,
     "metadata": {},
     "output_type": "execute_result"
    },
    {
     "data": {
      "image/png": "[encoded data removed]",
      "text/plain": [
       "<Figure size 432x288 with 1 Axes>"
      ]
     },
     "metadata": {
      "needs_background": "light"
     },
     "output_type": "display_data"
    }
   ],
   "source": [
    "KlexSem3Feat['SimpNoV_S'].hist()"
   ]
  },
  {
   "cell_type": "code",
   "execution_count": 407,
   "id": "76e0648d",
   "metadata": {},
   "outputs": [
    {
     "data": {
      "text/plain": [
       "<AxesSubplot:>"
      ]
     },
     "execution_count": 407,
     "metadata": {},
     "output_type": "execute_result"
    },
    {
     "data": {
      "image/png": "[encoded data removed]",
      "text/plain": [
       "<Figure size 432x288 with 1 Axes>"
      ]
     },
     "metadata": {
      "needs_background": "light"
     },
     "output_type": "display_data"
    }
   ],
   "source": [
    "KlexSem3Feat['SimpTTR_S'].hist()"
   ]
  },
  {
   "cell_type": "code",
   "execution_count": 408,
   "id": "1bd81c96",
   "metadata": {},
   "outputs": [
    {
     "data": {
      "text/plain": [
       "<AxesSubplot:>"
      ]
     },
     "execution_count": 408,
     "metadata": {},
     "output_type": "execute_result"
    },
    {
     "data": {
      "image/png": "[encoded data removed]",
      "text/plain": [
       "<Figure size 432x288 with 1 Axes>"
      ]
     },
     "metadata": {
      "needs_background": "light"
     },
     "output_type": "display_data"
    }
   ],
   "source": [
    "KlexSem3Feat['to_AAKuW_C'].hist()"
   ]
  },
  {
   "cell_type": "markdown",
   "id": "f45af0dd",
   "metadata": {},
   "source": [
    "#### - Adults "
   ]
  },
  {
   "cell_type": "code",
   "execution_count": 409,
   "id": "44b5abf6",
   "metadata": {},
   "outputs": [
    {
     "data": {
      "text/html": [
       "<div>\n",
       "<style scoped>\n",
       "    .dataframe tbody tr th:only-of-type {\n",
       "        vertical-align: middle;\n",
       "    }\n",
       "\n",
       "    .dataframe tbody tr th {\n",
       "        vertical-align: top;\n",
       "    }\n",
       "\n",
       "    .dataframe thead th {\n",
       "        text-align: right;\n",
       "    }\n",
       "</style>\n",
       "<table border=\"1\" class=\"dataframe\">\n",
       "  <thead>\n",
       "    <tr style=\"text-align: right;\">\n",
       "      <th></th>\n",
       "      <th>SimpNoV_S</th>\n",
       "      <th>SimpTTR_S</th>\n",
       "      <th>to_AAKuW_C</th>\n",
       "      <th>class</th>\n",
       "    </tr>\n",
       "  </thead>\n",
       "  <tbody>\n",
       "    <tr>\n",
       "      <th>count</th>\n",
       "      <td>3417.000000</td>\n",
       "      <td>3417.000000</td>\n",
       "      <td>3417.000000</td>\n",
       "      <td>3417.0</td>\n",
       "    </tr>\n",
       "    <tr>\n",
       "      <th>mean</th>\n",
       "      <td>0.865613</td>\n",
       "      <td>0.996545</td>\n",
       "      <td>18.243257</td>\n",
       "      <td>0.0</td>\n",
       "    </tr>\n",
       "    <tr>\n",
       "      <th>std</th>\n",
       "      <td>0.338994</td>\n",
       "      <td>0.033355</td>\n",
       "      <td>11.422036</td>\n",
       "      <td>0.0</td>\n",
       "    </tr>\n",
       "    <tr>\n",
       "      <th>min</th>\n",
       "      <td>0.000000</td>\n",
       "      <td>0.428571</td>\n",
       "      <td>0.000000</td>\n",
       "      <td>0.0</td>\n",
       "    </tr>\n",
       "    <tr>\n",
       "      <th>25%</th>\n",
       "      <td>1.000000</td>\n",
       "      <td>1.000000</td>\n",
       "      <td>10.020000</td>\n",
       "      <td>0.0</td>\n",
       "    </tr>\n",
       "    <tr>\n",
       "      <th>50%</th>\n",
       "      <td>1.000000</td>\n",
       "      <td>1.000000</td>\n",
       "      <td>17.250000</td>\n",
       "      <td>0.0</td>\n",
       "    </tr>\n",
       "    <tr>\n",
       "      <th>75%</th>\n",
       "      <td>1.000000</td>\n",
       "      <td>1.000000</td>\n",
       "      <td>25.030000</td>\n",
       "      <td>0.0</td>\n",
       "    </tr>\n",
       "    <tr>\n",
       "      <th>max</th>\n",
       "      <td>1.000000</td>\n",
       "      <td>1.000000</td>\n",
       "      <td>109.080000</td>\n",
       "      <td>0.0</td>\n",
       "    </tr>\n",
       "  </tbody>\n",
       "</table>\n",
       "</div>"
      ],
      "text/plain": [
       "         SimpNoV_S    SimpTTR_S   to_AAKuW_C   class\n",
       "count  3417.000000  3417.000000  3417.000000  3417.0\n",
       "mean      0.865613     0.996545    18.243257     0.0\n",
       "std       0.338994     0.033355    11.422036     0.0\n",
       "min       0.000000     0.428571     0.000000     0.0\n",
       "25%       1.000000     1.000000    10.020000     0.0\n",
       "50%       1.000000     1.000000    17.250000     0.0\n",
       "75%       1.000000     1.000000    25.030000     0.0\n",
       "max       1.000000     1.000000   109.080000     0.0"
      ]
     },
     "execution_count": 409,
     "metadata": {},
     "output_type": "execute_result"
    }
   ],
   "source": [
    "AlexSem3Feat = lexSem3Feat[lexSem3Feat['class'] == 0]\n",
    "AlexSem3Feat.describe()"
   ]
  },
  {
   "cell_type": "code",
   "execution_count": 410,
   "id": "95fca18f",
   "metadata": {},
   "outputs": [
    {
     "data": {
      "text/plain": [
       "(3417, 4)"
      ]
     },
     "execution_count": 410,
     "metadata": {},
     "output_type": "execute_result"
    }
   ],
   "source": [
    "AlexSem3Feat.shape"
   ]
  },
  {
   "cell_type": "code",
   "execution_count": 411,
   "id": "97e77374",
   "metadata": {},
   "outputs": [
    {
     "data": {
      "image/png": "[encoded data removed]",
      "text/plain": [
       "<Figure size 432x288 with 1 Axes>"
      ]
     },
     "metadata": {
      "needs_background": "light"
     },
     "output_type": "display_data"
    }
   ],
   "source": [
    "AlexSem3Feat['SimpNoV_S'].hist()\n",
    "plt.show()"
   ]
  },
  {
   "cell_type": "code",
   "execution_count": 412,
   "id": "d5c365a4",
   "metadata": {},
   "outputs": [
    {
     "data": {
      "image/png": "[encoded data removed]",
      "text/plain": [
       "<Figure size 432x288 with 1 Axes>"
      ]
     },
     "metadata": {
      "needs_background": "light"
     },
     "output_type": "display_data"
    }
   ],
   "source": [
    "AlexSem3Feat['SimpTTR_S'].hist()\n",
    "plt.show()"
   ]
  },
  {
   "cell_type": "code",
   "execution_count": 413,
   "id": "fe53aaaf",
   "metadata": {},
   "outputs": [
    {
     "data": {
      "image/png": "[encoded data removed]",
      "text/plain": [
       "<Figure size 432x288 with 1 Axes>"
      ]
     },
     "metadata": {
      "needs_background": "light"
     },
     "output_type": "display_data"
    }
   ],
   "source": [
    "AlexSem3Feat['to_AAKuW_C'].hist()\n",
    "plt.show()"
   ]
  },
  {
   "cell_type": "markdown",
   "id": "9da86001",
   "metadata": {},
   "source": [
    "## 3. Shallow Tradition\n",
    "\n",
    "traditional features/formulas for text difficulty\n",
    "\n",
    "**i. as_Token_C** - average count of tokens per sentence\n",
    "\n",
    "**ii. as_Sylla_C** - average count of syllables per sentence\n",
    "\n",
    "**iii. as_Chara_C** - average count of characters per sentence"
   ]
  },
  {
   "cell_type": "code",
   "execution_count": 414,
   "id": "dd55a47d",
   "metadata": {},
   "outputs": [],
   "source": [
    "shaTr3Feat = data[['as_Token_C', 'as_Sylla_C', 'as_Chara_C', 'class']]"
   ]
  },
  {
   "cell_type": "markdown",
   "id": "c5671b6a",
   "metadata": {},
   "source": [
    "#### - All"
   ]
  },
  {
   "cell_type": "code",
   "execution_count": 415,
   "id": "2227996e",
   "metadata": {},
   "outputs": [
    {
     "data": {
      "text/html": [
       "<div>\n",
       "<style scoped>\n",
       "    .dataframe tbody tr th:only-of-type {\n",
       "        vertical-align: middle;\n",
       "    }\n",
       "\n",
       "    .dataframe tbody tr th {\n",
       "        vertical-align: top;\n",
       "    }\n",
       "\n",
       "    .dataframe thead th {\n",
       "        text-align: right;\n",
       "    }\n",
       "</style>\n",
       "<table border=\"1\" class=\"dataframe\">\n",
       "  <thead>\n",
       "    <tr style=\"text-align: right;\">\n",
       "      <th></th>\n",
       "      <th>as_Token_C</th>\n",
       "      <th>as_Sylla_C</th>\n",
       "      <th>as_Chara_C</th>\n",
       "      <th>class</th>\n",
       "    </tr>\n",
       "  </thead>\n",
       "  <tbody>\n",
       "    <tr>\n",
       "      <th>count</th>\n",
       "      <td>4271.000000</td>\n",
       "      <td>4271.000000</td>\n",
       "      <td>4271.000000</td>\n",
       "      <td>4271.000000</td>\n",
       "    </tr>\n",
       "    <tr>\n",
       "      <th>mean</th>\n",
       "      <td>2.161106</td>\n",
       "      <td>3.183778</td>\n",
       "      <td>10.893097</td>\n",
       "      <td>0.199953</td>\n",
       "    </tr>\n",
       "    <tr>\n",
       "      <th>std</th>\n",
       "      <td>0.811788</td>\n",
       "      <td>1.612997</td>\n",
       "      <td>5.253215</td>\n",
       "      <td>0.400012</td>\n",
       "    </tr>\n",
       "    <tr>\n",
       "      <th>min</th>\n",
       "      <td>0.500000</td>\n",
       "      <td>0.000000</td>\n",
       "      <td>0.000000</td>\n",
       "      <td>0.000000</td>\n",
       "    </tr>\n",
       "    <tr>\n",
       "      <th>25%</th>\n",
       "      <td>1.500000</td>\n",
       "      <td>2.000000</td>\n",
       "      <td>7.500000</td>\n",
       "      <td>0.000000</td>\n",
       "    </tr>\n",
       "    <tr>\n",
       "      <th>50%</th>\n",
       "      <td>2.000000</td>\n",
       "      <td>3.000000</td>\n",
       "      <td>10.500000</td>\n",
       "      <td>0.000000</td>\n",
       "    </tr>\n",
       "    <tr>\n",
       "      <th>75%</th>\n",
       "      <td>2.500000</td>\n",
       "      <td>4.000000</td>\n",
       "      <td>13.500000</td>\n",
       "      <td>0.000000</td>\n",
       "    </tr>\n",
       "    <tr>\n",
       "      <th>max</th>\n",
       "      <td>9.000000</td>\n",
       "      <td>16.500000</td>\n",
       "      <td>56.500000</td>\n",
       "      <td>1.000000</td>\n",
       "    </tr>\n",
       "  </tbody>\n",
       "</table>\n",
       "</div>"
      ],
      "text/plain": [
       "        as_Token_C   as_Sylla_C   as_Chara_C        class\n",
       "count  4271.000000  4271.000000  4271.000000  4271.000000\n",
       "mean      2.161106     3.183778    10.893097     0.199953\n",
       "std       0.811788     1.612997     5.253215     0.400012\n",
       "min       0.500000     0.000000     0.000000     0.000000\n",
       "25%       1.500000     2.000000     7.500000     0.000000\n",
       "50%       2.000000     3.000000    10.500000     0.000000\n",
       "75%       2.500000     4.000000    13.500000     0.000000\n",
       "max       9.000000    16.500000    56.500000     1.000000"
      ]
     },
     "execution_count": 415,
     "metadata": {},
     "output_type": "execute_result"
    }
   ],
   "source": [
    "shaTr3Feat.describe()"
   ]
  },
  {
   "cell_type": "code",
   "execution_count": 416,
   "id": "82a50367",
   "metadata": {},
   "outputs": [
    {
     "data": {
      "text/plain": [
       "(4271, 4)"
      ]
     },
     "execution_count": 416,
     "metadata": {},
     "output_type": "execute_result"
    }
   ],
   "source": [
    "shaTr3Feat.shape"
   ]
  },
  {
   "cell_type": "code",
   "execution_count": 417,
   "id": "27e8c426",
   "metadata": {},
   "outputs": [
    {
     "data": {
      "image/png": "[encoded data removed]",
      "text/plain": [
       "<Figure size 432x288 with 3 Axes>"
      ]
     },
     "metadata": {
      "needs_background": "light"
     },
     "output_type": "display_data"
    }
   ],
   "source": [
    "fig, (ax1, ax2, ax3) = plt.subplots(3, 1, sharex=True)\n",
    "\n",
    "ax1.hist(shaTr3Feat['as_Token_C'])\n",
    "ax2.hist(shaTr3Feat['as_Sylla_C'])\n",
    "ax3.hist(shaTr3Feat['as_Chara_C'])\n",
    "\n",
    "ax1.set_ylabel('Frequency')\n",
    "ax1.set_title('average count of tokens per sentence ')\n",
    "\n",
    "ax2.set_ylabel('Frequency')\n",
    "ax2.set_title(' average count of syllables per sentence') \n",
    "\n",
    "ax3.set_ylabel('Frequency')\n",
    "ax3.set_title('average count of characters per sentence')\n",
    "\n",
    "# Adjust the spacing between subplots\n",
    "plt.subplots_adjust(hspace=0.6)\n",
    "\n",
    "plt.show()"
   ]
  },
  {
   "cell_type": "code",
   "execution_count": 418,
   "id": "4e5fbb63",
   "metadata": {},
   "outputs": [
    {
     "data": {
      "image/png": "[encoded data removed]",
      "text/plain": [
       "<Figure size 432x288 with 1 Axes>"
      ]
     },
     "metadata": {
      "needs_background": "light"
     },
     "output_type": "display_data"
    }
   ],
   "source": [
    "shaTr3Feat['as_Token_C'].hist()\n",
    "plt.show()"
   ]
  },
  {
   "cell_type": "code",
   "execution_count": 419,
   "id": "0e484986",
   "metadata": {},
   "outputs": [
    {
     "data": {
      "image/png": "[encoded data removed]",
      "text/plain": [
       "<Figure size 432x288 with 1 Axes>"
      ]
     },
     "metadata": {
      "needs_background": "light"
     },
     "output_type": "display_data"
    }
   ],
   "source": [
    "shaTr3Feat['as_Sylla_C'].hist()\n",
    "plt.show()"
   ]
  },
  {
   "cell_type": "code",
   "execution_count": 420,
   "id": "2b826df9",
   "metadata": {},
   "outputs": [
    {
     "data": {
      "image/png": "[encoded data removed]",
      "text/plain": [
       "<Figure size 432x288 with 1 Axes>"
      ]
     },
     "metadata": {
      "needs_background": "light"
     },
     "output_type": "display_data"
    }
   ],
   "source": [
    "shaTr3Feat['as_Chara_C'].hist()\n",
    "plt.show()"
   ]
  },
  {
   "cell_type": "markdown",
   "id": "643387be",
   "metadata": {},
   "source": [
    "#### - Kids"
   ]
  },
  {
   "cell_type": "code",
   "execution_count": 421,
   "id": "b9f1a179",
   "metadata": {},
   "outputs": [
    {
     "data": {
      "text/html": [
       "<div>\n",
       "<style scoped>\n",
       "    .dataframe tbody tr th:only-of-type {\n",
       "        vertical-align: middle;\n",
       "    }\n",
       "\n",
       "    .dataframe tbody tr th {\n",
       "        vertical-align: top;\n",
       "    }\n",
       "\n",
       "    .dataframe thead th {\n",
       "        text-align: right;\n",
       "    }\n",
       "</style>\n",
       "<table border=\"1\" class=\"dataframe\">\n",
       "  <thead>\n",
       "    <tr style=\"text-align: right;\">\n",
       "      <th></th>\n",
       "      <th>as_Token_C</th>\n",
       "      <th>as_Sylla_C</th>\n",
       "      <th>as_Chara_C</th>\n",
       "      <th>class</th>\n",
       "    </tr>\n",
       "  </thead>\n",
       "  <tbody>\n",
       "    <tr>\n",
       "      <th>count</th>\n",
       "      <td>854.000000</td>\n",
       "      <td>854.000000</td>\n",
       "      <td>854.000000</td>\n",
       "      <td>854.0</td>\n",
       "    </tr>\n",
       "    <tr>\n",
       "      <th>mean</th>\n",
       "      <td>2.085773</td>\n",
       "      <td>2.481948</td>\n",
       "      <td>8.854508</td>\n",
       "      <td>1.0</td>\n",
       "    </tr>\n",
       "    <tr>\n",
       "      <th>std</th>\n",
       "      <td>1.053955</td>\n",
       "      <td>1.566990</td>\n",
       "      <td>5.778339</td>\n",
       "      <td>0.0</td>\n",
       "    </tr>\n",
       "    <tr>\n",
       "      <th>min</th>\n",
       "      <td>0.500000</td>\n",
       "      <td>0.000000</td>\n",
       "      <td>0.000000</td>\n",
       "      <td>1.0</td>\n",
       "    </tr>\n",
       "    <tr>\n",
       "      <th>25%</th>\n",
       "      <td>1.500000</td>\n",
       "      <td>1.000000</td>\n",
       "      <td>4.500000</td>\n",
       "      <td>1.0</td>\n",
       "    </tr>\n",
       "    <tr>\n",
       "      <th>50%</th>\n",
       "      <td>2.000000</td>\n",
       "      <td>2.500000</td>\n",
       "      <td>8.000000</td>\n",
       "      <td>1.0</td>\n",
       "    </tr>\n",
       "    <tr>\n",
       "      <th>75%</th>\n",
       "      <td>2.500000</td>\n",
       "      <td>3.500000</td>\n",
       "      <td>12.000000</td>\n",
       "      <td>1.0</td>\n",
       "    </tr>\n",
       "    <tr>\n",
       "      <th>max</th>\n",
       "      <td>8.500000</td>\n",
       "      <td>11.000000</td>\n",
       "      <td>56.500000</td>\n",
       "      <td>1.0</td>\n",
       "    </tr>\n",
       "  </tbody>\n",
       "</table>\n",
       "</div>"
      ],
      "text/plain": [
       "       as_Token_C  as_Sylla_C  as_Chara_C  class\n",
       "count  854.000000  854.000000  854.000000  854.0\n",
       "mean     2.085773    2.481948    8.854508    1.0\n",
       "std      1.053955    1.566990    5.778339    0.0\n",
       "min      0.500000    0.000000    0.000000    1.0\n",
       "25%      1.500000    1.000000    4.500000    1.0\n",
       "50%      2.000000    2.500000    8.000000    1.0\n",
       "75%      2.500000    3.500000   12.000000    1.0\n",
       "max      8.500000   11.000000   56.500000    1.0"
      ]
     },
     "execution_count": 421,
     "metadata": {},
     "output_type": "execute_result"
    }
   ],
   "source": [
    "KshaTr3Feat = shaTr3Feat[shaTr3Feat['class'] == 1]\n",
    "KshaTr3Feat.describe()"
   ]
  },
  {
   "cell_type": "code",
   "execution_count": 422,
   "id": "0b2d8835",
   "metadata": {},
   "outputs": [
    {
     "data": {
      "image/png": "[encoded data removed]",
      "text/plain": [
       "<Figure size 432x288 with 1 Axes>"
      ]
     },
     "metadata": {
      "needs_background": "light"
     },
     "output_type": "display_data"
    }
   ],
   "source": [
    "KshaTr3Feat['as_Token_C'].hist()\n",
    "plt.show()"
   ]
  },
  {
   "cell_type": "code",
   "execution_count": 423,
   "id": "88ec8f7d",
   "metadata": {},
   "outputs": [
    {
     "data": {
      "image/png": "[encoded data removed]",
      "text/plain": [
       "<Figure size 432x288 with 1 Axes>"
      ]
     },
     "metadata": {
      "needs_background": "light"
     },
     "output_type": "display_data"
    }
   ],
   "source": [
    "KshaTr3Feat['as_Sylla_C'].hist()\n",
    "plt.show()"
   ]
  },
  {
   "cell_type": "code",
   "execution_count": 424,
   "id": "47a1c32e",
   "metadata": {},
   "outputs": [
    {
     "data": {
      "image/png": "[encoded data removed]",
      "text/plain": [
       "<Figure size 432x288 with 1 Axes>"
      ]
     },
     "metadata": {
      "needs_background": "light"
     },
     "output_type": "display_data"
    }
   ],
   "source": [
    "KshaTr3Feat['as_Chara_C'].hist()\n",
    "plt.show()"
   ]
  },
  {
   "cell_type": "markdown",
   "id": "79eb05fc",
   "metadata": {},
   "source": [
    "#### - Agults"
   ]
  },
  {
   "cell_type": "code",
   "execution_count": 425,
   "id": "f7f2455e",
   "metadata": {},
   "outputs": [
    {
     "data": {
      "text/html": [
       "<div>\n",
       "<style scoped>\n",
       "    .dataframe tbody tr th:only-of-type {\n",
       "        vertical-align: middle;\n",
       "    }\n",
       "\n",
       "    .dataframe tbody tr th {\n",
       "        vertical-align: top;\n",
       "    }\n",
       "\n",
       "    .dataframe thead th {\n",
       "        text-align: right;\n",
       "    }\n",
       "</style>\n",
       "<table border=\"1\" class=\"dataframe\">\n",
       "  <thead>\n",
       "    <tr style=\"text-align: right;\">\n",
       "      <th></th>\n",
       "      <th>as_Token_C</th>\n",
       "      <th>as_Sylla_C</th>\n",
       "      <th>as_Chara_C</th>\n",
       "      <th>class</th>\n",
       "    </tr>\n",
       "  </thead>\n",
       "  <tbody>\n",
       "    <tr>\n",
       "      <th>count</th>\n",
       "      <td>3417.000000</td>\n",
       "      <td>3417.000000</td>\n",
       "      <td>3417.000000</td>\n",
       "      <td>3417.0</td>\n",
       "    </tr>\n",
       "    <tr>\n",
       "      <th>mean</th>\n",
       "      <td>2.179934</td>\n",
       "      <td>3.359184</td>\n",
       "      <td>11.402595</td>\n",
       "      <td>0.0</td>\n",
       "    </tr>\n",
       "    <tr>\n",
       "      <th>std</th>\n",
       "      <td>0.737968</td>\n",
       "      <td>1.576431</td>\n",
       "      <td>4.985899</td>\n",
       "      <td>0.0</td>\n",
       "    </tr>\n",
       "    <tr>\n",
       "      <th>min</th>\n",
       "      <td>0.500000</td>\n",
       "      <td>0.000000</td>\n",
       "      <td>1.000000</td>\n",
       "      <td>0.0</td>\n",
       "    </tr>\n",
       "    <tr>\n",
       "      <th>25%</th>\n",
       "      <td>1.500000</td>\n",
       "      <td>2.500000</td>\n",
       "      <td>8.000000</td>\n",
       "      <td>0.0</td>\n",
       "    </tr>\n",
       "    <tr>\n",
       "      <th>50%</th>\n",
       "      <td>2.000000</td>\n",
       "      <td>3.000000</td>\n",
       "      <td>10.500000</td>\n",
       "      <td>0.0</td>\n",
       "    </tr>\n",
       "    <tr>\n",
       "      <th>75%</th>\n",
       "      <td>2.500000</td>\n",
       "      <td>4.000000</td>\n",
       "      <td>14.000000</td>\n",
       "      <td>0.0</td>\n",
       "    </tr>\n",
       "    <tr>\n",
       "      <th>max</th>\n",
       "      <td>9.000000</td>\n",
       "      <td>16.500000</td>\n",
       "      <td>54.000000</td>\n",
       "      <td>0.0</td>\n",
       "    </tr>\n",
       "  </tbody>\n",
       "</table>\n",
       "</div>"
      ],
      "text/plain": [
       "        as_Token_C   as_Sylla_C   as_Chara_C   class\n",
       "count  3417.000000  3417.000000  3417.000000  3417.0\n",
       "mean      2.179934     3.359184    11.402595     0.0\n",
       "std       0.737968     1.576431     4.985899     0.0\n",
       "min       0.500000     0.000000     1.000000     0.0\n",
       "25%       1.500000     2.500000     8.000000     0.0\n",
       "50%       2.000000     3.000000    10.500000     0.0\n",
       "75%       2.500000     4.000000    14.000000     0.0\n",
       "max       9.000000    16.500000    54.000000     0.0"
      ]
     },
     "execution_count": 425,
     "metadata": {},
     "output_type": "execute_result"
    }
   ],
   "source": [
    "AshaTr3Feat = shaTr3Feat[shaTr3Feat['class'] == 0]\n",
    "AshaTr3Feat.describe()"
   ]
  },
  {
   "cell_type": "code",
   "execution_count": 426,
   "id": "c028f90b",
   "metadata": {},
   "outputs": [
    {
     "data": {
      "image/png": "[encoded data removed]",
      "text/plain": [
       "<Figure size 432x288 with 1 Axes>"
      ]
     },
     "metadata": {
      "needs_background": "light"
     },
     "output_type": "display_data"
    }
   ],
   "source": [
    "AshaTr3Feat['as_Token_C'].hist()\n",
    "plt.show()"
   ]
  },
  {
   "cell_type": "code",
   "execution_count": 427,
   "id": "718ea837",
   "metadata": {},
   "outputs": [
    {
     "data": {
      "image/png": "[encoded data removed]",
      "text/plain": [
       "<Figure size 432x288 with 1 Axes>"
      ]
     },
     "metadata": {
      "needs_background": "light"
     },
     "output_type": "display_data"
    }
   ],
   "source": [
    "AshaTr3Feat['as_Sylla_C'].hist()\n",
    "plt.show()"
   ]
  },
  {
   "cell_type": "code",
   "execution_count": 428,
   "id": "5c0ddc72",
   "metadata": {},
   "outputs": [
    {
     "data": {
      "image/png": "[encoded data removed]",
      "text/plain": [
       "<Figure size 432x288 with 1 Axes>"
      ]
     },
     "metadata": {
      "needs_background": "light"
     },
     "output_type": "display_data"
    }
   ],
   "source": [
    "AshaTr3Feat['as_Chara_C'].hist()\n",
    "plt.show()"
   ]
  },
  {
   "cell_type": "markdown",
   "id": "96de8e98",
   "metadata": {},
   "source": [
    "## Spelling & Panctuation\n"
   ]
  },
  {
   "cell_type": "code",
   "execution_count": 429,
   "id": "2692912f",
   "metadata": {},
   "outputs": [],
   "source": [
    "SP2Feat = data[['offByOne', 'casing', 'class']]"
   ]
  },
  {
   "cell_type": "markdown",
   "id": "5616db60",
   "metadata": {},
   "source": [
    "#### - All "
   ]
  },
  {
   "cell_type": "code",
   "execution_count": 430,
   "id": "851baddf",
   "metadata": {},
   "outputs": [
    {
     "data": {
      "text/html": [
       "<div>\n",
       "<style scoped>\n",
       "    .dataframe tbody tr th:only-of-type {\n",
       "        vertical-align: middle;\n",
       "    }\n",
       "\n",
       "    .dataframe tbody tr th {\n",
       "        vertical-align: top;\n",
       "    }\n",
       "\n",
       "    .dataframe thead th {\n",
       "        text-align: right;\n",
       "    }\n",
       "</style>\n",
       "<table border=\"1\" class=\"dataframe\">\n",
       "  <thead>\n",
       "    <tr style=\"text-align: right;\">\n",
       "      <th></th>\n",
       "      <th>offByOne</th>\n",
       "      <th>casing</th>\n",
       "      <th>class</th>\n",
       "    </tr>\n",
       "  </thead>\n",
       "  <tbody>\n",
       "    <tr>\n",
       "      <th>count</th>\n",
       "      <td>4271.000000</td>\n",
       "      <td>4271.000000</td>\n",
       "      <td>4271.000000</td>\n",
       "    </tr>\n",
       "    <tr>\n",
       "      <th>mean</th>\n",
       "      <td>0.160150</td>\n",
       "      <td>0.354015</td>\n",
       "      <td>0.199953</td>\n",
       "    </tr>\n",
       "    <tr>\n",
       "      <th>std</th>\n",
       "      <td>0.582424</td>\n",
       "      <td>0.478270</td>\n",
       "      <td>0.400012</td>\n",
       "    </tr>\n",
       "    <tr>\n",
       "      <th>min</th>\n",
       "      <td>-1.000000</td>\n",
       "      <td>0.000000</td>\n",
       "      <td>0.000000</td>\n",
       "    </tr>\n",
       "    <tr>\n",
       "      <th>25%</th>\n",
       "      <td>0.000000</td>\n",
       "      <td>0.000000</td>\n",
       "      <td>0.000000</td>\n",
       "    </tr>\n",
       "    <tr>\n",
       "      <th>50%</th>\n",
       "      <td>0.000000</td>\n",
       "      <td>0.000000</td>\n",
       "      <td>0.000000</td>\n",
       "    </tr>\n",
       "    <tr>\n",
       "      <th>75%</th>\n",
       "      <td>0.000000</td>\n",
       "      <td>1.000000</td>\n",
       "      <td>0.000000</td>\n",
       "    </tr>\n",
       "    <tr>\n",
       "      <th>max</th>\n",
       "      <td>3.000000</td>\n",
       "      <td>1.000000</td>\n",
       "      <td>1.000000</td>\n",
       "    </tr>\n",
       "  </tbody>\n",
       "</table>\n",
       "</div>"
      ],
      "text/plain": [
       "          offByOne       casing        class\n",
       "count  4271.000000  4271.000000  4271.000000\n",
       "mean      0.160150     0.354015     0.199953\n",
       "std       0.582424     0.478270     0.400012\n",
       "min      -1.000000     0.000000     0.000000\n",
       "25%       0.000000     0.000000     0.000000\n",
       "50%       0.000000     0.000000     0.000000\n",
       "75%       0.000000     1.000000     0.000000\n",
       "max       3.000000     1.000000     1.000000"
      ]
     },
     "execution_count": 430,
     "metadata": {},
     "output_type": "execute_result"
    }
   ],
   "source": [
    "SP2Feat.describe()"
   ]
  },
  {
   "cell_type": "code",
   "execution_count": 431,
   "id": "5d883745",
   "metadata": {},
   "outputs": [
    {
     "data": {
      "image/png": "[encoded data removed]",
      "text/plain": [
       "<Figure size 432x288 with 2 Axes>"
      ]
     },
     "metadata": {
      "needs_background": "light"
     },
     "output_type": "display_data"
    }
   ],
   "source": [
    "fig, (ax1, ax2) = plt.subplots(2, 1, sharex=True)\n",
    "\n",
    "ax1.hist(SP2Feat['offByOne'])\n",
    "ax2.hist(SP2Feat['casing'])\n",
    "\n",
    "ax1.set_ylabel('Frequency')\n",
    "ax1.set_title('offByOne ')\n",
    "\n",
    "ax2.set_ylabel('Frequency')\n",
    "ax2.set_title(' casing') \n",
    "\n",
    "\n",
    "# Adjust the spacing between subplots\n",
    "plt.subplots_adjust(hspace=0.6)\n",
    "\n",
    "plt.show()"
   ]
  },
  {
   "cell_type": "code",
   "execution_count": 432,
   "id": "0761d358",
   "metadata": {},
   "outputs": [
    {
     "data": {
      "image/png": "[encoded data removed]",
      "text/plain": [
       "<Figure size 432x288 with 1 Axes>"
      ]
     },
     "metadata": {
      "needs_background": "light"
     },
     "output_type": "display_data"
    }
   ],
   "source": [
    "SP2Feat['offByOne'].hist()\n",
    "plt.show()"
   ]
  },
  {
   "cell_type": "code",
   "execution_count": 433,
   "id": "f12a5e22",
   "metadata": {},
   "outputs": [
    {
     "data": {
      "image/png": "[encoded data removed]",
      "text/plain": [
       "<Figure size 432x288 with 1 Axes>"
      ]
     },
     "metadata": {
      "needs_background": "light"
     },
     "output_type": "display_data"
    }
   ],
   "source": [
    "SP2Feat['casing'].hist()\n",
    "plt.show()"
   ]
  },
  {
   "cell_type": "markdown",
   "id": "7cd07bd5",
   "metadata": {},
   "source": [
    "#### - Kids"
   ]
  },
  {
   "cell_type": "code",
   "execution_count": 434,
   "id": "cacf8ca1",
   "metadata": {},
   "outputs": [
    {
     "data": {
      "text/html": [
       "<div>\n",
       "<style scoped>\n",
       "    .dataframe tbody tr th:only-of-type {\n",
       "        vertical-align: middle;\n",
       "    }\n",
       "\n",
       "    .dataframe tbody tr th {\n",
       "        vertical-align: top;\n",
       "    }\n",
       "\n",
       "    .dataframe thead th {\n",
       "        text-align: right;\n",
       "    }\n",
       "</style>\n",
       "<table border=\"1\" class=\"dataframe\">\n",
       "  <thead>\n",
       "    <tr style=\"text-align: right;\">\n",
       "      <th></th>\n",
       "      <th>offByOne</th>\n",
       "      <th>casing</th>\n",
       "      <th>class</th>\n",
       "    </tr>\n",
       "  </thead>\n",
       "  <tbody>\n",
       "    <tr>\n",
       "      <th>count</th>\n",
       "      <td>854.000000</td>\n",
       "      <td>854.000000</td>\n",
       "      <td>854.0</td>\n",
       "    </tr>\n",
       "    <tr>\n",
       "      <th>mean</th>\n",
       "      <td>0.242389</td>\n",
       "      <td>0.478923</td>\n",
       "      <td>1.0</td>\n",
       "    </tr>\n",
       "    <tr>\n",
       "      <th>std</th>\n",
       "      <td>0.607520</td>\n",
       "      <td>0.499848</td>\n",
       "      <td>0.0</td>\n",
       "    </tr>\n",
       "    <tr>\n",
       "      <th>min</th>\n",
       "      <td>-1.000000</td>\n",
       "      <td>0.000000</td>\n",
       "      <td>1.0</td>\n",
       "    </tr>\n",
       "    <tr>\n",
       "      <th>25%</th>\n",
       "      <td>0.000000</td>\n",
       "      <td>0.000000</td>\n",
       "      <td>1.0</td>\n",
       "    </tr>\n",
       "    <tr>\n",
       "      <th>50%</th>\n",
       "      <td>0.000000</td>\n",
       "      <td>0.000000</td>\n",
       "      <td>1.0</td>\n",
       "    </tr>\n",
       "    <tr>\n",
       "      <th>75%</th>\n",
       "      <td>1.000000</td>\n",
       "      <td>1.000000</td>\n",
       "      <td>1.0</td>\n",
       "    </tr>\n",
       "    <tr>\n",
       "      <th>max</th>\n",
       "      <td>3.000000</td>\n",
       "      <td>1.000000</td>\n",
       "      <td>1.0</td>\n",
       "    </tr>\n",
       "  </tbody>\n",
       "</table>\n",
       "</div>"
      ],
      "text/plain": [
       "         offByOne      casing  class\n",
       "count  854.000000  854.000000  854.0\n",
       "mean     0.242389    0.478923    1.0\n",
       "std      0.607520    0.499848    0.0\n",
       "min     -1.000000    0.000000    1.0\n",
       "25%      0.000000    0.000000    1.0\n",
       "50%      0.000000    0.000000    1.0\n",
       "75%      1.000000    1.000000    1.0\n",
       "max      3.000000    1.000000    1.0"
      ]
     },
     "execution_count": 434,
     "metadata": {},
     "output_type": "execute_result"
    }
   ],
   "source": [
    "KSP2Feat = SP2Feat[SP2Feat['class'] == 1]\n",
    "KSP2Feat.describe()"
   ]
  },
  {
   "cell_type": "code",
   "execution_count": 435,
   "id": "7d8c2d19",
   "metadata": {},
   "outputs": [
    {
     "data": {
      "image/png": "[encoded data removed]",
      "text/plain": [
       "<Figure size 432x288 with 1 Axes>"
      ]
     },
     "metadata": {
      "needs_background": "light"
     },
     "output_type": "display_data"
    }
   ],
   "source": [
    "KSP2Feat['offByOne'].hist()\n",
    "plt.show()"
   ]
  },
  {
   "cell_type": "code",
   "execution_count": 436,
   "id": "dd86b485",
   "metadata": {},
   "outputs": [
    {
     "data": {
      "image/png": "[encoded data removed]",
      "text/plain": [
       "<Figure size 432x288 with 1 Axes>"
      ]
     },
     "metadata": {
      "needs_background": "light"
     },
     "output_type": "display_data"
    }
   ],
   "source": [
    "KSP2Feat['casing'].hist()\n",
    "plt.show()"
   ]
  },
  {
   "cell_type": "markdown",
   "id": "ba5fb09d",
   "metadata": {},
   "source": [
    "#### - Adults"
   ]
  },
  {
   "cell_type": "code",
   "execution_count": 437,
   "id": "4a8a9f88",
   "metadata": {},
   "outputs": [
    {
     "data": {
      "text/html": [
       "<div>\n",
       "<style scoped>\n",
       "    .dataframe tbody tr th:only-of-type {\n",
       "        vertical-align: middle;\n",
       "    }\n",
       "\n",
       "    .dataframe tbody tr th {\n",
       "        vertical-align: top;\n",
       "    }\n",
       "\n",
       "    .dataframe thead th {\n",
       "        text-align: right;\n",
       "    }\n",
       "</style>\n",
       "<table border=\"1\" class=\"dataframe\">\n",
       "  <thead>\n",
       "    <tr style=\"text-align: right;\">\n",
       "      <th></th>\n",
       "      <th>offByOne</th>\n",
       "      <th>casing</th>\n",
       "      <th>class</th>\n",
       "    </tr>\n",
       "  </thead>\n",
       "  <tbody>\n",
       "    <tr>\n",
       "      <th>count</th>\n",
       "      <td>3417.000000</td>\n",
       "      <td>3417.000000</td>\n",
       "      <td>3417.0</td>\n",
       "    </tr>\n",
       "    <tr>\n",
       "      <th>mean</th>\n",
       "      <td>0.139596</td>\n",
       "      <td>0.322798</td>\n",
       "      <td>0.0</td>\n",
       "    </tr>\n",
       "    <tr>\n",
       "      <th>std</th>\n",
       "      <td>0.574235</td>\n",
       "      <td>0.467615</td>\n",
       "      <td>0.0</td>\n",
       "    </tr>\n",
       "    <tr>\n",
       "      <th>min</th>\n",
       "      <td>-1.000000</td>\n",
       "      <td>0.000000</td>\n",
       "      <td>0.0</td>\n",
       "    </tr>\n",
       "    <tr>\n",
       "      <th>25%</th>\n",
       "      <td>0.000000</td>\n",
       "      <td>0.000000</td>\n",
       "      <td>0.0</td>\n",
       "    </tr>\n",
       "    <tr>\n",
       "      <th>50%</th>\n",
       "      <td>0.000000</td>\n",
       "      <td>0.000000</td>\n",
       "      <td>0.0</td>\n",
       "    </tr>\n",
       "    <tr>\n",
       "      <th>75%</th>\n",
       "      <td>0.000000</td>\n",
       "      <td>1.000000</td>\n",
       "      <td>0.0</td>\n",
       "    </tr>\n",
       "    <tr>\n",
       "      <th>max</th>\n",
       "      <td>3.000000</td>\n",
       "      <td>1.000000</td>\n",
       "      <td>0.0</td>\n",
       "    </tr>\n",
       "  </tbody>\n",
       "</table>\n",
       "</div>"
      ],
      "text/plain": [
       "          offByOne       casing   class\n",
       "count  3417.000000  3417.000000  3417.0\n",
       "mean      0.139596     0.322798     0.0\n",
       "std       0.574235     0.467615     0.0\n",
       "min      -1.000000     0.000000     0.0\n",
       "25%       0.000000     0.000000     0.0\n",
       "50%       0.000000     0.000000     0.0\n",
       "75%       0.000000     1.000000     0.0\n",
       "max       3.000000     1.000000     0.0"
      ]
     },
     "execution_count": 437,
     "metadata": {},
     "output_type": "execute_result"
    }
   ],
   "source": [
    "ASP2Feat = SP2Feat[SP2Feat['class'] == 0]\n",
    "ASP2Feat.describe()"
   ]
  },
  {
   "cell_type": "code",
   "execution_count": 438,
   "id": "ccdc34d8",
   "metadata": {},
   "outputs": [
    {
     "data": {
      "image/png": "[encoded data removed]",
      "text/plain": [
       "<Figure size 432x288 with 1 Axes>"
      ]
     },
     "metadata": {
      "needs_background": "light"
     },
     "output_type": "display_data"
    }
   ],
   "source": [
    "ASP2Feat['offByOne'].hist()\n",
    "plt.show()"
   ]
  },
  {
   "cell_type": "code",
   "execution_count": 439,
   "id": "538b0c23",
   "metadata": {},
   "outputs": [
    {
     "data": {
      "image/png": "[encoded data removed]",
      "text/plain": [
       "<Figure size 432x288 with 1 Axes>"
      ]
     },
     "metadata": {
      "needs_background": "light"
     },
     "output_type": "display_data"
    }
   ],
   "source": [
    "ASP2Feat['casing'].hist()\n",
    "plt.show()"
   ]
  },
  {
   "cell_type": "markdown",
   "id": "22693ba3",
   "metadata": {},
   "source": [
    "## 5. Concrete vs Abstract"
   ]
  },
  {
   "cell_type": "code",
   "execution_count": 440,
   "id": "fd0ba14e",
   "metadata": {},
   "outputs": [
    {
     "data": {
      "text/html": [
       "<div>\n",
       "<style scoped>\n",
       "    .dataframe tbody tr th:only-of-type {\n",
       "        vertical-align: middle;\n",
       "    }\n",
       "\n",
       "    .dataframe tbody tr th {\n",
       "        vertical-align: top;\n",
       "    }\n",
       "\n",
       "    .dataframe thead th {\n",
       "        text-align: right;\n",
       "    }\n",
       "</style>\n",
       "<table border=\"1\" class=\"dataframe\">\n",
       "  <thead>\n",
       "    <tr style=\"text-align: right;\">\n",
       "      <th></th>\n",
       "      <th>ratioAbs</th>\n",
       "      <th>ratioConc</th>\n",
       "      <th>class</th>\n",
       "    </tr>\n",
       "  </thead>\n",
       "  <tbody>\n",
       "    <tr>\n",
       "      <th>count</th>\n",
       "      <td>4271.000000</td>\n",
       "      <td>4271.000000</td>\n",
       "      <td>4271.000000</td>\n",
       "    </tr>\n",
       "    <tr>\n",
       "      <th>mean</th>\n",
       "      <td>0.247809</td>\n",
       "      <td>0.272027</td>\n",
       "      <td>0.199953</td>\n",
       "    </tr>\n",
       "    <tr>\n",
       "      <th>std</th>\n",
       "      <td>0.254582</td>\n",
       "      <td>0.275194</td>\n",
       "      <td>0.400012</td>\n",
       "    </tr>\n",
       "    <tr>\n",
       "      <th>min</th>\n",
       "      <td>0.000000</td>\n",
       "      <td>0.000000</td>\n",
       "      <td>0.000000</td>\n",
       "    </tr>\n",
       "    <tr>\n",
       "      <th>25%</th>\n",
       "      <td>0.000000</td>\n",
       "      <td>0.000000</td>\n",
       "      <td>0.000000</td>\n",
       "    </tr>\n",
       "    <tr>\n",
       "      <th>50%</th>\n",
       "      <td>0.250000</td>\n",
       "      <td>0.250000</td>\n",
       "      <td>0.000000</td>\n",
       "    </tr>\n",
       "    <tr>\n",
       "      <th>75%</th>\n",
       "      <td>0.428571</td>\n",
       "      <td>0.500000</td>\n",
       "      <td>0.000000</td>\n",
       "    </tr>\n",
       "    <tr>\n",
       "      <th>max</th>\n",
       "      <td>1.000000</td>\n",
       "      <td>1.000000</td>\n",
       "      <td>1.000000</td>\n",
       "    </tr>\n",
       "  </tbody>\n",
       "</table>\n",
       "</div>"
      ],
      "text/plain": [
       "          ratioAbs    ratioConc        class\n",
       "count  4271.000000  4271.000000  4271.000000\n",
       "mean      0.247809     0.272027     0.199953\n",
       "std       0.254582     0.275194     0.400012\n",
       "min       0.000000     0.000000     0.000000\n",
       "25%       0.000000     0.000000     0.000000\n",
       "50%       0.250000     0.250000     0.000000\n",
       "75%       0.428571     0.500000     0.000000\n",
       "max       1.000000     1.000000     1.000000"
      ]
     },
     "execution_count": 440,
     "metadata": {},
     "output_type": "execute_result"
    }
   ],
   "source": [
    "conAbsFeat = data[['ratioAbs', 'ratioConc', 'class']]\n",
    "conAbsFeat.describe()"
   ]
  },
  {
   "cell_type": "markdown",
   "id": "fe30fe1b",
   "metadata": {},
   "source": [
    "#### - All "
   ]
  },
  {
   "cell_type": "code",
   "execution_count": 441,
   "id": "440ed806",
   "metadata": {},
   "outputs": [
    {
     "data": {
      "image/png": "[encoded data removed]",
      "text/plain": [
       "<Figure size 432x288 with 1 Axes>"
      ]
     },
     "metadata": {
      "needs_background": "light"
     },
     "output_type": "display_data"
    }
   ],
   "source": [
    "conAbsFeat['ratioAbs'].hist()\n",
    "plt.show()"
   ]
  },
  {
   "cell_type": "code",
   "execution_count": 442,
   "id": "21f4b097",
   "metadata": {},
   "outputs": [
    {
     "data": {
      "image/png": "[encoded data removed]",
      "text/plain": [
       "<Figure size 432x288 with 1 Axes>"
      ]
     },
     "metadata": {
      "needs_background": "light"
     },
     "output_type": "display_data"
    }
   ],
   "source": [
    "conAbsFeat['ratioConc'].hist()\n",
    "plt.show()"
   ]
  },
  {
   "cell_type": "markdown",
   "id": "15ab7baf",
   "metadata": {},
   "source": [
    "#### - Kids"
   ]
  },
  {
   "cell_type": "code",
   "execution_count": 443,
   "id": "124f8326",
   "metadata": {},
   "outputs": [
    {
     "data": {
      "text/html": [
       "<div>\n",
       "<style scoped>\n",
       "    .dataframe tbody tr th:only-of-type {\n",
       "        vertical-align: middle;\n",
       "    }\n",
       "\n",
       "    .dataframe tbody tr th {\n",
       "        vertical-align: top;\n",
       "    }\n",
       "\n",
       "    .dataframe thead th {\n",
       "        text-align: right;\n",
       "    }\n",
       "</style>\n",
       "<table border=\"1\" class=\"dataframe\">\n",
       "  <thead>\n",
       "    <tr style=\"text-align: right;\">\n",
       "      <th></th>\n",
       "      <th>ratioAbs</th>\n",
       "      <th>ratioConc</th>\n",
       "      <th>class</th>\n",
       "    </tr>\n",
       "  </thead>\n",
       "  <tbody>\n",
       "    <tr>\n",
       "      <th>count</th>\n",
       "      <td>854.000000</td>\n",
       "      <td>854.000000</td>\n",
       "      <td>854.0</td>\n",
       "    </tr>\n",
       "    <tr>\n",
       "      <th>mean</th>\n",
       "      <td>0.251919</td>\n",
       "      <td>0.228271</td>\n",
       "      <td>1.0</td>\n",
       "    </tr>\n",
       "    <tr>\n",
       "      <th>std</th>\n",
       "      <td>0.271255</td>\n",
       "      <td>0.282928</td>\n",
       "      <td>0.0</td>\n",
       "    </tr>\n",
       "    <tr>\n",
       "      <th>min</th>\n",
       "      <td>0.000000</td>\n",
       "      <td>0.000000</td>\n",
       "      <td>1.0</td>\n",
       "    </tr>\n",
       "    <tr>\n",
       "      <th>25%</th>\n",
       "      <td>0.000000</td>\n",
       "      <td>0.000000</td>\n",
       "      <td>1.0</td>\n",
       "    </tr>\n",
       "    <tr>\n",
       "      <th>50%</th>\n",
       "      <td>0.200000</td>\n",
       "      <td>0.142857</td>\n",
       "      <td>1.0</td>\n",
       "    </tr>\n",
       "    <tr>\n",
       "      <th>75%</th>\n",
       "      <td>0.500000</td>\n",
       "      <td>0.333333</td>\n",
       "      <td>1.0</td>\n",
       "    </tr>\n",
       "    <tr>\n",
       "      <th>max</th>\n",
       "      <td>1.000000</td>\n",
       "      <td>1.000000</td>\n",
       "      <td>1.0</td>\n",
       "    </tr>\n",
       "  </tbody>\n",
       "</table>\n",
       "</div>"
      ],
      "text/plain": [
       "         ratioAbs   ratioConc  class\n",
       "count  854.000000  854.000000  854.0\n",
       "mean     0.251919    0.228271    1.0\n",
       "std      0.271255    0.282928    0.0\n",
       "min      0.000000    0.000000    1.0\n",
       "25%      0.000000    0.000000    1.0\n",
       "50%      0.200000    0.142857    1.0\n",
       "75%      0.500000    0.333333    1.0\n",
       "max      1.000000    1.000000    1.0"
      ]
     },
     "execution_count": 443,
     "metadata": {},
     "output_type": "execute_result"
    }
   ],
   "source": [
    "KconAbsFeat = conAbsFeat[conAbsFeat['class'] == 1]\n",
    "KconAbsFeat.describe()"
   ]
  },
  {
   "cell_type": "code",
   "execution_count": 444,
   "id": "093c4275",
   "metadata": {},
   "outputs": [
    {
     "data": {
      "image/png": "[encoded data removed]",
      "text/plain": [
       "<Figure size 432x288 with 1 Axes>"
      ]
     },
     "metadata": {
      "needs_background": "light"
     },
     "output_type": "display_data"
    }
   ],
   "source": [
    "KconAbsFeat['ratioAbs'].hist()\n",
    "plt.show()"
   ]
  },
  {
   "cell_type": "code",
   "execution_count": 445,
   "id": "bff6aed5",
   "metadata": {},
   "outputs": [
    {
     "data": {
      "image/png": "[encoded data removed]",
      "text/plain": [
       "<Figure size 432x288 with 1 Axes>"
      ]
     },
     "metadata": {
      "needs_background": "light"
     },
     "output_type": "display_data"
    }
   ],
   "source": [
    "KconAbsFeat['ratioConc'].hist()\n",
    "plt.show()"
   ]
  },
  {
   "cell_type": "markdown",
   "id": "612d115f",
   "metadata": {},
   "source": [
    "#### - Adults "
   ]
  },
  {
   "cell_type": "code",
   "execution_count": 446,
   "id": "d65db902",
   "metadata": {},
   "outputs": [
    {
     "data": {
      "text/html": [
       "<div>\n",
       "<style scoped>\n",
       "    .dataframe tbody tr th:only-of-type {\n",
       "        vertical-align: middle;\n",
       "    }\n",
       "\n",
       "    .dataframe tbody tr th {\n",
       "        vertical-align: top;\n",
       "    }\n",
       "\n",
       "    .dataframe thead th {\n",
       "        text-align: right;\n",
       "    }\n",
       "</style>\n",
       "<table border=\"1\" class=\"dataframe\">\n",
       "  <thead>\n",
       "    <tr style=\"text-align: right;\">\n",
       "      <th></th>\n",
       "      <th>ratioAbs</th>\n",
       "      <th>ratioConc</th>\n",
       "      <th>class</th>\n",
       "    </tr>\n",
       "  </thead>\n",
       "  <tbody>\n",
       "    <tr>\n",
       "      <th>count</th>\n",
       "      <td>3417.000000</td>\n",
       "      <td>3417.000000</td>\n",
       "      <td>3417.0</td>\n",
       "    </tr>\n",
       "    <tr>\n",
       "      <th>mean</th>\n",
       "      <td>0.246781</td>\n",
       "      <td>0.282963</td>\n",
       "      <td>0.0</td>\n",
       "    </tr>\n",
       "    <tr>\n",
       "      <th>std</th>\n",
       "      <td>0.250272</td>\n",
       "      <td>0.272173</td>\n",
       "      <td>0.0</td>\n",
       "    </tr>\n",
       "    <tr>\n",
       "      <th>min</th>\n",
       "      <td>0.000000</td>\n",
       "      <td>0.000000</td>\n",
       "      <td>0.0</td>\n",
       "    </tr>\n",
       "    <tr>\n",
       "      <th>25%</th>\n",
       "      <td>0.000000</td>\n",
       "      <td>0.000000</td>\n",
       "      <td>0.0</td>\n",
       "    </tr>\n",
       "    <tr>\n",
       "      <th>50%</th>\n",
       "      <td>0.250000</td>\n",
       "      <td>0.250000</td>\n",
       "      <td>0.0</td>\n",
       "    </tr>\n",
       "    <tr>\n",
       "      <th>75%</th>\n",
       "      <td>0.400000</td>\n",
       "      <td>0.500000</td>\n",
       "      <td>0.0</td>\n",
       "    </tr>\n",
       "    <tr>\n",
       "      <th>max</th>\n",
       "      <td>1.000000</td>\n",
       "      <td>1.000000</td>\n",
       "      <td>0.0</td>\n",
       "    </tr>\n",
       "  </tbody>\n",
       "</table>\n",
       "</div>"
      ],
      "text/plain": [
       "          ratioAbs    ratioConc   class\n",
       "count  3417.000000  3417.000000  3417.0\n",
       "mean      0.246781     0.282963     0.0\n",
       "std       0.250272     0.272173     0.0\n",
       "min       0.000000     0.000000     0.0\n",
       "25%       0.000000     0.000000     0.0\n",
       "50%       0.250000     0.250000     0.0\n",
       "75%       0.400000     0.500000     0.0\n",
       "max       1.000000     1.000000     0.0"
      ]
     },
     "execution_count": 446,
     "metadata": {},
     "output_type": "execute_result"
    }
   ],
   "source": [
    "AconAbsFeat = conAbsFeat[conAbsFeat['class'] == 0]\n",
    "AconAbsFeat.describe()"
   ]
  },
  {
   "cell_type": "code",
   "execution_count": 447,
   "id": "e2c68ab1",
   "metadata": {},
   "outputs": [
    {
     "data": {
      "image/png": "[encoded data removed]",
      "text/plain": [
       "<Figure size 432x288 with 1 Axes>"
      ]
     },
     "metadata": {
      "needs_background": "light"
     },
     "output_type": "display_data"
    }
   ],
   "source": [
    "AconAbsFeat['ratioAbs'].hist()\n",
    "plt.show()"
   ]
  },
  {
   "cell_type": "code",
   "execution_count": 448,
   "id": "aea78726",
   "metadata": {},
   "outputs": [
    {
     "data": {
      "image/png": "[encoded data removed]",
      "text/plain": [
       "<Figure size 432x288 with 1 Axes>"
      ]
     },
     "metadata": {
      "needs_background": "light"
     },
     "output_type": "display_data"
    }
   ],
   "source": [
    "AconAbsFeat['ratioConc'].hist()\n",
    "plt.show()"
   ]
  },
  {
   "cell_type": "code",
   "execution_count": null,
   "id": "16b2dd38",
   "metadata": {},
   "outputs": [],
   "source": []
  },
  {
   "cell_type": "code",
   "execution_count": null,
   "id": "03c8be3e",
   "metadata": {},
   "outputs": [],
   "source": []
  },
  {
   "cell_type": "code",
   "execution_count": null,
   "id": "6db437e0",
   "metadata": {},
   "outputs": [],
   "source": []
  },
  {
   "cell_type": "code",
   "execution_count": null,
   "id": "e74e6d0b",
   "metadata": {},
   "outputs": [],
   "source": []
  },
  {
   "cell_type": "code",
   "execution_count": null,
   "id": "8631a59d",
   "metadata": {},
   "outputs": [],
   "source": []
  }
 ],
 "metadata": {
  "kernelspec": {
   "display_name": "Python 3",
   "language": "python",
   "name": "python3"
  },
  "language_info": {
   "codemirror_mode": {
    "name": "ipython",
    "version": 3
   },
   "file_extension": ".py",
   "mimetype": "text/x-python",
   "name": "python",
   "nbconvert_exporter": "python",
   "pygments_lexer": "ipython3",
   "version": "3.8.8"
  }
 },
 "nbformat": 4,
 "nbformat_minor": 5
}
